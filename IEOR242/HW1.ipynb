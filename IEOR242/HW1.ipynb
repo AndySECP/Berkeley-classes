{
 "cells": [
  {
   "cell_type": "markdown",
   "metadata": {},
   "source": [
    "## Homework 1 - IEOR 242 - Data Analysis\n",
    "\n",
    "### Exercice 3\n",
    "\n",
    "In this problem, we are asked to predict the montly sales of Jeep Wrangler Automobile through linear regression. "
   ]
  },
  {
   "cell_type": "code",
   "execution_count": 40,
   "metadata": {},
   "outputs": [],
   "source": [
    "RMSE = function(m, o){\n",
    "  sqrt(mean((m - o)^2))\n",
    "}"
   ]
  },
  {
   "cell_type": "code",
   "execution_count": 41,
   "metadata": {},
   "outputs": [],
   "source": [
    "data = read.csv('Wrangler242-Spring2019.csv')"
   ]
  },
  {
   "cell_type": "code",
   "execution_count": 42,
   "metadata": {},
   "outputs": [
    {
     "data": {
      "text/plain": [
       "  MonthNumeric     MonthFactor      Year      WranglerSales    Unemployment  \n",
       " Min.   : 1.00   April   : 9   Min.   :2010   Min.   : 4888   Min.   :3.700  \n",
       " 1st Qu.: 3.75   August  : 9   1st Qu.:2012   1st Qu.:11305   1st Qu.:4.800  \n",
       " Median : 6.50   December: 9   Median :2014   Median :13653   Median :6.200  \n",
       " Mean   : 6.50   February: 9   Mean   :2014   Mean   :14117   Mean   :6.501  \n",
       " 3rd Qu.: 9.25   January : 9   3rd Qu.:2016   3rd Qu.:16531   3rd Qu.:8.200  \n",
       " Max.   :12.00   July    : 9   Max.   :2018   Max.   :29776   Max.   :9.900  \n",
       "                 (Other) :54                                                 \n",
       " WranglerQueries     CPI.All        CPI.Energy   \n",
       " Min.   : 30.00   Min.   :217.2   Min.   :177.2  \n",
       " 1st Qu.: 46.00   1st Qu.:228.6   1st Qu.:205.4  \n",
       " Median : 60.50   Median :236.1   Median :220.5  \n",
       " Mean   : 61.63   Mean   :235.1   Mean   :222.9  \n",
       " 3rd Qu.: 78.00   3rd Qu.:241.2   3rd Qu.:244.9  \n",
       " Max.   :100.00   Max.   :252.9   Max.   :256.0  \n",
       "                                                 "
      ]
     },
     "metadata": {},
     "output_type": "display_data"
    }
   ],
   "source": [
    "summary(data)"
   ]
  },
  {
   "cell_type": "markdown",
   "metadata": {},
   "source": [
    "#### 1. Define training set and test set"
   ]
  },
  {
   "cell_type": "code",
   "execution_count": 43,
   "metadata": {},
   "outputs": [],
   "source": [
    "train = data[data$Year <= 2015,]\n",
    "test = data[data$Year > 2015,]"
   ]
  },
  {
   "cell_type": "code",
   "execution_count": 44,
   "metadata": {},
   "outputs": [
    {
     "data": {
      "text/plain": [
       "   Min. 1st Qu.  Median    Mean 3rd Qu.    Max. \n",
       "   2010    2011    2012    2012    2014    2015 "
      ]
     },
     "metadata": {},
     "output_type": "display_data"
    }
   ],
   "source": [
    "summary(train$Year)"
   ]
  },
  {
   "cell_type": "code",
   "execution_count": 45,
   "metadata": {},
   "outputs": [
    {
     "data": {
      "text/plain": [
       "   Min. 1st Qu.  Median    Mean 3rd Qu.    Max. \n",
       "   2016    2016    2017    2017    2018    2018 "
      ]
     },
     "metadata": {},
     "output_type": "display_data"
    }
   ],
   "source": [
    "summary(test$Year)"
   ]
  },
  {
   "cell_type": "markdown",
   "metadata": {},
   "source": [
    "#### 2. Choice of the features used in the model\n",
    "\n",
    " Let's start with a model using the four features: Unemployment, WranglerQueries, CPI.Energy, CPI.ALL"
   ]
  },
  {
   "cell_type": "code",
   "execution_count": 46,
   "metadata": {},
   "outputs": [
    {
     "data": {
      "text/html": [
       "<table>\n",
       "<thead><tr><th></th><th scope=col>Unemployment</th><th scope=col>WranglerQueries</th><th scope=col>CPI.All</th><th scope=col>CPI.Energy</th></tr></thead>\n",
       "<tbody>\n",
       "\t<tr><th scope=row>Unemployment</th><td> 1.0000000</td><td>-0.9210803</td><td>-0.9615037</td><td> 0.5026316</td></tr>\n",
       "\t<tr><th scope=row>WranglerQueries</th><td>-0.9210803</td><td> 1.0000000</td><td> 0.8886259</td><td>-0.5078886</td></tr>\n",
       "\t<tr><th scope=row>CPI.All</th><td>-0.9615037</td><td> 0.8886259</td><td> 1.0000000</td><td>-0.2983637</td></tr>\n",
       "\t<tr><th scope=row>CPI.Energy</th><td> 0.5026316</td><td>-0.5078886</td><td>-0.2983637</td><td> 1.0000000</td></tr>\n",
       "</tbody>\n",
       "</table>\n"
      ],
      "text/latex": [
       "\\begin{tabular}{r|llll}\n",
       "  & Unemployment & WranglerQueries & CPI.All & CPI.Energy\\\\\n",
       "\\hline\n",
       "\tUnemployment &  1.0000000 & -0.9210803 & -0.9615037 &  0.5026316\\\\\n",
       "\tWranglerQueries & -0.9210803 &  1.0000000 &  0.8886259 & -0.5078886\\\\\n",
       "\tCPI.All & -0.9615037 &  0.8886259 &  1.0000000 & -0.2983637\\\\\n",
       "\tCPI.Energy &  0.5026316 & -0.5078886 & -0.2983637 &  1.0000000\\\\\n",
       "\\end{tabular}\n"
      ],
      "text/markdown": [
       "\n",
       "| <!--/--> | Unemployment | WranglerQueries | CPI.All | CPI.Energy | \n",
       "|---|---|---|---|\n",
       "| Unemployment |  1.0000000 | -0.9210803 | -0.9615037 |  0.5026316 | \n",
       "| WranglerQueries | -0.9210803 |  1.0000000 |  0.8886259 | -0.5078886 | \n",
       "| CPI.All | -0.9615037 |  0.8886259 |  1.0000000 | -0.2983637 | \n",
       "| CPI.Energy |  0.5026316 | -0.5078886 | -0.2983637 |  1.0000000 | \n",
       "\n",
       "\n"
      ],
      "text/plain": [
       "                Unemployment WranglerQueries CPI.All    CPI.Energy\n",
       "Unemployment     1.0000000   -0.9210803      -0.9615037  0.5026316\n",
       "WranglerQueries -0.9210803    1.0000000       0.8886259 -0.5078886\n",
       "CPI.All         -0.9615037    0.8886259       1.0000000 -0.2983637\n",
       "CPI.Energy       0.5026316   -0.5078886      -0.2983637  1.0000000"
      ]
     },
     "metadata": {},
     "output_type": "display_data"
    }
   ],
   "source": [
    "cor(data[,c(\"Unemployment\",\"WranglerQueries\",\"CPI.All\",\"CPI.Energy\")])"
   ]
  },
  {
   "cell_type": "markdown",
   "metadata": {},
   "source": [
    "From this simple analysis of the correlation between the four variables, we observe that Unemployment and WranglerQueries are strongly correlated, Unemployment and CPI.all also as well as WranglerQueries and CPI.All. Therefore, we can make the hypothesis that only one of those three features would be necessary in our model. "
   ]
  },
  {
   "cell_type": "markdown",
   "metadata": {},
   "source": [
    "#### Model1: All the variables"
   ]
  },
  {
   "cell_type": "code",
   "execution_count": 47,
   "metadata": {},
   "outputs": [],
   "source": [
    "mod = lm(WranglerSales ~ Unemployment + WranglerQueries + CPI.All + CPI.Energy, data=train)"
   ]
  },
  {
   "cell_type": "code",
   "execution_count": 48,
   "metadata": {},
   "outputs": [
    {
     "data": {
      "text/plain": [
       "\n",
       "Call:\n",
       "lm(formula = WranglerSales ~ Unemployment + WranglerQueries + \n",
       "    CPI.All + CPI.Energy, data = train)\n",
       "\n",
       "Residuals:\n",
       "    Min      1Q  Median      3Q     Max \n",
       "-3453.6 -1178.0   -51.9   887.1  7628.9 \n",
       "\n",
       "Coefficients:\n",
       "                 Estimate Std. Error t value Pr(>|t|)    \n",
       "(Intercept)     -51248.45   59358.29  -0.863    0.391    \n",
       "Unemployment       989.12    1122.98   0.881    0.382    \n",
       "WranglerQueries    274.55      34.25   8.015 2.26e-11 ***\n",
       "CPI.All            192.02     253.11   0.759    0.451    \n",
       "CPI.Energy          -8.64      31.65  -0.273    0.786    \n",
       "---\n",
       "Signif. codes:  0 '***' 0.001 '**' 0.01 '*' 0.05 '.' 0.1 ' ' 1\n",
       "\n",
       "Residual standard error: 1757 on 67 degrees of freedom\n",
       "Multiple R-squared:  0.7961,\tAdjusted R-squared:  0.7839 \n",
       "F-statistic:  65.4 on 4 and 67 DF,  p-value: < 2.2e-16\n"
      ]
     },
     "metadata": {},
     "output_type": "display_data"
    }
   ],
   "source": [
    "summary(mod)"
   ]
  },
  {
   "cell_type": "code",
   "execution_count": 49,
   "metadata": {},
   "outputs": [
    {
     "data": {
      "text/html": [
       "<dl class=dl-horizontal>\n",
       "\t<dt>Unemployment</dt>\n",
       "\t\t<dd>68.852495242325</dd>\n",
       "\t<dt>WranglerQueries</dt>\n",
       "\t\t<dd>4.50953329306916</dd>\n",
       "\t<dt>CPI.All</dt>\n",
       "\t\t<dd>69.7008805775982</dd>\n",
       "\t<dt>CPI.Energy</dt>\n",
       "\t\t<dd>8.41034455952904</dd>\n",
       "</dl>\n"
      ],
      "text/latex": [
       "\\begin{description*}\n",
       "\\item[Unemployment] 68.852495242325\n",
       "\\item[WranglerQueries] 4.50953329306916\n",
       "\\item[CPI.All] 69.7008805775982\n",
       "\\item[CPI.Energy] 8.41034455952904\n",
       "\\end{description*}\n"
      ],
      "text/markdown": [
       "Unemployment\n",
       ":   68.852495242325WranglerQueries\n",
       ":   4.50953329306916CPI.All\n",
       ":   69.7008805775982CPI.Energy\n",
       ":   8.41034455952904\n",
       "\n"
      ],
      "text/plain": [
       "   Unemployment WranglerQueries         CPI.All      CPI.Energy \n",
       "      68.852495        4.509533       69.700881        8.410345 "
      ]
     },
     "metadata": {},
     "output_type": "display_data"
    }
   ],
   "source": [
    "car::vif(mod)"
   ]
  },
  {
   "cell_type": "markdown",
   "metadata": {},
   "source": [
    "Therefore, from the variance inflation factor analysis Unemployment and CPI.All should be removed and looking at t value, CPI.Energy also seems irrelevant."
   ]
  },
  {
   "cell_type": "code",
   "execution_count": 50,
   "metadata": {},
   "outputs": [
    {
     "data": {
      "text/html": [
       "1694.44255399136"
      ],
      "text/latex": [
       "1694.44255399136"
      ],
      "text/markdown": [
       "1694.44255399136"
      ],
      "text/plain": [
       "[1] 1694.443"
      ]
     },
     "metadata": {},
     "output_type": "display_data"
    }
   ],
   "source": [
    "pred0 = predict(mod, newdata=train)\n",
    "RMSE(train$WranglerSales, pred0)"
   ]
  },
  {
   "cell_type": "markdown",
   "metadata": {},
   "source": [
    "##### Interpretation:\n",
    "\n",
    "The t value is the estimate divided by the standard error.\n",
    "The larger the absolute value of the t value, the more likely\n",
    "the coefficient is to be significant.\n",
    "Therefore, we want independent variables with a large absolute value\n",
    "in this column.\n",
    "\n",
    "\n",
    "The last column measure how plausible\n",
    "it is that the coefficient is actually 0, given\n",
    "the data we used to build the model.\n",
    "This number will be large if the absolute value of the t value\n",
    "is small, and it will be small if the absolute value of the t\n",
    "value is large.\n",
    "Therefore, we want independent variables with small values\n",
    "in this column.\n",
    "\n",
    "\n",
    "\n",
    "From this first model, one feature seems to be more relevant in the prediction of the Sales: WranglerQueries. This observation confirmes our hypothesis drawn from the correlations between variables. "
   ]
  },
  {
   "cell_type": "code",
   "execution_count": 51,
   "metadata": {},
   "outputs": [
    {
     "data": {
      "text/html": [
       "206721760.951927"
      ],
      "text/latex": [
       "206721760.951927"
      ],
      "text/markdown": [
       "206721760.951927"
      ],
      "text/plain": [
       "[1] 206721761"
      ]
     },
     "metadata": {},
     "output_type": "display_data"
    }
   ],
   "source": [
    "SSE = sum(mod$residuals^2)\n",
    "SSE"
   ]
  },
  {
   "cell_type": "markdown",
   "metadata": {},
   "source": [
    "##### Model2: only one feature: WranglerQueries"
   ]
  },
  {
   "cell_type": "code",
   "execution_count": 52,
   "metadata": {},
   "outputs": [],
   "source": [
    "mod1 = lm(WranglerSales ~ WranglerQueries, data=train)"
   ]
  },
  {
   "cell_type": "code",
   "execution_count": 53,
   "metadata": {},
   "outputs": [
    {
     "data": {
      "text/plain": [
       "\n",
       "Call:\n",
       "lm(formula = WranglerSales ~ WranglerQueries, data = train)\n",
       "\n",
       "Residuals:\n",
       "    Min      1Q  Median      3Q     Max \n",
       "-3301.1 -1038.8   161.2   885.2  7811.0 \n",
       "\n",
       "Coefficients:\n",
       "                Estimate Std. Error t value Pr(>|t|)    \n",
       "(Intercept)       -850.6      855.6  -0.994    0.324    \n",
       "WranglerQueries    259.5       16.1  16.117   <2e-16 ***\n",
       "---\n",
       "Signif. codes:  0 '***' 0.001 '**' 0.01 '*' 0.05 '.' 0.1 ' ' 1\n",
       "\n",
       "Residual standard error: 1753 on 70 degrees of freedom\n",
       "Multiple R-squared:  0.7877,\tAdjusted R-squared:  0.7847 \n",
       "F-statistic: 259.8 on 1 and 70 DF,  p-value: < 2.2e-16\n"
      ]
     },
     "metadata": {},
     "output_type": "display_data"
    }
   ],
   "source": [
    "summary(mod1)"
   ]
  },
  {
   "cell_type": "markdown",
   "metadata": {},
   "source": [
    "##### Interpretation:\n",
    "\n",
    "In this model, the all the variables are significant. The new adjusted R-squared is almost the same than in the previous model (0.1% better). Consequently, the addition of three more variable that decrease the adjusted R squared is irrelavant.\n",
    "\n",
    "The R squred of 0.7 is not so bad, the model actually provide some insight toward the prediction of the Sales."
   ]
  },
  {
   "cell_type": "code",
   "execution_count": 54,
   "metadata": {},
   "outputs": [
    {
     "data": {
      "image/png": "[encoded data removed]",
      "text/plain": [
       "plot without title"
      ]
     },
     "metadata": {},
     "output_type": "display_data"
    }
   ],
   "source": [
    "plot(abs(mod1$residuals))"
   ]
  },
  {
   "cell_type": "code",
   "execution_count": 55,
   "metadata": {},
   "outputs": [
    {
     "data": {
      "text/html": [
       "215220385.559452"
      ],
      "text/latex": [
       "215220385.559452"
      ],
      "text/markdown": [
       "215220385.559452"
      ],
      "text/plain": [
       "[1] 215220386"
      ]
     },
     "metadata": {},
     "output_type": "display_data"
    }
   ],
   "source": [
    "SSE1 = sum(mod1$residuals^2)\n",
    "SSE1"
   ]
  },
  {
   "cell_type": "code",
   "execution_count": 56,
   "metadata": {},
   "outputs": [],
   "source": [
    "pred = predict(mod1, newdata=train)"
   ]
  },
  {
   "cell_type": "code",
   "execution_count": 57,
   "metadata": {},
   "outputs": [
    {
     "data": {
      "text/html": [
       "1728.92221388328"
      ],
      "text/latex": [
       "1728.92221388328"
      ],
      "text/markdown": [
       "1728.92221388328"
      ],
      "text/plain": [
       "[1] 1728.922"
      ]
     },
     "metadata": {},
     "output_type": "display_data"
    }
   ],
   "source": [
    "RMSE(train$WranglerSales, pred)"
   ]
  },
  {
   "cell_type": "code",
   "execution_count": 58,
   "metadata": {},
   "outputs": [
    {
     "data": {
      "text/html": [
       "3778.87115806619"
      ],
      "text/latex": [
       "3778.87115806619"
      ],
      "text/markdown": [
       "3778.87115806619"
      ],
      "text/plain": [
       "[1] 3778.871"
      ]
     },
     "metadata": {},
     "output_type": "display_data"
    }
   ],
   "source": [
    "sd(train$WranglerSales)"
   ]
  },
  {
   "cell_type": "code",
   "execution_count": 59,
   "metadata": {},
   "outputs": [
    {
     "data": {
      "text/html": [
       "-0.0394880093975892"
      ],
      "text/latex": [
       "-0.0394880093975892"
      ],
      "text/markdown": [
       "-0.0394880093975892"
      ],
      "text/plain": [
       "[1] -0.03948801"
      ]
     },
     "metadata": {},
     "output_type": "display_data"
    }
   ],
   "source": [
    "(SSE - SSE1)/SSE1"
   ]
  },
  {
   "cell_type": "code",
   "execution_count": 60,
   "metadata": {},
   "outputs": [
    {
     "data": {
      "text/html": [
       "1013870573.27778"
      ],
      "text/latex": [
       "1013870573.27778"
      ],
      "text/markdown": [
       "1013870573.27778"
      ],
      "text/plain": [
       "[1] 1013870573"
      ]
     },
     "metadata": {},
     "output_type": "display_data"
    }
   ],
   "source": [
    "SST_train = sum((train$WranglerSales - mean(train$WranglerSales))^2)\n",
    "SST"
   ]
  },
  {
   "cell_type": "code",
   "execution_count": 61,
   "metadata": {},
   "outputs": [
    {
     "data": {
      "text/html": [
       "0.787724004195468"
      ],
      "text/latex": [
       "0.787724004195468"
      ],
      "text/markdown": [
       "0.787724004195468"
      ],
      "text/plain": [
       "[1] 0.787724"
      ]
     },
     "metadata": {},
     "output_type": "display_data"
    }
   ],
   "source": [
    "1 - SSE1/SST_train"
   ]
  },
  {
   "cell_type": "markdown",
   "metadata": {},
   "source": [
    "The sum of squared error is only 4% bigger. As a result, we can conclude that the two features Unemployment and CPI.All were irrelevant or redondant in the previous model. "
   ]
  },
  {
   "cell_type": "markdown",
   "metadata": {},
   "source": [
    "### Responses to questions a)\n",
    "\n",
    "#### 1. What is the linear regression equation produced by your model, and how should one interpret the coeﬃcients for the independent variables?\n",
    "\n",
    "The linear regression equation of the final model is:\n",
    "\n",
    "Sales = -9182.22 + 259.5 * (WranglerQueries)\n",
    "\n",
    "First, there is a positive correlation between Sales and WranglerQueries. Therefore, when WranglerQueries increase of one unit, Sales increase, on average, by 259.5 units.\n",
    "\n",
    "#### 2. How did you select the variables to include in your linear regression model? Does it make sense to remove any variables due to multicollinearity among the four independent variables?\n",
    "\n",
    "As we have seen before, the three variables WranglerQueries, Unemployment and CPI.all are strongly correlated. Therefore, it suggests that some of them are not necessary. The VIF analysis, definitely removed Unemplyment and CPI.all from the equation (VIF way to big). With a VIF of about 8, CPI.Energy is still uncertain but probably not necessary. Then, analysing the model produced with the four features, we observed that WranglerQueries weights much more heavily than the tree other ones in the model, suggesting that a model with only WranglerQueries would be better. (with p-value analysis)\n",
    "\n",
    "#### 3. Which of these variables are signiﬁcant?\n",
    "\n",
    "According to the previous analysis the significant variable is WranglerQueries. It is enought to explain most of the Sales variations.\n",
    "\n",
    "#### 4. Do the signs of the model’s coeﬃcients make sense? Are you reasonably sure that the signs are correct?\n",
    "\n",
    "\n",
    "As Wanglers is a pretty expensive product, the sale does not start with the first queries nor as soon as the CPI is positive. To counter balance this necessary thresold, the intersection coefficient is negative. One the other hand, as the number of queries for Wrangler increase, a certain percentage will be converted into sale and therefore the company will make some money. Hence the posive sign of WranglerQueries in the regression model.\n",
    "\n",
    "#### 5.  How well does the model predict training set observations? Can you justify the model’s performance on the training data with a quantiﬁable metric?\n",
    "\n",
    "The R squared associated with the training set is 0.7847. This is better than the adjusted R squared of the model with four features, meaning that the three additional features does not improve the model more than it would be improved by chance. Therefore, this model is the simplest, more accurate and interpretable model to predict the Sales of the company. \n",
    "\n"
   ]
  },
  {
   "cell_type": "code",
   "execution_count": 62,
   "metadata": {},
   "outputs": [
    {
     "data": {
      "text/html": [
       "<table>\n",
       "<thead><tr><th scope=col>MonthNumeric</th><th scope=col>MonthFactor</th><th scope=col>Year</th><th scope=col>WranglerSales</th><th scope=col>Unemployment</th><th scope=col>WranglerQueries</th><th scope=col>CPI.All</th><th scope=col>CPI.Energy</th></tr></thead>\n",
       "<tbody>\n",
       "\t<tr><td>1       </td><td>January </td><td>2010    </td><td>4888    </td><td>9.8     </td><td>30      </td><td>217.488 </td><td>212.807 </td></tr>\n",
       "\t<tr><td>2       </td><td>February</td><td>2010    </td><td>5967    </td><td>9.8     </td><td>32      </td><td>217.281 </td><td>209.624 </td></tr>\n",
       "\t<tr><td>3       </td><td>March   </td><td>2010    </td><td>8410    </td><td>9.9     </td><td>33      </td><td>217.353 </td><td>209.326 </td></tr>\n",
       "\t<tr><td>4       </td><td>April   </td><td>2010    </td><td>8327    </td><td>9.9     </td><td>34      </td><td>217.403 </td><td>209.219 </td></tr>\n",
       "\t<tr><td>5       </td><td>May     </td><td>2010    </td><td>9634    </td><td>9.6     </td><td>36      </td><td>217.290 </td><td>206.631 </td></tr>\n",
       "\t<tr><td>6       </td><td>June    </td><td>2010    </td><td>8923    </td><td>9.4     </td><td>37      </td><td>217.199 </td><td>203.764 </td></tr>\n",
       "</tbody>\n",
       "</table>\n"
      ],
      "text/latex": [
       "\\begin{tabular}{r|llllllll}\n",
       " MonthNumeric & MonthFactor & Year & WranglerSales & Unemployment & WranglerQueries & CPI.All & CPI.Energy\\\\\n",
       "\\hline\n",
       "\t 1        & January  & 2010     & 4888     & 9.8      & 30       & 217.488  & 212.807 \\\\\n",
       "\t 2        & February & 2010     & 5967     & 9.8      & 32       & 217.281  & 209.624 \\\\\n",
       "\t 3        & March    & 2010     & 8410     & 9.9      & 33       & 217.353  & 209.326 \\\\\n",
       "\t 4        & April    & 2010     & 8327     & 9.9      & 34       & 217.403  & 209.219 \\\\\n",
       "\t 5        & May      & 2010     & 9634     & 9.6      & 36       & 217.290  & 206.631 \\\\\n",
       "\t 6        & June     & 2010     & 8923     & 9.4      & 37       & 217.199  & 203.764 \\\\\n",
       "\\end{tabular}\n"
      ],
      "text/markdown": [
       "\n",
       "MonthNumeric | MonthFactor | Year | WranglerSales | Unemployment | WranglerQueries | CPI.All | CPI.Energy | \n",
       "|---|---|---|---|---|---|\n",
       "| 1        | January  | 2010     | 4888     | 9.8      | 30       | 217.488  | 212.807  | \n",
       "| 2        | February | 2010     | 5967     | 9.8      | 32       | 217.281  | 209.624  | \n",
       "| 3        | March    | 2010     | 8410     | 9.9      | 33       | 217.353  | 209.326  | \n",
       "| 4        | April    | 2010     | 8327     | 9.9      | 34       | 217.403  | 209.219  | \n",
       "| 5        | May      | 2010     | 9634     | 9.6      | 36       | 217.290  | 206.631  | \n",
       "| 6        | June     | 2010     | 8923     | 9.4      | 37       | 217.199  | 203.764  | \n",
       "\n",
       "\n"
      ],
      "text/plain": [
       "  MonthNumeric MonthFactor Year WranglerSales Unemployment WranglerQueries\n",
       "1 1            January     2010 4888          9.8          30             \n",
       "2 2            February    2010 5967          9.8          32             \n",
       "3 3            March       2010 8410          9.9          33             \n",
       "4 4            April       2010 8327          9.9          34             \n",
       "5 5            May         2010 9634          9.6          36             \n",
       "6 6            June        2010 8923          9.4          37             \n",
       "  CPI.All CPI.Energy\n",
       "1 217.488 212.807   \n",
       "2 217.281 209.624   \n",
       "3 217.353 209.326   \n",
       "4 217.403 209.219   \n",
       "5 217.290 206.631   \n",
       "6 217.199 203.764   "
      ]
     },
     "metadata": {},
     "output_type": "display_data"
    }
   ],
   "source": [
    "head(data)"
   ]
  },
  {
   "cell_type": "markdown",
   "metadata": {},
   "source": [
    "#### Model3: Adding MonthFactor variable"
   ]
  },
  {
   "cell_type": "code",
   "execution_count": 63,
   "metadata": {},
   "outputs": [],
   "source": [
    "mod2 = lm(WranglerSales ~ MonthFactor + Unemployment + WranglerQueries + CPI.All + CPI.Energy, data=train)"
   ]
  },
  {
   "cell_type": "code",
   "execution_count": 64,
   "metadata": {},
   "outputs": [
    {
     "data": {
      "text/plain": [
       "\n",
       "Call:\n",
       "lm(formula = WranglerSales ~ MonthFactor + Unemployment + WranglerQueries + \n",
       "    CPI.All + CPI.Energy, data = train)\n",
       "\n",
       "Residuals:\n",
       "    Min      1Q  Median      3Q     Max \n",
       "-3013.5  -596.8  -144.7   486.1  8019.9 \n",
       "\n",
       "Coefficients:\n",
       "                      Estimate Std. Error t value Pr(>|t|)    \n",
       "(Intercept)          -71969.75   53164.01  -1.354 0.181261    \n",
       "MonthFactorAugust      -158.57     935.96  -0.169 0.866076    \n",
       "MonthFactorDecember     -50.31    1047.63  -0.048 0.961872    \n",
       "MonthFactorFebruary   -1021.34     896.10  -1.140 0.259240    \n",
       "MonthFactorJanuary    -3256.91     934.56  -3.485 0.000964 ***\n",
       "MonthFactorJuly        -303.87     993.73  -0.306 0.760902    \n",
       "MonthFactorJune          67.03     957.99   0.070 0.944467    \n",
       "MonthFactorMarch       -158.79     876.76  -0.181 0.856933    \n",
       "MonthFactorMay         1806.86     902.65   2.002 0.050166 .  \n",
       "MonthFactorNovember   -1701.16     974.45  -1.746 0.086337 .  \n",
       "MonthFactorOctober     -731.70     967.74  -0.756 0.452764    \n",
       "MonthFactorSeptember  -1028.08     878.30  -1.171 0.246745    \n",
       "Unemployment            959.91     993.04   0.967 0.337880    \n",
       "WranglerQueries         192.08      61.80   3.108 0.002956 ** \n",
       "CPI.All                 318.26     232.50   1.369 0.176508    \n",
       "CPI.Energy              -22.78      28.63  -0.796 0.429510    \n",
       "---\n",
       "Signif. codes:  0 '***' 0.001 '**' 0.01 '*' 0.05 '.' 0.1 ' ' 1\n",
       "\n",
       "Residual standard error: 1516 on 56 degrees of freedom\n",
       "Multiple R-squared:  0.873,\tAdjusted R-squared:  0.839 \n",
       "F-statistic: 25.66 on 15 and 56 DF,  p-value: < 2.2e-16\n"
      ]
     },
     "metadata": {},
     "output_type": "display_data"
    }
   ],
   "source": [
    "summary(mod2)"
   ]
  },
  {
   "cell_type": "code",
   "execution_count": 65,
   "metadata": {},
   "outputs": [
    {
     "data": {
      "text/html": [
       "<table>\n",
       "<thead><tr><th></th><th scope=col>GVIF</th><th scope=col>Df</th><th scope=col>GVIF^(1/(2*Df))</th></tr></thead>\n",
       "<tbody>\n",
       "\t<tr><th scope=row>MonthFactor</th><td> 4.665745</td><td>11       </td><td>1.072520 </td></tr>\n",
       "\t<tr><th scope=row>Unemployment</th><td>72.235553</td><td> 1       </td><td>8.499150 </td></tr>\n",
       "\t<tr><th scope=row>WranglerQueries</th><td>19.693557</td><td> 1       </td><td>4.437742 </td></tr>\n",
       "\t<tr><th scope=row>CPI.All</th><td>78.909535</td><td> 1       </td><td>8.883104 </td></tr>\n",
       "\t<tr><th scope=row>CPI.Energy</th><td> 9.229663</td><td> 1       </td><td>3.038036 </td></tr>\n",
       "</tbody>\n",
       "</table>\n"
      ],
      "text/latex": [
       "\\begin{tabular}{r|lll}\n",
       "  & GVIF & Df & GVIF\\textasciicircum{}(1/(2*Df))\\\\\n",
       "\\hline\n",
       "\tMonthFactor &  4.665745 & 11        & 1.072520 \\\\\n",
       "\tUnemployment & 72.235553 &  1        & 8.499150 \\\\\n",
       "\tWranglerQueries & 19.693557 &  1        & 4.437742 \\\\\n",
       "\tCPI.All & 78.909535 &  1        & 8.883104 \\\\\n",
       "\tCPI.Energy &  9.229663 &  1        & 3.038036 \\\\\n",
       "\\end{tabular}\n"
      ],
      "text/markdown": [
       "\n",
       "| <!--/--> | GVIF | Df | GVIF^(1/(2*Df)) | \n",
       "|---|---|---|---|---|\n",
       "| MonthFactor |  4.665745 | 11        | 1.072520  | \n",
       "| Unemployment | 72.235553 |  1        | 8.499150  | \n",
       "| WranglerQueries | 19.693557 |  1        | 4.437742  | \n",
       "| CPI.All | 78.909535 |  1        | 8.883104  | \n",
       "| CPI.Energy |  9.229663 |  1        | 3.038036  | \n",
       "\n",
       "\n"
      ],
      "text/plain": [
       "                GVIF      Df GVIF^(1/(2*Df))\n",
       "MonthFactor      4.665745 11 1.072520       \n",
       "Unemployment    72.235553  1 8.499150       \n",
       "WranglerQueries 19.693557  1 4.437742       \n",
       "CPI.All         78.909535  1 8.883104       \n",
       "CPI.Energy       9.229663  1 3.038036       "
      ]
     },
     "metadata": {},
     "output_type": "display_data"
    }
   ],
   "source": [
    "car::vif(mod2)"
   ]
  },
  {
   "cell_type": "markdown",
   "metadata": {},
   "source": [
    "#### i) Describe your new model. What is the regression equation? (Do not simply copy and paste output from R.) How should one interpret the coeﬃcients of each of the MonthFactor dummy variables?\n",
    "\n",
    "From this model, it seems that two variables are more important: MonthFactorJanuary and WranglerQueries. Indeed the absolute value of there t value is larger and more importantly, there p-value is very small, meaning that the coefficient of those variables, in the model, is very probably not zero. The regression equation of the new model is:\n",
    "\n",
    "**WranglerSales** = -71969.75 - 158.57 **MonthFactorAugust** - 50.31 **MonthFactorDecember** - 1021.34 **MonthFactorFebruary** - 3256.91 **MonthFactorJanuary** - 303.87 **MonthFactorJuly** + 67.03 **MonthFactorJune** - 158.79 **MonthFactorMarch** + 1806.8 **MonthFactorMay** - 1701.16 **MonthFactorNovember** - 731.70 **MonthFactorOctober** - 1028.08 **MonthFactorSeptember** + 959.91 **Unemployment** + 192.08 **WranglerQueries** + 318.26 **CPI.All** - 22.78 **CPI.Energy**\n",
    "\n",
    "Interpretation of the coefficients:\n",
    "Higher coeffient in absolute value mean that the variable has a stronger impact on the sale of the company. From the equation that we have, most sales are happening in May or June, where the coefficients are positive. It means that the environment in this season (beggining of summer) favor the sale of Wrangler. On the other hand, for the other months, the coefficient is negative, which mean that the environment related to the month tends to prevent the sales of Wranglers. In other words, the thresold will be higher to manage to sold one unit. The company will need to deploy more ressources, in marketing for instance, to increase the WranglerQueries (highly correlated with sales) or the economical and political environment will need to be more favorable, as a higher CPI index for instance. "
   ]
  },
  {
   "cell_type": "code",
   "execution_count": 66,
   "metadata": {},
   "outputs": [],
   "source": [
    "predictTrain = predict(mod2, newdata=train)"
   ]
  },
  {
   "cell_type": "code",
   "execution_count": 67,
   "metadata": {},
   "outputs": [
    {
     "data": {
      "text/html": [
       "0.79610636071268"
      ],
      "text/latex": [
       "0.79610636071268"
      ],
      "text/markdown": [
       "0.79610636071268"
      ],
      "text/plain": [
       "[1] 0.7961064"
      ]
     },
     "metadata": {},
     "output_type": "display_data"
    }
   ],
   "source": [
    "SSE2 = sum((train$WranglerSales - predictTrain)^2)\n",
    "SST = sum((train$WranglerSales - mean(train$WranglerSales))^2)\n",
    "R2 = 1 - SSE/SST_train\n",
    "R2"
   ]
  },
  {
   "cell_type": "markdown",
   "metadata": {},
   "source": [
    "#### ii) What is the training set R2 for the new model? Which variables are signiﬁcant?"
   ]
  },
  {
   "cell_type": "markdown",
   "metadata": {},
   "source": [
    "The training set R2 is 0.796\n",
    "\n",
    "The significant variables are MonthFactorJanuary and WranglerQueries.  "
   ]
  },
  {
   "cell_type": "markdown",
   "metadata": {},
   "source": [
    "#### iii) Do you think adding the independent variable MonthFactor improves the quality of the model? Why or why not?\n",
    "\n",
    "The R squared of the new model with MonthFactor is higher than the previous one, without this variable. Therefore, this model is a best fit, it is more accurate. "
   ]
  },
  {
   "cell_type": "markdown",
   "metadata": {},
   "source": [
    "#### iv) Can you think of a diﬀerent way that you might use the given data to model seasonality? Do you think your new way would improve on the best model you have constructed so far?"
   ]
  },
  {
   "cell_type": "markdown",
   "metadata": {},
   "source": [
    "### Build a ﬁnal model using a subset of the independent variables used in parts (a) and (b), providing a brief justiﬁcation for the variables selected. What is the training set R2 and the OSR2 (this is the R2 of your model on the test set)? Do you think your model would be useful to Jeep/FCA? Why or why not?"
   ]
  },
  {
   "cell_type": "markdown",
   "metadata": {},
   "source": [
    "### C. Final model using a subset of the independant variables from a) and b). \n",
    "\n",
    "#### Model4: MonthFactor and WranglerQueries\n",
    "\n",
    "In this model, the only two variables selected are MonthFactor and WranglerQueries. Indeed from the analysis of model 3, the p-value of those two variables is smaller than 0.003, while it is greater than 0.05 most all the others, and even 0.1 for most. This suggest that the zero hypothesis is rejected for those two variables which are therefore relevant in the regression model. "
   ]
  },
  {
   "cell_type": "markdown",
   "metadata": {},
   "source": [
    "head(train)"
   ]
  },
  {
   "cell_type": "code",
   "execution_count": 68,
   "metadata": {},
   "outputs": [
    {
     "data": {
      "text/html": [
       "72"
      ],
      "text/latex": [
       "72"
      ],
      "text/markdown": [
       "72"
      ],
      "text/plain": [
       "[1] 72"
      ]
     },
     "metadata": {},
     "output_type": "display_data"
    }
   ],
   "source": [
    "nrow(train)"
   ]
  },
  {
   "cell_type": "code",
   "execution_count": 69,
   "metadata": {},
   "outputs": [],
   "source": [
    "mod3 = lm(WranglerSales ~ MonthFactor + WranglerQueries, data=train)"
   ]
  },
  {
   "cell_type": "code",
   "execution_count": 70,
   "metadata": {},
   "outputs": [
    {
     "data": {
      "text/plain": [
       "\n",
       "Call:\n",
       "lm(formula = WranglerSales ~ MonthFactor + WranglerQueries, data = train)\n",
       "\n",
       "Residuals:\n",
       "    Min      1Q  Median      3Q     Max \n",
       "-2817.4  -610.4   -68.8   561.0  8152.9 \n",
       "\n",
       "Coefficients:\n",
       "                     Estimate Std. Error t value Pr(>|t|)    \n",
       "(Intercept)            241.81     999.74   0.242   0.8097    \n",
       "MonthFactorAugust     -335.80     890.12  -0.377   0.7073    \n",
       "MonthFactorDecember    457.85     886.43   0.517   0.6074    \n",
       "MonthFactorFebruary   -902.89     885.46  -1.020   0.3120    \n",
       "MonthFactorJanuary   -3003.21     889.21  -3.377   0.0013 ** \n",
       "MonthFactorJuly       -690.35     894.41  -0.772   0.4433    \n",
       "MonthFactorJune       -284.42     890.44  -0.319   0.7505    \n",
       "MonthFactorMarch      -138.52     883.52  -0.157   0.8759    \n",
       "MonthFactorMay        1622.89     885.46   1.833   0.0719 .  \n",
       "MonthFactorNovember  -1246.75     884.53  -1.410   0.1639    \n",
       "MonthFactorOctober    -330.86     884.81  -0.374   0.7098    \n",
       "MonthFactorSeptember  -948.84     883.96  -1.073   0.2875    \n",
       "WranglerQueries        247.69      15.31  16.183   <2e-16 ***\n",
       "---\n",
       "Signif. codes:  0 '***' 0.001 '**' 0.01 '*' 0.05 '.' 0.1 ' ' 1\n",
       "\n",
       "Residual standard error: 1530 on 59 degrees of freedom\n",
       "Multiple R-squared:  0.8638,\tAdjusted R-squared:  0.8361 \n",
       "F-statistic: 31.18 on 12 and 59 DF,  p-value: < 2.2e-16\n"
      ]
     },
     "metadata": {},
     "output_type": "display_data"
    }
   ],
   "source": [
    "summary(mod3)"
   ]
  },
  {
   "cell_type": "markdown",
   "metadata": {},
   "source": [
    "We can observe that we have in model 4 a greater adjusted R squared than we had in model 3, which again suggests that the additional variable are not usefull in the model. With this adjusted R² of 0.8361 which is the largest of the four models, we can state that this is the best fit with the data considered so far."
   ]
  },
  {
   "cell_type": "code",
   "execution_count": 71,
   "metadata": {},
   "outputs": [],
   "source": [
    "predictTrain4 = predict(mod3, newdata=train)\n",
    "predictTest4 = predict(mod3, newdata=test)"
   ]
  },
  {
   "cell_type": "code",
   "execution_count": 72,
   "metadata": {},
   "outputs": [],
   "source": [
    "SSE4_train = sum((train$WranglerSales - predictTrain4)^2)\n",
    "SSE4_test = sum((test$WranglerSales - predictTest4)^2)\n",
    "SST_train = sum((train$WranglerSales - mean(train$WranglerSales))^2)\n",
    "SST_test = sum((test$WranglerSales - mean(test$WranglerSales))^2)\n",
    "R2_train = 1 - SSE4_train/SST_train\n",
    "OSR2 = 1 - SSE4_test/SST_test"
   ]
  },
  {
   "cell_type": "code",
   "execution_count": 73,
   "metadata": {},
   "outputs": [
    {
     "data": {
      "text/html": [
       "0.863778732638913"
      ],
      "text/latex": [
       "0.863778732638913"
      ],
      "text/markdown": [
       "0.863778732638913"
      ],
      "text/plain": [
       "[1] 0.8637787"
      ]
     },
     "metadata": {},
     "output_type": "display_data"
    }
   ],
   "source": [
    "R2_train"
   ]
  },
  {
   "cell_type": "code",
   "execution_count": 74,
   "metadata": {},
   "outputs": [
    {
     "data": {
      "text/html": [
       "0.155642330816274"
      ],
      "text/latex": [
       "0.155642330816274"
      ],
      "text/markdown": [
       "0.155642330816274"
      ],
      "text/plain": [
       "[1] 0.1556423"
      ]
     },
     "metadata": {},
     "output_type": "display_data"
    }
   ],
   "source": [
    "OSR2"
   ]
  },
  {
   "cell_type": "markdown",
   "metadata": {},
   "source": [
    "## d) \n",
    "\n",
    "### i)"
   ]
  },
  {
   "cell_type": "markdown",
   "metadata": {},
   "source": [
    "### Add a new variable: PriusSales"
   ]
  },
  {
   "cell_type": "code",
   "execution_count": 75,
   "metadata": {},
   "outputs": [],
   "source": [
    "data$PriusSales <- c(8484,7968,11786,12555,14248,10998,14102,11799,11394,11731,10224,15639,10635,13539,18605,12477,6924,4340,7907,9491,9325,10008,11663,13150,8500,16469,18008,15661,13053,11514,9936,13311,10806,8788,8925,12536,9685,11428,13868,12432,15330,14066,15252,16157,9033,8239,9801,9881,7205,7396,10917,10298,15944,11277,12866,14724,7986,7326,8038,8799,7316,7070,9485,8822,11921,9559,11203,10450,9952,9611,8287,10153,6102,7169,8130,8923,9389,8531,9930,10177,9790,5421,7284,7786,4553,5418,5798,5802,6064,6034,6043,5722,4532,5477,4787,5401,4011,3889,4064,3830,0,0,0,0,0,0,0,0)"
   ]
  },
  {
   "cell_type": "code",
   "execution_count": 76,
   "metadata": {},
   "outputs": [
    {
     "data": {
      "text/html": [
       "<table>\n",
       "<thead><tr><th scope=col>MonthNumeric</th><th scope=col>MonthFactor</th><th scope=col>Year</th><th scope=col>WranglerSales</th><th scope=col>Unemployment</th><th scope=col>WranglerQueries</th><th scope=col>CPI.All</th><th scope=col>CPI.Energy</th><th scope=col>PriusSales</th></tr></thead>\n",
       "<tbody>\n",
       "\t<tr><td>1       </td><td>January </td><td>2010    </td><td>4888    </td><td>9.8     </td><td>30      </td><td>217.488 </td><td>212.807 </td><td> 8484   </td></tr>\n",
       "\t<tr><td>2       </td><td>February</td><td>2010    </td><td>5967    </td><td>9.8     </td><td>32      </td><td>217.281 </td><td>209.624 </td><td> 7968   </td></tr>\n",
       "\t<tr><td>3       </td><td>March   </td><td>2010    </td><td>8410    </td><td>9.9     </td><td>33      </td><td>217.353 </td><td>209.326 </td><td>11786   </td></tr>\n",
       "\t<tr><td>4       </td><td>April   </td><td>2010    </td><td>8327    </td><td>9.9     </td><td>34      </td><td>217.403 </td><td>209.219 </td><td>12555   </td></tr>\n",
       "\t<tr><td>5       </td><td>May     </td><td>2010    </td><td>9634    </td><td>9.6     </td><td>36      </td><td>217.290 </td><td>206.631 </td><td>14248   </td></tr>\n",
       "\t<tr><td>6       </td><td>June    </td><td>2010    </td><td>8923    </td><td>9.4     </td><td>37      </td><td>217.199 </td><td>203.764 </td><td>10998   </td></tr>\n",
       "</tbody>\n",
       "</table>\n"
      ],
      "text/latex": [
       "\\begin{tabular}{r|lllllllll}\n",
       " MonthNumeric & MonthFactor & Year & WranglerSales & Unemployment & WranglerQueries & CPI.All & CPI.Energy & PriusSales\\\\\n",
       "\\hline\n",
       "\t 1        & January  & 2010     & 4888     & 9.8      & 30       & 217.488  & 212.807  &  8484   \\\\\n",
       "\t 2        & February & 2010     & 5967     & 9.8      & 32       & 217.281  & 209.624  &  7968   \\\\\n",
       "\t 3        & March    & 2010     & 8410     & 9.9      & 33       & 217.353  & 209.326  & 11786   \\\\\n",
       "\t 4        & April    & 2010     & 8327     & 9.9      & 34       & 217.403  & 209.219  & 12555   \\\\\n",
       "\t 5        & May      & 2010     & 9634     & 9.6      & 36       & 217.290  & 206.631  & 14248   \\\\\n",
       "\t 6        & June     & 2010     & 8923     & 9.4      & 37       & 217.199  & 203.764  & 10998   \\\\\n",
       "\\end{tabular}\n"
      ],
      "text/markdown": [
       "\n",
       "MonthNumeric | MonthFactor | Year | WranglerSales | Unemployment | WranglerQueries | CPI.All | CPI.Energy | PriusSales | \n",
       "|---|---|---|---|---|---|\n",
       "| 1        | January  | 2010     | 4888     | 9.8      | 30       | 217.488  | 212.807  |  8484    | \n",
       "| 2        | February | 2010     | 5967     | 9.8      | 32       | 217.281  | 209.624  |  7968    | \n",
       "| 3        | March    | 2010     | 8410     | 9.9      | 33       | 217.353  | 209.326  | 11786    | \n",
       "| 4        | April    | 2010     | 8327     | 9.9      | 34       | 217.403  | 209.219  | 12555    | \n",
       "| 5        | May      | 2010     | 9634     | 9.6      | 36       | 217.290  | 206.631  | 14248    | \n",
       "| 6        | June     | 2010     | 8923     | 9.4      | 37       | 217.199  | 203.764  | 10998    | \n",
       "\n",
       "\n"
      ],
      "text/plain": [
       "  MonthNumeric MonthFactor Year WranglerSales Unemployment WranglerQueries\n",
       "1 1            January     2010 4888          9.8          30             \n",
       "2 2            February    2010 5967          9.8          32             \n",
       "3 3            March       2010 8410          9.9          33             \n",
       "4 4            April       2010 8327          9.9          34             \n",
       "5 5            May         2010 9634          9.6          36             \n",
       "6 6            June        2010 8923          9.4          37             \n",
       "  CPI.All CPI.Energy PriusSales\n",
       "1 217.488 212.807     8484     \n",
       "2 217.281 209.624     7968     \n",
       "3 217.353 209.326    11786     \n",
       "4 217.403 209.219    12555     \n",
       "5 217.290 206.631    14248     \n",
       "6 217.199 203.764    10998     "
      ]
     },
     "metadata": {},
     "output_type": "display_data"
    }
   ],
   "source": [
    "head(data)"
   ]
  },
  {
   "cell_type": "code",
   "execution_count": 77,
   "metadata": {},
   "outputs": [],
   "source": [
    "dat = read.csv('dataHW1.csv')"
   ]
  },
  {
   "cell_type": "code",
   "execution_count": 78,
   "metadata": {},
   "outputs": [
    {
     "data": {
      "text/html": [
       "<table>\n",
       "<thead><tr><th scope=col>Month</th><th scope=col>Prius</th></tr></thead>\n",
       "<tbody>\n",
       "\t<tr><td>2010-01</td><td>49     </td></tr>\n",
       "\t<tr><td>2010-02</td><td>67     </td></tr>\n",
       "\t<tr><td>2010-03</td><td>73     </td></tr>\n",
       "\t<tr><td>2010-04</td><td>44     </td></tr>\n",
       "\t<tr><td>2010-05</td><td>47     </td></tr>\n",
       "\t<tr><td>2010-06</td><td>46     </td></tr>\n",
       "</tbody>\n",
       "</table>\n"
      ],
      "text/latex": [
       "\\begin{tabular}{r|ll}\n",
       " Month & Prius\\\\\n",
       "\\hline\n",
       "\t 2010-01 & 49     \\\\\n",
       "\t 2010-02 & 67     \\\\\n",
       "\t 2010-03 & 73     \\\\\n",
       "\t 2010-04 & 44     \\\\\n",
       "\t 2010-05 & 47     \\\\\n",
       "\t 2010-06 & 46     \\\\\n",
       "\\end{tabular}\n"
      ],
      "text/markdown": [
       "\n",
       "Month | Prius | \n",
       "|---|---|---|---|---|---|\n",
       "| 2010-01 | 49      | \n",
       "| 2010-02 | 67      | \n",
       "| 2010-03 | 73      | \n",
       "| 2010-04 | 44      | \n",
       "| 2010-05 | 47      | \n",
       "| 2010-06 | 46      | \n",
       "\n",
       "\n"
      ],
      "text/plain": [
       "  Month   Prius\n",
       "1 2010-01 49   \n",
       "2 2010-02 67   \n",
       "3 2010-03 73   \n",
       "4 2010-04 44   \n",
       "5 2010-05 47   \n",
       "6 2010-06 46   "
      ]
     },
     "metadata": {},
     "output_type": "display_data"
    }
   ],
   "source": [
    "head(dat)"
   ]
  },
  {
   "cell_type": "code",
   "execution_count": 80,
   "metadata": {},
   "outputs": [],
   "source": [
    "data$PriusQueries = dat$Prius"
   ]
  },
  {
   "cell_type": "code",
   "execution_count": 82,
   "metadata": {},
   "outputs": [
    {
     "data": {
      "text/html": [
       "<table>\n",
       "<thead><tr><th scope=col>MonthNumeric</th><th scope=col>MonthFactor</th><th scope=col>Year</th><th scope=col>WranglerSales</th><th scope=col>Unemployment</th><th scope=col>WranglerQueries</th><th scope=col>CPI.All</th><th scope=col>CPI.Energy</th><th scope=col>PriusSales</th><th scope=col>PriusQueries</th></tr></thead>\n",
       "<tbody>\n",
       "\t<tr><td>1       </td><td>January </td><td>2010    </td><td>4888    </td><td>9.8     </td><td>30      </td><td>217.488 </td><td>212.807 </td><td> 8484   </td><td>49      </td></tr>\n",
       "\t<tr><td>2       </td><td>February</td><td>2010    </td><td>5967    </td><td>9.8     </td><td>32      </td><td>217.281 </td><td>209.624 </td><td> 7968   </td><td>67      </td></tr>\n",
       "\t<tr><td>3       </td><td>March   </td><td>2010    </td><td>8410    </td><td>9.9     </td><td>33      </td><td>217.353 </td><td>209.326 </td><td>11786   </td><td>73      </td></tr>\n",
       "\t<tr><td>4       </td><td>April   </td><td>2010    </td><td>8327    </td><td>9.9     </td><td>34      </td><td>217.403 </td><td>209.219 </td><td>12555   </td><td>44      </td></tr>\n",
       "\t<tr><td>5       </td><td>May     </td><td>2010    </td><td>9634    </td><td>9.6     </td><td>36      </td><td>217.290 </td><td>206.631 </td><td>14248   </td><td>47      </td></tr>\n",
       "\t<tr><td>6       </td><td>June    </td><td>2010    </td><td>8923    </td><td>9.4     </td><td>37      </td><td>217.199 </td><td>203.764 </td><td>10998   </td><td>46      </td></tr>\n",
       "</tbody>\n",
       "</table>\n"
      ],
      "text/latex": [
       "\\begin{tabular}{r|llllllllll}\n",
       " MonthNumeric & MonthFactor & Year & WranglerSales & Unemployment & WranglerQueries & CPI.All & CPI.Energy & PriusSales & PriusQueries\\\\\n",
       "\\hline\n",
       "\t 1        & January  & 2010     & 4888     & 9.8      & 30       & 217.488  & 212.807  &  8484    & 49      \\\\\n",
       "\t 2        & February & 2010     & 5967     & 9.8      & 32       & 217.281  & 209.624  &  7968    & 67      \\\\\n",
       "\t 3        & March    & 2010     & 8410     & 9.9      & 33       & 217.353  & 209.326  & 11786    & 73      \\\\\n",
       "\t 4        & April    & 2010     & 8327     & 9.9      & 34       & 217.403  & 209.219  & 12555    & 44      \\\\\n",
       "\t 5        & May      & 2010     & 9634     & 9.6      & 36       & 217.290  & 206.631  & 14248    & 47      \\\\\n",
       "\t 6        & June     & 2010     & 8923     & 9.4      & 37       & 217.199  & 203.764  & 10998    & 46      \\\\\n",
       "\\end{tabular}\n"
      ],
      "text/markdown": [
       "\n",
       "MonthNumeric | MonthFactor | Year | WranglerSales | Unemployment | WranglerQueries | CPI.All | CPI.Energy | PriusSales | PriusQueries | \n",
       "|---|---|---|---|---|---|\n",
       "| 1        | January  | 2010     | 4888     | 9.8      | 30       | 217.488  | 212.807  |  8484    | 49       | \n",
       "| 2        | February | 2010     | 5967     | 9.8      | 32       | 217.281  | 209.624  |  7968    | 67       | \n",
       "| 3        | March    | 2010     | 8410     | 9.9      | 33       | 217.353  | 209.326  | 11786    | 73       | \n",
       "| 4        | April    | 2010     | 8327     | 9.9      | 34       | 217.403  | 209.219  | 12555    | 44       | \n",
       "| 5        | May      | 2010     | 9634     | 9.6      | 36       | 217.290  | 206.631  | 14248    | 47       | \n",
       "| 6        | June     | 2010     | 8923     | 9.4      | 37       | 217.199  | 203.764  | 10998    | 46       | \n",
       "\n",
       "\n"
      ],
      "text/plain": [
       "  MonthNumeric MonthFactor Year WranglerSales Unemployment WranglerQueries\n",
       "1 1            January     2010 4888          9.8          30             \n",
       "2 2            February    2010 5967          9.8          32             \n",
       "3 3            March       2010 8410          9.9          33             \n",
       "4 4            April       2010 8327          9.9          34             \n",
       "5 5            May         2010 9634          9.6          36             \n",
       "6 6            June        2010 8923          9.4          37             \n",
       "  CPI.All CPI.Energy PriusSales PriusQueries\n",
       "1 217.488 212.807     8484      49          \n",
       "2 217.281 209.624     7968      67          \n",
       "3 217.353 209.326    11786      73          \n",
       "4 217.403 209.219    12555      44          \n",
       "5 217.290 206.631    14248      47          \n",
       "6 217.199 203.764    10998      46          "
      ]
     },
     "metadata": {},
     "output_type": "display_data"
    }
   ],
   "source": [
    "head(data)"
   ]
  },
  {
   "cell_type": "code",
   "execution_count": 88,
   "metadata": {},
   "outputs": [],
   "source": [
    "train = data[data$Year <= 2015,]\n",
    "test = data[data$Year > 2015,]"
   ]
  },
  {
   "cell_type": "code",
   "execution_count": 89,
   "metadata": {},
   "outputs": [],
   "source": [
    "mod4 = lm(PriusSales ~ MonthFactor + PriusQueries + CPI.All, data=train)"
   ]
  },
  {
   "cell_type": "code",
   "execution_count": 90,
   "metadata": {},
   "outputs": [
    {
     "data": {
      "text/plain": [
       "\n",
       "Call:\n",
       "lm(formula = PriusSales ~ MonthFactor + PriusQueries + CPI.All, \n",
       "    data = train)\n",
       "\n",
       "Residuals:\n",
       "    Min      1Q  Median      3Q     Max \n",
       "-7392.6 -1226.2   124.9  1327.7  4426.8 \n",
       "\n",
       "Coefficients:\n",
       "                     Estimate Std. Error t value Pr(>|t|)    \n",
       "(Intercept)          31639.44    9641.80   3.281 0.001751 ** \n",
       "MonthFactorAugust     1096.08    1385.96   0.791 0.432256    \n",
       "MonthFactorDecember   1198.09    1439.92   0.832 0.408793    \n",
       "MonthFactorFebruary  -1318.55    1381.22  -0.955 0.343726    \n",
       "MonthFactorJanuary   -2760.79    1397.10  -1.976 0.052908 .  \n",
       "MonthFactorJuly         46.35    1381.55   0.034 0.973354    \n",
       "MonthFactorJune      -1312.60    1385.47  -0.947 0.347362    \n",
       "MonthFactorMarch       934.58    1398.79   0.668 0.506698    \n",
       "MonthFactorMay        1056.79    1381.45   0.765 0.447380    \n",
       "MonthFactorNovember  -1584.30    1402.84  -1.129 0.263398    \n",
       "MonthFactorOctober   -2075.52    1391.43  -1.492 0.141211    \n",
       "MonthFactorSeptember -2233.22    1382.08  -1.616 0.111555    \n",
       "PriusQueries           100.48      28.97   3.468 0.000996 ***\n",
       "CPI.All               -113.94      43.19  -2.638 0.010695 *  \n",
       "---\n",
       "Signif. codes:  0 '***' 0.001 '**' 0.01 '*' 0.05 '.' 0.1 ' ' 1\n",
       "\n",
       "Residual standard error: 2391 on 58 degrees of freedom\n",
       "Multiple R-squared:  0.4427,\tAdjusted R-squared:  0.3178 \n",
       "F-statistic: 3.544 on 13 and 58 DF,  p-value: 0.0004282\n"
      ]
     },
     "metadata": {},
     "output_type": "display_data"
    }
   ],
   "source": [
    "summary(mod4)"
   ]
  },
  {
   "cell_type": "code",
   "execution_count": 92,
   "metadata": {},
   "outputs": [],
   "source": [
    "predictTrain5 = predict(mod4, newdata=train)\n",
    "predictTest5 = predict(mod4, newdata=test)"
   ]
  },
  {
   "cell_type": "code",
   "execution_count": 93,
   "metadata": {},
   "outputs": [],
   "source": [
    "SSE5_train = sum((train$PriusSales - predictTrain5)^2)\n",
    "SSE5_test = sum((test$PriusSales - predictTest5)^2)\n",
    "SST_train = sum((train$PriusSales - mean(train$PriusSales))^2)\n",
    "SST_test = sum((test$PriusSales - mean(test$PriusSales))^2)\n",
    "R2_5 = 1 - SSE5_train/SST_train\n",
    "OSR2_5 = 1 - SSE5_test/SST_test"
   ]
  },
  {
   "cell_type": "code",
   "execution_count": 94,
   "metadata": {},
   "outputs": [
    {
     "data": {
      "text/html": [
       "0.44272224147215"
      ],
      "text/latex": [
       "0.44272224147215"
      ],
      "text/markdown": [
       "0.44272224147215"
      ],
      "text/plain": [
       "[1] 0.4427222"
      ]
     },
     "metadata": {},
     "output_type": "display_data"
    }
   ],
   "source": [
    "R2_5"
   ]
  },
  {
   "cell_type": "code",
   "execution_count": 95,
   "metadata": {},
   "outputs": [
    {
     "data": {
      "text/html": [
       "-1.96724487014303"
      ],
      "text/latex": [
       "-1.96724487014303"
      ],
      "text/markdown": [
       "-1.96724487014303"
      ],
      "text/plain": [
       "[1] -1.967245"
      ]
     },
     "metadata": {},
     "output_type": "display_data"
    }
   ],
   "source": [
    "OSR2_5"
   ]
  },
  {
   "cell_type": "markdown",
   "metadata": {},
   "source": [
    "Not a very good model reguarding the R2 and the OSR2."
   ]
  },
  {
   "cell_type": "markdown",
   "metadata": {},
   "source": [
    "### e)"
   ]
  },
  {
   "cell_type": "code",
   "execution_count": null,
   "metadata": {},
   "outputs": [],
   "source": []
  }
 ],
 "metadata": {
  "kernelspec": {
   "display_name": "R",
   "language": "R",
   "name": "ir"
  },
  "language_info": {
   "codemirror_mode": "r",
   "file_extension": ".r",
   "mimetype": "text/x-r-source",
   "name": "R",
   "pygments_lexer": "r",
   "version": "3.5.1"
  }
 },
 "nbformat": 4,
 "nbformat_minor": 2
}
