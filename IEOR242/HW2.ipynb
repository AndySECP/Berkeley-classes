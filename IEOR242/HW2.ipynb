{
 "cells": [
  {
   "cell_type": "markdown",
   "metadata": {},
   "source": [
    "## IEOR 242 - Data Analysis - HW2\n",
    "\n",
    "### Problem 3"
   ]
  },
  {
   "cell_type": "code",
   "execution_count": 3,
   "metadata": {},
   "outputs": [],
   "source": [
    "data = read.csv('framingham.csv')"
   ]
  },
  {
   "cell_type": "code",
   "execution_count": 4,
   "metadata": {},
   "outputs": [
    {
     "data": {
      "text/html": [
       "<table>\n",
       "<thead><tr><th scope=col>male</th><th scope=col>age</th><th scope=col>education</th><th scope=col>currentSmoker</th><th scope=col>cigsPerDay</th><th scope=col>BPMeds</th><th scope=col>prevalentStroke</th><th scope=col>prevalentHyp</th><th scope=col>diabetes</th><th scope=col>totChol</th><th scope=col>sysBP</th><th scope=col>diaBP</th><th scope=col>BMI</th><th scope=col>heartRate</th><th scope=col>glucose</th><th scope=col>TenYearCHD</th></tr></thead>\n",
       "<tbody>\n",
       "\t<tr><td>1                             </td><td>39                            </td><td>College                       </td><td>0                             </td><td> 0                            </td><td>0                             </td><td>0                             </td><td>0                             </td><td>0                             </td><td>195                           </td><td>106.0                         </td><td> 70                           </td><td>26.97                         </td><td>80                            </td><td> 77                           </td><td>0                             </td></tr>\n",
       "\t<tr><td>0                             </td><td>46                            </td><td>High school/GED               </td><td>0                             </td><td> 0                            </td><td>0                             </td><td>0                             </td><td>0                             </td><td>0                             </td><td>250                           </td><td>121.0                         </td><td> 81                           </td><td>28.73                         </td><td>95                            </td><td> 76                           </td><td>0                             </td></tr>\n",
       "\t<tr><td>1                             </td><td>48                            </td><td>Some high school              </td><td>1                             </td><td>20                            </td><td>0                             </td><td>0                             </td><td>0                             </td><td>0                             </td><td>245                           </td><td>127.5                         </td><td> 80                           </td><td>25.34                         </td><td>75                            </td><td> 70                           </td><td>0                             </td></tr>\n",
       "\t<tr><td>0                             </td><td>61                            </td><td>Some college/vocational school</td><td>1                             </td><td>30                            </td><td>0                             </td><td>0                             </td><td>1                             </td><td>0                             </td><td>225                           </td><td>150.0                         </td><td> 95                           </td><td>28.58                         </td><td>65                            </td><td>103                           </td><td>1                             </td></tr>\n",
       "\t<tr><td>0                             </td><td>46                            </td><td>Some college/vocational school</td><td>1                             </td><td>23                            </td><td>0                             </td><td>0                             </td><td>0                             </td><td>0                             </td><td>285                           </td><td>130.0                         </td><td> 84                           </td><td>23.10                         </td><td>85                            </td><td> 85                           </td><td>0                             </td></tr>\n",
       "\t<tr><td>0                             </td><td>43                            </td><td>High school/GED               </td><td>0                             </td><td> 0                            </td><td>0                             </td><td>0                             </td><td>1                             </td><td>0                             </td><td>228                           </td><td>180.0                         </td><td>110                           </td><td>30.30                         </td><td>77                            </td><td> 99                           </td><td>0                             </td></tr>\n",
       "</tbody>\n",
       "</table>\n"
      ],
      "text/latex": [
       "\\begin{tabular}{r|llllllllllllllll}\n",
       " male & age & education & currentSmoker & cigsPerDay & BPMeds & prevalentStroke & prevalentHyp & diabetes & totChol & sysBP & diaBP & BMI & heartRate & glucose & TenYearCHD\\\\\n",
       "\\hline\n",
       "\t 1                              & 39                             & College                        & 0                              &  0                             & 0                              & 0                              & 0                              & 0                              & 195                            & 106.0                          &  70                            & 26.97                          & 80                             &  77                            & 0                             \\\\\n",
       "\t 0                              & 46                             & High school/GED                & 0                              &  0                             & 0                              & 0                              & 0                              & 0                              & 250                            & 121.0                          &  81                            & 28.73                          & 95                             &  76                            & 0                             \\\\\n",
       "\t 1                              & 48                             & Some high school               & 1                              & 20                             & 0                              & 0                              & 0                              & 0                              & 245                            & 127.5                          &  80                            & 25.34                          & 75                             &  70                            & 0                             \\\\\n",
       "\t 0                              & 61                             & Some college/vocational school & 1                              & 30                             & 0                              & 0                              & 1                              & 0                              & 225                            & 150.0                          &  95                            & 28.58                          & 65                             & 103                            & 1                             \\\\\n",
       "\t 0                              & 46                             & Some college/vocational school & 1                              & 23                             & 0                              & 0                              & 0                              & 0                              & 285                            & 130.0                          &  84                            & 23.10                          & 85                             &  85                            & 0                             \\\\\n",
       "\t 0                              & 43                             & High school/GED                & 0                              &  0                             & 0                              & 0                              & 1                              & 0                              & 228                            & 180.0                          & 110                            & 30.30                          & 77                             &  99                            & 0                             \\\\\n",
       "\\end{tabular}\n"
      ],
      "text/markdown": [
       "\n",
       "male | age | education | currentSmoker | cigsPerDay | BPMeds | prevalentStroke | prevalentHyp | diabetes | totChol | sysBP | diaBP | BMI | heartRate | glucose | TenYearCHD | \n",
       "|---|---|---|---|---|---|\n",
       "| 1                              | 39                             | College                        | 0                              |  0                             | 0                              | 0                              | 0                              | 0                              | 195                            | 106.0                          |  70                            | 26.97                          | 80                             |  77                            | 0                              | \n",
       "| 0                              | 46                             | High school/GED                | 0                              |  0                             | 0                              | 0                              | 0                              | 0                              | 250                            | 121.0                          |  81                            | 28.73                          | 95                             |  76                            | 0                              | \n",
       "| 1                              | 48                             | Some high school               | 1                              | 20                             | 0                              | 0                              | 0                              | 0                              | 245                            | 127.5                          |  80                            | 25.34                          | 75                             |  70                            | 0                              | \n",
       "| 0                              | 61                             | Some college/vocational school | 1                              | 30                             | 0                              | 0                              | 1                              | 0                              | 225                            | 150.0                          |  95                            | 28.58                          | 65                             | 103                            | 1                              | \n",
       "| 0                              | 46                             | Some college/vocational school | 1                              | 23                             | 0                              | 0                              | 0                              | 0                              | 285                            | 130.0                          |  84                            | 23.10                          | 85                             |  85                            | 0                              | \n",
       "| 0                              | 43                             | High school/GED                | 0                              |  0                             | 0                              | 0                              | 1                              | 0                              | 228                            | 180.0                          | 110                            | 30.30                          | 77                             |  99                            | 0                              | \n",
       "\n",
       "\n"
      ],
      "text/plain": [
       "  male age education                      currentSmoker cigsPerDay BPMeds\n",
       "1 1    39  College                        0              0         0     \n",
       "2 0    46  High school/GED                0              0         0     \n",
       "3 1    48  Some high school               1             20         0     \n",
       "4 0    61  Some college/vocational school 1             30         0     \n",
       "5 0    46  Some college/vocational school 1             23         0     \n",
       "6 0    43  High school/GED                0              0         0     \n",
       "  prevalentStroke prevalentHyp diabetes totChol sysBP diaBP BMI   heartRate\n",
       "1 0               0            0        195     106.0  70   26.97 80       \n",
       "2 0               0            0        250     121.0  81   28.73 95       \n",
       "3 0               0            0        245     127.5  80   25.34 75       \n",
       "4 0               1            0        225     150.0  95   28.58 65       \n",
       "5 0               0            0        285     130.0  84   23.10 85       \n",
       "6 0               1            0        228     180.0 110   30.30 77       \n",
       "  glucose TenYearCHD\n",
       "1  77     0         \n",
       "2  76     0         \n",
       "3  70     0         \n",
       "4 103     1         \n",
       "5  85     0         \n",
       "6  99     0         "
      ]
     },
     "metadata": {},
     "output_type": "display_data"
    }
   ],
   "source": [
    "head(data)"
   ]
  },
  {
   "cell_type": "code",
   "execution_count": 5,
   "metadata": {},
   "outputs": [
    {
     "data": {
      "text/plain": [
       "      male             age                                 education   \n",
       " Min.   :0.0000   Min.   :32.00   College                       : 423  \n",
       " 1st Qu.:0.0000   1st Qu.:42.00   High school/GED               :1101  \n",
       " Median :0.0000   Median :49.00   Some college/vocational school: 608  \n",
       " Mean   :0.4437   Mean   :49.55   Some high school              :1526  \n",
       " 3rd Qu.:1.0000   3rd Qu.:56.00                                        \n",
       " Max.   :1.0000   Max.   :70.00                                        \n",
       " currentSmoker      cigsPerDay         BPMeds        prevalentStroke   \n",
       " Min.   :0.0000   Min.   : 0.000   Min.   :0.00000   Min.   :0.000000  \n",
       " 1st Qu.:0.0000   1st Qu.: 0.000   1st Qu.:0.00000   1st Qu.:0.000000  \n",
       " Median :0.0000   Median : 0.000   Median :0.00000   Median :0.000000  \n",
       " Mean   :0.4891   Mean   : 9.025   Mean   :0.03034   Mean   :0.005741  \n",
       " 3rd Qu.:1.0000   3rd Qu.:20.000   3rd Qu.:0.00000   3rd Qu.:0.000000  \n",
       " Max.   :1.0000   Max.   :70.000   Max.   :1.00000   Max.   :1.000000  \n",
       "  prevalentHyp       diabetes          totChol          sysBP      \n",
       " Min.   :0.0000   Min.   :0.00000   Min.   :113.0   Min.   : 83.5  \n",
       " 1st Qu.:0.0000   1st Qu.:0.00000   1st Qu.:206.0   1st Qu.:117.0  \n",
       " Median :0.0000   Median :0.00000   Median :234.0   Median :128.0  \n",
       " Mean   :0.3116   Mean   :0.02706   Mean   :236.8   Mean   :132.4  \n",
       " 3rd Qu.:1.0000   3rd Qu.:0.00000   3rd Qu.:263.0   3rd Qu.:143.9  \n",
       " Max.   :1.0000   Max.   :1.00000   Max.   :600.0   Max.   :295.0  \n",
       "     diaBP             BMI          heartRate         glucose      \n",
       " Min.   : 48.00   Min.   :15.54   Min.   : 44.00   Min.   : 40.00  \n",
       " 1st Qu.: 75.00   1st Qu.:23.08   1st Qu.: 68.00   1st Qu.: 71.00  \n",
       " Median : 82.00   Median :25.38   Median : 75.00   Median : 78.00  \n",
       " Mean   : 82.92   Mean   :25.78   Mean   : 75.73   Mean   : 81.85  \n",
       " 3rd Qu.: 90.00   3rd Qu.:28.04   3rd Qu.: 82.00   3rd Qu.: 87.00  \n",
       " Max.   :142.50   Max.   :56.80   Max.   :143.00   Max.   :394.00  \n",
       "   TenYearCHD    \n",
       " Min.   :0.0000  \n",
       " 1st Qu.:0.0000  \n",
       " Median :0.0000  \n",
       " Mean   :0.1523  \n",
       " 3rd Qu.:0.0000  \n",
       " Max.   :1.0000  "
      ]
     },
     "metadata": {},
     "output_type": "display_data"
    }
   ],
   "source": [
    "summary(data)"
   ]
  },
  {
   "cell_type": "code",
   "execution_count": 6,
   "metadata": {},
   "outputs": [
    {
     "name": "stderr",
     "output_type": "stream",
     "text": [
      "Warning message:\n",
      "\"package 'rpart' was built under R version 3.5.2\"Warning message:\n",
      "\"package 'rpart.plot' was built under R version 3.5.2\""
     ]
    }
   ],
   "source": [
    "library(dplyr)\n",
    "library(ggplot2)\n",
    "library(caTools) # splits\n",
    "library(rpart) # CART\n",
    "library(rpart.plot) # CART plotting"
   ]
  },
  {
   "cell_type": "code",
   "execution_count": 7,
   "metadata": {},
   "outputs": [],
   "source": [
    "data$TenYearCHD <- as.factor(data$TenYearCHD)"
   ]
  },
  {
   "cell_type": "code",
   "execution_count": 8,
   "metadata": {},
   "outputs": [],
   "source": [
    "set.seed(40)\n",
    "split <- sample.split(data$TenYearCHD, 0.7)"
   ]
  },
  {
   "cell_type": "code",
   "execution_count": 9,
   "metadata": {},
   "outputs": [],
   "source": [
    "train <- filter(data, split == TRUE)\n",
    "test <- filter(data, split == FALSE)"
   ]
  },
  {
   "cell_type": "code",
   "execution_count": 10,
   "metadata": {},
   "outputs": [
    {
     "data": {
      "text/plain": [
       "\n",
       "   0    1 \n",
       "2171  390 "
      ]
     },
     "metadata": {},
     "output_type": "display_data"
    }
   ],
   "source": [
    "table(train$TenYearCHD)"
   ]
  },
  {
   "cell_type": "markdown",
   "metadata": {},
   "source": [
    "Accuracy of the baseline on train: "
   ]
  },
  {
   "cell_type": "code",
   "execution_count": 11,
   "metadata": {},
   "outputs": [
    {
     "data": {
      "text/html": [
       "0.847715736040609"
      ],
      "text/latex": [
       "0.847715736040609"
      ],
      "text/markdown": [
       "0.847715736040609"
      ],
      "text/plain": [
       "[1] 0.8477157"
      ]
     },
     "metadata": {},
     "output_type": "display_data"
    }
   ],
   "source": [
    "2171/(2171+390)"
   ]
  },
  {
   "cell_type": "code",
   "execution_count": 12,
   "metadata": {},
   "outputs": [
    {
     "data": {
      "text/plain": [
       "\n",
       "  0   1 \n",
       "930 167 "
      ]
     },
     "metadata": {},
     "output_type": "display_data"
    }
   ],
   "source": [
    "table(test$TenYearCHD)"
   ]
  },
  {
   "cell_type": "markdown",
   "metadata": {},
   "source": [
    "Accuracy of the baseline on test:"
   ]
  },
  {
   "cell_type": "code",
   "execution_count": 13,
   "metadata": {},
   "outputs": [
    {
     "data": {
      "text/html": [
       "0.847766636280766"
      ],
      "text/latex": [
       "0.847766636280766"
      ],
      "text/markdown": [
       "0.847766636280766"
      ],
      "text/plain": [
       "[1] 0.8477666"
      ]
     },
     "metadata": {},
     "output_type": "display_data"
    }
   ],
   "source": [
    "930/(930+167)"
   ]
  },
  {
   "cell_type": "markdown",
   "metadata": {},
   "source": [
    "#### Logistic Regression Model "
   ]
  },
  {
   "cell_type": "code",
   "execution_count": 14,
   "metadata": {},
   "outputs": [],
   "source": [
    "mod <- glm(TenYearCHD ~. , data=train, family=\"binomial\")"
   ]
  },
  {
   "cell_type": "code",
   "execution_count": 15,
   "metadata": {},
   "outputs": [
    {
     "data": {
      "text/plain": [
       "\n",
       "Call:\n",
       "glm(formula = TenYearCHD ~ ., family = \"binomial\", data = train)\n",
       "\n",
       "Deviance Residuals: \n",
       "    Min       1Q   Median       3Q      Max  \n",
       "-1.7607  -0.5989  -0.4198  -0.2720   2.9539  \n",
       "\n",
       "Coefficients:\n",
       "                                          Estimate Std. Error z value Pr(>|z|)\n",
       "(Intercept)                             -8.8502864  0.8495801 -10.417  < 2e-16\n",
       "male                                     0.6464851  0.1312570   4.925 8.42e-07\n",
       "age                                      0.0630091  0.0080237   7.853 4.07e-15\n",
       "educationHigh school/GED                -0.3344576  0.2094873  -1.597  0.11037\n",
       "educationSome college/vocational school -0.2293129  0.2314140  -0.991  0.32172\n",
       "educationSome high school               -0.0918412  0.1939334  -0.474  0.63581\n",
       "currentSmoker                           -0.0254385  0.1927465  -0.132  0.89500\n",
       "cigsPerDay                               0.0196968  0.0074629   2.639  0.00831\n",
       "BPMeds                                   0.3606900  0.2729663   1.321  0.18638\n",
       "prevalentStroke                          0.4096513  0.6045360   0.678  0.49801\n",
       "prevalentHyp                             0.0574013  0.1665515   0.345  0.73036\n",
       "diabetes                                 0.1269405  0.4043892   0.314  0.75359\n",
       "totChol                                  0.0039792  0.0013205   3.013  0.00258\n",
       "sysBP                                    0.0194240  0.0046354   4.190 2.79e-05\n",
       "diaBP                                   -0.0110951  0.0076752  -1.446  0.14830\n",
       "BMI                                      0.0157891  0.0154899   1.019  0.30805\n",
       "heartRate                                0.0002456  0.0049896   0.049  0.96074\n",
       "glucose                                  0.0048164  0.0027108   1.777  0.07561\n",
       "                                           \n",
       "(Intercept)                             ***\n",
       "male                                    ***\n",
       "age                                     ***\n",
       "educationHigh school/GED                   \n",
       "educationSome college/vocational school    \n",
       "educationSome high school                  \n",
       "currentSmoker                              \n",
       "cigsPerDay                              ** \n",
       "BPMeds                                     \n",
       "prevalentStroke                            \n",
       "prevalentHyp                               \n",
       "diabetes                                   \n",
       "totChol                                 ** \n",
       "sysBP                                   ***\n",
       "diaBP                                      \n",
       "BMI                                        \n",
       "heartRate                                  \n",
       "glucose                                 .  \n",
       "---\n",
       "Signif. codes:  0 '***' 0.001 '**' 0.01 '*' 0.05 '.' 0.1 ' ' 1\n",
       "\n",
       "(Dispersion parameter for binomial family taken to be 1)\n",
       "\n",
       "    Null deviance: 2185.3  on 2560  degrees of freedom\n",
       "Residual deviance: 1919.0  on 2543  degrees of freedom\n",
       "AIC: 1955\n",
       "\n",
       "Number of Fisher Scoring iterations: 5\n"
      ]
     },
     "metadata": {},
     "output_type": "display_data"
    }
   ],
   "source": [
    "summary(mod)"
   ]
  },
  {
   "cell_type": "markdown",
   "metadata": {},
   "source": [
    "We are now building a new model using only variable where the probability that the coefficient is zero is bellow 0.2 (to keep a quite large number of features in this first selection."
   ]
  },
  {
   "cell_type": "code",
   "execution_count": 16,
   "metadata": {},
   "outputs": [],
   "source": [
    "mod2 <- glm(TenYearCHD ~ male+age+cigsPerDay+totChol+sysBP+glucose+education+BPMeds+diaBP, data=train, family=\"binomial\")"
   ]
  },
  {
   "cell_type": "code",
   "execution_count": 17,
   "metadata": {},
   "outputs": [
    {
     "data": {
      "text/plain": [
       "\n",
       "Call:\n",
       "glm(formula = TenYearCHD ~ male + age + cigsPerDay + totChol + \n",
       "    sysBP + glucose + education + BPMeds + diaBP, family = \"binomial\", \n",
       "    data = train)\n",
       "\n",
       "Deviance Residuals: \n",
       "    Min       1Q   Median       3Q      Max  \n",
       "-1.7934  -0.5969  -0.4215  -0.2736   2.9623  \n",
       "\n",
       "Coefficients:\n",
       "                                         Estimate Std. Error z value Pr(>|z|)\n",
       "(Intercept)                             -8.765003   0.655053 -13.381  < 2e-16\n",
       "male                                     0.649496   0.130378   4.982 6.31e-07\n",
       "age                                      0.063072   0.007948   7.935 2.10e-15\n",
       "cigsPerDay                               0.018501   0.004920   3.761 0.000169\n",
       "totChol                                  0.004016   0.001315   3.055 0.002250\n",
       "sysBP                                    0.020180   0.004246   4.753 2.01e-06\n",
       "glucose                                  0.005533   0.001994   2.776 0.005507\n",
       "educationHigh school/GED                -0.336911   0.209041  -1.612 0.107027\n",
       "educationSome college/vocational school -0.225410   0.230992  -0.976 0.329146\n",
       "educationSome high school               -0.068699   0.192333  -0.357 0.720950\n",
       "BPMeds                                   0.400186   0.268902   1.488 0.136692\n",
       "diaBP                                   -0.008887   0.007434  -1.195 0.231895\n",
       "                                           \n",
       "(Intercept)                             ***\n",
       "male                                    ***\n",
       "age                                     ***\n",
       "cigsPerDay                              ***\n",
       "totChol                                 ** \n",
       "sysBP                                   ***\n",
       "glucose                                 ** \n",
       "educationHigh school/GED                   \n",
       "educationSome college/vocational school    \n",
       "educationSome high school                  \n",
       "BPMeds                                     \n",
       "diaBP                                      \n",
       "---\n",
       "Signif. codes:  0 '***' 0.001 '**' 0.01 '*' 0.05 '.' 0.1 ' ' 1\n",
       "\n",
       "(Dispersion parameter for binomial family taken to be 1)\n",
       "\n",
       "    Null deviance: 2185.3  on 2560  degrees of freedom\n",
       "Residual deviance: 1920.9  on 2549  degrees of freedom\n",
       "AIC: 1944.9\n",
       "\n",
       "Number of Fisher Scoring iterations: 5\n"
      ]
     },
     "metadata": {},
     "output_type": "display_data"
    }
   ],
   "source": [
    "summary(mod2)"
   ]
  },
  {
   "cell_type": "markdown",
   "metadata": {},
   "source": [
    "##### 1) i) The equation of the model is:\n",
    "\n",
    "$ Pr(\\text{TenYearCHD} = 1) = \\frac{1}{1 + \\text{exp}(-y)} $\n",
    "\n",
    "With  y = -8.765 + 0.6495 * **male** + 0.0631 * **age** + 0.0185 * **cigsPerDay** + 0.004 * **totChol** + 0.0202 * **sysBP** + 0.0055 * **glucose** - 0.3369 * **educationHighSchool/GED** - 0.2254 * **educationCollege** - 0.0687 * **educationHighSchool** + 0.4002 * **BPMeds** - 0.0089 * **diaBP**"
   ]
  },
  {
   "cell_type": "markdown",
   "metadata": {},
   "source": [
    "##### 1) ii) The most important features in this model are:\n",
    "\n",
    "- male\n",
    "- age\n",
    "- cigsPerDay\n",
    "- totChol\n",
    "- sysBP\n",
    "- glucose"
   ]
  },
  {
   "cell_type": "markdown",
   "metadata": {},
   "source": [
    "The new model is then:"
   ]
  },
  {
   "cell_type": "code",
   "execution_count": 18,
   "metadata": {},
   "outputs": [],
   "source": [
    "modF <- glm(TenYearCHD ~ male+age+cigsPerDay+totChol+sysBP+glucose, data=train, family=\"binomial\")"
   ]
  },
  {
   "cell_type": "code",
   "execution_count": 19,
   "metadata": {},
   "outputs": [
    {
     "data": {
      "text/plain": [
       "\n",
       "Call:\n",
       "glm(formula = TenYearCHD ~ male + age + cigsPerDay + totChol + \n",
       "    sysBP + glucose, family = \"binomial\", data = train)\n",
       "\n",
       "Deviance Residuals: \n",
       "    Min       1Q   Median       3Q      Max  \n",
       "-1.7794  -0.6060  -0.4272  -0.2725   2.9337  \n",
       "\n",
       "Coefficients:\n",
       "             Estimate Std. Error z value Pr(>|z|)    \n",
       "(Intercept) -9.455278   0.579669 -16.312  < 2e-16 ***\n",
       "male         0.655365   0.127841   5.126 2.95e-07 ***\n",
       "age          0.067461   0.007637   8.833  < 2e-16 ***\n",
       "cigsPerDay   0.018100   0.004907   3.689 0.000225 ***\n",
       "totChol      0.003886   0.001307   2.973 0.002948 ** \n",
       "sysBP        0.017307   0.002588   6.688 2.27e-11 ***\n",
       "glucose      0.005492   0.001978   2.776 0.005500 ** \n",
       "---\n",
       "Signif. codes:  0 '***' 0.001 '**' 0.01 '*' 0.05 '.' 0.1 ' ' 1\n",
       "\n",
       "(Dispersion parameter for binomial family taken to be 1)\n",
       "\n",
       "    Null deviance: 2185.3  on 2560  degrees of freedom\n",
       "Residual deviance: 1928.9  on 2554  degrees of freedom\n",
       "AIC: 1942.9\n",
       "\n",
       "Number of Fisher Scoring iterations: 5\n"
      ]
     },
     "metadata": {},
     "output_type": "display_data"
    }
   ],
   "source": [
    "summary(modF)"
   ]
  },
  {
   "cell_type": "markdown",
   "metadata": {},
   "source": [
    "New equation:\n",
    "\n",
    "$ Pr(\\text{TenYearCHD} = 1) = \\frac{1 }{1 + \\text{exp}(-9.46 + 0.655 \\text{Male} + 0.067 \\text{Age} + 0.018 \\text{cigsPerDay} + 0.004 \\text{totChol} + 0.018 \\text{sysBP} + 0.005 \\text{Glucose})} $\n",
    "$ = \\frac{1}{1 + \\text{exp}(-y)} $\n",
    "\n",
    "With y = -9.46 + 0.655 * **male** + 0.067 * **age** + 0.018 * **cigsPerDay** + 0.004 * **totChol** + 0.018 * **sysBP** + 0.005 * **glucose**"
   ]
  },
  {
   "cell_type": "markdown",
   "metadata": {},
   "source": [
    "Let's study more deeply the impact of age on a patient's predicted of developing CHD in the next ten years."
   ]
  },
  {
   "cell_type": "code",
   "execution_count": 20,
   "metadata": {},
   "outputs": [
    {
     "data": {
      "text/plain": [
       "   Min. 1st Qu.  Median    Mean 3rd Qu.    Max. \n",
       "  32.00   42.00   49.00   49.55   56.00   70.00 "
      ]
     },
     "metadata": {},
     "output_type": "display_data"
    }
   ],
   "source": [
    "summary(data$age)"
   ]
  },
  {
   "cell_type": "code",
   "execution_count": 21,
   "metadata": {},
   "outputs": [
    {
     "data": {
      "text/html": [
       "<dl class=dl-horizontal>\n",
       "\t<dt>0</dt>\n",
       "\t\t<dd>3101</dd>\n",
       "\t<dt>1</dt>\n",
       "\t\t<dd>557</dd>\n",
       "</dl>\n"
      ],
      "text/latex": [
       "\\begin{description*}\n",
       "\\item[0] 3101\n",
       "\\item[1] 557\n",
       "\\end{description*}\n"
      ],
      "text/markdown": [
       "0\n",
       ":   31011\n",
       ":   557\n",
       "\n"
      ],
      "text/plain": [
       "   0    1 \n",
       "3101  557 "
      ]
     },
     "metadata": {},
     "output_type": "display_data"
    }
   ],
   "source": [
    "summary(data$TenYearCHD)"
   ]
  },
  {
   "cell_type": "markdown",
   "metadata": {},
   "source": [
    "The coefficient of age is 0.063, which mean the older the patient, the higher the probability of developping CHD. For instance, if you are 60 instead of 40 will improve your TenYearCHD prediction by 1.26."
   ]
  },
  {
   "cell_type": "code",
   "execution_count": 22,
   "metadata": {},
   "outputs": [],
   "source": [
    "mod_age =  glm(TenYearCHD ~ age, data=train, family=\"binomial\")"
   ]
  },
  {
   "cell_type": "code",
   "execution_count": 23,
   "metadata": {},
   "outputs": [
    {
     "data": {
      "text/plain": [
       "\n",
       "Call:\n",
       "glm(formula = TenYearCHD ~ age, family = \"binomial\", data = train)\n",
       "\n",
       "Deviance Residuals: \n",
       "    Min       1Q   Median       3Q      Max  \n",
       "-1.0381  -0.6292  -0.4523  -0.3605   2.4755  \n",
       "\n",
       "Coefficients:\n",
       "             Estimate Std. Error z value Pr(>|z|)    \n",
       "(Intercept) -5.774368   0.366368  -15.76   <2e-16 ***\n",
       "age          0.078803   0.006782   11.62   <2e-16 ***\n",
       "---\n",
       "Signif. codes:  0 '***' 0.001 '**' 0.01 '*' 0.05 '.' 0.1 ' ' 1\n",
       "\n",
       "(Dispersion parameter for binomial family taken to be 1)\n",
       "\n",
       "    Null deviance: 2185.3  on 2560  degrees of freedom\n",
       "Residual deviance: 2039.3  on 2559  degrees of freedom\n",
       "AIC: 2043.3\n",
       "\n",
       "Number of Fisher Scoring iterations: 5\n"
      ]
     },
     "metadata": {},
     "output_type": "display_data"
    }
   ],
   "source": [
    "summary(mod_age)"
   ]
  },
  {
   "cell_type": "markdown",
   "metadata": {},
   "source": [
    "##### iii) Suppose that you wish to determine the optimal strategy for assigning which patients receive the medication. Given your colleague’s analysis of the costs and beneﬁts associated with the recently approved treatment, identify a threshold value of p such that it is optimal to prescribe the medication to a patient if and only if their 10-year CHD risk exceeds p.\n",
    "\n",
    "The equation to solve is when giving medication yield to lower cost than to giving them:\n",
    "\n",
    "$ 6 (1 - \\frac{p}{4}) + \\frac{56p}{4} < 50p $ \n",
    "\n",
    "Which gives us: $ p_{thresold} = 0.16 $"
   ]
  },
  {
   "cell_type": "markdown",
   "metadata": {},
   "source": [
    "##### iv) Describe the test set performance of the logistic regression model, using the threshold identiﬁed in part (iii) to separate patients into those who are at high risk for CHD (risk exceeding the threshold p) and those who are at low risk for CHD (risk below the threshold p). State the model’s accuracy, True Positive Rate (TPR), and False Positive Rate (FPR), and describe these three metrics in a way that is accessible to a non-technical audience."
   ]
  },
  {
   "cell_type": "code",
   "execution_count": 24,
   "metadata": {},
   "outputs": [],
   "source": [
    "prediction =  predict(mod, newdata=test, type=\"response\")"
   ]
  },
  {
   "cell_type": "code",
   "execution_count": 25,
   "metadata": {},
   "outputs": [
    {
     "data": {
      "text/plain": [
       "   Min. 1st Qu.  Median    Mean 3rd Qu.    Max. \n",
       "0.01072 0.06417 0.11497 0.15678 0.21020 0.92513 "
      ]
     },
     "metadata": {},
     "output_type": "display_data"
    }
   ],
   "source": [
    "summary(prediction)"
   ]
  },
  {
   "cell_type": "code",
   "execution_count": 26,
   "metadata": {},
   "outputs": [
    {
     "data": {
      "text/plain": [
       "   \n",
       "    FALSE TRUE\n",
       "  0   641  289\n",
       "  1    64  103"
      ]
     },
     "metadata": {},
     "output_type": "display_data"
    }
   ],
   "source": [
    "table(test$TenYearCHD, prediction >= 0.16)"
   ]
  },
  {
   "cell_type": "markdown",
   "metadata": {},
   "source": [
    "Accuracy"
   ]
  },
  {
   "cell_type": "code",
   "execution_count": 27,
   "metadata": {},
   "outputs": [
    {
     "data": {
      "text/html": [
       "0.678213309024613"
      ],
      "text/latex": [
       "0.678213309024613"
      ],
      "text/markdown": [
       "0.678213309024613"
      ],
      "text/plain": [
       "[1] 0.6782133"
      ]
     },
     "metadata": {},
     "output_type": "display_data"
    }
   ],
   "source": [
    "(641+103)/(641+103+64+289)"
   ]
  },
  {
   "cell_type": "markdown",
   "metadata": {},
   "source": [
    "True Positive Rate (Actual Class is True for All): "
   ]
  },
  {
   "cell_type": "code",
   "execution_count": 28,
   "metadata": {},
   "outputs": [
    {
     "data": {
      "text/html": [
       "0.616766467065868"
      ],
      "text/latex": [
       "0.616766467065868"
      ],
      "text/markdown": [
       "0.616766467065868"
      ],
      "text/plain": [
       "[1] 0.6167665"
      ]
     },
     "metadata": {},
     "output_type": "display_data"
    }
   ],
   "source": [
    "103/(64+103)"
   ]
  },
  {
   "cell_type": "markdown",
   "metadata": {},
   "source": [
    "False Positive Rate (Actual Class is False for All):"
   ]
  },
  {
   "cell_type": "code",
   "execution_count": 29,
   "metadata": {},
   "outputs": [
    {
     "data": {
      "text/html": [
       "0.310752688172043"
      ],
      "text/latex": [
       "0.310752688172043"
      ],
      "text/markdown": [
       "0.310752688172043"
      ],
      "text/plain": [
       "[1] 0.3107527"
      ]
     },
     "metadata": {},
     "output_type": "display_data"
    }
   ],
   "source": [
    "289/(289+641)"
   ]
  },
  {
   "cell_type": "markdown",
   "metadata": {},
   "source": [
    "Non technical description: \n",
    "\n",
    "**True Positive Rate** : This is the ratio of the number of people we predicted that they will have the disease and that will actually have the disease with the overall number of people with the disease.\n",
    "\n",
    "**False Positive Rate** : This is the ratio of the number of people we predicted that they will have the disease but won't have it with the overall number of people that will not have the disease.\n",
    "\n",
    "**Accuracy** : Ratio of the people that were well classified with the overall number of people.\n",
    "\n",
    "\n",
    "This is when we predict that someone will have the disease but he actually does not have the disease. \n",
    " The TPR is the ratio of those individuals with the total number of individual that"
   ]
  },
  {
   "cell_type": "markdown",
   "metadata": {},
   "source": [
    "##### v) Expected economic cost per patient"
   ]
  },
  {
   "cell_type": "code",
   "execution_count": 30,
   "metadata": {},
   "outputs": [],
   "source": [
    "testPred = predict(modF, newdata=test, type='response')"
   ]
  },
  {
   "cell_type": "code",
   "execution_count": 31,
   "metadata": {},
   "outputs": [],
   "source": [
    "test$Prediction = testPred"
   ]
  },
  {
   "cell_type": "code",
   "execution_count": 32,
   "metadata": {},
   "outputs": [
    {
     "data": {
      "text/html": [
       "<table>\n",
       "<thead><tr><th scope=col>male</th><th scope=col>age</th><th scope=col>education</th><th scope=col>currentSmoker</th><th scope=col>cigsPerDay</th><th scope=col>BPMeds</th><th scope=col>prevalentStroke</th><th scope=col>prevalentHyp</th><th scope=col>diabetes</th><th scope=col>totChol</th><th scope=col>sysBP</th><th scope=col>diaBP</th><th scope=col>BMI</th><th scope=col>heartRate</th><th scope=col>glucose</th><th scope=col>TenYearCHD</th><th scope=col>Prediction</th></tr></thead>\n",
       "<tbody>\n",
       "\t<tr><td>0                             </td><td>46                            </td><td>High school/GED               </td><td>0                             </td><td> 0                            </td><td>0                             </td><td>0                             </td><td>0                             </td><td>0                             </td><td>250                           </td><td>121                           </td><td>81.0                          </td><td>28.73                         </td><td>95                            </td><td>76                            </td><td>0                             </td><td>0.05370563                    </td></tr>\n",
       "\t<tr><td>0                             </td><td>41                            </td><td>Some college/vocational school</td><td>0                             </td><td> 0                            </td><td>1                             </td><td>0                             </td><td>1                             </td><td>0                             </td><td>332                           </td><td>124                           </td><td>88.0                          </td><td>31.31                         </td><td>65                            </td><td>84                            </td><td>0                             </td><td>0.05776760                    </td></tr>\n",
       "\t<tr><td>0                             </td><td>38                            </td><td>High school/GED               </td><td>1                             </td><td>20                            </td><td>0                             </td><td>0                             </td><td>1                             </td><td>0                             </td><td>221                           </td><td>140                           </td><td>90.0                          </td><td>21.35                         </td><td>95                            </td><td>70                            </td><td>1                             </td><td>0.05398608                    </td></tr>\n",
       "\t<tr><td>1                             </td><td>41                            </td><td>High school/GED               </td><td>0                             </td><td> 0                            </td><td>0                             </td><td>0                             </td><td>0                             </td><td>0                             </td><td>195                           </td><td>139                           </td><td>88.0                          </td><td>26.88                         </td><td>85                            </td><td>65                            </td><td>0                             </td><td>0.07491065                    </td></tr>\n",
       "\t<tr><td>0                             </td><td>42                            </td><td>High school/GED               </td><td>1                             </td><td>30                            </td><td>0                             </td><td>0                             </td><td>0                             </td><td>0                             </td><td>190                           </td><td>108                           </td><td>70.5                          </td><td>21.59                         </td><td>72                            </td><td>85                            </td><td>0                             </td><td>0.04721828                    </td></tr>\n",
       "\t<tr><td>0                             </td><td>52                            </td><td>Some college/vocational school</td><td>1                             </td><td>20                            </td><td>0                             </td><td>0                             </td><td>0                             </td><td>0                             </td><td>215                           </td><td>132                           </td><td>82.0                          </td><td>25.11                         </td><td>71                            </td><td>75                            </td><td>0                             </td><td>0.11370999                    </td></tr>\n",
       "</tbody>\n",
       "</table>\n"
      ],
      "text/latex": [
       "\\begin{tabular}{r|lllllllllllllllll}\n",
       " male & age & education & currentSmoker & cigsPerDay & BPMeds & prevalentStroke & prevalentHyp & diabetes & totChol & sysBP & diaBP & BMI & heartRate & glucose & TenYearCHD & Prediction\\\\\n",
       "\\hline\n",
       "\t 0                              & 46                             & High school/GED                & 0                              &  0                             & 0                              & 0                              & 0                              & 0                              & 250                            & 121                            & 81.0                           & 28.73                          & 95                             & 76                             & 0                              & 0.05370563                    \\\\\n",
       "\t 0                              & 41                             & Some college/vocational school & 0                              &  0                             & 1                              & 0                              & 1                              & 0                              & 332                            & 124                            & 88.0                           & 31.31                          & 65                             & 84                             & 0                              & 0.05776760                    \\\\\n",
       "\t 0                              & 38                             & High school/GED                & 1                              & 20                             & 0                              & 0                              & 1                              & 0                              & 221                            & 140                            & 90.0                           & 21.35                          & 95                             & 70                             & 1                              & 0.05398608                    \\\\\n",
       "\t 1                              & 41                             & High school/GED                & 0                              &  0                             & 0                              & 0                              & 0                              & 0                              & 195                            & 139                            & 88.0                           & 26.88                          & 85                             & 65                             & 0                              & 0.07491065                    \\\\\n",
       "\t 0                              & 42                             & High school/GED                & 1                              & 30                             & 0                              & 0                              & 0                              & 0                              & 190                            & 108                            & 70.5                           & 21.59                          & 72                             & 85                             & 0                              & 0.04721828                    \\\\\n",
       "\t 0                              & 52                             & Some college/vocational school & 1                              & 20                             & 0                              & 0                              & 0                              & 0                              & 215                            & 132                            & 82.0                           & 25.11                          & 71                             & 75                             & 0                              & 0.11370999                    \\\\\n",
       "\\end{tabular}\n"
      ],
      "text/markdown": [
       "\n",
       "male | age | education | currentSmoker | cigsPerDay | BPMeds | prevalentStroke | prevalentHyp | diabetes | totChol | sysBP | diaBP | BMI | heartRate | glucose | TenYearCHD | Prediction | \n",
       "|---|---|---|---|---|---|\n",
       "| 0                              | 46                             | High school/GED                | 0                              |  0                             | 0                              | 0                              | 0                              | 0                              | 250                            | 121                            | 81.0                           | 28.73                          | 95                             | 76                             | 0                              | 0.05370563                     | \n",
       "| 0                              | 41                             | Some college/vocational school | 0                              |  0                             | 1                              | 0                              | 1                              | 0                              | 332                            | 124                            | 88.0                           | 31.31                          | 65                             | 84                             | 0                              | 0.05776760                     | \n",
       "| 0                              | 38                             | High school/GED                | 1                              | 20                             | 0                              | 0                              | 1                              | 0                              | 221                            | 140                            | 90.0                           | 21.35                          | 95                             | 70                             | 1                              | 0.05398608                     | \n",
       "| 1                              | 41                             | High school/GED                | 0                              |  0                             | 0                              | 0                              | 0                              | 0                              | 195                            | 139                            | 88.0                           | 26.88                          | 85                             | 65                             | 0                              | 0.07491065                     | \n",
       "| 0                              | 42                             | High school/GED                | 1                              | 30                             | 0                              | 0                              | 0                              | 0                              | 190                            | 108                            | 70.5                           | 21.59                          | 72                             | 85                             | 0                              | 0.04721828                     | \n",
       "| 0                              | 52                             | Some college/vocational school | 1                              | 20                             | 0                              | 0                              | 0                              | 0                              | 215                            | 132                            | 82.0                           | 25.11                          | 71                             | 75                             | 0                              | 0.11370999                     | \n",
       "\n",
       "\n"
      ],
      "text/plain": [
       "  male age education                      currentSmoker cigsPerDay BPMeds\n",
       "1 0    46  High school/GED                0              0         0     \n",
       "2 0    41  Some college/vocational school 0              0         1     \n",
       "3 0    38  High school/GED                1             20         0     \n",
       "4 1    41  High school/GED                0              0         0     \n",
       "5 0    42  High school/GED                1             30         0     \n",
       "6 0    52  Some college/vocational school 1             20         0     \n",
       "  prevalentStroke prevalentHyp diabetes totChol sysBP diaBP BMI   heartRate\n",
       "1 0               0            0        250     121   81.0  28.73 95       \n",
       "2 0               1            0        332     124   88.0  31.31 65       \n",
       "3 0               1            0        221     140   90.0  21.35 95       \n",
       "4 0               0            0        195     139   88.0  26.88 85       \n",
       "5 0               0            0        190     108   70.5  21.59 72       \n",
       "6 0               0            0        215     132   82.0  25.11 71       \n",
       "  glucose TenYearCHD Prediction\n",
       "1 76      0          0.05370563\n",
       "2 84      0          0.05776760\n",
       "3 70      1          0.05398608\n",
       "4 65      0          0.07491065\n",
       "5 85      0          0.04721828\n",
       "6 75      0          0.11370999"
      ]
     },
     "metadata": {},
     "output_type": "display_data"
    }
   ],
   "source": [
    "head(test)"
   ]
  },
  {
   "cell_type": "code",
   "execution_count": 33,
   "metadata": {},
   "outputs": [],
   "source": [
    "test$cost1  <- with(test, ifelse((Prediction >= 0.16)&(TenYearCHD==1), 1, 0))\n",
    "test$cost2  <- with(test, ifelse((Prediction >= 0.16)&(TenYearCHD==0), 1, 0))\n",
    "test$cost3  <- with(test, ifelse((Prediction < 0.16)&(TenYearCHD==1), 1, 0))\n",
    "test$cost4  <- with(test, ifelse((Prediction < 0.16)&(TenYearCHD==0), 1, 0))"
   ]
  },
  {
   "cell_type": "markdown",
   "metadata": {},
   "source": [
    "Cost 1 are all the people that will need to pay $560 000"
   ]
  },
  {
   "cell_type": "markdown",
   "metadata": {},
   "source": [
    "Cost 2 are all the people that will need to pay $60 000"
   ]
  },
  {
   "cell_type": "markdown",
   "metadata": {},
   "source": [
    "Cost3 are all the people that will need to pay $500 000"
   ]
  },
  {
   "cell_type": "markdown",
   "metadata": {},
   "source": [
    "Cost4 are all the people that will need to pay $0"
   ]
  },
  {
   "cell_type": "code",
   "execution_count": 34,
   "metadata": {},
   "outputs": [
    {
     "data": {
      "text/html": [
       "<table>\n",
       "<thead><tr><th scope=col>male</th><th scope=col>age</th><th scope=col>education</th><th scope=col>currentSmoker</th><th scope=col>cigsPerDay</th><th scope=col>BPMeds</th><th scope=col>prevalentStroke</th><th scope=col>prevalentHyp</th><th scope=col>diabetes</th><th scope=col>totChol</th><th scope=col>...</th><th scope=col>diaBP</th><th scope=col>BMI</th><th scope=col>heartRate</th><th scope=col>glucose</th><th scope=col>TenYearCHD</th><th scope=col>Prediction</th><th scope=col>cost1</th><th scope=col>cost2</th><th scope=col>cost3</th><th scope=col>cost4</th></tr></thead>\n",
       "<tbody>\n",
       "\t<tr><td>0                             </td><td>46                            </td><td>High school/GED               </td><td>0                             </td><td> 0                            </td><td>0                             </td><td>0                             </td><td>0                             </td><td>0                             </td><td>250                           </td><td>...                           </td><td>81.0                          </td><td>28.73                         </td><td>95                            </td><td> 76                           </td><td>0                             </td><td>0.05370563                    </td><td>0                             </td><td>0                             </td><td>0                             </td><td>1                             </td></tr>\n",
       "\t<tr><td>0                             </td><td>41                            </td><td>Some college/vocational school</td><td>0                             </td><td> 0                            </td><td>1                             </td><td>0                             </td><td>1                             </td><td>0                             </td><td>332                           </td><td>...                           </td><td>88.0                          </td><td>31.31                         </td><td>65                            </td><td> 84                           </td><td>0                             </td><td>0.05776760                    </td><td>0                             </td><td>0                             </td><td>0                             </td><td>1                             </td></tr>\n",
       "\t<tr><td>0                             </td><td>38                            </td><td>High school/GED               </td><td>1                             </td><td>20                            </td><td>0                             </td><td>0                             </td><td>1                             </td><td>0                             </td><td>221                           </td><td>...                           </td><td>90.0                          </td><td>21.35                         </td><td>95                            </td><td> 70                           </td><td>1                             </td><td>0.05398608                    </td><td>0                             </td><td>0                             </td><td>1                             </td><td>0                             </td></tr>\n",
       "\t<tr><td>1                             </td><td>41                            </td><td>High school/GED               </td><td>0                             </td><td> 0                            </td><td>0                             </td><td>0                             </td><td>0                             </td><td>0                             </td><td>195                           </td><td>...                           </td><td>88.0                          </td><td>26.88                         </td><td>85                            </td><td> 65                           </td><td>0                             </td><td>0.07491065                    </td><td>0                             </td><td>0                             </td><td>0                             </td><td>1                             </td></tr>\n",
       "\t<tr><td>0                             </td><td>42                            </td><td>High school/GED               </td><td>1                             </td><td>30                            </td><td>0                             </td><td>0                             </td><td>0                             </td><td>0                             </td><td>190                           </td><td>...                           </td><td>70.5                          </td><td>21.59                         </td><td>72                            </td><td> 85                           </td><td>0                             </td><td>0.04721828                    </td><td>0                             </td><td>0                             </td><td>0                             </td><td>1                             </td></tr>\n",
       "\t<tr><td>0                             </td><td>52                            </td><td>Some college/vocational school</td><td>1                             </td><td>20                            </td><td>0                             </td><td>0                             </td><td>0                             </td><td>0                             </td><td>215                           </td><td>...                           </td><td>82.0                          </td><td>25.11                         </td><td>71                            </td><td> 75                           </td><td>0                             </td><td>0.11370999                    </td><td>0                             </td><td>0                             </td><td>0                             </td><td>1                             </td></tr>\n",
       "\t<tr><td>0                             </td><td>59                            </td><td>Some high school              </td><td>0                             </td><td> 0                            </td><td>0                             </td><td>0                             </td><td>1                             </td><td>0                             </td><td>209                           </td><td>...                           </td><td>85.0                          </td><td>20.77                         </td><td>90                            </td><td> 88                           </td><td>1                             </td><td>0.17028996                    </td><td>1                             </td><td>0                             </td><td>0                             </td><td>0                             </td></tr>\n",
       "\t<tr><td>1                             </td><td>37                            </td><td>High school/GED               </td><td>0                             </td><td> 0                            </td><td>0                             </td><td>0                             </td><td>1                             </td><td>0                             </td><td>225                           </td><td>...                           </td><td>92.5                          </td><td>38.53                         </td><td>95                            </td><td> 83                           </td><td>0                             </td><td>0.05630831                    </td><td>0                             </td><td>0                             </td><td>0                             </td><td>1                             </td></tr>\n",
       "\t<tr><td>0                             </td><td>41                            </td><td>High school/GED               </td><td>1                             </td><td> 1                            </td><td>0                             </td><td>0                             </td><td>0                             </td><td>0                             </td><td>237                           </td><td>...                           </td><td>78.0                          </td><td>23.28                         </td><td>75                            </td><td> 74                           </td><td>0                             </td><td>0.03796318                    </td><td>0                             </td><td>0                             </td><td>0                             </td><td>1                             </td></tr>\n",
       "\t<tr><td>1                             </td><td>54                            </td><td>High school/GED               </td><td>0                             </td><td> 0                            </td><td>0                             </td><td>0                             </td><td>0                             </td><td>0                             </td><td>195                           </td><td>...                           </td><td>83.5                          </td><td>26.21                         </td><td>75                            </td><td>100                           </td><td>0                             </td><td>0.17285219                    </td><td>0                             </td><td>1                             </td><td>0                             </td><td>0                             </td></tr>\n",
       "\t<tr><td>0                             </td><td>53                            </td><td>Some college/vocational school</td><td>0                             </td><td> 0                            </td><td>1                             </td><td>0                             </td><td>1                             </td><td>1                             </td><td>311                           </td><td>...                           </td><td>92.0                          </td><td>21.51                         </td><td>76                            </td><td>215                           </td><td>1                             </td><td>0.51865782                    </td><td>1                             </td><td>0                             </td><td>0                             </td><td>0                             </td></tr>\n",
       "\t<tr><td>0                             </td><td>62                            </td><td>Some high school              </td><td>0                             </td><td> 0                            </td><td>0                             </td><td>0                             </td><td>0                             </td><td>0                             </td><td>240                           </td><td>...                           </td><td>82.5                          </td><td>28.27                         </td><td>63                            </td><td> 75                           </td><td>0                             </td><td>0.19487397                    </td><td>0                             </td><td>1                             </td><td>0                             </td><td>0                             </td></tr>\n",
       "\t<tr><td>0                             </td><td>46                            </td><td>Some high school              </td><td>1                             </td><td>10                            </td><td>0                             </td><td>0                             </td><td>0                             </td><td>0                             </td><td>250                           </td><td>...                           </td><td>71.0                          </td><td>20.35                         </td><td>88                            </td><td> 94                           </td><td>0                             </td><td>0.06442139                    </td><td>0                             </td><td>0                             </td><td>0                             </td><td>1                             </td></tr>\n",
       "\t<tr><td>1                             </td><td>44                            </td><td>High school/GED               </td><td>0                             </td><td> 0                            </td><td>0                             </td><td>0                             </td><td>0                             </td><td>0                             </td><td>185                           </td><td>...                           </td><td>69.0                          </td><td>22.29                         </td><td>65                            </td><td> 82                           </td><td>0                             </td><td>0.06464084                    </td><td>0                             </td><td>0                             </td><td>0                             </td><td>1                             </td></tr>\n",
       "\t<tr><td>0                             </td><td>57                            </td><td>Some high school              </td><td>1                             </td><td> 3                            </td><td>0                             </td><td>0                             </td><td>0                             </td><td>0                             </td><td>235                           </td><td>...                           </td><td>80.0                          </td><td>24.88                         </td><td>83                            </td><td> 72                           </td><td>0                             </td><td>0.11327321                    </td><td>0                             </td><td>0                             </td><td>0                             </td><td>1                             </td></tr>\n",
       "\t<tr><td>1                             </td><td>42                            </td><td>Some college/vocational school</td><td>1                             </td><td>10                            </td><td>0                             </td><td>0                             </td><td>0                             </td><td>0                             </td><td>175                           </td><td>...                           </td><td>72.5                          </td><td>28.61                         </td><td>63                            </td><td> 95                           </td><td>0                             </td><td>0.07068811                    </td><td>0                             </td><td>0                             </td><td>0                             </td><td>1                             </td></tr>\n",
       "\t<tr><td>1                             </td><td>60                            </td><td>Some high school              </td><td>1                             </td><td>20                            </td><td>0                             </td><td>0                             </td><td>1                             </td><td>0                             </td><td>170                           </td><td>...                           </td><td>94.0                          </td><td>26.52                         </td><td>90                            </td><td> 83                           </td><td>0                             </td><td>0.45614909                    </td><td>0                             </td><td>1                             </td><td>0                             </td><td>0                             </td></tr>\n",
       "\t<tr><td>0                             </td><td>53                            </td><td>High school/GED               </td><td>0                             </td><td> 0                            </td><td>0                             </td><td>0                             </td><td>0                             </td><td>0                             </td><td>210                           </td><td>...                           </td><td>86.5                          </td><td>22.49                         </td><td>88                            </td><td> 87                           </td><td>0                             </td><td>0.09996364                    </td><td>0                             </td><td>0                             </td><td>0                             </td><td>1                             </td></tr>\n",
       "\t<tr><td>0                             </td><td>62                            </td><td>Some high school              </td><td>0                             </td><td> 0                            </td><td>0                             </td><td>0                             </td><td>0                             </td><td>0                             </td><td>261                           </td><td>...                           </td><td>82.0                          </td><td>23.89                         </td><td>65                            </td><td> 77                           </td><td>0                             </td><td>0.19043243                    </td><td>0                             </td><td>1                             </td><td>0                             </td><td>0                             </td></tr>\n",
       "\t<tr><td>0                             </td><td>51                            </td><td>Some high school              </td><td>0                             </td><td> 0                            </td><td>0                             </td><td>0                             </td><td>0                             </td><td>0                             </td><td>244                           </td><td>...                           </td><td>71.5                          </td><td>27.38                         </td><td>71                            </td><td> 77                           </td><td>0                             </td><td>0.05323226                    </td><td>0                             </td><td>0                             </td><td>0                             </td><td>1                             </td></tr>\n",
       "\t<tr><td>0                             </td><td>63                            </td><td>College                       </td><td>1                             </td><td>20                            </td><td>0                             </td><td>0                             </td><td>0                             </td><td>1                             </td><td>239                           </td><td>...                           </td><td>80.0                          </td><td>26.64                         </td><td>88                            </td><td>126                           </td><td>0                             </td><td>0.28835805                    </td><td>0                             </td><td>1                             </td><td>0                             </td><td>0                             </td></tr>\n",
       "\t<tr><td>0                             </td><td>56                            </td><td>Some high school              </td><td>0                             </td><td> 0                            </td><td>0                             </td><td>0                             </td><td>1                             </td><td>0                             </td><td>296                           </td><td>...                           </td><td>90.0                          </td><td>23.72                         </td><td>75                            </td><td>120                           </td><td>0                             </td><td>0.32018474                    </td><td>0                             </td><td>1                             </td><td>0                             </td><td>0                             </td></tr>\n",
       "\t<tr><td>0                             </td><td>56                            </td><td>Some high school              </td><td>1                             </td><td>15                            </td><td>0                             </td><td>0                             </td><td>0                             </td><td>0                             </td><td>269                           </td><td>...                           </td><td>75.0                          </td><td>22.36                         </td><td>50                            </td><td> 66                           </td><td>0                             </td><td>0.12965638                    </td><td>0                             </td><td>0                             </td><td>0                             </td><td>1                             </td></tr>\n",
       "\t<tr><td>0                             </td><td>48                            </td><td>Some high school              </td><td>0                             </td><td> 0                            </td><td>0                             </td><td>0                             </td><td>1                             </td><td>0                             </td><td>265                           </td><td>...                           </td><td>77.0                          </td><td>24.23                         </td><td>74                            </td><td> 64                           </td><td>0                             </td><td>0.08896383                    </td><td>0                             </td><td>0                             </td><td>0                             </td><td>1                             </td></tr>\n",
       "\t<tr><td>0                             </td><td>42                            </td><td>College                       </td><td>0                             </td><td> 0                            </td><td>0                             </td><td>0                             </td><td>0                             </td><td>0                             </td><td>250                           </td><td>...                           </td><td>79.0                          </td><td>26.93                         </td><td>65                            </td><td> 79                           </td><td>0                             </td><td>0.03818987                    </td><td>0                             </td><td>0                             </td><td>0                             </td><td>1                             </td></tr>\n",
       "\t<tr><td>0                             </td><td>66                            </td><td>Some high school              </td><td>0                             </td><td> 0                            </td><td>0                             </td><td>0                             </td><td>1                             </td><td>0                             </td><td>278                           </td><td>...                           </td><td>88.0                          </td><td>40.52                         </td><td>90                            </td><td> 84                           </td><td>1                             </td><td>0.44403275                    </td><td>1                             </td><td>0                             </td><td>0                             </td><td>0                             </td></tr>\n",
       "\t<tr><td>0                             </td><td>67                            </td><td>Some high school              </td><td>0                             </td><td> 0                            </td><td>0                             </td><td>0                             </td><td>1                             </td><td>0                             </td><td>264                           </td><td>...                           </td><td>80.0                          </td><td>25.75                         </td><td>75                            </td><td> 87                           </td><td>0                             </td><td>0.26385700                    </td><td>0                             </td><td>1                             </td><td>0                             </td><td>0                             </td></tr>\n",
       "\t<tr><td>1                             </td><td>48                            </td><td>College                       </td><td>0                             </td><td> 0                            </td><td>0                             </td><td>0                             </td><td>0                             </td><td>0                             </td><td>233                           </td><td>...                           </td><td>88.5                          </td><td>23.62                         </td><td>86                            </td><td> 68                           </td><td>0                             </td><td>0.13072918                    </td><td>0                             </td><td>0                             </td><td>0                             </td><td>1                             </td></tr>\n",
       "\t<tr><td>1                             </td><td>50                            </td><td>Some high school              </td><td>0                             </td><td> 0                            </td><td>0                             </td><td>0                             </td><td>1                             </td><td>0                             </td><td>257                           </td><td>...                           </td><td>82.0                          </td><td>32.23                         </td><td>75                            </td><td>117                           </td><td>1                             </td><td>0.16971783                    </td><td>1                             </td><td>0                             </td><td>0                             </td><td>0                             </td></tr>\n",
       "\t<tr><td>1                             </td><td>36                            </td><td>College                       </td><td>0                             </td><td> 0                            </td><td>0                             </td><td>0                             </td><td>0                             </td><td>0                             </td><td>210                           </td><td>...                           </td><td>85.5                          </td><td>21.93                         </td><td>71                            </td><td> 77                           </td><td>0                             </td><td>0.03939225                    </td><td>0                             </td><td>0                             </td><td>0                             </td><td>1                             </td></tr>\n",
       "\t<tr><td>...</td><td>...</td><td>...</td><td>...</td><td>...</td><td>...</td><td>...</td><td>...</td><td>...</td><td>...</td><td>   </td><td>...</td><td>...</td><td>...</td><td>...</td><td>...</td><td>...</td><td>...</td><td>...</td><td>...</td><td>...</td></tr>\n",
       "\t<tr><td>1                             </td><td>45                            </td><td>Some high school              </td><td>0                             </td><td> 0                            </td><td>0                             </td><td>0                             </td><td>0                             </td><td>0                             </td><td>220                           </td><td>...                           </td><td> 74.0                         </td><td>27.34                         </td><td>70                            </td><td>100                           </td><td>0                             </td><td>0.12407517                    </td><td>0                             </td><td>0                             </td><td>0                             </td><td>1                             </td></tr>\n",
       "\t<tr><td>0                             </td><td>65                            </td><td>College                       </td><td>0                             </td><td> 0                            </td><td>0                             </td><td>0                             </td><td>0                             </td><td>0                             </td><td>280                           </td><td>...                           </td><td> 73.0                         </td><td>19.76                         </td><td>65                            </td><td> 58                           </td><td>0                             </td><td>0.15797355                    </td><td>0                             </td><td>0                             </td><td>0                             </td><td>1                             </td></tr>\n",
       "\t<tr><td>1                             </td><td>57                            </td><td>High school/GED               </td><td>1                             </td><td>20                            </td><td>0                             </td><td>0                             </td><td>0                             </td><td>0                             </td><td>210                           </td><td>...                           </td><td> 77.5                         </td><td>27.14                         </td><td>77                            </td><td> 71                           </td><td>0                             </td><td>0.21251962                    </td><td>0                             </td><td>1                             </td><td>0                             </td><td>0                             </td></tr>\n",
       "\t<tr><td>0                             </td><td>57                            </td><td>Some high school              </td><td>0                             </td><td> 0                            </td><td>0                             </td><td>0                             </td><td>1                             </td><td>0                             </td><td>259                           </td><td>...                           </td><td>101.0                         </td><td>38.17                         </td><td>85                            </td><td> 75                           </td><td>0                             </td><td>0.22279726                    </td><td>0                             </td><td>1                             </td><td>0                             </td><td>0                             </td></tr>\n",
       "\t<tr><td>0                             </td><td>42                            </td><td>High school/GED               </td><td>1                             </td><td>20                            </td><td>0                             </td><td>0                             </td><td>0                             </td><td>0                             </td><td>235                           </td><td>...                           </td><td> 86.0                         </td><td>24.05                         </td><td>66                            </td><td> 70                           </td><td>0                             </td><td>0.06025826                    </td><td>0                             </td><td>0                             </td><td>0                             </td><td>1                             </td></tr>\n",
       "\t<tr><td>1                             </td><td>42                            </td><td>Some college/vocational school</td><td>0                             </td><td> 0                            </td><td>0                             </td><td>0                             </td><td>0                             </td><td>0                             </td><td>235                           </td><td>...                           </td><td> 70.0                         </td><td>21.48                         </td><td>67                            </td><td> 73                           </td><td>0                             </td><td>0.05366644                    </td><td>0                             </td><td>0                             </td><td>0                             </td><td>1                             </td></tr>\n",
       "\t<tr><td>0                             </td><td>62                            </td><td>Some high school              </td><td>0                             </td><td> 0                            </td><td>0                             </td><td>0                             </td><td>0                             </td><td>0                             </td><td>207                           </td><td>...                           </td><td> 75.0                         </td><td>22.91                         </td><td>58                            </td><td> 80                           </td><td>0                             </td><td>0.13915777                    </td><td>0                             </td><td>0                             </td><td>0                             </td><td>1                             </td></tr>\n",
       "\t<tr><td>0                             </td><td>36                            </td><td>High school/GED               </td><td>1                             </td><td>15                            </td><td>0                             </td><td>0                             </td><td>0                             </td><td>0                             </td><td>257                           </td><td>...                           </td><td> 72.5                         </td><td>27.86                         </td><td>80                            </td><td> 65                           </td><td>0                             </td><td>0.02616370                    </td><td>0                             </td><td>0                             </td><td>0                             </td><td>1                             </td></tr>\n",
       "\t<tr><td>1                             </td><td>52                            </td><td>High school/GED               </td><td>0                             </td><td> 0                            </td><td>0                             </td><td>0                             </td><td>1                             </td><td>1                             </td><td>269                           </td><td>...                           </td><td> 83.0                         </td><td>26.60                         </td><td>70                            </td><td> 80                           </td><td>0                             </td><td>0.25324173                    </td><td>0                             </td><td>1                             </td><td>0                             </td><td>0                             </td></tr>\n",
       "\t<tr><td>0                             </td><td>61                            </td><td>College                       </td><td>0                             </td><td> 0                            </td><td>0                             </td><td>0                             </td><td>0                             </td><td>0                             </td><td>325                           </td><td>...                           </td><td> 85.5                         </td><td>24.40                         </td><td>68                            </td><td> 70                           </td><td>0                             </td><td>0.17935415                    </td><td>0                             </td><td>1                             </td><td>0                             </td><td>0                             </td></tr>\n",
       "\t<tr><td>0                             </td><td>69                            </td><td>High school/GED               </td><td>0                             </td><td> 0                            </td><td>1                             </td><td>0                             </td><td>1                             </td><td>0                             </td><td>220                           </td><td>...                           </td><td> 81.0                         </td><td>26.27                         </td><td>60                            </td><td> 77                           </td><td>0                             </td><td>0.25965300                    </td><td>0                             </td><td>1                             </td><td>0                             </td><td>0                             </td></tr>\n",
       "\t<tr><td>1                             </td><td>65                            </td><td>College                       </td><td>1                             </td><td> 6                            </td><td>0                             </td><td>0                             </td><td>0                             </td><td>0                             </td><td>236                           </td><td>...                           </td><td> 77.5                         </td><td>24.30                         </td><td>52                            </td><td> 65                           </td><td>1                             </td><td>0.27261577                    </td><td>1                             </td><td>0                             </td><td>0                             </td><td>0                             </td></tr>\n",
       "\t<tr><td>0                             </td><td>44                            </td><td>Some high school              </td><td>0                             </td><td> 0                            </td><td>0                             </td><td>0                             </td><td>0                             </td><td>0                             </td><td>230                           </td><td>...                           </td><td> 81.5                         </td><td>25.74                         </td><td>88                            </td><td> 77                           </td><td>0                             </td><td>0.05115302                    </td><td>0                             </td><td>0                             </td><td>0                             </td><td>1                             </td></tr>\n",
       "\t<tr><td>1                             </td><td>57                            </td><td>College                       </td><td>0                             </td><td> 0                            </td><td>0                             </td><td>0                             </td><td>0                             </td><td>0                             </td><td>194                           </td><td>...                           </td><td> 78.0                         </td><td>29.02                         </td><td>72                            </td><td> 92                           </td><td>0                             </td><td>0.19882166                    </td><td>0                             </td><td>1                             </td><td>0                             </td><td>0                             </td></tr>\n",
       "\t<tr><td>1                             </td><td>58                            </td><td>College                       </td><td>0                             </td><td> 0                            </td><td>0                             </td><td>0                             </td><td>1                             </td><td>0                             </td><td>223                           </td><td>...                           </td><td> 88.0                         </td><td>27.91                         </td><td>69                            </td><td> 81                           </td><td>0                             </td><td>0.28867598                    </td><td>0                             </td><td>1                             </td><td>0                             </td><td>0                             </td></tr>\n",
       "\t<tr><td>1                             </td><td>51                            </td><td>High school/GED               </td><td>1                             </td><td>15                            </td><td>0                             </td><td>0                             </td><td>0                             </td><td>0                             </td><td>267                           </td><td>...                           </td><td> 80.0                         </td><td>25.98                         </td><td>70                            </td><td> 79                           </td><td>0                             </td><td>0.20177896                    </td><td>0                             </td><td>1                             </td><td>0                             </td><td>0                             </td></tr>\n",
       "\t<tr><td>0                             </td><td>52                            </td><td>High school/GED               </td><td>1                             </td><td> 9                            </td><td>0                             </td><td>0                             </td><td>0                             </td><td>0                             </td><td>218                           </td><td>...                           </td><td> 57.0                         </td><td>20.78                         </td><td>79                            </td><td> 85                           </td><td>0                             </td><td>0.08567335                    </td><td>0                             </td><td>0                             </td><td>0                             </td><td>1                             </td></tr>\n",
       "\t<tr><td>1                             </td><td>38                            </td><td>High school/GED               </td><td>0                             </td><td> 0                            </td><td>0                             </td><td>0                             </td><td>0                             </td><td>0                             </td><td>235                           </td><td>...                           </td><td> 83.0                         </td><td>25.85                         </td><td>92                            </td><td> 75                           </td><td>0                             </td><td>0.05640485                    </td><td>0                             </td><td>0                             </td><td>0                             </td><td>1                             </td></tr>\n",
       "\t<tr><td>1                             </td><td>44                            </td><td>Some high school              </td><td>1                             </td><td>20                            </td><td>0                             </td><td>0                             </td><td>0                             </td><td>0                             </td><td>232                           </td><td>...                           </td><td> 87.5                         </td><td>30.03                         </td><td>88                            </td><td> 70                           </td><td>0                             </td><td>0.14137450                    </td><td>0                             </td><td>0                             </td><td>0                             </td><td>1                             </td></tr>\n",
       "\t<tr><td>0                             </td><td>42                            </td><td>High school/GED               </td><td>1                             </td><td>10                            </td><td>0                             </td><td>0                             </td><td>1                             </td><td>0                             </td><td>199                           </td><td>...                           </td><td> 79.0                         </td><td>18.68                         </td><td>92                            </td><td> 76                           </td><td>0                             </td><td>0.05867276                    </td><td>0                             </td><td>0                             </td><td>0                             </td><td>1                             </td></tr>\n",
       "\t<tr><td>0                             </td><td>63                            </td><td>Some high school              </td><td>0                             </td><td> 0                            </td><td>0                             </td><td>0                             </td><td>1                             </td><td>0                             </td><td>306                           </td><td>...                           </td><td>105.0                         </td><td>27.96                         </td><td>75                            </td><td> 87                           </td><td>1                             </td><td>0.45922788                    </td><td>1                             </td><td>0                             </td><td>0                             </td><td>0                             </td></tr>\n",
       "\t<tr><td>1                             </td><td>65                            </td><td>Some high school              </td><td>1                             </td><td>20                            </td><td>1                             </td><td>0                             </td><td>1                             </td><td>0                             </td><td>246                           </td><td>...                           </td><td> 96.0                         </td><td>19.34                         </td><td>95                            </td><td> 76                           </td><td>1                             </td><td>0.60308950                    </td><td>1                             </td><td>0                             </td><td>0                             </td><td>0                             </td></tr>\n",
       "\t<tr><td>0                             </td><td>38                            </td><td>High school/GED               </td><td>0                             </td><td> 0                            </td><td>0                             </td><td>0                             </td><td>0                             </td><td>0                             </td><td>216                           </td><td>...                           </td><td> 72.0                         </td><td>22.01                         </td><td>63                            </td><td> 75                           </td><td>0                             </td><td>0.03981445                    </td><td>0                             </td><td>0                             </td><td>0                             </td><td>1                             </td></tr>\n",
       "\t<tr><td>0                             </td><td>61                            </td><td>College                       </td><td>0                             </td><td> 0                            </td><td>0                             </td><td>0                             </td><td>0                             </td><td>0                             </td><td>261                           </td><td>...                           </td><td> 76.5                         </td><td>23.06                         </td><td>55                            </td><td> 83                           </td><td>1                             </td><td>0.15135507                    </td><td>0                             </td><td>0                             </td><td>1                             </td><td>0                             </td></tr>\n",
       "\t<tr><td>1                             </td><td>50                            </td><td>Some high school              </td><td>0                             </td><td> 0                            </td><td>0                             </td><td>0                             </td><td>0                             </td><td>0                             </td><td>260                           </td><td>...                           </td><td> 74.0                         </td><td>21.85                         </td><td>80                            </td><td> 72                           </td><td>1                             </td><td>0.12329984                    </td><td>0                             </td><td>0                             </td><td>1                             </td><td>0                             </td></tr>\n",
       "\t<tr><td>1                             </td><td>50                            </td><td>Some high school              </td><td>1                             </td><td> 1                            </td><td>0                             </td><td>0                             </td><td>1                             </td><td>0                             </td><td>313                           </td><td>...                           </td><td> 92.0                         </td><td>25.97                         </td><td>66                            </td><td> 86                           </td><td>1                             </td><td>0.34928606                    </td><td>1                             </td><td>0                             </td><td>0                             </td><td>0                             </td></tr>\n",
       "\t<tr><td>1                             </td><td>51                            </td><td>Some college/vocational school</td><td>1                             </td><td>43                            </td><td>0                             </td><td>0                             </td><td>0                             </td><td>0                             </td><td>207                           </td><td>...                           </td><td> 80.0                         </td><td>19.71                         </td><td>65                            </td><td> 68                           </td><td>0                             </td><td>0.22901176                    </td><td>0                             </td><td>1                             </td><td>0                             </td><td>0                             </td></tr>\n",
       "\t<tr><td>0                             </td><td>52                            </td><td>High school/GED               </td><td>0                             </td><td> 0                            </td><td>0                             </td><td>0                             </td><td>0                             </td><td>0                             </td><td>269                           </td><td>...                           </td><td> 83.0                         </td><td>21.47                         </td><td>80                            </td><td>107                           </td><td>0                             </td><td>0.11879846                    </td><td>0                             </td><td>0                             </td><td>0                             </td><td>1                             </td></tr>\n",
       "\t<tr><td>1                             </td><td>40                            </td><td>Some college/vocational school</td><td>0                             </td><td> 0                            </td><td>0                             </td><td>0                             </td><td>1                             </td><td>0                             </td><td>185                           </td><td>...                           </td><td> 98.0                         </td><td>25.60                         </td><td>67                            </td><td> 72                           </td><td>0                             </td><td>0.07263760                    </td><td>0                             </td><td>0                             </td><td>0                             </td><td>1                             </td></tr>\n",
       "\t<tr><td>0                             </td><td>39                            </td><td>Some college/vocational school</td><td>1                             </td><td>30                            </td><td>0                             </td><td>0                             </td><td>0                             </td><td>0                             </td><td>196                           </td><td>...                           </td><td> 86.0                         </td><td>20.91                         </td><td>85                            </td><td> 80                           </td><td>0                             </td><td>0.05849966                    </td><td>0                             </td><td>0                             </td><td>0                             </td><td>1                             </td></tr>\n",
       "</tbody>\n",
       "</table>\n"
      ],
      "text/latex": [
       "\\begin{tabular}{r|lllllllllllllllllllll}\n",
       " male & age & education & currentSmoker & cigsPerDay & BPMeds & prevalentStroke & prevalentHyp & diabetes & totChol & ... & diaBP & BMI & heartRate & glucose & TenYearCHD & Prediction & cost1 & cost2 & cost3 & cost4\\\\\n",
       "\\hline\n",
       "\t 0                              & 46                             & High school/GED                & 0                              &  0                             & 0                              & 0                              & 0                              & 0                              & 250                            & ...                            & 81.0                           & 28.73                          & 95                             &  76                            & 0                              & 0.05370563                     & 0                              & 0                              & 0                              & 1                             \\\\\n",
       "\t 0                              & 41                             & Some college/vocational school & 0                              &  0                             & 1                              & 0                              & 1                              & 0                              & 332                            & ...                            & 88.0                           & 31.31                          & 65                             &  84                            & 0                              & 0.05776760                     & 0                              & 0                              & 0                              & 1                             \\\\\n",
       "\t 0                              & 38                             & High school/GED                & 1                              & 20                             & 0                              & 0                              & 1                              & 0                              & 221                            & ...                            & 90.0                           & 21.35                          & 95                             &  70                            & 1                              & 0.05398608                     & 0                              & 0                              & 1                              & 0                             \\\\\n",
       "\t 1                              & 41                             & High school/GED                & 0                              &  0                             & 0                              & 0                              & 0                              & 0                              & 195                            & ...                            & 88.0                           & 26.88                          & 85                             &  65                            & 0                              & 0.07491065                     & 0                              & 0                              & 0                              & 1                             \\\\\n",
       "\t 0                              & 42                             & High school/GED                & 1                              & 30                             & 0                              & 0                              & 0                              & 0                              & 190                            & ...                            & 70.5                           & 21.59                          & 72                             &  85                            & 0                              & 0.04721828                     & 0                              & 0                              & 0                              & 1                             \\\\\n",
       "\t 0                              & 52                             & Some college/vocational school & 1                              & 20                             & 0                              & 0                              & 0                              & 0                              & 215                            & ...                            & 82.0                           & 25.11                          & 71                             &  75                            & 0                              & 0.11370999                     & 0                              & 0                              & 0                              & 1                             \\\\\n",
       "\t 0                              & 59                             & Some high school               & 0                              &  0                             & 0                              & 0                              & 1                              & 0                              & 209                            & ...                            & 85.0                           & 20.77                          & 90                             &  88                            & 1                              & 0.17028996                     & 1                              & 0                              & 0                              & 0                             \\\\\n",
       "\t 1                              & 37                             & High school/GED                & 0                              &  0                             & 0                              & 0                              & 1                              & 0                              & 225                            & ...                            & 92.5                           & 38.53                          & 95                             &  83                            & 0                              & 0.05630831                     & 0                              & 0                              & 0                              & 1                             \\\\\n",
       "\t 0                              & 41                             & High school/GED                & 1                              &  1                             & 0                              & 0                              & 0                              & 0                              & 237                            & ...                            & 78.0                           & 23.28                          & 75                             &  74                            & 0                              & 0.03796318                     & 0                              & 0                              & 0                              & 1                             \\\\\n",
       "\t 1                              & 54                             & High school/GED                & 0                              &  0                             & 0                              & 0                              & 0                              & 0                              & 195                            & ...                            & 83.5                           & 26.21                          & 75                             & 100                            & 0                              & 0.17285219                     & 0                              & 1                              & 0                              & 0                             \\\\\n",
       "\t 0                              & 53                             & Some college/vocational school & 0                              &  0                             & 1                              & 0                              & 1                              & 1                              & 311                            & ...                            & 92.0                           & 21.51                          & 76                             & 215                            & 1                              & 0.51865782                     & 1                              & 0                              & 0                              & 0                             \\\\\n",
       "\t 0                              & 62                             & Some high school               & 0                              &  0                             & 0                              & 0                              & 0                              & 0                              & 240                            & ...                            & 82.5                           & 28.27                          & 63                             &  75                            & 0                              & 0.19487397                     & 0                              & 1                              & 0                              & 0                             \\\\\n",
       "\t 0                              & 46                             & Some high school               & 1                              & 10                             & 0                              & 0                              & 0                              & 0                              & 250                            & ...                            & 71.0                           & 20.35                          & 88                             &  94                            & 0                              & 0.06442139                     & 0                              & 0                              & 0                              & 1                             \\\\\n",
       "\t 1                              & 44                             & High school/GED                & 0                              &  0                             & 0                              & 0                              & 0                              & 0                              & 185                            & ...                            & 69.0                           & 22.29                          & 65                             &  82                            & 0                              & 0.06464084                     & 0                              & 0                              & 0                              & 1                             \\\\\n",
       "\t 0                              & 57                             & Some high school               & 1                              &  3                             & 0                              & 0                              & 0                              & 0                              & 235                            & ...                            & 80.0                           & 24.88                          & 83                             &  72                            & 0                              & 0.11327321                     & 0                              & 0                              & 0                              & 1                             \\\\\n",
       "\t 1                              & 42                             & Some college/vocational school & 1                              & 10                             & 0                              & 0                              & 0                              & 0                              & 175                            & ...                            & 72.5                           & 28.61                          & 63                             &  95                            & 0                              & 0.07068811                     & 0                              & 0                              & 0                              & 1                             \\\\\n",
       "\t 1                              & 60                             & Some high school               & 1                              & 20                             & 0                              & 0                              & 1                              & 0                              & 170                            & ...                            & 94.0                           & 26.52                          & 90                             &  83                            & 0                              & 0.45614909                     & 0                              & 1                              & 0                              & 0                             \\\\\n",
       "\t 0                              & 53                             & High school/GED                & 0                              &  0                             & 0                              & 0                              & 0                              & 0                              & 210                            & ...                            & 86.5                           & 22.49                          & 88                             &  87                            & 0                              & 0.09996364                     & 0                              & 0                              & 0                              & 1                             \\\\\n",
       "\t 0                              & 62                             & Some high school               & 0                              &  0                             & 0                              & 0                              & 0                              & 0                              & 261                            & ...                            & 82.0                           & 23.89                          & 65                             &  77                            & 0                              & 0.19043243                     & 0                              & 1                              & 0                              & 0                             \\\\\n",
       "\t 0                              & 51                             & Some high school               & 0                              &  0                             & 0                              & 0                              & 0                              & 0                              & 244                            & ...                            & 71.5                           & 27.38                          & 71                             &  77                            & 0                              & 0.05323226                     & 0                              & 0                              & 0                              & 1                             \\\\\n",
       "\t 0                              & 63                             & College                        & 1                              & 20                             & 0                              & 0                              & 0                              & 1                              & 239                            & ...                            & 80.0                           & 26.64                          & 88                             & 126                            & 0                              & 0.28835805                     & 0                              & 1                              & 0                              & 0                             \\\\\n",
       "\t 0                              & 56                             & Some high school               & 0                              &  0                             & 0                              & 0                              & 1                              & 0                              & 296                            & ...                            & 90.0                           & 23.72                          & 75                             & 120                            & 0                              & 0.32018474                     & 0                              & 1                              & 0                              & 0                             \\\\\n",
       "\t 0                              & 56                             & Some high school               & 1                              & 15                             & 0                              & 0                              & 0                              & 0                              & 269                            & ...                            & 75.0                           & 22.36                          & 50                             &  66                            & 0                              & 0.12965638                     & 0                              & 0                              & 0                              & 1                             \\\\\n",
       "\t 0                              & 48                             & Some high school               & 0                              &  0                             & 0                              & 0                              & 1                              & 0                              & 265                            & ...                            & 77.0                           & 24.23                          & 74                             &  64                            & 0                              & 0.08896383                     & 0                              & 0                              & 0                              & 1                             \\\\\n",
       "\t 0                              & 42                             & College                        & 0                              &  0                             & 0                              & 0                              & 0                              & 0                              & 250                            & ...                            & 79.0                           & 26.93                          & 65                             &  79                            & 0                              & 0.03818987                     & 0                              & 0                              & 0                              & 1                             \\\\\n",
       "\t 0                              & 66                             & Some high school               & 0                              &  0                             & 0                              & 0                              & 1                              & 0                              & 278                            & ...                            & 88.0                           & 40.52                          & 90                             &  84                            & 1                              & 0.44403275                     & 1                              & 0                              & 0                              & 0                             \\\\\n",
       "\t 0                              & 67                             & Some high school               & 0                              &  0                             & 0                              & 0                              & 1                              & 0                              & 264                            & ...                            & 80.0                           & 25.75                          & 75                             &  87                            & 0                              & 0.26385700                     & 0                              & 1                              & 0                              & 0                             \\\\\n",
       "\t 1                              & 48                             & College                        & 0                              &  0                             & 0                              & 0                              & 0                              & 0                              & 233                            & ...                            & 88.5                           & 23.62                          & 86                             &  68                            & 0                              & 0.13072918                     & 0                              & 0                              & 0                              & 1                             \\\\\n",
       "\t 1                              & 50                             & Some high school               & 0                              &  0                             & 0                              & 0                              & 1                              & 0                              & 257                            & ...                            & 82.0                           & 32.23                          & 75                             & 117                            & 1                              & 0.16971783                     & 1                              & 0                              & 0                              & 0                             \\\\\n",
       "\t 1                              & 36                             & College                        & 0                              &  0                             & 0                              & 0                              & 0                              & 0                              & 210                            & ...                            & 85.5                           & 21.93                          & 71                             &  77                            & 0                              & 0.03939225                     & 0                              & 0                              & 0                              & 1                             \\\\\n",
       "\t ... & ... & ... & ... & ... & ... & ... & ... & ... & ... &     & ... & ... & ... & ... & ... & ... & ... & ... & ... & ...\\\\\n",
       "\t 1                              & 45                             & Some high school               & 0                              &  0                             & 0                              & 0                              & 0                              & 0                              & 220                            & ...                            &  74.0                          & 27.34                          & 70                             & 100                            & 0                              & 0.12407517                     & 0                              & 0                              & 0                              & 1                             \\\\\n",
       "\t 0                              & 65                             & College                        & 0                              &  0                             & 0                              & 0                              & 0                              & 0                              & 280                            & ...                            &  73.0                          & 19.76                          & 65                             &  58                            & 0                              & 0.15797355                     & 0                              & 0                              & 0                              & 1                             \\\\\n",
       "\t 1                              & 57                             & High school/GED                & 1                              & 20                             & 0                              & 0                              & 0                              & 0                              & 210                            & ...                            &  77.5                          & 27.14                          & 77                             &  71                            & 0                              & 0.21251962                     & 0                              & 1                              & 0                              & 0                             \\\\\n",
       "\t 0                              & 57                             & Some high school               & 0                              &  0                             & 0                              & 0                              & 1                              & 0                              & 259                            & ...                            & 101.0                          & 38.17                          & 85                             &  75                            & 0                              & 0.22279726                     & 0                              & 1                              & 0                              & 0                             \\\\\n",
       "\t 0                              & 42                             & High school/GED                & 1                              & 20                             & 0                              & 0                              & 0                              & 0                              & 235                            & ...                            &  86.0                          & 24.05                          & 66                             &  70                            & 0                              & 0.06025826                     & 0                              & 0                              & 0                              & 1                             \\\\\n",
       "\t 1                              & 42                             & Some college/vocational school & 0                              &  0                             & 0                              & 0                              & 0                              & 0                              & 235                            & ...                            &  70.0                          & 21.48                          & 67                             &  73                            & 0                              & 0.05366644                     & 0                              & 0                              & 0                              & 1                             \\\\\n",
       "\t 0                              & 62                             & Some high school               & 0                              &  0                             & 0                              & 0                              & 0                              & 0                              & 207                            & ...                            &  75.0                          & 22.91                          & 58                             &  80                            & 0                              & 0.13915777                     & 0                              & 0                              & 0                              & 1                             \\\\\n",
       "\t 0                              & 36                             & High school/GED                & 1                              & 15                             & 0                              & 0                              & 0                              & 0                              & 257                            & ...                            &  72.5                          & 27.86                          & 80                             &  65                            & 0                              & 0.02616370                     & 0                              & 0                              & 0                              & 1                             \\\\\n",
       "\t 1                              & 52                             & High school/GED                & 0                              &  0                             & 0                              & 0                              & 1                              & 1                              & 269                            & ...                            &  83.0                          & 26.60                          & 70                             &  80                            & 0                              & 0.25324173                     & 0                              & 1                              & 0                              & 0                             \\\\\n",
       "\t 0                              & 61                             & College                        & 0                              &  0                             & 0                              & 0                              & 0                              & 0                              & 325                            & ...                            &  85.5                          & 24.40                          & 68                             &  70                            & 0                              & 0.17935415                     & 0                              & 1                              & 0                              & 0                             \\\\\n",
       "\t 0                              & 69                             & High school/GED                & 0                              &  0                             & 1                              & 0                              & 1                              & 0                              & 220                            & ...                            &  81.0                          & 26.27                          & 60                             &  77                            & 0                              & 0.25965300                     & 0                              & 1                              & 0                              & 0                             \\\\\n",
       "\t 1                              & 65                             & College                        & 1                              &  6                             & 0                              & 0                              & 0                              & 0                              & 236                            & ...                            &  77.5                          & 24.30                          & 52                             &  65                            & 1                              & 0.27261577                     & 1                              & 0                              & 0                              & 0                             \\\\\n",
       "\t 0                              & 44                             & Some high school               & 0                              &  0                             & 0                              & 0                              & 0                              & 0                              & 230                            & ...                            &  81.5                          & 25.74                          & 88                             &  77                            & 0                              & 0.05115302                     & 0                              & 0                              & 0                              & 1                             \\\\\n",
       "\t 1                              & 57                             & College                        & 0                              &  0                             & 0                              & 0                              & 0                              & 0                              & 194                            & ...                            &  78.0                          & 29.02                          & 72                             &  92                            & 0                              & 0.19882166                     & 0                              & 1                              & 0                              & 0                             \\\\\n",
       "\t 1                              & 58                             & College                        & 0                              &  0                             & 0                              & 0                              & 1                              & 0                              & 223                            & ...                            &  88.0                          & 27.91                          & 69                             &  81                            & 0                              & 0.28867598                     & 0                              & 1                              & 0                              & 0                             \\\\\n",
       "\t 1                              & 51                             & High school/GED                & 1                              & 15                             & 0                              & 0                              & 0                              & 0                              & 267                            & ...                            &  80.0                          & 25.98                          & 70                             &  79                            & 0                              & 0.20177896                     & 0                              & 1                              & 0                              & 0                             \\\\\n",
       "\t 0                              & 52                             & High school/GED                & 1                              &  9                             & 0                              & 0                              & 0                              & 0                              & 218                            & ...                            &  57.0                          & 20.78                          & 79                             &  85                            & 0                              & 0.08567335                     & 0                              & 0                              & 0                              & 1                             \\\\\n",
       "\t 1                              & 38                             & High school/GED                & 0                              &  0                             & 0                              & 0                              & 0                              & 0                              & 235                            & ...                            &  83.0                          & 25.85                          & 92                             &  75                            & 0                              & 0.05640485                     & 0                              & 0                              & 0                              & 1                             \\\\\n",
       "\t 1                              & 44                             & Some high school               & 1                              & 20                             & 0                              & 0                              & 0                              & 0                              & 232                            & ...                            &  87.5                          & 30.03                          & 88                             &  70                            & 0                              & 0.14137450                     & 0                              & 0                              & 0                              & 1                             \\\\\n",
       "\t 0                              & 42                             & High school/GED                & 1                              & 10                             & 0                              & 0                              & 1                              & 0                              & 199                            & ...                            &  79.0                          & 18.68                          & 92                             &  76                            & 0                              & 0.05867276                     & 0                              & 0                              & 0                              & 1                             \\\\\n",
       "\t 0                              & 63                             & Some high school               & 0                              &  0                             & 0                              & 0                              & 1                              & 0                              & 306                            & ...                            & 105.0                          & 27.96                          & 75                             &  87                            & 1                              & 0.45922788                     & 1                              & 0                              & 0                              & 0                             \\\\\n",
       "\t 1                              & 65                             & Some high school               & 1                              & 20                             & 1                              & 0                              & 1                              & 0                              & 246                            & ...                            &  96.0                          & 19.34                          & 95                             &  76                            & 1                              & 0.60308950                     & 1                              & 0                              & 0                              & 0                             \\\\\n",
       "\t 0                              & 38                             & High school/GED                & 0                              &  0                             & 0                              & 0                              & 0                              & 0                              & 216                            & ...                            &  72.0                          & 22.01                          & 63                             &  75                            & 0                              & 0.03981445                     & 0                              & 0                              & 0                              & 1                             \\\\\n",
       "\t 0                              & 61                             & College                        & 0                              &  0                             & 0                              & 0                              & 0                              & 0                              & 261                            & ...                            &  76.5                          & 23.06                          & 55                             &  83                            & 1                              & 0.15135507                     & 0                              & 0                              & 1                              & 0                             \\\\\n",
       "\t 1                              & 50                             & Some high school               & 0                              &  0                             & 0                              & 0                              & 0                              & 0                              & 260                            & ...                            &  74.0                          & 21.85                          & 80                             &  72                            & 1                              & 0.12329984                     & 0                              & 0                              & 1                              & 0                             \\\\\n",
       "\t 1                              & 50                             & Some high school               & 1                              &  1                             & 0                              & 0                              & 1                              & 0                              & 313                            & ...                            &  92.0                          & 25.97                          & 66                             &  86                            & 1                              & 0.34928606                     & 1                              & 0                              & 0                              & 0                             \\\\\n",
       "\t 1                              & 51                             & Some college/vocational school & 1                              & 43                             & 0                              & 0                              & 0                              & 0                              & 207                            & ...                            &  80.0                          & 19.71                          & 65                             &  68                            & 0                              & 0.22901176                     & 0                              & 1                              & 0                              & 0                             \\\\\n",
       "\t 0                              & 52                             & High school/GED                & 0                              &  0                             & 0                              & 0                              & 0                              & 0                              & 269                            & ...                            &  83.0                          & 21.47                          & 80                             & 107                            & 0                              & 0.11879846                     & 0                              & 0                              & 0                              & 1                             \\\\\n",
       "\t 1                              & 40                             & Some college/vocational school & 0                              &  0                             & 0                              & 0                              & 1                              & 0                              & 185                            & ...                            &  98.0                          & 25.60                          & 67                             &  72                            & 0                              & 0.07263760                     & 0                              & 0                              & 0                              & 1                             \\\\\n",
       "\t 0                              & 39                             & Some college/vocational school & 1                              & 30                             & 0                              & 0                              & 0                              & 0                              & 196                            & ...                            &  86.0                          & 20.91                          & 85                             &  80                            & 0                              & 0.05849966                     & 0                              & 0                              & 0                              & 1                             \\\\\n",
       "\\end{tabular}\n"
      ],
      "text/markdown": [
       "\n",
       "male | age | education | currentSmoker | cigsPerDay | BPMeds | prevalentStroke | prevalentHyp | diabetes | totChol | ... | diaBP | BMI | heartRate | glucose | TenYearCHD | Prediction | cost1 | cost2 | cost3 | cost4 | \n",
       "|---|---|---|---|---|---|---|---|---|---|---|---|---|---|---|---|---|---|---|---|---|---|---|---|---|---|---|---|---|---|---|---|---|---|---|---|---|---|---|---|---|---|---|---|---|---|---|---|---|---|---|---|---|---|---|---|---|---|---|---|---|\n",
       "| 0                              | 46                             | High school/GED                | 0                              |  0                             | 0                              | 0                              | 0                              | 0                              | 250                            | ...                            | 81.0                           | 28.73                          | 95                             |  76                            | 0                              | 0.05370563                     | 0                              | 0                              | 0                              | 1                              | \n",
       "| 0                              | 41                             | Some college/vocational school | 0                              |  0                             | 1                              | 0                              | 1                              | 0                              | 332                            | ...                            | 88.0                           | 31.31                          | 65                             |  84                            | 0                              | 0.05776760                     | 0                              | 0                              | 0                              | 1                              | \n",
       "| 0                              | 38                             | High school/GED                | 1                              | 20                             | 0                              | 0                              | 1                              | 0                              | 221                            | ...                            | 90.0                           | 21.35                          | 95                             |  70                            | 1                              | 0.05398608                     | 0                              | 0                              | 1                              | 0                              | \n",
       "| 1                              | 41                             | High school/GED                | 0                              |  0                             | 0                              | 0                              | 0                              | 0                              | 195                            | ...                            | 88.0                           | 26.88                          | 85                             |  65                            | 0                              | 0.07491065                     | 0                              | 0                              | 0                              | 1                              | \n",
       "| 0                              | 42                             | High school/GED                | 1                              | 30                             | 0                              | 0                              | 0                              | 0                              | 190                            | ...                            | 70.5                           | 21.59                          | 72                             |  85                            | 0                              | 0.04721828                     | 0                              | 0                              | 0                              | 1                              | \n",
       "| 0                              | 52                             | Some college/vocational school | 1                              | 20                             | 0                              | 0                              | 0                              | 0                              | 215                            | ...                            | 82.0                           | 25.11                          | 71                             |  75                            | 0                              | 0.11370999                     | 0                              | 0                              | 0                              | 1                              | \n",
       "| 0                              | 59                             | Some high school               | 0                              |  0                             | 0                              | 0                              | 1                              | 0                              | 209                            | ...                            | 85.0                           | 20.77                          | 90                             |  88                            | 1                              | 0.17028996                     | 1                              | 0                              | 0                              | 0                              | \n",
       "| 1                              | 37                             | High school/GED                | 0                              |  0                             | 0                              | 0                              | 1                              | 0                              | 225                            | ...                            | 92.5                           | 38.53                          | 95                             |  83                            | 0                              | 0.05630831                     | 0                              | 0                              | 0                              | 1                              | \n",
       "| 0                              | 41                             | High school/GED                | 1                              |  1                             | 0                              | 0                              | 0                              | 0                              | 237                            | ...                            | 78.0                           | 23.28                          | 75                             |  74                            | 0                              | 0.03796318                     | 0                              | 0                              | 0                              | 1                              | \n",
       "| 1                              | 54                             | High school/GED                | 0                              |  0                             | 0                              | 0                              | 0                              | 0                              | 195                            | ...                            | 83.5                           | 26.21                          | 75                             | 100                            | 0                              | 0.17285219                     | 0                              | 1                              | 0                              | 0                              | \n",
       "| 0                              | 53                             | Some college/vocational school | 0                              |  0                             | 1                              | 0                              | 1                              | 1                              | 311                            | ...                            | 92.0                           | 21.51                          | 76                             | 215                            | 1                              | 0.51865782                     | 1                              | 0                              | 0                              | 0                              | \n",
       "| 0                              | 62                             | Some high school               | 0                              |  0                             | 0                              | 0                              | 0                              | 0                              | 240                            | ...                            | 82.5                           | 28.27                          | 63                             |  75                            | 0                              | 0.19487397                     | 0                              | 1                              | 0                              | 0                              | \n",
       "| 0                              | 46                             | Some high school               | 1                              | 10                             | 0                              | 0                              | 0                              | 0                              | 250                            | ...                            | 71.0                           | 20.35                          | 88                             |  94                            | 0                              | 0.06442139                     | 0                              | 0                              | 0                              | 1                              | \n",
       "| 1                              | 44                             | High school/GED                | 0                              |  0                             | 0                              | 0                              | 0                              | 0                              | 185                            | ...                            | 69.0                           | 22.29                          | 65                             |  82                            | 0                              | 0.06464084                     | 0                              | 0                              | 0                              | 1                              | \n",
       "| 0                              | 57                             | Some high school               | 1                              |  3                             | 0                              | 0                              | 0                              | 0                              | 235                            | ...                            | 80.0                           | 24.88                          | 83                             |  72                            | 0                              | 0.11327321                     | 0                              | 0                              | 0                              | 1                              | \n",
       "| 1                              | 42                             | Some college/vocational school | 1                              | 10                             | 0                              | 0                              | 0                              | 0                              | 175                            | ...                            | 72.5                           | 28.61                          | 63                             |  95                            | 0                              | 0.07068811                     | 0                              | 0                              | 0                              | 1                              | \n",
       "| 1                              | 60                             | Some high school               | 1                              | 20                             | 0                              | 0                              | 1                              | 0                              | 170                            | ...                            | 94.0                           | 26.52                          | 90                             |  83                            | 0                              | 0.45614909                     | 0                              | 1                              | 0                              | 0                              | \n",
       "| 0                              | 53                             | High school/GED                | 0                              |  0                             | 0                              | 0                              | 0                              | 0                              | 210                            | ...                            | 86.5                           | 22.49                          | 88                             |  87                            | 0                              | 0.09996364                     | 0                              | 0                              | 0                              | 1                              | \n",
       "| 0                              | 62                             | Some high school               | 0                              |  0                             | 0                              | 0                              | 0                              | 0                              | 261                            | ...                            | 82.0                           | 23.89                          | 65                             |  77                            | 0                              | 0.19043243                     | 0                              | 1                              | 0                              | 0                              | \n",
       "| 0                              | 51                             | Some high school               | 0                              |  0                             | 0                              | 0                              | 0                              | 0                              | 244                            | ...                            | 71.5                           | 27.38                          | 71                             |  77                            | 0                              | 0.05323226                     | 0                              | 0                              | 0                              | 1                              | \n",
       "| 0                              | 63                             | College                        | 1                              | 20                             | 0                              | 0                              | 0                              | 1                              | 239                            | ...                            | 80.0                           | 26.64                          | 88                             | 126                            | 0                              | 0.28835805                     | 0                              | 1                              | 0                              | 0                              | \n",
       "| 0                              | 56                             | Some high school               | 0                              |  0                             | 0                              | 0                              | 1                              | 0                              | 296                            | ...                            | 90.0                           | 23.72                          | 75                             | 120                            | 0                              | 0.32018474                     | 0                              | 1                              | 0                              | 0                              | \n",
       "| 0                              | 56                             | Some high school               | 1                              | 15                             | 0                              | 0                              | 0                              | 0                              | 269                            | ...                            | 75.0                           | 22.36                          | 50                             |  66                            | 0                              | 0.12965638                     | 0                              | 0                              | 0                              | 1                              | \n",
       "| 0                              | 48                             | Some high school               | 0                              |  0                             | 0                              | 0                              | 1                              | 0                              | 265                            | ...                            | 77.0                           | 24.23                          | 74                             |  64                            | 0                              | 0.08896383                     | 0                              | 0                              | 0                              | 1                              | \n",
       "| 0                              | 42                             | College                        | 0                              |  0                             | 0                              | 0                              | 0                              | 0                              | 250                            | ...                            | 79.0                           | 26.93                          | 65                             |  79                            | 0                              | 0.03818987                     | 0                              | 0                              | 0                              | 1                              | \n",
       "| 0                              | 66                             | Some high school               | 0                              |  0                             | 0                              | 0                              | 1                              | 0                              | 278                            | ...                            | 88.0                           | 40.52                          | 90                             |  84                            | 1                              | 0.44403275                     | 1                              | 0                              | 0                              | 0                              | \n",
       "| 0                              | 67                             | Some high school               | 0                              |  0                             | 0                              | 0                              | 1                              | 0                              | 264                            | ...                            | 80.0                           | 25.75                          | 75                             |  87                            | 0                              | 0.26385700                     | 0                              | 1                              | 0                              | 0                              | \n",
       "| 1                              | 48                             | College                        | 0                              |  0                             | 0                              | 0                              | 0                              | 0                              | 233                            | ...                            | 88.5                           | 23.62                          | 86                             |  68                            | 0                              | 0.13072918                     | 0                              | 0                              | 0                              | 1                              | \n",
       "| 1                              | 50                             | Some high school               | 0                              |  0                             | 0                              | 0                              | 1                              | 0                              | 257                            | ...                            | 82.0                           | 32.23                          | 75                             | 117                            | 1                              | 0.16971783                     | 1                              | 0                              | 0                              | 0                              | \n",
       "| 1                              | 36                             | College                        | 0                              |  0                             | 0                              | 0                              | 0                              | 0                              | 210                            | ...                            | 85.5                           | 21.93                          | 71                             |  77                            | 0                              | 0.03939225                     | 0                              | 0                              | 0                              | 1                              | \n",
       "| ... | ... | ... | ... | ... | ... | ... | ... | ... | ... |     | ... | ... | ... | ... | ... | ... | ... | ... | ... | ... | \n",
       "| 1                              | 45                             | Some high school               | 0                              |  0                             | 0                              | 0                              | 0                              | 0                              | 220                            | ...                            |  74.0                          | 27.34                          | 70                             | 100                            | 0                              | 0.12407517                     | 0                              | 0                              | 0                              | 1                              | \n",
       "| 0                              | 65                             | College                        | 0                              |  0                             | 0                              | 0                              | 0                              | 0                              | 280                            | ...                            |  73.0                          | 19.76                          | 65                             |  58                            | 0                              | 0.15797355                     | 0                              | 0                              | 0                              | 1                              | \n",
       "| 1                              | 57                             | High school/GED                | 1                              | 20                             | 0                              | 0                              | 0                              | 0                              | 210                            | ...                            |  77.5                          | 27.14                          | 77                             |  71                            | 0                              | 0.21251962                     | 0                              | 1                              | 0                              | 0                              | \n",
       "| 0                              | 57                             | Some high school               | 0                              |  0                             | 0                              | 0                              | 1                              | 0                              | 259                            | ...                            | 101.0                          | 38.17                          | 85                             |  75                            | 0                              | 0.22279726                     | 0                              | 1                              | 0                              | 0                              | \n",
       "| 0                              | 42                             | High school/GED                | 1                              | 20                             | 0                              | 0                              | 0                              | 0                              | 235                            | ...                            |  86.0                          | 24.05                          | 66                             |  70                            | 0                              | 0.06025826                     | 0                              | 0                              | 0                              | 1                              | \n",
       "| 1                              | 42                             | Some college/vocational school | 0                              |  0                             | 0                              | 0                              | 0                              | 0                              | 235                            | ...                            |  70.0                          | 21.48                          | 67                             |  73                            | 0                              | 0.05366644                     | 0                              | 0                              | 0                              | 1                              | \n",
       "| 0                              | 62                             | Some high school               | 0                              |  0                             | 0                              | 0                              | 0                              | 0                              | 207                            | ...                            |  75.0                          | 22.91                          | 58                             |  80                            | 0                              | 0.13915777                     | 0                              | 0                              | 0                              | 1                              | \n",
       "| 0                              | 36                             | High school/GED                | 1                              | 15                             | 0                              | 0                              | 0                              | 0                              | 257                            | ...                            |  72.5                          | 27.86                          | 80                             |  65                            | 0                              | 0.02616370                     | 0                              | 0                              | 0                              | 1                              | \n",
       "| 1                              | 52                             | High school/GED                | 0                              |  0                             | 0                              | 0                              | 1                              | 1                              | 269                            | ...                            |  83.0                          | 26.60                          | 70                             |  80                            | 0                              | 0.25324173                     | 0                              | 1                              | 0                              | 0                              | \n",
       "| 0                              | 61                             | College                        | 0                              |  0                             | 0                              | 0                              | 0                              | 0                              | 325                            | ...                            |  85.5                          | 24.40                          | 68                             |  70                            | 0                              | 0.17935415                     | 0                              | 1                              | 0                              | 0                              | \n",
       "| 0                              | 69                             | High school/GED                | 0                              |  0                             | 1                              | 0                              | 1                              | 0                              | 220                            | ...                            |  81.0                          | 26.27                          | 60                             |  77                            | 0                              | 0.25965300                     | 0                              | 1                              | 0                              | 0                              | \n",
       "| 1                              | 65                             | College                        | 1                              |  6                             | 0                              | 0                              | 0                              | 0                              | 236                            | ...                            |  77.5                          | 24.30                          | 52                             |  65                            | 1                              | 0.27261577                     | 1                              | 0                              | 0                              | 0                              | \n",
       "| 0                              | 44                             | Some high school               | 0                              |  0                             | 0                              | 0                              | 0                              | 0                              | 230                            | ...                            |  81.5                          | 25.74                          | 88                             |  77                            | 0                              | 0.05115302                     | 0                              | 0                              | 0                              | 1                              | \n",
       "| 1                              | 57                             | College                        | 0                              |  0                             | 0                              | 0                              | 0                              | 0                              | 194                            | ...                            |  78.0                          | 29.02                          | 72                             |  92                            | 0                              | 0.19882166                     | 0                              | 1                              | 0                              | 0                              | \n",
       "| 1                              | 58                             | College                        | 0                              |  0                             | 0                              | 0                              | 1                              | 0                              | 223                            | ...                            |  88.0                          | 27.91                          | 69                             |  81                            | 0                              | 0.28867598                     | 0                              | 1                              | 0                              | 0                              | \n",
       "| 1                              | 51                             | High school/GED                | 1                              | 15                             | 0                              | 0                              | 0                              | 0                              | 267                            | ...                            |  80.0                          | 25.98                          | 70                             |  79                            | 0                              | 0.20177896                     | 0                              | 1                              | 0                              | 0                              | \n",
       "| 0                              | 52                             | High school/GED                | 1                              |  9                             | 0                              | 0                              | 0                              | 0                              | 218                            | ...                            |  57.0                          | 20.78                          | 79                             |  85                            | 0                              | 0.08567335                     | 0                              | 0                              | 0                              | 1                              | \n",
       "| 1                              | 38                             | High school/GED                | 0                              |  0                             | 0                              | 0                              | 0                              | 0                              | 235                            | ...                            |  83.0                          | 25.85                          | 92                             |  75                            | 0                              | 0.05640485                     | 0                              | 0                              | 0                              | 1                              | \n",
       "| 1                              | 44                             | Some high school               | 1                              | 20                             | 0                              | 0                              | 0                              | 0                              | 232                            | ...                            |  87.5                          | 30.03                          | 88                             |  70                            | 0                              | 0.14137450                     | 0                              | 0                              | 0                              | 1                              | \n",
       "| 0                              | 42                             | High school/GED                | 1                              | 10                             | 0                              | 0                              | 1                              | 0                              | 199                            | ...                            |  79.0                          | 18.68                          | 92                             |  76                            | 0                              | 0.05867276                     | 0                              | 0                              | 0                              | 1                              | \n",
       "| 0                              | 63                             | Some high school               | 0                              |  0                             | 0                              | 0                              | 1                              | 0                              | 306                            | ...                            | 105.0                          | 27.96                          | 75                             |  87                            | 1                              | 0.45922788                     | 1                              | 0                              | 0                              | 0                              | \n",
       "| 1                              | 65                             | Some high school               | 1                              | 20                             | 1                              | 0                              | 1                              | 0                              | 246                            | ...                            |  96.0                          | 19.34                          | 95                             |  76                            | 1                              | 0.60308950                     | 1                              | 0                              | 0                              | 0                              | \n",
       "| 0                              | 38                             | High school/GED                | 0                              |  0                             | 0                              | 0                              | 0                              | 0                              | 216                            | ...                            |  72.0                          | 22.01                          | 63                             |  75                            | 0                              | 0.03981445                     | 0                              | 0                              | 0                              | 1                              | \n",
       "| 0                              | 61                             | College                        | 0                              |  0                             | 0                              | 0                              | 0                              | 0                              | 261                            | ...                            |  76.5                          | 23.06                          | 55                             |  83                            | 1                              | 0.15135507                     | 0                              | 0                              | 1                              | 0                              | \n",
       "| 1                              | 50                             | Some high school               | 0                              |  0                             | 0                              | 0                              | 0                              | 0                              | 260                            | ...                            |  74.0                          | 21.85                          | 80                             |  72                            | 1                              | 0.12329984                     | 0                              | 0                              | 1                              | 0                              | \n",
       "| 1                              | 50                             | Some high school               | 1                              |  1                             | 0                              | 0                              | 1                              | 0                              | 313                            | ...                            |  92.0                          | 25.97                          | 66                             |  86                            | 1                              | 0.34928606                     | 1                              | 0                              | 0                              | 0                              | \n",
       "| 1                              | 51                             | Some college/vocational school | 1                              | 43                             | 0                              | 0                              | 0                              | 0                              | 207                            | ...                            |  80.0                          | 19.71                          | 65                             |  68                            | 0                              | 0.22901176                     | 0                              | 1                              | 0                              | 0                              | \n",
       "| 0                              | 52                             | High school/GED                | 0                              |  0                             | 0                              | 0                              | 0                              | 0                              | 269                            | ...                            |  83.0                          | 21.47                          | 80                             | 107                            | 0                              | 0.11879846                     | 0                              | 0                              | 0                              | 1                              | \n",
       "| 1                              | 40                             | Some college/vocational school | 0                              |  0                             | 0                              | 0                              | 1                              | 0                              | 185                            | ...                            |  98.0                          | 25.60                          | 67                             |  72                            | 0                              | 0.07263760                     | 0                              | 0                              | 0                              | 1                              | \n",
       "| 0                              | 39                             | Some college/vocational school | 1                              | 30                             | 0                              | 0                              | 0                              | 0                              | 196                            | ...                            |  86.0                          | 20.91                          | 85                             |  80                            | 0                              | 0.05849966                     | 0                              | 0                              | 0                              | 1                              | \n",
       "\n",
       "\n"
      ],
      "text/plain": [
       "     male age education                      currentSmoker cigsPerDay BPMeds\n",
       "1    0    46  High school/GED                0              0         0     \n",
       "2    0    41  Some college/vocational school 0              0         1     \n",
       "3    0    38  High school/GED                1             20         0     \n",
       "4    1    41  High school/GED                0              0         0     \n",
       "5    0    42  High school/GED                1             30         0     \n",
       "6    0    52  Some college/vocational school 1             20         0     \n",
       "7    0    59  Some high school               0              0         0     \n",
       "8    1    37  High school/GED                0              0         0     \n",
       "9    0    41  High school/GED                1              1         0     \n",
       "10   1    54  High school/GED                0              0         0     \n",
       "11   0    53  Some college/vocational school 0              0         1     \n",
       "12   0    62  Some high school               0              0         0     \n",
       "13   0    46  Some high school               1             10         0     \n",
       "14   1    44  High school/GED                0              0         0     \n",
       "15   0    57  Some high school               1              3         0     \n",
       "16   1    42  Some college/vocational school 1             10         0     \n",
       "17   1    60  Some high school               1             20         0     \n",
       "18   0    53  High school/GED                0              0         0     \n",
       "19   0    62  Some high school               0              0         0     \n",
       "20   0    51  Some high school               0              0         0     \n",
       "21   0    63  College                        1             20         0     \n",
       "22   0    56  Some high school               0              0         0     \n",
       "23   0    56  Some high school               1             15         0     \n",
       "24   0    48  Some high school               0              0         0     \n",
       "25   0    42  College                        0              0         0     \n",
       "26   0    66  Some high school               0              0         0     \n",
       "27   0    67  Some high school               0              0         0     \n",
       "28   1    48  College                        0              0         0     \n",
       "29   1    50  Some high school               0              0         0     \n",
       "30   1    36  College                        0              0         0     \n",
       "...  ...  ... ...                            ...           ...        ...   \n",
       "1068 1    45  Some high school               0              0         0     \n",
       "1069 0    65  College                        0              0         0     \n",
       "1070 1    57  High school/GED                1             20         0     \n",
       "1071 0    57  Some high school               0              0         0     \n",
       "1072 0    42  High school/GED                1             20         0     \n",
       "1073 1    42  Some college/vocational school 0              0         0     \n",
       "1074 0    62  Some high school               0              0         0     \n",
       "1075 0    36  High school/GED                1             15         0     \n",
       "1076 1    52  High school/GED                0              0         0     \n",
       "1077 0    61  College                        0              0         0     \n",
       "1078 0    69  High school/GED                0              0         1     \n",
       "1079 1    65  College                        1              6         0     \n",
       "1080 0    44  Some high school               0              0         0     \n",
       "1081 1    57  College                        0              0         0     \n",
       "1082 1    58  College                        0              0         0     \n",
       "1083 1    51  High school/GED                1             15         0     \n",
       "1084 0    52  High school/GED                1              9         0     \n",
       "1085 1    38  High school/GED                0              0         0     \n",
       "1086 1    44  Some high school               1             20         0     \n",
       "1087 0    42  High school/GED                1             10         0     \n",
       "1088 0    63  Some high school               0              0         0     \n",
       "1089 1    65  Some high school               1             20         1     \n",
       "1090 0    38  High school/GED                0              0         0     \n",
       "1091 0    61  College                        0              0         0     \n",
       "1092 1    50  Some high school               0              0         0     \n",
       "1093 1    50  Some high school               1              1         0     \n",
       "1094 1    51  Some college/vocational school 1             43         0     \n",
       "1095 0    52  High school/GED                0              0         0     \n",
       "1096 1    40  Some college/vocational school 0              0         0     \n",
       "1097 0    39  Some college/vocational school 1             30         0     \n",
       "     prevalentStroke prevalentHyp diabetes totChol ... diaBP BMI   heartRate\n",
       "1    0               0            0        250     ... 81.0  28.73 95       \n",
       "2    0               1            0        332     ... 88.0  31.31 65       \n",
       "3    0               1            0        221     ... 90.0  21.35 95       \n",
       "4    0               0            0        195     ... 88.0  26.88 85       \n",
       "5    0               0            0        190     ... 70.5  21.59 72       \n",
       "6    0               0            0        215     ... 82.0  25.11 71       \n",
       "7    0               1            0        209     ... 85.0  20.77 90       \n",
       "8    0               1            0        225     ... 92.5  38.53 95       \n",
       "9    0               0            0        237     ... 78.0  23.28 75       \n",
       "10   0               0            0        195     ... 83.5  26.21 75       \n",
       "11   0               1            1        311     ... 92.0  21.51 76       \n",
       "12   0               0            0        240     ... 82.5  28.27 63       \n",
       "13   0               0            0        250     ... 71.0  20.35 88       \n",
       "14   0               0            0        185     ... 69.0  22.29 65       \n",
       "15   0               0            0        235     ... 80.0  24.88 83       \n",
       "16   0               0            0        175     ... 72.5  28.61 63       \n",
       "17   0               1            0        170     ... 94.0  26.52 90       \n",
       "18   0               0            0        210     ... 86.5  22.49 88       \n",
       "19   0               0            0        261     ... 82.0  23.89 65       \n",
       "20   0               0            0        244     ... 71.5  27.38 71       \n",
       "21   0               0            1        239     ... 80.0  26.64 88       \n",
       "22   0               1            0        296     ... 90.0  23.72 75       \n",
       "23   0               0            0        269     ... 75.0  22.36 50       \n",
       "24   0               1            0        265     ... 77.0  24.23 74       \n",
       "25   0               0            0        250     ... 79.0  26.93 65       \n",
       "26   0               1            0        278     ... 88.0  40.52 90       \n",
       "27   0               1            0        264     ... 80.0  25.75 75       \n",
       "28   0               0            0        233     ... 88.5  23.62 86       \n",
       "29   0               1            0        257     ... 82.0  32.23 75       \n",
       "30   0               0            0        210     ... 85.5  21.93 71       \n",
       "...  ...             ...          ...      ...         ...   ...   ...      \n",
       "1068 0               0            0        220     ...  74.0 27.34 70       \n",
       "1069 0               0            0        280     ...  73.0 19.76 65       \n",
       "1070 0               0            0        210     ...  77.5 27.14 77       \n",
       "1071 0               1            0        259     ... 101.0 38.17 85       \n",
       "1072 0               0            0        235     ...  86.0 24.05 66       \n",
       "1073 0               0            0        235     ...  70.0 21.48 67       \n",
       "1074 0               0            0        207     ...  75.0 22.91 58       \n",
       "1075 0               0            0        257     ...  72.5 27.86 80       \n",
       "1076 0               1            1        269     ...  83.0 26.60 70       \n",
       "1077 0               0            0        325     ...  85.5 24.40 68       \n",
       "1078 0               1            0        220     ...  81.0 26.27 60       \n",
       "1079 0               0            0        236     ...  77.5 24.30 52       \n",
       "1080 0               0            0        230     ...  81.5 25.74 88       \n",
       "1081 0               0            0        194     ...  78.0 29.02 72       \n",
       "1082 0               1            0        223     ...  88.0 27.91 69       \n",
       "1083 0               0            0        267     ...  80.0 25.98 70       \n",
       "1084 0               0            0        218     ...  57.0 20.78 79       \n",
       "1085 0               0            0        235     ...  83.0 25.85 92       \n",
       "1086 0               0            0        232     ...  87.5 30.03 88       \n",
       "1087 0               1            0        199     ...  79.0 18.68 92       \n",
       "1088 0               1            0        306     ... 105.0 27.96 75       \n",
       "1089 0               1            0        246     ...  96.0 19.34 95       \n",
       "1090 0               0            0        216     ...  72.0 22.01 63       \n",
       "1091 0               0            0        261     ...  76.5 23.06 55       \n",
       "1092 0               0            0        260     ...  74.0 21.85 80       \n",
       "1093 0               1            0        313     ...  92.0 25.97 66       \n",
       "1094 0               0            0        207     ...  80.0 19.71 65       \n",
       "1095 0               0            0        269     ...  83.0 21.47 80       \n",
       "1096 0               1            0        185     ...  98.0 25.60 67       \n",
       "1097 0               0            0        196     ...  86.0 20.91 85       \n",
       "     glucose TenYearCHD Prediction cost1 cost2 cost3 cost4\n",
       "1     76     0          0.05370563 0     0     0     1    \n",
       "2     84     0          0.05776760 0     0     0     1    \n",
       "3     70     1          0.05398608 0     0     1     0    \n",
       "4     65     0          0.07491065 0     0     0     1    \n",
       "5     85     0          0.04721828 0     0     0     1    \n",
       "6     75     0          0.11370999 0     0     0     1    \n",
       "7     88     1          0.17028996 1     0     0     0    \n",
       "8     83     0          0.05630831 0     0     0     1    \n",
       "9     74     0          0.03796318 0     0     0     1    \n",
       "10   100     0          0.17285219 0     1     0     0    \n",
       "11   215     1          0.51865782 1     0     0     0    \n",
       "12    75     0          0.19487397 0     1     0     0    \n",
       "13    94     0          0.06442139 0     0     0     1    \n",
       "14    82     0          0.06464084 0     0     0     1    \n",
       "15    72     0          0.11327321 0     0     0     1    \n",
       "16    95     0          0.07068811 0     0     0     1    \n",
       "17    83     0          0.45614909 0     1     0     0    \n",
       "18    87     0          0.09996364 0     0     0     1    \n",
       "19    77     0          0.19043243 0     1     0     0    \n",
       "20    77     0          0.05323226 0     0     0     1    \n",
       "21   126     0          0.28835805 0     1     0     0    \n",
       "22   120     0          0.32018474 0     1     0     0    \n",
       "23    66     0          0.12965638 0     0     0     1    \n",
       "24    64     0          0.08896383 0     0     0     1    \n",
       "25    79     0          0.03818987 0     0     0     1    \n",
       "26    84     1          0.44403275 1     0     0     0    \n",
       "27    87     0          0.26385700 0     1     0     0    \n",
       "28    68     0          0.13072918 0     0     0     1    \n",
       "29   117     1          0.16971783 1     0     0     0    \n",
       "30    77     0          0.03939225 0     0     0     1    \n",
       "...  ...     ...        ...        ...   ...   ...   ...  \n",
       "1068 100     0          0.12407517 0     0     0     1    \n",
       "1069  58     0          0.15797355 0     0     0     1    \n",
       "1070  71     0          0.21251962 0     1     0     0    \n",
       "1071  75     0          0.22279726 0     1     0     0    \n",
       "1072  70     0          0.06025826 0     0     0     1    \n",
       "1073  73     0          0.05366644 0     0     0     1    \n",
       "1074  80     0          0.13915777 0     0     0     1    \n",
       "1075  65     0          0.02616370 0     0     0     1    \n",
       "1076  80     0          0.25324173 0     1     0     0    \n",
       "1077  70     0          0.17935415 0     1     0     0    \n",
       "1078  77     0          0.25965300 0     1     0     0    \n",
       "1079  65     1          0.27261577 1     0     0     0    \n",
       "1080  77     0          0.05115302 0     0     0     1    \n",
       "1081  92     0          0.19882166 0     1     0     0    \n",
       "1082  81     0          0.28867598 0     1     0     0    \n",
       "1083  79     0          0.20177896 0     1     0     0    \n",
       "1084  85     0          0.08567335 0     0     0     1    \n",
       "1085  75     0          0.05640485 0     0     0     1    \n",
       "1086  70     0          0.14137450 0     0     0     1    \n",
       "1087  76     0          0.05867276 0     0     0     1    \n",
       "1088  87     1          0.45922788 1     0     0     0    \n",
       "1089  76     1          0.60308950 1     0     0     0    \n",
       "1090  75     0          0.03981445 0     0     0     1    \n",
       "1091  83     1          0.15135507 0     0     1     0    \n",
       "1092  72     1          0.12329984 0     0     1     0    \n",
       "1093  86     1          0.34928606 1     0     0     0    \n",
       "1094  68     0          0.22901176 0     1     0     0    \n",
       "1095 107     0          0.11879846 0     0     0     1    \n",
       "1096  72     0          0.07263760 0     0     0     1    \n",
       "1097  80     0          0.05849966 0     0     0     1    "
      ]
     },
     "metadata": {},
     "output_type": "display_data"
    }
   ],
   "source": [
    "test"
   ]
  },
  {
   "cell_type": "code",
   "execution_count": 35,
   "metadata": {},
   "outputs": [
    {
     "data": {
      "text/html": [
       "<ol class=list-inline>\n",
       "\t<li>1097</li>\n",
       "\t<li>21</li>\n",
       "</ol>\n"
      ],
      "text/latex": [
       "\\begin{enumerate*}\n",
       "\\item 1097\n",
       "\\item 21\n",
       "\\end{enumerate*}\n"
      ],
      "text/markdown": [
       "1. 1097\n",
       "2. 21\n",
       "\n",
       "\n"
      ],
      "text/plain": [
       "[1] 1097   21"
      ]
     },
     "metadata": {},
     "output_type": "display_data"
    }
   ],
   "source": [
    "dim(test)"
   ]
  },
  {
   "cell_type": "markdown",
   "metadata": {},
   "source": [
    "Will have to pay $560 000"
   ]
  },
  {
   "cell_type": "code",
   "execution_count": 36,
   "metadata": {},
   "outputs": [
    {
     "data": {
      "text/plain": [
       "   Min. 1st Qu.  Median    Mean 3rd Qu.    Max. \n",
       "0.00000 0.00000 0.00000 0.09845 0.00000 1.00000 "
      ]
     },
     "metadata": {},
     "output_type": "display_data"
    }
   ],
   "source": [
    "summary(test$cost1)"
   ]
  },
  {
   "cell_type": "markdown",
   "metadata": {},
   "source": [
    "Will have to pay $60 000"
   ]
  },
  {
   "cell_type": "code",
   "execution_count": 37,
   "metadata": {},
   "outputs": [
    {
     "data": {
      "text/plain": [
       "   Min. 1st Qu.  Median    Mean 3rd Qu.    Max. \n",
       " 0.0000  0.0000  0.0000  0.2589  1.0000  1.0000 "
      ]
     },
     "metadata": {},
     "output_type": "display_data"
    }
   ],
   "source": [
    "summary(test$cost2)"
   ]
  },
  {
   "cell_type": "markdown",
   "metadata": {},
   "source": [
    "Will have to pay $500 000"
   ]
  },
  {
   "cell_type": "code",
   "execution_count": 38,
   "metadata": {},
   "outputs": [
    {
     "data": {
      "text/plain": [
       "   Min. 1st Qu.  Median    Mean 3rd Qu.    Max. \n",
       "0.00000 0.00000 0.00000 0.05378 0.00000 1.00000 "
      ]
     },
     "metadata": {},
     "output_type": "display_data"
    }
   ],
   "source": [
    "summary(test$cost3)"
   ]
  },
  {
   "cell_type": "markdown",
   "metadata": {},
   "source": [
    "Will have to pay $0"
   ]
  },
  {
   "cell_type": "code",
   "execution_count": 39,
   "metadata": {},
   "outputs": [
    {
     "data": {
      "text/plain": [
       "   Min. 1st Qu.  Median    Mean 3rd Qu.    Max. \n",
       " 0.0000  0.0000  1.0000  0.5889  1.0000  1.0000 "
      ]
     },
     "metadata": {},
     "output_type": "display_data"
    }
   ],
   "source": [
    "summary(test$cost4)"
   ]
  },
  {
   "cell_type": "markdown",
   "metadata": {},
   "source": [
    "From this model, the average cost per patient is $97 556"
   ]
  },
  {
   "cell_type": "markdown",
   "metadata": {},
   "source": [
    "This prediction has been done under the assumption that CHD outcomes are not affected by the treatment decision which is probably not the case. Indeed, taking the tratment is likely to decrease the probability of a positive CHD outcome. "
   ]
  },
  {
   "cell_type": "markdown",
   "metadata": {},
   "source": [
    "We can make the assumption that taking the medication will divide by four the probability that you develop CHD. Therefore, you will develop "
   ]
  },
  {
   "cell_type": "code",
   "execution_count": 40,
   "metadata": {},
   "outputs": [],
   "source": [
    "test$cost1  <- with(test, ifelse((Prediction >= 4*0.16), 1, 0))\n",
    "test$cost2  <- with(test, ifelse((Prediction < 4*0.16)&(Prediction >= 0.16), 1, 0))\n",
    "test$cost3  <- with(test, ifelse((Prediction < 0.16)&(TenYearCHD==1), 1, 0))\n",
    "test$cost4  <- with(test, ifelse((Prediction < 0.16)&(TenYearCHD==0), 1, 0))"
   ]
  },
  {
   "cell_type": "code",
   "execution_count": 41,
   "metadata": {},
   "outputs": [
    {
     "data": {
      "text/html": [
       "<table>\n",
       "<thead><tr><th scope=col>male</th><th scope=col>age</th><th scope=col>education</th><th scope=col>currentSmoker</th><th scope=col>cigsPerDay</th><th scope=col>BPMeds</th><th scope=col>prevalentStroke</th><th scope=col>prevalentHyp</th><th scope=col>diabetes</th><th scope=col>totChol</th><th scope=col>...</th><th scope=col>diaBP</th><th scope=col>BMI</th><th scope=col>heartRate</th><th scope=col>glucose</th><th scope=col>TenYearCHD</th><th scope=col>Prediction</th><th scope=col>cost1</th><th scope=col>cost2</th><th scope=col>cost3</th><th scope=col>cost4</th></tr></thead>\n",
       "<tbody>\n",
       "\t<tr><td>0                             </td><td>46                            </td><td>High school/GED               </td><td>0                             </td><td> 0                            </td><td>0                             </td><td>0                             </td><td>0                             </td><td>0                             </td><td>250                           </td><td>...                           </td><td>81.0                          </td><td>28.73                         </td><td>95                            </td><td> 76                           </td><td>0                             </td><td>0.05370563                    </td><td>0                             </td><td>0                             </td><td>0                             </td><td>1                             </td></tr>\n",
       "\t<tr><td>0                             </td><td>41                            </td><td>Some college/vocational school</td><td>0                             </td><td> 0                            </td><td>1                             </td><td>0                             </td><td>1                             </td><td>0                             </td><td>332                           </td><td>...                           </td><td>88.0                          </td><td>31.31                         </td><td>65                            </td><td> 84                           </td><td>0                             </td><td>0.05776760                    </td><td>0                             </td><td>0                             </td><td>0                             </td><td>1                             </td></tr>\n",
       "\t<tr><td>0                             </td><td>38                            </td><td>High school/GED               </td><td>1                             </td><td>20                            </td><td>0                             </td><td>0                             </td><td>1                             </td><td>0                             </td><td>221                           </td><td>...                           </td><td>90.0                          </td><td>21.35                         </td><td>95                            </td><td> 70                           </td><td>1                             </td><td>0.05398608                    </td><td>0                             </td><td>0                             </td><td>1                             </td><td>0                             </td></tr>\n",
       "\t<tr><td>1                             </td><td>41                            </td><td>High school/GED               </td><td>0                             </td><td> 0                            </td><td>0                             </td><td>0                             </td><td>0                             </td><td>0                             </td><td>195                           </td><td>...                           </td><td>88.0                          </td><td>26.88                         </td><td>85                            </td><td> 65                           </td><td>0                             </td><td>0.07491065                    </td><td>0                             </td><td>0                             </td><td>0                             </td><td>1                             </td></tr>\n",
       "\t<tr><td>0                             </td><td>42                            </td><td>High school/GED               </td><td>1                             </td><td>30                            </td><td>0                             </td><td>0                             </td><td>0                             </td><td>0                             </td><td>190                           </td><td>...                           </td><td>70.5                          </td><td>21.59                         </td><td>72                            </td><td> 85                           </td><td>0                             </td><td>0.04721828                    </td><td>0                             </td><td>0                             </td><td>0                             </td><td>1                             </td></tr>\n",
       "\t<tr><td>0                             </td><td>52                            </td><td>Some college/vocational school</td><td>1                             </td><td>20                            </td><td>0                             </td><td>0                             </td><td>0                             </td><td>0                             </td><td>215                           </td><td>...                           </td><td>82.0                          </td><td>25.11                         </td><td>71                            </td><td> 75                           </td><td>0                             </td><td>0.11370999                    </td><td>0                             </td><td>0                             </td><td>0                             </td><td>1                             </td></tr>\n",
       "\t<tr><td>0                             </td><td>59                            </td><td>Some high school              </td><td>0                             </td><td> 0                            </td><td>0                             </td><td>0                             </td><td>1                             </td><td>0                             </td><td>209                           </td><td>...                           </td><td>85.0                          </td><td>20.77                         </td><td>90                            </td><td> 88                           </td><td>1                             </td><td>0.17028996                    </td><td>0                             </td><td>1                             </td><td>0                             </td><td>0                             </td></tr>\n",
       "\t<tr><td>1                             </td><td>37                            </td><td>High school/GED               </td><td>0                             </td><td> 0                            </td><td>0                             </td><td>0                             </td><td>1                             </td><td>0                             </td><td>225                           </td><td>...                           </td><td>92.5                          </td><td>38.53                         </td><td>95                            </td><td> 83                           </td><td>0                             </td><td>0.05630831                    </td><td>0                             </td><td>0                             </td><td>0                             </td><td>1                             </td></tr>\n",
       "\t<tr><td>0                             </td><td>41                            </td><td>High school/GED               </td><td>1                             </td><td> 1                            </td><td>0                             </td><td>0                             </td><td>0                             </td><td>0                             </td><td>237                           </td><td>...                           </td><td>78.0                          </td><td>23.28                         </td><td>75                            </td><td> 74                           </td><td>0                             </td><td>0.03796318                    </td><td>0                             </td><td>0                             </td><td>0                             </td><td>1                             </td></tr>\n",
       "\t<tr><td>1                             </td><td>54                            </td><td>High school/GED               </td><td>0                             </td><td> 0                            </td><td>0                             </td><td>0                             </td><td>0                             </td><td>0                             </td><td>195                           </td><td>...                           </td><td>83.5                          </td><td>26.21                         </td><td>75                            </td><td>100                           </td><td>0                             </td><td>0.17285219                    </td><td>0                             </td><td>1                             </td><td>0                             </td><td>0                             </td></tr>\n",
       "\t<tr><td>0                             </td><td>53                            </td><td>Some college/vocational school</td><td>0                             </td><td> 0                            </td><td>1                             </td><td>0                             </td><td>1                             </td><td>1                             </td><td>311                           </td><td>...                           </td><td>92.0                          </td><td>21.51                         </td><td>76                            </td><td>215                           </td><td>1                             </td><td>0.51865782                    </td><td>0                             </td><td>1                             </td><td>0                             </td><td>0                             </td></tr>\n",
       "\t<tr><td>0                             </td><td>62                            </td><td>Some high school              </td><td>0                             </td><td> 0                            </td><td>0                             </td><td>0                             </td><td>0                             </td><td>0                             </td><td>240                           </td><td>...                           </td><td>82.5                          </td><td>28.27                         </td><td>63                            </td><td> 75                           </td><td>0                             </td><td>0.19487397                    </td><td>0                             </td><td>1                             </td><td>0                             </td><td>0                             </td></tr>\n",
       "\t<tr><td>0                             </td><td>46                            </td><td>Some high school              </td><td>1                             </td><td>10                            </td><td>0                             </td><td>0                             </td><td>0                             </td><td>0                             </td><td>250                           </td><td>...                           </td><td>71.0                          </td><td>20.35                         </td><td>88                            </td><td> 94                           </td><td>0                             </td><td>0.06442139                    </td><td>0                             </td><td>0                             </td><td>0                             </td><td>1                             </td></tr>\n",
       "\t<tr><td>1                             </td><td>44                            </td><td>High school/GED               </td><td>0                             </td><td> 0                            </td><td>0                             </td><td>0                             </td><td>0                             </td><td>0                             </td><td>185                           </td><td>...                           </td><td>69.0                          </td><td>22.29                         </td><td>65                            </td><td> 82                           </td><td>0                             </td><td>0.06464084                    </td><td>0                             </td><td>0                             </td><td>0                             </td><td>1                             </td></tr>\n",
       "\t<tr><td>0                             </td><td>57                            </td><td>Some high school              </td><td>1                             </td><td> 3                            </td><td>0                             </td><td>0                             </td><td>0                             </td><td>0                             </td><td>235                           </td><td>...                           </td><td>80.0                          </td><td>24.88                         </td><td>83                            </td><td> 72                           </td><td>0                             </td><td>0.11327321                    </td><td>0                             </td><td>0                             </td><td>0                             </td><td>1                             </td></tr>\n",
       "\t<tr><td>1                             </td><td>42                            </td><td>Some college/vocational school</td><td>1                             </td><td>10                            </td><td>0                             </td><td>0                             </td><td>0                             </td><td>0                             </td><td>175                           </td><td>...                           </td><td>72.5                          </td><td>28.61                         </td><td>63                            </td><td> 95                           </td><td>0                             </td><td>0.07068811                    </td><td>0                             </td><td>0                             </td><td>0                             </td><td>1                             </td></tr>\n",
       "\t<tr><td>1                             </td><td>60                            </td><td>Some high school              </td><td>1                             </td><td>20                            </td><td>0                             </td><td>0                             </td><td>1                             </td><td>0                             </td><td>170                           </td><td>...                           </td><td>94.0                          </td><td>26.52                         </td><td>90                            </td><td> 83                           </td><td>0                             </td><td>0.45614909                    </td><td>0                             </td><td>1                             </td><td>0                             </td><td>0                             </td></tr>\n",
       "\t<tr><td>0                             </td><td>53                            </td><td>High school/GED               </td><td>0                             </td><td> 0                            </td><td>0                             </td><td>0                             </td><td>0                             </td><td>0                             </td><td>210                           </td><td>...                           </td><td>86.5                          </td><td>22.49                         </td><td>88                            </td><td> 87                           </td><td>0                             </td><td>0.09996364                    </td><td>0                             </td><td>0                             </td><td>0                             </td><td>1                             </td></tr>\n",
       "\t<tr><td>0                             </td><td>62                            </td><td>Some high school              </td><td>0                             </td><td> 0                            </td><td>0                             </td><td>0                             </td><td>0                             </td><td>0                             </td><td>261                           </td><td>...                           </td><td>82.0                          </td><td>23.89                         </td><td>65                            </td><td> 77                           </td><td>0                             </td><td>0.19043243                    </td><td>0                             </td><td>1                             </td><td>0                             </td><td>0                             </td></tr>\n",
       "\t<tr><td>0                             </td><td>51                            </td><td>Some high school              </td><td>0                             </td><td> 0                            </td><td>0                             </td><td>0                             </td><td>0                             </td><td>0                             </td><td>244                           </td><td>...                           </td><td>71.5                          </td><td>27.38                         </td><td>71                            </td><td> 77                           </td><td>0                             </td><td>0.05323226                    </td><td>0                             </td><td>0                             </td><td>0                             </td><td>1                             </td></tr>\n",
       "\t<tr><td>0                             </td><td>63                            </td><td>College                       </td><td>1                             </td><td>20                            </td><td>0                             </td><td>0                             </td><td>0                             </td><td>1                             </td><td>239                           </td><td>...                           </td><td>80.0                          </td><td>26.64                         </td><td>88                            </td><td>126                           </td><td>0                             </td><td>0.28835805                    </td><td>0                             </td><td>1                             </td><td>0                             </td><td>0                             </td></tr>\n",
       "\t<tr><td>0                             </td><td>56                            </td><td>Some high school              </td><td>0                             </td><td> 0                            </td><td>0                             </td><td>0                             </td><td>1                             </td><td>0                             </td><td>296                           </td><td>...                           </td><td>90.0                          </td><td>23.72                         </td><td>75                            </td><td>120                           </td><td>0                             </td><td>0.32018474                    </td><td>0                             </td><td>1                             </td><td>0                             </td><td>0                             </td></tr>\n",
       "\t<tr><td>0                             </td><td>56                            </td><td>Some high school              </td><td>1                             </td><td>15                            </td><td>0                             </td><td>0                             </td><td>0                             </td><td>0                             </td><td>269                           </td><td>...                           </td><td>75.0                          </td><td>22.36                         </td><td>50                            </td><td> 66                           </td><td>0                             </td><td>0.12965638                    </td><td>0                             </td><td>0                             </td><td>0                             </td><td>1                             </td></tr>\n",
       "\t<tr><td>0                             </td><td>48                            </td><td>Some high school              </td><td>0                             </td><td> 0                            </td><td>0                             </td><td>0                             </td><td>1                             </td><td>0                             </td><td>265                           </td><td>...                           </td><td>77.0                          </td><td>24.23                         </td><td>74                            </td><td> 64                           </td><td>0                             </td><td>0.08896383                    </td><td>0                             </td><td>0                             </td><td>0                             </td><td>1                             </td></tr>\n",
       "\t<tr><td>0                             </td><td>42                            </td><td>College                       </td><td>0                             </td><td> 0                            </td><td>0                             </td><td>0                             </td><td>0                             </td><td>0                             </td><td>250                           </td><td>...                           </td><td>79.0                          </td><td>26.93                         </td><td>65                            </td><td> 79                           </td><td>0                             </td><td>0.03818987                    </td><td>0                             </td><td>0                             </td><td>0                             </td><td>1                             </td></tr>\n",
       "\t<tr><td>0                             </td><td>66                            </td><td>Some high school              </td><td>0                             </td><td> 0                            </td><td>0                             </td><td>0                             </td><td>1                             </td><td>0                             </td><td>278                           </td><td>...                           </td><td>88.0                          </td><td>40.52                         </td><td>90                            </td><td> 84                           </td><td>1                             </td><td>0.44403275                    </td><td>0                             </td><td>1                             </td><td>0                             </td><td>0                             </td></tr>\n",
       "\t<tr><td>0                             </td><td>67                            </td><td>Some high school              </td><td>0                             </td><td> 0                            </td><td>0                             </td><td>0                             </td><td>1                             </td><td>0                             </td><td>264                           </td><td>...                           </td><td>80.0                          </td><td>25.75                         </td><td>75                            </td><td> 87                           </td><td>0                             </td><td>0.26385700                    </td><td>0                             </td><td>1                             </td><td>0                             </td><td>0                             </td></tr>\n",
       "\t<tr><td>1                             </td><td>48                            </td><td>College                       </td><td>0                             </td><td> 0                            </td><td>0                             </td><td>0                             </td><td>0                             </td><td>0                             </td><td>233                           </td><td>...                           </td><td>88.5                          </td><td>23.62                         </td><td>86                            </td><td> 68                           </td><td>0                             </td><td>0.13072918                    </td><td>0                             </td><td>0                             </td><td>0                             </td><td>1                             </td></tr>\n",
       "\t<tr><td>1                             </td><td>50                            </td><td>Some high school              </td><td>0                             </td><td> 0                            </td><td>0                             </td><td>0                             </td><td>1                             </td><td>0                             </td><td>257                           </td><td>...                           </td><td>82.0                          </td><td>32.23                         </td><td>75                            </td><td>117                           </td><td>1                             </td><td>0.16971783                    </td><td>0                             </td><td>1                             </td><td>0                             </td><td>0                             </td></tr>\n",
       "\t<tr><td>1                             </td><td>36                            </td><td>College                       </td><td>0                             </td><td> 0                            </td><td>0                             </td><td>0                             </td><td>0                             </td><td>0                             </td><td>210                           </td><td>...                           </td><td>85.5                          </td><td>21.93                         </td><td>71                            </td><td> 77                           </td><td>0                             </td><td>0.03939225                    </td><td>0                             </td><td>0                             </td><td>0                             </td><td>1                             </td></tr>\n",
       "\t<tr><td>...</td><td>...</td><td>...</td><td>...</td><td>...</td><td>...</td><td>...</td><td>...</td><td>...</td><td>...</td><td>   </td><td>...</td><td>...</td><td>...</td><td>...</td><td>...</td><td>...</td><td>...</td><td>...</td><td>...</td><td>...</td></tr>\n",
       "\t<tr><td>1                             </td><td>45                            </td><td>Some high school              </td><td>0                             </td><td> 0                            </td><td>0                             </td><td>0                             </td><td>0                             </td><td>0                             </td><td>220                           </td><td>...                           </td><td> 74.0                         </td><td>27.34                         </td><td>70                            </td><td>100                           </td><td>0                             </td><td>0.12407517                    </td><td>0                             </td><td>0                             </td><td>0                             </td><td>1                             </td></tr>\n",
       "\t<tr><td>0                             </td><td>65                            </td><td>College                       </td><td>0                             </td><td> 0                            </td><td>0                             </td><td>0                             </td><td>0                             </td><td>0                             </td><td>280                           </td><td>...                           </td><td> 73.0                         </td><td>19.76                         </td><td>65                            </td><td> 58                           </td><td>0                             </td><td>0.15797355                    </td><td>0                             </td><td>0                             </td><td>0                             </td><td>1                             </td></tr>\n",
       "\t<tr><td>1                             </td><td>57                            </td><td>High school/GED               </td><td>1                             </td><td>20                            </td><td>0                             </td><td>0                             </td><td>0                             </td><td>0                             </td><td>210                           </td><td>...                           </td><td> 77.5                         </td><td>27.14                         </td><td>77                            </td><td> 71                           </td><td>0                             </td><td>0.21251962                    </td><td>0                             </td><td>1                             </td><td>0                             </td><td>0                             </td></tr>\n",
       "\t<tr><td>0                             </td><td>57                            </td><td>Some high school              </td><td>0                             </td><td> 0                            </td><td>0                             </td><td>0                             </td><td>1                             </td><td>0                             </td><td>259                           </td><td>...                           </td><td>101.0                         </td><td>38.17                         </td><td>85                            </td><td> 75                           </td><td>0                             </td><td>0.22279726                    </td><td>0                             </td><td>1                             </td><td>0                             </td><td>0                             </td></tr>\n",
       "\t<tr><td>0                             </td><td>42                            </td><td>High school/GED               </td><td>1                             </td><td>20                            </td><td>0                             </td><td>0                             </td><td>0                             </td><td>0                             </td><td>235                           </td><td>...                           </td><td> 86.0                         </td><td>24.05                         </td><td>66                            </td><td> 70                           </td><td>0                             </td><td>0.06025826                    </td><td>0                             </td><td>0                             </td><td>0                             </td><td>1                             </td></tr>\n",
       "\t<tr><td>1                             </td><td>42                            </td><td>Some college/vocational school</td><td>0                             </td><td> 0                            </td><td>0                             </td><td>0                             </td><td>0                             </td><td>0                             </td><td>235                           </td><td>...                           </td><td> 70.0                         </td><td>21.48                         </td><td>67                            </td><td> 73                           </td><td>0                             </td><td>0.05366644                    </td><td>0                             </td><td>0                             </td><td>0                             </td><td>1                             </td></tr>\n",
       "\t<tr><td>0                             </td><td>62                            </td><td>Some high school              </td><td>0                             </td><td> 0                            </td><td>0                             </td><td>0                             </td><td>0                             </td><td>0                             </td><td>207                           </td><td>...                           </td><td> 75.0                         </td><td>22.91                         </td><td>58                            </td><td> 80                           </td><td>0                             </td><td>0.13915777                    </td><td>0                             </td><td>0                             </td><td>0                             </td><td>1                             </td></tr>\n",
       "\t<tr><td>0                             </td><td>36                            </td><td>High school/GED               </td><td>1                             </td><td>15                            </td><td>0                             </td><td>0                             </td><td>0                             </td><td>0                             </td><td>257                           </td><td>...                           </td><td> 72.5                         </td><td>27.86                         </td><td>80                            </td><td> 65                           </td><td>0                             </td><td>0.02616370                    </td><td>0                             </td><td>0                             </td><td>0                             </td><td>1                             </td></tr>\n",
       "\t<tr><td>1                             </td><td>52                            </td><td>High school/GED               </td><td>0                             </td><td> 0                            </td><td>0                             </td><td>0                             </td><td>1                             </td><td>1                             </td><td>269                           </td><td>...                           </td><td> 83.0                         </td><td>26.60                         </td><td>70                            </td><td> 80                           </td><td>0                             </td><td>0.25324173                    </td><td>0                             </td><td>1                             </td><td>0                             </td><td>0                             </td></tr>\n",
       "\t<tr><td>0                             </td><td>61                            </td><td>College                       </td><td>0                             </td><td> 0                            </td><td>0                             </td><td>0                             </td><td>0                             </td><td>0                             </td><td>325                           </td><td>...                           </td><td> 85.5                         </td><td>24.40                         </td><td>68                            </td><td> 70                           </td><td>0                             </td><td>0.17935415                    </td><td>0                             </td><td>1                             </td><td>0                             </td><td>0                             </td></tr>\n",
       "\t<tr><td>0                             </td><td>69                            </td><td>High school/GED               </td><td>0                             </td><td> 0                            </td><td>1                             </td><td>0                             </td><td>1                             </td><td>0                             </td><td>220                           </td><td>...                           </td><td> 81.0                         </td><td>26.27                         </td><td>60                            </td><td> 77                           </td><td>0                             </td><td>0.25965300                    </td><td>0                             </td><td>1                             </td><td>0                             </td><td>0                             </td></tr>\n",
       "\t<tr><td>1                             </td><td>65                            </td><td>College                       </td><td>1                             </td><td> 6                            </td><td>0                             </td><td>0                             </td><td>0                             </td><td>0                             </td><td>236                           </td><td>...                           </td><td> 77.5                         </td><td>24.30                         </td><td>52                            </td><td> 65                           </td><td>1                             </td><td>0.27261577                    </td><td>0                             </td><td>1                             </td><td>0                             </td><td>0                             </td></tr>\n",
       "\t<tr><td>0                             </td><td>44                            </td><td>Some high school              </td><td>0                             </td><td> 0                            </td><td>0                             </td><td>0                             </td><td>0                             </td><td>0                             </td><td>230                           </td><td>...                           </td><td> 81.5                         </td><td>25.74                         </td><td>88                            </td><td> 77                           </td><td>0                             </td><td>0.05115302                    </td><td>0                             </td><td>0                             </td><td>0                             </td><td>1                             </td></tr>\n",
       "\t<tr><td>1                             </td><td>57                            </td><td>College                       </td><td>0                             </td><td> 0                            </td><td>0                             </td><td>0                             </td><td>0                             </td><td>0                             </td><td>194                           </td><td>...                           </td><td> 78.0                         </td><td>29.02                         </td><td>72                            </td><td> 92                           </td><td>0                             </td><td>0.19882166                    </td><td>0                             </td><td>1                             </td><td>0                             </td><td>0                             </td></tr>\n",
       "\t<tr><td>1                             </td><td>58                            </td><td>College                       </td><td>0                             </td><td> 0                            </td><td>0                             </td><td>0                             </td><td>1                             </td><td>0                             </td><td>223                           </td><td>...                           </td><td> 88.0                         </td><td>27.91                         </td><td>69                            </td><td> 81                           </td><td>0                             </td><td>0.28867598                    </td><td>0                             </td><td>1                             </td><td>0                             </td><td>0                             </td></tr>\n",
       "\t<tr><td>1                             </td><td>51                            </td><td>High school/GED               </td><td>1                             </td><td>15                            </td><td>0                             </td><td>0                             </td><td>0                             </td><td>0                             </td><td>267                           </td><td>...                           </td><td> 80.0                         </td><td>25.98                         </td><td>70                            </td><td> 79                           </td><td>0                             </td><td>0.20177896                    </td><td>0                             </td><td>1                             </td><td>0                             </td><td>0                             </td></tr>\n",
       "\t<tr><td>0                             </td><td>52                            </td><td>High school/GED               </td><td>1                             </td><td> 9                            </td><td>0                             </td><td>0                             </td><td>0                             </td><td>0                             </td><td>218                           </td><td>...                           </td><td> 57.0                         </td><td>20.78                         </td><td>79                            </td><td> 85                           </td><td>0                             </td><td>0.08567335                    </td><td>0                             </td><td>0                             </td><td>0                             </td><td>1                             </td></tr>\n",
       "\t<tr><td>1                             </td><td>38                            </td><td>High school/GED               </td><td>0                             </td><td> 0                            </td><td>0                             </td><td>0                             </td><td>0                             </td><td>0                             </td><td>235                           </td><td>...                           </td><td> 83.0                         </td><td>25.85                         </td><td>92                            </td><td> 75                           </td><td>0                             </td><td>0.05640485                    </td><td>0                             </td><td>0                             </td><td>0                             </td><td>1                             </td></tr>\n",
       "\t<tr><td>1                             </td><td>44                            </td><td>Some high school              </td><td>1                             </td><td>20                            </td><td>0                             </td><td>0                             </td><td>0                             </td><td>0                             </td><td>232                           </td><td>...                           </td><td> 87.5                         </td><td>30.03                         </td><td>88                            </td><td> 70                           </td><td>0                             </td><td>0.14137450                    </td><td>0                             </td><td>0                             </td><td>0                             </td><td>1                             </td></tr>\n",
       "\t<tr><td>0                             </td><td>42                            </td><td>High school/GED               </td><td>1                             </td><td>10                            </td><td>0                             </td><td>0                             </td><td>1                             </td><td>0                             </td><td>199                           </td><td>...                           </td><td> 79.0                         </td><td>18.68                         </td><td>92                            </td><td> 76                           </td><td>0                             </td><td>0.05867276                    </td><td>0                             </td><td>0                             </td><td>0                             </td><td>1                             </td></tr>\n",
       "\t<tr><td>0                             </td><td>63                            </td><td>Some high school              </td><td>0                             </td><td> 0                            </td><td>0                             </td><td>0                             </td><td>1                             </td><td>0                             </td><td>306                           </td><td>...                           </td><td>105.0                         </td><td>27.96                         </td><td>75                            </td><td> 87                           </td><td>1                             </td><td>0.45922788                    </td><td>0                             </td><td>1                             </td><td>0                             </td><td>0                             </td></tr>\n",
       "\t<tr><td>1                             </td><td>65                            </td><td>Some high school              </td><td>1                             </td><td>20                            </td><td>1                             </td><td>0                             </td><td>1                             </td><td>0                             </td><td>246                           </td><td>...                           </td><td> 96.0                         </td><td>19.34                         </td><td>95                            </td><td> 76                           </td><td>1                             </td><td>0.60308950                    </td><td>0                             </td><td>1                             </td><td>0                             </td><td>0                             </td></tr>\n",
       "\t<tr><td>0                             </td><td>38                            </td><td>High school/GED               </td><td>0                             </td><td> 0                            </td><td>0                             </td><td>0                             </td><td>0                             </td><td>0                             </td><td>216                           </td><td>...                           </td><td> 72.0                         </td><td>22.01                         </td><td>63                            </td><td> 75                           </td><td>0                             </td><td>0.03981445                    </td><td>0                             </td><td>0                             </td><td>0                             </td><td>1                             </td></tr>\n",
       "\t<tr><td>0                             </td><td>61                            </td><td>College                       </td><td>0                             </td><td> 0                            </td><td>0                             </td><td>0                             </td><td>0                             </td><td>0                             </td><td>261                           </td><td>...                           </td><td> 76.5                         </td><td>23.06                         </td><td>55                            </td><td> 83                           </td><td>1                             </td><td>0.15135507                    </td><td>0                             </td><td>0                             </td><td>1                             </td><td>0                             </td></tr>\n",
       "\t<tr><td>1                             </td><td>50                            </td><td>Some high school              </td><td>0                             </td><td> 0                            </td><td>0                             </td><td>0                             </td><td>0                             </td><td>0                             </td><td>260                           </td><td>...                           </td><td> 74.0                         </td><td>21.85                         </td><td>80                            </td><td> 72                           </td><td>1                             </td><td>0.12329984                    </td><td>0                             </td><td>0                             </td><td>1                             </td><td>0                             </td></tr>\n",
       "\t<tr><td>1                             </td><td>50                            </td><td>Some high school              </td><td>1                             </td><td> 1                            </td><td>0                             </td><td>0                             </td><td>1                             </td><td>0                             </td><td>313                           </td><td>...                           </td><td> 92.0                         </td><td>25.97                         </td><td>66                            </td><td> 86                           </td><td>1                             </td><td>0.34928606                    </td><td>0                             </td><td>1                             </td><td>0                             </td><td>0                             </td></tr>\n",
       "\t<tr><td>1                             </td><td>51                            </td><td>Some college/vocational school</td><td>1                             </td><td>43                            </td><td>0                             </td><td>0                             </td><td>0                             </td><td>0                             </td><td>207                           </td><td>...                           </td><td> 80.0                         </td><td>19.71                         </td><td>65                            </td><td> 68                           </td><td>0                             </td><td>0.22901176                    </td><td>0                             </td><td>1                             </td><td>0                             </td><td>0                             </td></tr>\n",
       "\t<tr><td>0                             </td><td>52                            </td><td>High school/GED               </td><td>0                             </td><td> 0                            </td><td>0                             </td><td>0                             </td><td>0                             </td><td>0                             </td><td>269                           </td><td>...                           </td><td> 83.0                         </td><td>21.47                         </td><td>80                            </td><td>107                           </td><td>0                             </td><td>0.11879846                    </td><td>0                             </td><td>0                             </td><td>0                             </td><td>1                             </td></tr>\n",
       "\t<tr><td>1                             </td><td>40                            </td><td>Some college/vocational school</td><td>0                             </td><td> 0                            </td><td>0                             </td><td>0                             </td><td>1                             </td><td>0                             </td><td>185                           </td><td>...                           </td><td> 98.0                         </td><td>25.60                         </td><td>67                            </td><td> 72                           </td><td>0                             </td><td>0.07263760                    </td><td>0                             </td><td>0                             </td><td>0                             </td><td>1                             </td></tr>\n",
       "\t<tr><td>0                             </td><td>39                            </td><td>Some college/vocational school</td><td>1                             </td><td>30                            </td><td>0                             </td><td>0                             </td><td>0                             </td><td>0                             </td><td>196                           </td><td>...                           </td><td> 86.0                         </td><td>20.91                         </td><td>85                            </td><td> 80                           </td><td>0                             </td><td>0.05849966                    </td><td>0                             </td><td>0                             </td><td>0                             </td><td>1                             </td></tr>\n",
       "</tbody>\n",
       "</table>\n"
      ],
      "text/latex": [
       "\\begin{tabular}{r|lllllllllllllllllllll}\n",
       " male & age & education & currentSmoker & cigsPerDay & BPMeds & prevalentStroke & prevalentHyp & diabetes & totChol & ... & diaBP & BMI & heartRate & glucose & TenYearCHD & Prediction & cost1 & cost2 & cost3 & cost4\\\\\n",
       "\\hline\n",
       "\t 0                              & 46                             & High school/GED                & 0                              &  0                             & 0                              & 0                              & 0                              & 0                              & 250                            & ...                            & 81.0                           & 28.73                          & 95                             &  76                            & 0                              & 0.05370563                     & 0                              & 0                              & 0                              & 1                             \\\\\n",
       "\t 0                              & 41                             & Some college/vocational school & 0                              &  0                             & 1                              & 0                              & 1                              & 0                              & 332                            & ...                            & 88.0                           & 31.31                          & 65                             &  84                            & 0                              & 0.05776760                     & 0                              & 0                              & 0                              & 1                             \\\\\n",
       "\t 0                              & 38                             & High school/GED                & 1                              & 20                             & 0                              & 0                              & 1                              & 0                              & 221                            & ...                            & 90.0                           & 21.35                          & 95                             &  70                            & 1                              & 0.05398608                     & 0                              & 0                              & 1                              & 0                             \\\\\n",
       "\t 1                              & 41                             & High school/GED                & 0                              &  0                             & 0                              & 0                              & 0                              & 0                              & 195                            & ...                            & 88.0                           & 26.88                          & 85                             &  65                            & 0                              & 0.07491065                     & 0                              & 0                              & 0                              & 1                             \\\\\n",
       "\t 0                              & 42                             & High school/GED                & 1                              & 30                             & 0                              & 0                              & 0                              & 0                              & 190                            & ...                            & 70.5                           & 21.59                          & 72                             &  85                            & 0                              & 0.04721828                     & 0                              & 0                              & 0                              & 1                             \\\\\n",
       "\t 0                              & 52                             & Some college/vocational school & 1                              & 20                             & 0                              & 0                              & 0                              & 0                              & 215                            & ...                            & 82.0                           & 25.11                          & 71                             &  75                            & 0                              & 0.11370999                     & 0                              & 0                              & 0                              & 1                             \\\\\n",
       "\t 0                              & 59                             & Some high school               & 0                              &  0                             & 0                              & 0                              & 1                              & 0                              & 209                            & ...                            & 85.0                           & 20.77                          & 90                             &  88                            & 1                              & 0.17028996                     & 0                              & 1                              & 0                              & 0                             \\\\\n",
       "\t 1                              & 37                             & High school/GED                & 0                              &  0                             & 0                              & 0                              & 1                              & 0                              & 225                            & ...                            & 92.5                           & 38.53                          & 95                             &  83                            & 0                              & 0.05630831                     & 0                              & 0                              & 0                              & 1                             \\\\\n",
       "\t 0                              & 41                             & High school/GED                & 1                              &  1                             & 0                              & 0                              & 0                              & 0                              & 237                            & ...                            & 78.0                           & 23.28                          & 75                             &  74                            & 0                              & 0.03796318                     & 0                              & 0                              & 0                              & 1                             \\\\\n",
       "\t 1                              & 54                             & High school/GED                & 0                              &  0                             & 0                              & 0                              & 0                              & 0                              & 195                            & ...                            & 83.5                           & 26.21                          & 75                             & 100                            & 0                              & 0.17285219                     & 0                              & 1                              & 0                              & 0                             \\\\\n",
       "\t 0                              & 53                             & Some college/vocational school & 0                              &  0                             & 1                              & 0                              & 1                              & 1                              & 311                            & ...                            & 92.0                           & 21.51                          & 76                             & 215                            & 1                              & 0.51865782                     & 0                              & 1                              & 0                              & 0                             \\\\\n",
       "\t 0                              & 62                             & Some high school               & 0                              &  0                             & 0                              & 0                              & 0                              & 0                              & 240                            & ...                            & 82.5                           & 28.27                          & 63                             &  75                            & 0                              & 0.19487397                     & 0                              & 1                              & 0                              & 0                             \\\\\n",
       "\t 0                              & 46                             & Some high school               & 1                              & 10                             & 0                              & 0                              & 0                              & 0                              & 250                            & ...                            & 71.0                           & 20.35                          & 88                             &  94                            & 0                              & 0.06442139                     & 0                              & 0                              & 0                              & 1                             \\\\\n",
       "\t 1                              & 44                             & High school/GED                & 0                              &  0                             & 0                              & 0                              & 0                              & 0                              & 185                            & ...                            & 69.0                           & 22.29                          & 65                             &  82                            & 0                              & 0.06464084                     & 0                              & 0                              & 0                              & 1                             \\\\\n",
       "\t 0                              & 57                             & Some high school               & 1                              &  3                             & 0                              & 0                              & 0                              & 0                              & 235                            & ...                            & 80.0                           & 24.88                          & 83                             &  72                            & 0                              & 0.11327321                     & 0                              & 0                              & 0                              & 1                             \\\\\n",
       "\t 1                              & 42                             & Some college/vocational school & 1                              & 10                             & 0                              & 0                              & 0                              & 0                              & 175                            & ...                            & 72.5                           & 28.61                          & 63                             &  95                            & 0                              & 0.07068811                     & 0                              & 0                              & 0                              & 1                             \\\\\n",
       "\t 1                              & 60                             & Some high school               & 1                              & 20                             & 0                              & 0                              & 1                              & 0                              & 170                            & ...                            & 94.0                           & 26.52                          & 90                             &  83                            & 0                              & 0.45614909                     & 0                              & 1                              & 0                              & 0                             \\\\\n",
       "\t 0                              & 53                             & High school/GED                & 0                              &  0                             & 0                              & 0                              & 0                              & 0                              & 210                            & ...                            & 86.5                           & 22.49                          & 88                             &  87                            & 0                              & 0.09996364                     & 0                              & 0                              & 0                              & 1                             \\\\\n",
       "\t 0                              & 62                             & Some high school               & 0                              &  0                             & 0                              & 0                              & 0                              & 0                              & 261                            & ...                            & 82.0                           & 23.89                          & 65                             &  77                            & 0                              & 0.19043243                     & 0                              & 1                              & 0                              & 0                             \\\\\n",
       "\t 0                              & 51                             & Some high school               & 0                              &  0                             & 0                              & 0                              & 0                              & 0                              & 244                            & ...                            & 71.5                           & 27.38                          & 71                             &  77                            & 0                              & 0.05323226                     & 0                              & 0                              & 0                              & 1                             \\\\\n",
       "\t 0                              & 63                             & College                        & 1                              & 20                             & 0                              & 0                              & 0                              & 1                              & 239                            & ...                            & 80.0                           & 26.64                          & 88                             & 126                            & 0                              & 0.28835805                     & 0                              & 1                              & 0                              & 0                             \\\\\n",
       "\t 0                              & 56                             & Some high school               & 0                              &  0                             & 0                              & 0                              & 1                              & 0                              & 296                            & ...                            & 90.0                           & 23.72                          & 75                             & 120                            & 0                              & 0.32018474                     & 0                              & 1                              & 0                              & 0                             \\\\\n",
       "\t 0                              & 56                             & Some high school               & 1                              & 15                             & 0                              & 0                              & 0                              & 0                              & 269                            & ...                            & 75.0                           & 22.36                          & 50                             &  66                            & 0                              & 0.12965638                     & 0                              & 0                              & 0                              & 1                             \\\\\n",
       "\t 0                              & 48                             & Some high school               & 0                              &  0                             & 0                              & 0                              & 1                              & 0                              & 265                            & ...                            & 77.0                           & 24.23                          & 74                             &  64                            & 0                              & 0.08896383                     & 0                              & 0                              & 0                              & 1                             \\\\\n",
       "\t 0                              & 42                             & College                        & 0                              &  0                             & 0                              & 0                              & 0                              & 0                              & 250                            & ...                            & 79.0                           & 26.93                          & 65                             &  79                            & 0                              & 0.03818987                     & 0                              & 0                              & 0                              & 1                             \\\\\n",
       "\t 0                              & 66                             & Some high school               & 0                              &  0                             & 0                              & 0                              & 1                              & 0                              & 278                            & ...                            & 88.0                           & 40.52                          & 90                             &  84                            & 1                              & 0.44403275                     & 0                              & 1                              & 0                              & 0                             \\\\\n",
       "\t 0                              & 67                             & Some high school               & 0                              &  0                             & 0                              & 0                              & 1                              & 0                              & 264                            & ...                            & 80.0                           & 25.75                          & 75                             &  87                            & 0                              & 0.26385700                     & 0                              & 1                              & 0                              & 0                             \\\\\n",
       "\t 1                              & 48                             & College                        & 0                              &  0                             & 0                              & 0                              & 0                              & 0                              & 233                            & ...                            & 88.5                           & 23.62                          & 86                             &  68                            & 0                              & 0.13072918                     & 0                              & 0                              & 0                              & 1                             \\\\\n",
       "\t 1                              & 50                             & Some high school               & 0                              &  0                             & 0                              & 0                              & 1                              & 0                              & 257                            & ...                            & 82.0                           & 32.23                          & 75                             & 117                            & 1                              & 0.16971783                     & 0                              & 1                              & 0                              & 0                             \\\\\n",
       "\t 1                              & 36                             & College                        & 0                              &  0                             & 0                              & 0                              & 0                              & 0                              & 210                            & ...                            & 85.5                           & 21.93                          & 71                             &  77                            & 0                              & 0.03939225                     & 0                              & 0                              & 0                              & 1                             \\\\\n",
       "\t ... & ... & ... & ... & ... & ... & ... & ... & ... & ... &     & ... & ... & ... & ... & ... & ... & ... & ... & ... & ...\\\\\n",
       "\t 1                              & 45                             & Some high school               & 0                              &  0                             & 0                              & 0                              & 0                              & 0                              & 220                            & ...                            &  74.0                          & 27.34                          & 70                             & 100                            & 0                              & 0.12407517                     & 0                              & 0                              & 0                              & 1                             \\\\\n",
       "\t 0                              & 65                             & College                        & 0                              &  0                             & 0                              & 0                              & 0                              & 0                              & 280                            & ...                            &  73.0                          & 19.76                          & 65                             &  58                            & 0                              & 0.15797355                     & 0                              & 0                              & 0                              & 1                             \\\\\n",
       "\t 1                              & 57                             & High school/GED                & 1                              & 20                             & 0                              & 0                              & 0                              & 0                              & 210                            & ...                            &  77.5                          & 27.14                          & 77                             &  71                            & 0                              & 0.21251962                     & 0                              & 1                              & 0                              & 0                             \\\\\n",
       "\t 0                              & 57                             & Some high school               & 0                              &  0                             & 0                              & 0                              & 1                              & 0                              & 259                            & ...                            & 101.0                          & 38.17                          & 85                             &  75                            & 0                              & 0.22279726                     & 0                              & 1                              & 0                              & 0                             \\\\\n",
       "\t 0                              & 42                             & High school/GED                & 1                              & 20                             & 0                              & 0                              & 0                              & 0                              & 235                            & ...                            &  86.0                          & 24.05                          & 66                             &  70                            & 0                              & 0.06025826                     & 0                              & 0                              & 0                              & 1                             \\\\\n",
       "\t 1                              & 42                             & Some college/vocational school & 0                              &  0                             & 0                              & 0                              & 0                              & 0                              & 235                            & ...                            &  70.0                          & 21.48                          & 67                             &  73                            & 0                              & 0.05366644                     & 0                              & 0                              & 0                              & 1                             \\\\\n",
       "\t 0                              & 62                             & Some high school               & 0                              &  0                             & 0                              & 0                              & 0                              & 0                              & 207                            & ...                            &  75.0                          & 22.91                          & 58                             &  80                            & 0                              & 0.13915777                     & 0                              & 0                              & 0                              & 1                             \\\\\n",
       "\t 0                              & 36                             & High school/GED                & 1                              & 15                             & 0                              & 0                              & 0                              & 0                              & 257                            & ...                            &  72.5                          & 27.86                          & 80                             &  65                            & 0                              & 0.02616370                     & 0                              & 0                              & 0                              & 1                             \\\\\n",
       "\t 1                              & 52                             & High school/GED                & 0                              &  0                             & 0                              & 0                              & 1                              & 1                              & 269                            & ...                            &  83.0                          & 26.60                          & 70                             &  80                            & 0                              & 0.25324173                     & 0                              & 1                              & 0                              & 0                             \\\\\n",
       "\t 0                              & 61                             & College                        & 0                              &  0                             & 0                              & 0                              & 0                              & 0                              & 325                            & ...                            &  85.5                          & 24.40                          & 68                             &  70                            & 0                              & 0.17935415                     & 0                              & 1                              & 0                              & 0                             \\\\\n",
       "\t 0                              & 69                             & High school/GED                & 0                              &  0                             & 1                              & 0                              & 1                              & 0                              & 220                            & ...                            &  81.0                          & 26.27                          & 60                             &  77                            & 0                              & 0.25965300                     & 0                              & 1                              & 0                              & 0                             \\\\\n",
       "\t 1                              & 65                             & College                        & 1                              &  6                             & 0                              & 0                              & 0                              & 0                              & 236                            & ...                            &  77.5                          & 24.30                          & 52                             &  65                            & 1                              & 0.27261577                     & 0                              & 1                              & 0                              & 0                             \\\\\n",
       "\t 0                              & 44                             & Some high school               & 0                              &  0                             & 0                              & 0                              & 0                              & 0                              & 230                            & ...                            &  81.5                          & 25.74                          & 88                             &  77                            & 0                              & 0.05115302                     & 0                              & 0                              & 0                              & 1                             \\\\\n",
       "\t 1                              & 57                             & College                        & 0                              &  0                             & 0                              & 0                              & 0                              & 0                              & 194                            & ...                            &  78.0                          & 29.02                          & 72                             &  92                            & 0                              & 0.19882166                     & 0                              & 1                              & 0                              & 0                             \\\\\n",
       "\t 1                              & 58                             & College                        & 0                              &  0                             & 0                              & 0                              & 1                              & 0                              & 223                            & ...                            &  88.0                          & 27.91                          & 69                             &  81                            & 0                              & 0.28867598                     & 0                              & 1                              & 0                              & 0                             \\\\\n",
       "\t 1                              & 51                             & High school/GED                & 1                              & 15                             & 0                              & 0                              & 0                              & 0                              & 267                            & ...                            &  80.0                          & 25.98                          & 70                             &  79                            & 0                              & 0.20177896                     & 0                              & 1                              & 0                              & 0                             \\\\\n",
       "\t 0                              & 52                             & High school/GED                & 1                              &  9                             & 0                              & 0                              & 0                              & 0                              & 218                            & ...                            &  57.0                          & 20.78                          & 79                             &  85                            & 0                              & 0.08567335                     & 0                              & 0                              & 0                              & 1                             \\\\\n",
       "\t 1                              & 38                             & High school/GED                & 0                              &  0                             & 0                              & 0                              & 0                              & 0                              & 235                            & ...                            &  83.0                          & 25.85                          & 92                             &  75                            & 0                              & 0.05640485                     & 0                              & 0                              & 0                              & 1                             \\\\\n",
       "\t 1                              & 44                             & Some high school               & 1                              & 20                             & 0                              & 0                              & 0                              & 0                              & 232                            & ...                            &  87.5                          & 30.03                          & 88                             &  70                            & 0                              & 0.14137450                     & 0                              & 0                              & 0                              & 1                             \\\\\n",
       "\t 0                              & 42                             & High school/GED                & 1                              & 10                             & 0                              & 0                              & 1                              & 0                              & 199                            & ...                            &  79.0                          & 18.68                          & 92                             &  76                            & 0                              & 0.05867276                     & 0                              & 0                              & 0                              & 1                             \\\\\n",
       "\t 0                              & 63                             & Some high school               & 0                              &  0                             & 0                              & 0                              & 1                              & 0                              & 306                            & ...                            & 105.0                          & 27.96                          & 75                             &  87                            & 1                              & 0.45922788                     & 0                              & 1                              & 0                              & 0                             \\\\\n",
       "\t 1                              & 65                             & Some high school               & 1                              & 20                             & 1                              & 0                              & 1                              & 0                              & 246                            & ...                            &  96.0                          & 19.34                          & 95                             &  76                            & 1                              & 0.60308950                     & 0                              & 1                              & 0                              & 0                             \\\\\n",
       "\t 0                              & 38                             & High school/GED                & 0                              &  0                             & 0                              & 0                              & 0                              & 0                              & 216                            & ...                            &  72.0                          & 22.01                          & 63                             &  75                            & 0                              & 0.03981445                     & 0                              & 0                              & 0                              & 1                             \\\\\n",
       "\t 0                              & 61                             & College                        & 0                              &  0                             & 0                              & 0                              & 0                              & 0                              & 261                            & ...                            &  76.5                          & 23.06                          & 55                             &  83                            & 1                              & 0.15135507                     & 0                              & 0                              & 1                              & 0                             \\\\\n",
       "\t 1                              & 50                             & Some high school               & 0                              &  0                             & 0                              & 0                              & 0                              & 0                              & 260                            & ...                            &  74.0                          & 21.85                          & 80                             &  72                            & 1                              & 0.12329984                     & 0                              & 0                              & 1                              & 0                             \\\\\n",
       "\t 1                              & 50                             & Some high school               & 1                              &  1                             & 0                              & 0                              & 1                              & 0                              & 313                            & ...                            &  92.0                          & 25.97                          & 66                             &  86                            & 1                              & 0.34928606                     & 0                              & 1                              & 0                              & 0                             \\\\\n",
       "\t 1                              & 51                             & Some college/vocational school & 1                              & 43                             & 0                              & 0                              & 0                              & 0                              & 207                            & ...                            &  80.0                          & 19.71                          & 65                             &  68                            & 0                              & 0.22901176                     & 0                              & 1                              & 0                              & 0                             \\\\\n",
       "\t 0                              & 52                             & High school/GED                & 0                              &  0                             & 0                              & 0                              & 0                              & 0                              & 269                            & ...                            &  83.0                          & 21.47                          & 80                             & 107                            & 0                              & 0.11879846                     & 0                              & 0                              & 0                              & 1                             \\\\\n",
       "\t 1                              & 40                             & Some college/vocational school & 0                              &  0                             & 0                              & 0                              & 1                              & 0                              & 185                            & ...                            &  98.0                          & 25.60                          & 67                             &  72                            & 0                              & 0.07263760                     & 0                              & 0                              & 0                              & 1                             \\\\\n",
       "\t 0                              & 39                             & Some college/vocational school & 1                              & 30                             & 0                              & 0                              & 0                              & 0                              & 196                            & ...                            &  86.0                          & 20.91                          & 85                             &  80                            & 0                              & 0.05849966                     & 0                              & 0                              & 0                              & 1                             \\\\\n",
       "\\end{tabular}\n"
      ],
      "text/markdown": [
       "\n",
       "male | age | education | currentSmoker | cigsPerDay | BPMeds | prevalentStroke | prevalentHyp | diabetes | totChol | ... | diaBP | BMI | heartRate | glucose | TenYearCHD | Prediction | cost1 | cost2 | cost3 | cost4 | \n",
       "|---|---|---|---|---|---|---|---|---|---|---|---|---|---|---|---|---|---|---|---|---|---|---|---|---|---|---|---|---|---|---|---|---|---|---|---|---|---|---|---|---|---|---|---|---|---|---|---|---|---|---|---|---|---|---|---|---|---|---|---|---|\n",
       "| 0                              | 46                             | High school/GED                | 0                              |  0                             | 0                              | 0                              | 0                              | 0                              | 250                            | ...                            | 81.0                           | 28.73                          | 95                             |  76                            | 0                              | 0.05370563                     | 0                              | 0                              | 0                              | 1                              | \n",
       "| 0                              | 41                             | Some college/vocational school | 0                              |  0                             | 1                              | 0                              | 1                              | 0                              | 332                            | ...                            | 88.0                           | 31.31                          | 65                             |  84                            | 0                              | 0.05776760                     | 0                              | 0                              | 0                              | 1                              | \n",
       "| 0                              | 38                             | High school/GED                | 1                              | 20                             | 0                              | 0                              | 1                              | 0                              | 221                            | ...                            | 90.0                           | 21.35                          | 95                             |  70                            | 1                              | 0.05398608                     | 0                              | 0                              | 1                              | 0                              | \n",
       "| 1                              | 41                             | High school/GED                | 0                              |  0                             | 0                              | 0                              | 0                              | 0                              | 195                            | ...                            | 88.0                           | 26.88                          | 85                             |  65                            | 0                              | 0.07491065                     | 0                              | 0                              | 0                              | 1                              | \n",
       "| 0                              | 42                             | High school/GED                | 1                              | 30                             | 0                              | 0                              | 0                              | 0                              | 190                            | ...                            | 70.5                           | 21.59                          | 72                             |  85                            | 0                              | 0.04721828                     | 0                              | 0                              | 0                              | 1                              | \n",
       "| 0                              | 52                             | Some college/vocational school | 1                              | 20                             | 0                              | 0                              | 0                              | 0                              | 215                            | ...                            | 82.0                           | 25.11                          | 71                             |  75                            | 0                              | 0.11370999                     | 0                              | 0                              | 0                              | 1                              | \n",
       "| 0                              | 59                             | Some high school               | 0                              |  0                             | 0                              | 0                              | 1                              | 0                              | 209                            | ...                            | 85.0                           | 20.77                          | 90                             |  88                            | 1                              | 0.17028996                     | 0                              | 1                              | 0                              | 0                              | \n",
       "| 1                              | 37                             | High school/GED                | 0                              |  0                             | 0                              | 0                              | 1                              | 0                              | 225                            | ...                            | 92.5                           | 38.53                          | 95                             |  83                            | 0                              | 0.05630831                     | 0                              | 0                              | 0                              | 1                              | \n",
       "| 0                              | 41                             | High school/GED                | 1                              |  1                             | 0                              | 0                              | 0                              | 0                              | 237                            | ...                            | 78.0                           | 23.28                          | 75                             |  74                            | 0                              | 0.03796318                     | 0                              | 0                              | 0                              | 1                              | \n",
       "| 1                              | 54                             | High school/GED                | 0                              |  0                             | 0                              | 0                              | 0                              | 0                              | 195                            | ...                            | 83.5                           | 26.21                          | 75                             | 100                            | 0                              | 0.17285219                     | 0                              | 1                              | 0                              | 0                              | \n",
       "| 0                              | 53                             | Some college/vocational school | 0                              |  0                             | 1                              | 0                              | 1                              | 1                              | 311                            | ...                            | 92.0                           | 21.51                          | 76                             | 215                            | 1                              | 0.51865782                     | 0                              | 1                              | 0                              | 0                              | \n",
       "| 0                              | 62                             | Some high school               | 0                              |  0                             | 0                              | 0                              | 0                              | 0                              | 240                            | ...                            | 82.5                           | 28.27                          | 63                             |  75                            | 0                              | 0.19487397                     | 0                              | 1                              | 0                              | 0                              | \n",
       "| 0                              | 46                             | Some high school               | 1                              | 10                             | 0                              | 0                              | 0                              | 0                              | 250                            | ...                            | 71.0                           | 20.35                          | 88                             |  94                            | 0                              | 0.06442139                     | 0                              | 0                              | 0                              | 1                              | \n",
       "| 1                              | 44                             | High school/GED                | 0                              |  0                             | 0                              | 0                              | 0                              | 0                              | 185                            | ...                            | 69.0                           | 22.29                          | 65                             |  82                            | 0                              | 0.06464084                     | 0                              | 0                              | 0                              | 1                              | \n",
       "| 0                              | 57                             | Some high school               | 1                              |  3                             | 0                              | 0                              | 0                              | 0                              | 235                            | ...                            | 80.0                           | 24.88                          | 83                             |  72                            | 0                              | 0.11327321                     | 0                              | 0                              | 0                              | 1                              | \n",
       "| 1                              | 42                             | Some college/vocational school | 1                              | 10                             | 0                              | 0                              | 0                              | 0                              | 175                            | ...                            | 72.5                           | 28.61                          | 63                             |  95                            | 0                              | 0.07068811                     | 0                              | 0                              | 0                              | 1                              | \n",
       "| 1                              | 60                             | Some high school               | 1                              | 20                             | 0                              | 0                              | 1                              | 0                              | 170                            | ...                            | 94.0                           | 26.52                          | 90                             |  83                            | 0                              | 0.45614909                     | 0                              | 1                              | 0                              | 0                              | \n",
       "| 0                              | 53                             | High school/GED                | 0                              |  0                             | 0                              | 0                              | 0                              | 0                              | 210                            | ...                            | 86.5                           | 22.49                          | 88                             |  87                            | 0                              | 0.09996364                     | 0                              | 0                              | 0                              | 1                              | \n",
       "| 0                              | 62                             | Some high school               | 0                              |  0                             | 0                              | 0                              | 0                              | 0                              | 261                            | ...                            | 82.0                           | 23.89                          | 65                             |  77                            | 0                              | 0.19043243                     | 0                              | 1                              | 0                              | 0                              | \n",
       "| 0                              | 51                             | Some high school               | 0                              |  0                             | 0                              | 0                              | 0                              | 0                              | 244                            | ...                            | 71.5                           | 27.38                          | 71                             |  77                            | 0                              | 0.05323226                     | 0                              | 0                              | 0                              | 1                              | \n",
       "| 0                              | 63                             | College                        | 1                              | 20                             | 0                              | 0                              | 0                              | 1                              | 239                            | ...                            | 80.0                           | 26.64                          | 88                             | 126                            | 0                              | 0.28835805                     | 0                              | 1                              | 0                              | 0                              | \n",
       "| 0                              | 56                             | Some high school               | 0                              |  0                             | 0                              | 0                              | 1                              | 0                              | 296                            | ...                            | 90.0                           | 23.72                          | 75                             | 120                            | 0                              | 0.32018474                     | 0                              | 1                              | 0                              | 0                              | \n",
       "| 0                              | 56                             | Some high school               | 1                              | 15                             | 0                              | 0                              | 0                              | 0                              | 269                            | ...                            | 75.0                           | 22.36                          | 50                             |  66                            | 0                              | 0.12965638                     | 0                              | 0                              | 0                              | 1                              | \n",
       "| 0                              | 48                             | Some high school               | 0                              |  0                             | 0                              | 0                              | 1                              | 0                              | 265                            | ...                            | 77.0                           | 24.23                          | 74                             |  64                            | 0                              | 0.08896383                     | 0                              | 0                              | 0                              | 1                              | \n",
       "| 0                              | 42                             | College                        | 0                              |  0                             | 0                              | 0                              | 0                              | 0                              | 250                            | ...                            | 79.0                           | 26.93                          | 65                             |  79                            | 0                              | 0.03818987                     | 0                              | 0                              | 0                              | 1                              | \n",
       "| 0                              | 66                             | Some high school               | 0                              |  0                             | 0                              | 0                              | 1                              | 0                              | 278                            | ...                            | 88.0                           | 40.52                          | 90                             |  84                            | 1                              | 0.44403275                     | 0                              | 1                              | 0                              | 0                              | \n",
       "| 0                              | 67                             | Some high school               | 0                              |  0                             | 0                              | 0                              | 1                              | 0                              | 264                            | ...                            | 80.0                           | 25.75                          | 75                             |  87                            | 0                              | 0.26385700                     | 0                              | 1                              | 0                              | 0                              | \n",
       "| 1                              | 48                             | College                        | 0                              |  0                             | 0                              | 0                              | 0                              | 0                              | 233                            | ...                            | 88.5                           | 23.62                          | 86                             |  68                            | 0                              | 0.13072918                     | 0                              | 0                              | 0                              | 1                              | \n",
       "| 1                              | 50                             | Some high school               | 0                              |  0                             | 0                              | 0                              | 1                              | 0                              | 257                            | ...                            | 82.0                           | 32.23                          | 75                             | 117                            | 1                              | 0.16971783                     | 0                              | 1                              | 0                              | 0                              | \n",
       "| 1                              | 36                             | College                        | 0                              |  0                             | 0                              | 0                              | 0                              | 0                              | 210                            | ...                            | 85.5                           | 21.93                          | 71                             |  77                            | 0                              | 0.03939225                     | 0                              | 0                              | 0                              | 1                              | \n",
       "| ... | ... | ... | ... | ... | ... | ... | ... | ... | ... |     | ... | ... | ... | ... | ... | ... | ... | ... | ... | ... | \n",
       "| 1                              | 45                             | Some high school               | 0                              |  0                             | 0                              | 0                              | 0                              | 0                              | 220                            | ...                            |  74.0                          | 27.34                          | 70                             | 100                            | 0                              | 0.12407517                     | 0                              | 0                              | 0                              | 1                              | \n",
       "| 0                              | 65                             | College                        | 0                              |  0                             | 0                              | 0                              | 0                              | 0                              | 280                            | ...                            |  73.0                          | 19.76                          | 65                             |  58                            | 0                              | 0.15797355                     | 0                              | 0                              | 0                              | 1                              | \n",
       "| 1                              | 57                             | High school/GED                | 1                              | 20                             | 0                              | 0                              | 0                              | 0                              | 210                            | ...                            |  77.5                          | 27.14                          | 77                             |  71                            | 0                              | 0.21251962                     | 0                              | 1                              | 0                              | 0                              | \n",
       "| 0                              | 57                             | Some high school               | 0                              |  0                             | 0                              | 0                              | 1                              | 0                              | 259                            | ...                            | 101.0                          | 38.17                          | 85                             |  75                            | 0                              | 0.22279726                     | 0                              | 1                              | 0                              | 0                              | \n",
       "| 0                              | 42                             | High school/GED                | 1                              | 20                             | 0                              | 0                              | 0                              | 0                              | 235                            | ...                            |  86.0                          | 24.05                          | 66                             |  70                            | 0                              | 0.06025826                     | 0                              | 0                              | 0                              | 1                              | \n",
       "| 1                              | 42                             | Some college/vocational school | 0                              |  0                             | 0                              | 0                              | 0                              | 0                              | 235                            | ...                            |  70.0                          | 21.48                          | 67                             |  73                            | 0                              | 0.05366644                     | 0                              | 0                              | 0                              | 1                              | \n",
       "| 0                              | 62                             | Some high school               | 0                              |  0                             | 0                              | 0                              | 0                              | 0                              | 207                            | ...                            |  75.0                          | 22.91                          | 58                             |  80                            | 0                              | 0.13915777                     | 0                              | 0                              | 0                              | 1                              | \n",
       "| 0                              | 36                             | High school/GED                | 1                              | 15                             | 0                              | 0                              | 0                              | 0                              | 257                            | ...                            |  72.5                          | 27.86                          | 80                             |  65                            | 0                              | 0.02616370                     | 0                              | 0                              | 0                              | 1                              | \n",
       "| 1                              | 52                             | High school/GED                | 0                              |  0                             | 0                              | 0                              | 1                              | 1                              | 269                            | ...                            |  83.0                          | 26.60                          | 70                             |  80                            | 0                              | 0.25324173                     | 0                              | 1                              | 0                              | 0                              | \n",
       "| 0                              | 61                             | College                        | 0                              |  0                             | 0                              | 0                              | 0                              | 0                              | 325                            | ...                            |  85.5                          | 24.40                          | 68                             |  70                            | 0                              | 0.17935415                     | 0                              | 1                              | 0                              | 0                              | \n",
       "| 0                              | 69                             | High school/GED                | 0                              |  0                             | 1                              | 0                              | 1                              | 0                              | 220                            | ...                            |  81.0                          | 26.27                          | 60                             |  77                            | 0                              | 0.25965300                     | 0                              | 1                              | 0                              | 0                              | \n",
       "| 1                              | 65                             | College                        | 1                              |  6                             | 0                              | 0                              | 0                              | 0                              | 236                            | ...                            |  77.5                          | 24.30                          | 52                             |  65                            | 1                              | 0.27261577                     | 0                              | 1                              | 0                              | 0                              | \n",
       "| 0                              | 44                             | Some high school               | 0                              |  0                             | 0                              | 0                              | 0                              | 0                              | 230                            | ...                            |  81.5                          | 25.74                          | 88                             |  77                            | 0                              | 0.05115302                     | 0                              | 0                              | 0                              | 1                              | \n",
       "| 1                              | 57                             | College                        | 0                              |  0                             | 0                              | 0                              | 0                              | 0                              | 194                            | ...                            |  78.0                          | 29.02                          | 72                             |  92                            | 0                              | 0.19882166                     | 0                              | 1                              | 0                              | 0                              | \n",
       "| 1                              | 58                             | College                        | 0                              |  0                             | 0                              | 0                              | 1                              | 0                              | 223                            | ...                            |  88.0                          | 27.91                          | 69                             |  81                            | 0                              | 0.28867598                     | 0                              | 1                              | 0                              | 0                              | \n",
       "| 1                              | 51                             | High school/GED                | 1                              | 15                             | 0                              | 0                              | 0                              | 0                              | 267                            | ...                            |  80.0                          | 25.98                          | 70                             |  79                            | 0                              | 0.20177896                     | 0                              | 1                              | 0                              | 0                              | \n",
       "| 0                              | 52                             | High school/GED                | 1                              |  9                             | 0                              | 0                              | 0                              | 0                              | 218                            | ...                            |  57.0                          | 20.78                          | 79                             |  85                            | 0                              | 0.08567335                     | 0                              | 0                              | 0                              | 1                              | \n",
       "| 1                              | 38                             | High school/GED                | 0                              |  0                             | 0                              | 0                              | 0                              | 0                              | 235                            | ...                            |  83.0                          | 25.85                          | 92                             |  75                            | 0                              | 0.05640485                     | 0                              | 0                              | 0                              | 1                              | \n",
       "| 1                              | 44                             | Some high school               | 1                              | 20                             | 0                              | 0                              | 0                              | 0                              | 232                            | ...                            |  87.5                          | 30.03                          | 88                             |  70                            | 0                              | 0.14137450                     | 0                              | 0                              | 0                              | 1                              | \n",
       "| 0                              | 42                             | High school/GED                | 1                              | 10                             | 0                              | 0                              | 1                              | 0                              | 199                            | ...                            |  79.0                          | 18.68                          | 92                             |  76                            | 0                              | 0.05867276                     | 0                              | 0                              | 0                              | 1                              | \n",
       "| 0                              | 63                             | Some high school               | 0                              |  0                             | 0                              | 0                              | 1                              | 0                              | 306                            | ...                            | 105.0                          | 27.96                          | 75                             |  87                            | 1                              | 0.45922788                     | 0                              | 1                              | 0                              | 0                              | \n",
       "| 1                              | 65                             | Some high school               | 1                              | 20                             | 1                              | 0                              | 1                              | 0                              | 246                            | ...                            |  96.0                          | 19.34                          | 95                             |  76                            | 1                              | 0.60308950                     | 0                              | 1                              | 0                              | 0                              | \n",
       "| 0                              | 38                             | High school/GED                | 0                              |  0                             | 0                              | 0                              | 0                              | 0                              | 216                            | ...                            |  72.0                          | 22.01                          | 63                             |  75                            | 0                              | 0.03981445                     | 0                              | 0                              | 0                              | 1                              | \n",
       "| 0                              | 61                             | College                        | 0                              |  0                             | 0                              | 0                              | 0                              | 0                              | 261                            | ...                            |  76.5                          | 23.06                          | 55                             |  83                            | 1                              | 0.15135507                     | 0                              | 0                              | 1                              | 0                              | \n",
       "| 1                              | 50                             | Some high school               | 0                              |  0                             | 0                              | 0                              | 0                              | 0                              | 260                            | ...                            |  74.0                          | 21.85                          | 80                             |  72                            | 1                              | 0.12329984                     | 0                              | 0                              | 1                              | 0                              | \n",
       "| 1                              | 50                             | Some high school               | 1                              |  1                             | 0                              | 0                              | 1                              | 0                              | 313                            | ...                            |  92.0                          | 25.97                          | 66                             |  86                            | 1                              | 0.34928606                     | 0                              | 1                              | 0                              | 0                              | \n",
       "| 1                              | 51                             | Some college/vocational school | 1                              | 43                             | 0                              | 0                              | 0                              | 0                              | 207                            | ...                            |  80.0                          | 19.71                          | 65                             |  68                            | 0                              | 0.22901176                     | 0                              | 1                              | 0                              | 0                              | \n",
       "| 0                              | 52                             | High school/GED                | 0                              |  0                             | 0                              | 0                              | 0                              | 0                              | 269                            | ...                            |  83.0                          | 21.47                          | 80                             | 107                            | 0                              | 0.11879846                     | 0                              | 0                              | 0                              | 1                              | \n",
       "| 1                              | 40                             | Some college/vocational school | 0                              |  0                             | 0                              | 0                              | 1                              | 0                              | 185                            | ...                            |  98.0                          | 25.60                          | 67                             |  72                            | 0                              | 0.07263760                     | 0                              | 0                              | 0                              | 1                              | \n",
       "| 0                              | 39                             | Some college/vocational school | 1                              | 30                             | 0                              | 0                              | 0                              | 0                              | 196                            | ...                            |  86.0                          | 20.91                          | 85                             |  80                            | 0                              | 0.05849966                     | 0                              | 0                              | 0                              | 1                              | \n",
       "\n",
       "\n"
      ],
      "text/plain": [
       "     male age education                      currentSmoker cigsPerDay BPMeds\n",
       "1    0    46  High school/GED                0              0         0     \n",
       "2    0    41  Some college/vocational school 0              0         1     \n",
       "3    0    38  High school/GED                1             20         0     \n",
       "4    1    41  High school/GED                0              0         0     \n",
       "5    0    42  High school/GED                1             30         0     \n",
       "6    0    52  Some college/vocational school 1             20         0     \n",
       "7    0    59  Some high school               0              0         0     \n",
       "8    1    37  High school/GED                0              0         0     \n",
       "9    0    41  High school/GED                1              1         0     \n",
       "10   1    54  High school/GED                0              0         0     \n",
       "11   0    53  Some college/vocational school 0              0         1     \n",
       "12   0    62  Some high school               0              0         0     \n",
       "13   0    46  Some high school               1             10         0     \n",
       "14   1    44  High school/GED                0              0         0     \n",
       "15   0    57  Some high school               1              3         0     \n",
       "16   1    42  Some college/vocational school 1             10         0     \n",
       "17   1    60  Some high school               1             20         0     \n",
       "18   0    53  High school/GED                0              0         0     \n",
       "19   0    62  Some high school               0              0         0     \n",
       "20   0    51  Some high school               0              0         0     \n",
       "21   0    63  College                        1             20         0     \n",
       "22   0    56  Some high school               0              0         0     \n",
       "23   0    56  Some high school               1             15         0     \n",
       "24   0    48  Some high school               0              0         0     \n",
       "25   0    42  College                        0              0         0     \n",
       "26   0    66  Some high school               0              0         0     \n",
       "27   0    67  Some high school               0              0         0     \n",
       "28   1    48  College                        0              0         0     \n",
       "29   1    50  Some high school               0              0         0     \n",
       "30   1    36  College                        0              0         0     \n",
       "...  ...  ... ...                            ...           ...        ...   \n",
       "1068 1    45  Some high school               0              0         0     \n",
       "1069 0    65  College                        0              0         0     \n",
       "1070 1    57  High school/GED                1             20         0     \n",
       "1071 0    57  Some high school               0              0         0     \n",
       "1072 0    42  High school/GED                1             20         0     \n",
       "1073 1    42  Some college/vocational school 0              0         0     \n",
       "1074 0    62  Some high school               0              0         0     \n",
       "1075 0    36  High school/GED                1             15         0     \n",
       "1076 1    52  High school/GED                0              0         0     \n",
       "1077 0    61  College                        0              0         0     \n",
       "1078 0    69  High school/GED                0              0         1     \n",
       "1079 1    65  College                        1              6         0     \n",
       "1080 0    44  Some high school               0              0         0     \n",
       "1081 1    57  College                        0              0         0     \n",
       "1082 1    58  College                        0              0         0     \n",
       "1083 1    51  High school/GED                1             15         0     \n",
       "1084 0    52  High school/GED                1              9         0     \n",
       "1085 1    38  High school/GED                0              0         0     \n",
       "1086 1    44  Some high school               1             20         0     \n",
       "1087 0    42  High school/GED                1             10         0     \n",
       "1088 0    63  Some high school               0              0         0     \n",
       "1089 1    65  Some high school               1             20         1     \n",
       "1090 0    38  High school/GED                0              0         0     \n",
       "1091 0    61  College                        0              0         0     \n",
       "1092 1    50  Some high school               0              0         0     \n",
       "1093 1    50  Some high school               1              1         0     \n",
       "1094 1    51  Some college/vocational school 1             43         0     \n",
       "1095 0    52  High school/GED                0              0         0     \n",
       "1096 1    40  Some college/vocational school 0              0         0     \n",
       "1097 0    39  Some college/vocational school 1             30         0     \n",
       "     prevalentStroke prevalentHyp diabetes totChol ... diaBP BMI   heartRate\n",
       "1    0               0            0        250     ... 81.0  28.73 95       \n",
       "2    0               1            0        332     ... 88.0  31.31 65       \n",
       "3    0               1            0        221     ... 90.0  21.35 95       \n",
       "4    0               0            0        195     ... 88.0  26.88 85       \n",
       "5    0               0            0        190     ... 70.5  21.59 72       \n",
       "6    0               0            0        215     ... 82.0  25.11 71       \n",
       "7    0               1            0        209     ... 85.0  20.77 90       \n",
       "8    0               1            0        225     ... 92.5  38.53 95       \n",
       "9    0               0            0        237     ... 78.0  23.28 75       \n",
       "10   0               0            0        195     ... 83.5  26.21 75       \n",
       "11   0               1            1        311     ... 92.0  21.51 76       \n",
       "12   0               0            0        240     ... 82.5  28.27 63       \n",
       "13   0               0            0        250     ... 71.0  20.35 88       \n",
       "14   0               0            0        185     ... 69.0  22.29 65       \n",
       "15   0               0            0        235     ... 80.0  24.88 83       \n",
       "16   0               0            0        175     ... 72.5  28.61 63       \n",
       "17   0               1            0        170     ... 94.0  26.52 90       \n",
       "18   0               0            0        210     ... 86.5  22.49 88       \n",
       "19   0               0            0        261     ... 82.0  23.89 65       \n",
       "20   0               0            0        244     ... 71.5  27.38 71       \n",
       "21   0               0            1        239     ... 80.0  26.64 88       \n",
       "22   0               1            0        296     ... 90.0  23.72 75       \n",
       "23   0               0            0        269     ... 75.0  22.36 50       \n",
       "24   0               1            0        265     ... 77.0  24.23 74       \n",
       "25   0               0            0        250     ... 79.0  26.93 65       \n",
       "26   0               1            0        278     ... 88.0  40.52 90       \n",
       "27   0               1            0        264     ... 80.0  25.75 75       \n",
       "28   0               0            0        233     ... 88.5  23.62 86       \n",
       "29   0               1            0        257     ... 82.0  32.23 75       \n",
       "30   0               0            0        210     ... 85.5  21.93 71       \n",
       "...  ...             ...          ...      ...         ...   ...   ...      \n",
       "1068 0               0            0        220     ...  74.0 27.34 70       \n",
       "1069 0               0            0        280     ...  73.0 19.76 65       \n",
       "1070 0               0            0        210     ...  77.5 27.14 77       \n",
       "1071 0               1            0        259     ... 101.0 38.17 85       \n",
       "1072 0               0            0        235     ...  86.0 24.05 66       \n",
       "1073 0               0            0        235     ...  70.0 21.48 67       \n",
       "1074 0               0            0        207     ...  75.0 22.91 58       \n",
       "1075 0               0            0        257     ...  72.5 27.86 80       \n",
       "1076 0               1            1        269     ...  83.0 26.60 70       \n",
       "1077 0               0            0        325     ...  85.5 24.40 68       \n",
       "1078 0               1            0        220     ...  81.0 26.27 60       \n",
       "1079 0               0            0        236     ...  77.5 24.30 52       \n",
       "1080 0               0            0        230     ...  81.5 25.74 88       \n",
       "1081 0               0            0        194     ...  78.0 29.02 72       \n",
       "1082 0               1            0        223     ...  88.0 27.91 69       \n",
       "1083 0               0            0        267     ...  80.0 25.98 70       \n",
       "1084 0               0            0        218     ...  57.0 20.78 79       \n",
       "1085 0               0            0        235     ...  83.0 25.85 92       \n",
       "1086 0               0            0        232     ...  87.5 30.03 88       \n",
       "1087 0               1            0        199     ...  79.0 18.68 92       \n",
       "1088 0               1            0        306     ... 105.0 27.96 75       \n",
       "1089 0               1            0        246     ...  96.0 19.34 95       \n",
       "1090 0               0            0        216     ...  72.0 22.01 63       \n",
       "1091 0               0            0        261     ...  76.5 23.06 55       \n",
       "1092 0               0            0        260     ...  74.0 21.85 80       \n",
       "1093 0               1            0        313     ...  92.0 25.97 66       \n",
       "1094 0               0            0        207     ...  80.0 19.71 65       \n",
       "1095 0               0            0        269     ...  83.0 21.47 80       \n",
       "1096 0               1            0        185     ...  98.0 25.60 67       \n",
       "1097 0               0            0        196     ...  86.0 20.91 85       \n",
       "     glucose TenYearCHD Prediction cost1 cost2 cost3 cost4\n",
       "1     76     0          0.05370563 0     0     0     1    \n",
       "2     84     0          0.05776760 0     0     0     1    \n",
       "3     70     1          0.05398608 0     0     1     0    \n",
       "4     65     0          0.07491065 0     0     0     1    \n",
       "5     85     0          0.04721828 0     0     0     1    \n",
       "6     75     0          0.11370999 0     0     0     1    \n",
       "7     88     1          0.17028996 0     1     0     0    \n",
       "8     83     0          0.05630831 0     0     0     1    \n",
       "9     74     0          0.03796318 0     0     0     1    \n",
       "10   100     0          0.17285219 0     1     0     0    \n",
       "11   215     1          0.51865782 0     1     0     0    \n",
       "12    75     0          0.19487397 0     1     0     0    \n",
       "13    94     0          0.06442139 0     0     0     1    \n",
       "14    82     0          0.06464084 0     0     0     1    \n",
       "15    72     0          0.11327321 0     0     0     1    \n",
       "16    95     0          0.07068811 0     0     0     1    \n",
       "17    83     0          0.45614909 0     1     0     0    \n",
       "18    87     0          0.09996364 0     0     0     1    \n",
       "19    77     0          0.19043243 0     1     0     0    \n",
       "20    77     0          0.05323226 0     0     0     1    \n",
       "21   126     0          0.28835805 0     1     0     0    \n",
       "22   120     0          0.32018474 0     1     0     0    \n",
       "23    66     0          0.12965638 0     0     0     1    \n",
       "24    64     0          0.08896383 0     0     0     1    \n",
       "25    79     0          0.03818987 0     0     0     1    \n",
       "26    84     1          0.44403275 0     1     0     0    \n",
       "27    87     0          0.26385700 0     1     0     0    \n",
       "28    68     0          0.13072918 0     0     0     1    \n",
       "29   117     1          0.16971783 0     1     0     0    \n",
       "30    77     0          0.03939225 0     0     0     1    \n",
       "...  ...     ...        ...        ...   ...   ...   ...  \n",
       "1068 100     0          0.12407517 0     0     0     1    \n",
       "1069  58     0          0.15797355 0     0     0     1    \n",
       "1070  71     0          0.21251962 0     1     0     0    \n",
       "1071  75     0          0.22279726 0     1     0     0    \n",
       "1072  70     0          0.06025826 0     0     0     1    \n",
       "1073  73     0          0.05366644 0     0     0     1    \n",
       "1074  80     0          0.13915777 0     0     0     1    \n",
       "1075  65     0          0.02616370 0     0     0     1    \n",
       "1076  80     0          0.25324173 0     1     0     0    \n",
       "1077  70     0          0.17935415 0     1     0     0    \n",
       "1078  77     0          0.25965300 0     1     0     0    \n",
       "1079  65     1          0.27261577 0     1     0     0    \n",
       "1080  77     0          0.05115302 0     0     0     1    \n",
       "1081  92     0          0.19882166 0     1     0     0    \n",
       "1082  81     0          0.28867598 0     1     0     0    \n",
       "1083  79     0          0.20177896 0     1     0     0    \n",
       "1084  85     0          0.08567335 0     0     0     1    \n",
       "1085  75     0          0.05640485 0     0     0     1    \n",
       "1086  70     0          0.14137450 0     0     0     1    \n",
       "1087  76     0          0.05867276 0     0     0     1    \n",
       "1088  87     1          0.45922788 0     1     0     0    \n",
       "1089  76     1          0.60308950 0     1     0     0    \n",
       "1090  75     0          0.03981445 0     0     0     1    \n",
       "1091  83     1          0.15135507 0     0     1     0    \n",
       "1092  72     1          0.12329984 0     0     1     0    \n",
       "1093  86     1          0.34928606 0     1     0     0    \n",
       "1094  68     0          0.22901176 0     1     0     0    \n",
       "1095 107     0          0.11879846 0     0     0     1    \n",
       "1096  72     0          0.07263760 0     0     0     1    \n",
       "1097  80     0          0.05849966 0     0     0     1    "
      ]
     },
     "metadata": {},
     "output_type": "display_data"
    }
   ],
   "source": [
    "test"
   ]
  },
  {
   "cell_type": "code",
   "execution_count": 42,
   "metadata": {},
   "outputs": [
    {
     "data": {
      "text/plain": [
       "    Min.  1st Qu.   Median     Mean  3rd Qu.     Max. \n",
       "0.000000 0.000000 0.000000 0.002735 0.000000 1.000000 "
      ]
     },
     "metadata": {},
     "output_type": "display_data"
    }
   ],
   "source": [
    "summary(test$cost1)"
   ]
  },
  {
   "cell_type": "code",
   "execution_count": 43,
   "metadata": {},
   "outputs": [
    {
     "data": {
      "text/plain": [
       "   Min. 1st Qu.  Median    Mean 3rd Qu.    Max. \n",
       " 0.0000  0.0000  0.0000  0.3546  1.0000  1.0000 "
      ]
     },
     "metadata": {},
     "output_type": "display_data"
    }
   ],
   "source": [
    "summary(test$cost2)"
   ]
  },
  {
   "cell_type": "code",
   "execution_count": 44,
   "metadata": {},
   "outputs": [
    {
     "data": {
      "text/plain": [
       "   Min. 1st Qu.  Median    Mean 3rd Qu.    Max. \n",
       "0.00000 0.00000 0.00000 0.05378 0.00000 1.00000 "
      ]
     },
     "metadata": {},
     "output_type": "display_data"
    }
   ],
   "source": [
    "summary(test$cost3)"
   ]
  },
  {
   "cell_type": "code",
   "execution_count": 45,
   "metadata": {},
   "outputs": [
    {
     "data": {
      "text/plain": [
       "   Min. 1st Qu.  Median    Mean 3rd Qu.    Max. \n",
       " 0.0000  0.0000  1.0000  0.5889  1.0000  1.0000 "
      ]
     },
     "metadata": {},
     "output_type": "display_data"
    }
   ],
   "source": [
    "summary(test$cost4)"
   ]
  },
  {
   "cell_type": "markdown",
   "metadata": {},
   "source": [
    "Now, the average cost per patient is $49 698"
   ]
  },
  {
   "cell_type": "markdown",
   "metadata": {},
   "source": [
    "##### vi) Consider a simple baseline model that predicts none of the patients are at high risk for CHD and therefore does not recommend treatment for any of the patients. Describe the test set performance of the baseline model in terms of accuracy, TPR, and FPR, as well as expected economic cost per patient."
   ]
  },
  {
   "cell_type": "code",
   "execution_count": 46,
   "metadata": {},
   "outputs": [
    {
     "data": {
      "text/plain": [
       "      male             age                                 education  \n",
       " Min.   :0.0000   Min.   :33.00   College                       :131  \n",
       " 1st Qu.:0.0000   1st Qu.:42.00   High school/GED               :322  \n",
       " Median :0.0000   Median :49.00   Some college/vocational school:176  \n",
       " Mean   :0.4549   Mean   :49.67   Some high school              :468  \n",
       " 3rd Qu.:1.0000   3rd Qu.:57.00                                       \n",
       " Max.   :1.0000   Max.   :70.00                                       \n",
       " currentSmoker      cigsPerDay         BPMeds        prevalentStroke   \n",
       " Min.   :0.0000   Min.   : 0.000   Min.   :0.00000   Min.   :0.000000  \n",
       " 1st Qu.:0.0000   1st Qu.: 0.000   1st Qu.:0.00000   1st Qu.:0.000000  \n",
       " Median :0.0000   Median : 0.000   Median :0.00000   Median :0.000000  \n",
       " Mean   :0.4932   Mean   : 8.667   Mean   :0.02644   Mean   :0.006381  \n",
       " 3rd Qu.:1.0000   3rd Qu.:20.000   3rd Qu.:0.00000   3rd Qu.:0.000000  \n",
       " Max.   :1.0000   Max.   :70.000   Max.   :1.00000   Max.   :1.000000  \n",
       "  prevalentHyp       diabetes          totChol          sysBP      \n",
       " Min.   :0.0000   Min.   :0.00000   Min.   :124.0   Min.   : 83.5  \n",
       " 1st Qu.:0.0000   1st Qu.:0.00000   1st Qu.:207.0   1st Qu.:117.5  \n",
       " Median :0.0000   Median :0.00000   Median :235.0   Median :129.0  \n",
       " Mean   :0.3118   Mean   :0.03373   Mean   :236.7   Mean   :132.9  \n",
       " 3rd Qu.:1.0000   3rd Qu.:0.00000   3rd Qu.:262.0   3rd Qu.:143.0  \n",
       " Max.   :1.0000   Max.   :1.00000   Max.   :385.0   Max.   :232.0  \n",
       "     diaBP             BMI          heartRate         glucose       TenYearCHD\n",
       " Min.   : 51.00   Min.   :15.96   Min.   : 44.00   Min.   : 44.00   0:930     \n",
       " 1st Qu.: 75.00   1st Qu.:23.07   1st Qu.: 68.00   1st Qu.: 71.00   1:167     \n",
       " Median : 82.00   Median :25.50   Median : 75.00   Median : 78.00             \n",
       " Mean   : 83.19   Mean   :25.89   Mean   : 75.96   Mean   : 82.08             \n",
       " 3rd Qu.: 90.00   3rd Qu.:28.18   3rd Qu.: 82.00   3rd Qu.: 87.00             \n",
       " Max.   :140.00   Max.   :44.71   Max.   :143.00   Max.   :394.00             \n",
       "   Prediction          cost1              cost2            cost3        \n",
       " Min.   :0.01227   Min.   :0.000000   Min.   :0.0000   Min.   :0.00000  \n",
       " 1st Qu.:0.06404   1st Qu.:0.000000   1st Qu.:0.0000   1st Qu.:0.00000  \n",
       " Median :0.11818   Median :0.000000   Median :0.0000   Median :0.00000  \n",
       " Mean   :0.15608   Mean   :0.002735   Mean   :0.3546   Mean   :0.05378  \n",
       " 3rd Qu.:0.20593   3rd Qu.:0.000000   3rd Qu.:1.0000   3rd Qu.:0.00000  \n",
       " Max.   :0.90225   Max.   :1.000000   Max.   :1.0000   Max.   :1.00000  \n",
       "     cost4       \n",
       " Min.   :0.0000  \n",
       " 1st Qu.:0.0000  \n",
       " Median :1.0000  \n",
       " Mean   :0.5889  \n",
       " 3rd Qu.:1.0000  \n",
       " Max.   :1.0000  "
      ]
     },
     "metadata": {},
     "output_type": "display_data"
    }
   ],
   "source": [
    "summary(test)"
   ]
  },
  {
   "cell_type": "code",
   "execution_count": 47,
   "metadata": {},
   "outputs": [],
   "source": [
    "test$HR  <- with(test, ifelse((Prediction >= 0.16), 1, 0))"
   ]
  },
  {
   "cell_type": "code",
   "execution_count": 48,
   "metadata": {},
   "outputs": [
    {
     "data": {
      "text/html": [
       "<dl class=dl-horizontal>\n",
       "\t<dt>0</dt>\n",
       "\t\t<dd>930</dd>\n",
       "\t<dt>1</dt>\n",
       "\t\t<dd>167</dd>\n",
       "</dl>\n"
      ],
      "text/latex": [
       "\\begin{description*}\n",
       "\\item[0] 930\n",
       "\\item[1] 167\n",
       "\\end{description*}\n"
      ],
      "text/markdown": [
       "0\n",
       ":   9301\n",
       ":   167\n",
       "\n"
      ],
      "text/plain": [
       "  0   1 \n",
       "930 167 "
      ]
     },
     "metadata": {},
     "output_type": "display_data"
    }
   ],
   "source": [
    "summary(test$TenYearCHD)"
   ]
  },
  {
   "cell_type": "code",
   "execution_count": 49,
   "metadata": {},
   "outputs": [
    {
     "data": {
      "text/html": [
       "0.847766636280766"
      ],
      "text/latex": [
       "0.847766636280766"
      ],
      "text/markdown": [
       "0.847766636280766"
      ],
      "text/plain": [
       "[1] 0.8477666"
      ]
     },
     "metadata": {},
     "output_type": "display_data"
    }
   ],
   "source": [
    "(930/(930+167))"
   ]
  },
  {
   "cell_type": "markdown",
   "metadata": {},
   "source": [
    "For this baseline model, \n",
    "\n",
    "**Accuracy** = percentage of non high risk = 0.8477\n",
    "\n",
    "**TPR** = 0\n",
    "\n",
    "**FPR** = 0\n",
    "\n",
    "Expected economic cost per patient:\n",
    "No patient are recommended to take the treatment. Therefore the cost is:\n",
    "* $ 0 for the 0.8477 that won't have CHD\n",
    "* 500 000 for the remaining ones that will have CHD\n",
    "\n",
    "Which make an average cost per patient of $76 150 which is significantly higher than with the model that provide treatment to High Risk patients."
   ]
  },
  {
   "cell_type": "markdown",
   "metadata": {},
   "source": [
    "Therefore, the model with treatment is economically preferable."
   ]
  },
  {
   "cell_type": "markdown",
   "metadata": {},
   "source": [
    "summary(test$sysBP)"
   ]
  },
  {
   "cell_type": "markdown",
   "metadata": {},
   "source": [
    "##### iv) We retake the equation previously found\n",
    "\n",
    "$ Pr(\\text{TenYearCHD} = 1) = \\frac{1 }{1 + \\text{exp}(-9.46 + 0.655 \\text{Male} + 0.067 \\text{Age} + 0.018 \\text{cigsPerDay} + 0.004 \\text{totChol} + 0.018 \\text{sysBP} + 0.005 \\text{Glucose})} $\n",
    "$ = \\frac{1}{1 + \\text{exp}(-y)} $\n",
    " "
   ]
  },
  {
   "cell_type": "code",
   "execution_count": 50,
   "metadata": {},
   "outputs": [
    {
     "ename": "ERROR",
     "evalue": "Error in eval(expr, envir, enclos): objet 'indiv_data' introuvable\n",
     "output_type": "error",
     "traceback": [
      "Error in eval(expr, envir, enclos): objet 'indiv_data' introuvable\nTraceback:\n"
     ]
    }
   ],
   "source": [
    "indiv <- data.frame('male'= 0,'age'=51, 'education'='College', 'currentSmoker'=1, 'cigsPerDay'=20, 'BPMeds'=0, 'prevalentStroke'=0,'prevalentHyp'=1,'diabetes'=0,\n",
    "'totChol'=220, 'sysBP'=140, 'diaBP'=100, 'BMI'=31, 'heartRate'=59, 'glucose'=78)\n",
    "indiv_data"
   ]
  },
  {
   "cell_type": "code",
   "execution_count": 51,
   "metadata": {},
   "outputs": [],
   "source": [
    "pred = predict(mod, newdata = indiv, type='response')"
   ]
  },
  {
   "cell_type": "code",
   "execution_count": 52,
   "metadata": {},
   "outputs": [
    {
     "data": {
      "text/html": [
       "<strong>1:</strong> 0.136341857387695"
      ],
      "text/latex": [
       "\\textbf{1:} 0.136341857387695"
      ],
      "text/markdown": [
       "**1:** 0.136341857387695"
      ],
      "text/plain": [
       "        1 \n",
       "0.1363419 "
      ]
     },
     "metadata": {},
     "output_type": "display_data"
    }
   ],
   "source": [
    "pred"
   ]
  },
  {
   "cell_type": "markdown",
   "metadata": {},
   "source": [
    "Based on the threshold from the decision tree, the physician should not prescribe the preventive medication for this patient."
   ]
  },
  {
   "cell_type": "markdown",
   "metadata": {},
   "source": [
    "###### b) ROC curve"
   ]
  },
  {
   "cell_type": "code",
   "execution_count": 54,
   "metadata": {},
   "outputs": [
    {
     "data": {
      "text/html": [
       "0.722490502865235"
      ],
      "text/latex": [
       "0.722490502865235"
      ],
      "text/markdown": [
       "0.722490502865235"
      ],
      "text/plain": [
       "[1] 0.7224905"
      ]
     },
     "metadata": {},
     "output_type": "display_data"
    },
    {
     "data": {
      "image/png": "[encoded data removed]",
      "text/plain": [
       "plot without title"
      ]
     },
     "metadata": {},
     "output_type": "display_data"
    }
   ],
   "source": [
    "rocr.log.pred <- prediction(testPred, test$TenYearCHD)\n",
    "logPerformance <- performance(rocr.log.pred, \"tpr\", \"fpr\")\n",
    "plot(logPerformance, colorize = TRUE)\n",
    "abline(0, 1)\n",
    "as.numeric(performance(rocr.log.pred, \"auc\")@y.values)"
   ]
  },
  {
   "cell_type": "markdown",
   "metadata": {},
   "source": [
    "##### The AUC is 0.722\n",
    "\n",
    "We can see from the color that the optimal thresold is around 0.16 from a financial point of view. Yet, to make a decision, one need to decide what is the goal? To optimize the ratio TPR/FPR? Is it better to have a low FPR? I think that on this particular problem, related to people health, it is better to have a lower FPR and therefore try to catch the maximum people that will have the CHD. From this point of view the goal is to optimize the health of people. "
   ]
  },
  {
   "cell_type": "markdown",
   "metadata": {},
   "source": [
    "###### c)"
   ]
  },
  {
   "cell_type": "markdown",
   "metadata": {},
   "source": [
    "#### The equation to solve is:\n",
    "\n",
    "300 000 * p/4  +  C  = 300 000 * p  which egalize the price expectation in the both situation: with medication and without"
   ]
  },
  {
   "cell_type": "markdown",
   "metadata": {},
   "source": [
    "AUC: 0.722"
   ]
  },
  {
   "cell_type": "markdown",
   "metadata": {},
   "source": [
    "##### d)\n",
    "\n",
    "Ethically we should limit the false negatives, we don't want to let people that will get sick without treatment. The way we analysed the probel in this homework is ethically concerning as we only cared about financial benefits, but we are dealing with people heath. The first metric to optimize is the number of people that get CHD (should be minimized)."
   ]
  }
 ],
 "metadata": {
  "kernelspec": {
   "display_name": "R",
   "language": "R",
   "name": "ir"
  },
  "language_info": {
   "codemirror_mode": "r",
   "file_extension": ".r",
   "mimetype": "text/x-r-source",
   "name": "R",
   "pygments_lexer": "r",
   "version": "3.5.1"
  }
 },
 "nbformat": 4,
 "nbformat_minor": 2
}
