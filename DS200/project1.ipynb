{
 "cells": [
  {
   "cell_type": "code",
   "execution_count": 1,
   "metadata": {
    "deletable": false,
    "editable": false
   },
   "outputs": [
    {
     "name": "stdout",
     "output_type": "stream",
     "text": [
      "=====================================================================\n",
      "Assignment: proj1\n",
      "OK, version v1.13.11\n",
      "=====================================================================\n",
      "\n"
     ]
    }
   ],
   "source": [
    "# Initialize OK\n",
    "from client.api.notebook import Notebook\n",
    "ok = Notebook('proj1.ok')"
   ]
  },
  {
   "cell_type": "markdown",
   "metadata": {
    "nbgrader": {
     "grade": false,
     "grade_id": "intro-hw2",
     "locked": true,
     "schema_version": 2,
     "solution": false
    }
   },
   "source": [
    "# Project 1: Food Safety \n",
    "## Cleaning and Exploring Data with Pandas\n",
    "## Due Date: Tuesday 2/12, 6:00 PM\n",
    "## Collaboration Policy\n",
    "\n",
    "Data science is a collaborative activity. While you may talk with others about\n",
    "the project, we ask that you **write your solutions individually**. If you do\n",
    "discuss the assignments with others please **include their names** at the top\n",
    "of your notebook."
   ]
  },
  {
   "cell_type": "markdown",
   "metadata": {},
   "source": [
    "**Collaborators**: *list collaborators here*"
   ]
  },
  {
   "cell_type": "markdown",
   "metadata": {},
   "source": [
    "\n",
    "## This Assignment\n",
    "<img src=\"scoreCard.jpg\" width=400>\n",
    "\n",
    "In this project, you will investigate restaurant food safety scores for restaurants in San Francisco. Above is a sample score card for a restaurant. The scores and violation information have been made available by the San Francisco Department of Public Health. The main goal for this assignment is to understand how restaurants are scored. We will walk through various steps of exploratory data analysis to do this. We will provide comments and insights along the way to give you a sense of how we arrive at each discovery and what next steps it leads to.\n",
    "\n",
    "As we clean and explore these data, you will gain practice with:\n",
    "* Reading simple csv files\n",
    "* Working with data at different levels of granularity\n",
    "* Identifying the type of data collected, missing values, anomalies, etc.\n",
    "* Applying probability sampling techniques\n",
    "* Exploring characteristics and distributions of individual variables\n",
    "\n",
    "## Score Breakdown\n",
    "Question | Points\n",
    "--- | ---\n",
    "1a | 1\n",
    "1b | 0\n",
    "1c | 0\n",
    "1d | 3\n",
    "1e | 1\n",
    "2a | 1\n",
    "2b | 2\n",
    "3a | 2\n",
    "3b | 0\n",
    "3c | 2\n",
    "3d | 1\n",
    "3e | 1\n",
    "3f | 1\n",
    "4a | 1\n",
    "4b | 1\n",
    "4c | 1\n",
    "4d | 1\n",
    "4e | 1\n",
    "4f | 1\n",
    "4g | 2\n",
    "4h | 1\n",
    "4i | 1\n",
    "5a | 2\n",
    "5b | 3\n",
    "6a | 1\n",
    "6b | 1\n",
    "6c | 1\n",
    "7a | 2\n",
    "7b | 3\n",
    "7c | 3\n",
    "8a | 2\n",
    "8b | 2\n",
    "8c | 6\n",
    "8d | 2\n",
    "8e | 3\n",
    "Total | 56"
   ]
  },
  {
   "cell_type": "markdown",
   "metadata": {
    "nbgrader": {
     "grade": false,
     "grade_id": "getting-started",
     "locked": true,
     "schema_version": 2,
     "solution": false
    }
   },
   "source": [
    "To start the assignment, run the cell below to set up some imports and the automatic tests that we will need for this assignment:\n",
    "\n",
    "In many of these assignments (and your future adventures as a data scientist) you will use `os`, `zipfile`, `pandas`, `numpy`, `matplotlib.pyplot`, and optionally `seaborn`.  \n",
    "\n",
    "1. Import each of these libraries `as` their commonly used abbreviations (e.g., `pd`, `np`, `plt`, and `sns`).  \n",
    "1. Don't forget to include `%matplotlib inline` which enables [inline matploblib plots](http://ipython.readthedocs.io/en/stable/interactive/magics.html#magic-matplotlib). \n",
    "1. If you want to use `seaborn`, add the line `sns.set()` to make your plots look nicer."
   ]
  },
  {
   "cell_type": "code",
   "execution_count": 140,
   "metadata": {
    "nbgrader": {
     "grade": false,
     "grade_id": "import",
     "locked": true,
     "schema_version": 2,
     "solution": false
    }
   },
   "outputs": [],
   "source": [
    "import pandas as pd\n",
    "import numpy as np\n",
    "import matplotlib.pyplot as plt \n",
    "import seaborn\n",
    "import os \n",
    "import zipfile"
   ]
  },
  {
   "cell_type": "code",
   "execution_count": 141,
   "metadata": {
    "ExecuteTime": {
     "end_time": "2018-08-18T01:21:52.935736Z",
     "start_time": "2018-08-18T01:21:52.932610Z"
    },
    "nbgrader": {
     "grade": false,
     "grade_id": "import-test",
     "locked": true,
     "schema_version": 2,
     "solution": false
    }
   },
   "outputs": [],
   "source": [
    "import sys\n",
    "\n",
    "assert 'zipfile'in sys.modules\n",
    "assert 'pandas'in sys.modules and pd\n",
    "assert 'numpy'in sys.modules and np\n",
    "assert 'matplotlib'in sys.modules and plt"
   ]
  },
  {
   "cell_type": "markdown",
   "metadata": {
    "nbgrader": {
     "grade": false,
     "grade_id": "download",
     "locked": true,
     "schema_version": 2,
     "solution": false
    }
   },
   "source": [
    "## Downloading the Data\n",
    "\n",
    "For this assignment, we need this data file: http://www.ds100.org/sp19/assets/datasets/proj1-SFBusinesses.zip\n",
    "\n",
    "We could write a few lines of code that are built to download this specific data file, but it's a better idea to have a general function that we can reuse for all of our assignments. Since this class isn't really about the nuances of the Python file system libraries, we've provided a function for you in ds100_utils.py called `fetch_and_cache` that can download files from the internet.\n",
    "\n",
    "This function has the following arguments:\n",
    "- data_url: the web address to download\n",
    "- file: the file in which to save the results\n",
    "- data_dir: (default=\"data\") the location to save the data\n",
    "- force: if true the file is always re-downloaded \n",
    "\n",
    "The way this function works is that it checks to see if `data_dir/file` already exists. If it does not exist already or if `force=True`, the file at `data_url` is downloaded and placed at `data_dir/file`. The process of storing a data file for reuse later is called caching. If `data_dir/file` already and exists `force=False`, nothing is downloaded, and instead a message is printed letting you know the date of the cached file.\n",
    "\n",
    "The function returns a `pathlib.Path` object representing the location of the file ([pathlib docs](https://docs.python.org/3/library/pathlib.html#basic-use)). "
   ]
  },
  {
   "cell_type": "code",
   "execution_count": 142,
   "metadata": {
    "ExecuteTime": {
     "end_time": "2018-08-18T01:21:53.150497Z",
     "start_time": "2018-08-18T01:21:53.141869Z"
    },
    "nbgrader": {
     "grade": false,
     "grade_id": "fetch-and-cache",
     "locked": true,
     "schema_version": 2,
     "solution": false
    }
   },
   "outputs": [
    {
     "name": "stdout",
     "output_type": "stream",
     "text": [
      "Using cached version that was downloaded (UTC): Tue Feb  5 15:35:37 2019\n"
     ]
    }
   ],
   "source": [
    "import ds100_utils\n",
    "source_data_url = 'http://www.ds100.org/sp19/assets/datasets/proj1-SFBusinesses.zip'\n",
    "target_file_name = 'data.zip'\n",
    "\n",
    "# Change the force=False -> force=True in case you need to force redownload the data\n",
    "dest_path = ds100_utils.fetch_and_cache(\n",
    "    data_url=source_data_url, \n",
    "    data_dir='.', \n",
    "    file=target_file_name, \n",
    "    force=False)"
   ]
  },
  {
   "cell_type": "markdown",
   "metadata": {
    "nbgrader": {
     "grade": false,
     "grade_id": "data-here",
     "locked": true,
     "schema_version": 2,
     "solution": false
    }
   },
   "source": [
    "After running the cell above, if you list the contents of the directory containing this notebook, you should see `data.zip`."
   ]
  },
  {
   "cell_type": "code",
   "execution_count": 143,
   "metadata": {},
   "outputs": [
    {
     "name": "stdout",
     "output_type": "stream",
     "text": [
      "data\t  ds100_utils.py  proj1.ok     q7a.png\t q8d.png\ttests\r\n",
      "data.zip  proj1.ipynb\t  __pycache__  q8c2.png  scoreCard.jpg\r\n"
     ]
    }
   ],
   "source": [
    "!ls"
   ]
  },
  {
   "cell_type": "markdown",
   "metadata": {
    "nbgrader": {
     "grade": false,
     "grade_id": "loading-description",
     "locked": true,
     "schema_version": 2,
     "solution": false
    }
   },
   "source": [
    "---\n",
    "## 1: Loading Food Safety Data\n",
    "\n",
    "We have data, but we don't have any specific questions about the data yet, so let's focus on understanding the structure of the data. This involves answering questions such as:\n",
    "\n",
    "* Is the data in a standard format or encoding?\n",
    "* Is the data organized in records?\n",
    "* What are the fields in each record?\n",
    "\n",
    "Let's start by looking at the contents of `data.zip`. It's not just a single file, but a compressed directory of multiple files. We could inspect it by uncompressing it using a shell command such as `!unzip data.zip`, but in this project we're going to do almost everything in Python for maximum portability."
   ]
  },
  {
   "cell_type": "markdown",
   "metadata": {
    "deletable": false,
    "editable": false,
    "nbgrader": {
     "grade": false,
     "grade_id": "q1a",
     "locked": true,
     "schema_version": 2,
     "solution": false
    }
   },
   "source": [
    "### Question 1a: Looking Inside and Extracting the Zip Files\n",
    "\n",
    "Assign `my_zip` to a `Zipfile.zipfile` object representing `data.zip`, and 1ssign `list_files` to a list of all the names of the files in `data.zip`.\n",
    "\n",
    "*Hint*: The [Python docs](https://docs.python.org/3/library/zipfile.html) describe how to create a `zipfile.ZipFile` object. You might also look back at the code from lecture and lab. It's OK to copy and paste code from previous assignments and demos, though you might get more out of this exercise if you type out an answer.\n",
    "\n",
    "<!--\n",
    "BEGIN QUESTION\n",
    "name: q1a\n",
    "points: 1\n",
    "-->"
   ]
  },
  {
   "cell_type": "code",
   "execution_count": 144,
   "metadata": {},
   "outputs": [],
   "source": [
    "from zipfile import ZipFile \n",
    "my_zip =ZipFile(dest_path, 'r')"
   ]
  },
  {
   "cell_type": "code",
   "execution_count": 145,
   "metadata": {
    "ExecuteTime": {
     "end_time": "2018-08-18T01:21:53.165555Z",
     "start_time": "2018-08-18T01:21:53.153523Z"
    },
    "nbgrader": {
     "grade": false,
     "grade_id": "loading-answer",
     "locked": false,
     "schema_version": 2,
     "solution": true
    }
   },
   "outputs": [
    {
     "data": {
      "text/plain": [
       "['violations.csv', 'businesses.csv', 'inspections.csv', 'legend.csv']"
      ]
     },
     "execution_count": 145,
     "metadata": {},
     "output_type": "execute_result"
    }
   ],
   "source": [
    "list_names = my_zip.namelist()\n",
    "list_names"
   ]
  },
  {
   "cell_type": "code",
   "execution_count": 146,
   "metadata": {
    "deletable": false,
    "editable": false
   },
   "outputs": [
    {
     "name": "stdout",
     "output_type": "stream",
     "text": [
      "~~~~~~~~~~~~~~~~~~~~~~~~~~~~~~~~~~~~~~~~~~~~~~~~~~~~~~~~~~~~~~~~~~~~~\n",
      "Running tests\n",
      "\n",
      "---------------------------------------------------------------------\n",
      "Test summary\n",
      "    Passed: 3\n",
      "    Failed: 0\n",
      "[ooooooooook] 100.0% passed\n",
      "\n"
     ]
    }
   ],
   "source": [
    "ok.grade(\"q1a\");"
   ]
  },
  {
   "cell_type": "markdown",
   "metadata": {
    "nbgrader": {
     "grade": false,
     "grade_id": "you-are-warned",
     "locked": true,
     "schema_version": 2,
     "solution": false
    }
   },
   "source": [
    "In your answer above, if you have written something like `zipfile.ZipFile('data.zip', ...)`, we suggest changing it to read `zipfile.ZipFile(dest_path, ...)`. In general, we **strongly suggest having your filenames hard coded as string literals only once** in a notebook. It is very dangerous to hard code things twice, because if you change one but forget to change the other, you can end up with bugs that are very hard to find."
   ]
  },
  {
   "cell_type": "markdown",
   "metadata": {
    "nbgrader": {
     "grade": false,
     "grade_id": "loading-size",
     "locked": true,
     "schema_version": 2,
     "solution": false
    }
   },
   "source": [
    "Now display the files' names and their sizes.\n",
    "\n",
    "If you're not sure how to proceed, read about the attributes of a `ZipFile` object in the Python docs linked above."
   ]
  },
  {
   "cell_type": "code",
   "execution_count": 147,
   "metadata": {
    "ExecuteTime": {
     "end_time": "2018-08-18T01:21:53.187732Z",
     "start_time": "2018-08-18T01:21:53.177203Z"
    },
    "nbgrader": {
     "grade": false,
     "grade_id": "loading-size-answer",
     "locked": false,
     "schema_version": 2,
     "solution": true
    }
   },
   "outputs": [
    {
     "name": "stdout",
     "output_type": "stream",
     "text": [
      "File Name                                             Modified             Size\n",
      "violations.csv                                 2018-01-26 09:02:06      3726206\n",
      "businesses.csv                                 2018-01-26 09:02:02       660231\n",
      "inspections.csv                                2018-01-26 09:02:04       466106\n",
      "legend.csv                                     2018-01-26 09:02:06          120\n"
     ]
    }
   ],
   "source": [
    "my_zip.printdir()"
   ]
  },
  {
   "cell_type": "markdown",
   "metadata": {
    "nbgrader": {
     "grade": false,
     "grade_id": "keep-running",
     "locked": true,
     "schema_version": 2,
     "solution": false
    }
   },
   "source": [
    "Often when working with zipped data, we'll never unzip the actual zipfile. This saves space on our local computer. However, for this project, the files are small, so we're just going to unzip everything. This has the added benefit that you can look inside the csv files using a text editor, which might be handy for understanding what's going on. The cell below will unzip the csv files into a subdirectory called `data`. Just run it."
   ]
  },
  {
   "cell_type": "code",
   "execution_count": 148,
   "metadata": {
    "nbgrader": {
     "grade": false,
     "grade_id": "run-dis",
     "locked": true,
     "schema_version": 2,
     "solution": false
    }
   },
   "outputs": [
    {
     "name": "stdout",
     "output_type": "stream",
     "text": [
      "businesses.csv\tinspections.csv  legend.csv  violations.csv\r\n"
     ]
    }
   ],
   "source": [
    "from pathlib import Path\n",
    "data_dir = Path('data')\n",
    "my_zip.extractall(data_dir)\n",
    "!ls {data_dir}"
   ]
  },
  {
   "cell_type": "markdown",
   "metadata": {
    "nbgrader": {
     "grade": false,
     "grade_id": "open-legend",
     "locked": true,
     "schema_version": 2,
     "solution": false
    }
   },
   "source": [
    "The cell above created a folder called `data`, and in it there should be four CSV files. Open up `legend.csv` to see its contents. You should see something that looks like:\n",
    "\n",
    "    \"Minimum_Score\",\"Maximum_Score\",\"Description\"\n",
    "    0,70,\"Poor\"\n",
    "    71,85,\"Needs Improvement\"\n",
    "    86,90,\"Adequate\"\n",
    "    91,100,\"Good\""
   ]
  },
  {
   "cell_type": "code",
   "execution_count": 149,
   "metadata": {},
   "outputs": [
    {
     "name": "stdout",
     "output_type": "stream",
     "text": [
      "\"Minimum_Score\",\"Maximum_Score\",\"Description\"\n",
      "\n",
      "0,70,\"Poor\"\n",
      "\n",
      "71,85,\"Needs Improvement\"\n",
      "\n",
      "86,90,\"Adequate\"\n",
      "\n",
      "91,100,\"Good\"\n",
      "\n"
     ]
    }
   ],
   "source": [
    "with open('data/legend.csv', 'r') as csv_file:\n",
    "    for row in csv_file:\n",
    "        print(row)    "
   ]
  },
  {
   "cell_type": "markdown",
   "metadata": {
    "nbgrader": {
     "grade": false,
     "grade_id": "look-inside",
     "locked": true,
     "schema_version": 2,
     "solution": false
    }
   },
   "source": [
    "### Question 1b: Programatically Looking Inside the Files"
   ]
  },
  {
   "cell_type": "markdown",
   "metadata": {
    "nbgrader": {
     "grade": false,
     "grade_id": "q1b",
     "locked": true,
     "schema_version": 2,
     "solution": false
    }
   },
   "source": [
    "The `legend.csv` file does indeed look like a well-formed CSV file. Let's check the other three files. Rather than opening up each file manually, let's use Python to print out the first 5 lines of each. The `ds100_utils` library has a method called `head` that will allow you to retrieve the first N lines of a file as a list. For example `ds100_utils.head('data/legend.csv', 5)` will return the first 5 lines of \"data/legend.csv\". Try using this function to print out the first 5 lines of all four files that we just extracted from the zipfile."
   ]
  },
  {
   "cell_type": "code",
   "execution_count": 150,
   "metadata": {
    "nbgrader": {
     "grade": false,
     "grade_id": "q1b-answer",
     "locked": false,
     "schema_version": 2,
     "solution": true
    }
   },
   "outputs": [
    {
     "data": {
      "text/plain": [
       "['\"Minimum_Score\",\"Maximum_Score\",\"Description\"\\n',\n",
       " '0,70,\"Poor\"\\n',\n",
       " '71,85,\"Needs Improvement\"\\n',\n",
       " '86,90,\"Adequate\"\\n',\n",
       " '91,100,\"Good\"\\n']"
      ]
     },
     "execution_count": 150,
     "metadata": {},
     "output_type": "execute_result"
    }
   ],
   "source": [
    "ds100_utils.head('data/legend.csv', 5)"
   ]
  },
  {
   "cell_type": "code",
   "execution_count": 151,
   "metadata": {},
   "outputs": [
    {
     "data": {
      "text/plain": [
       "['\"business_id\",\"score\",\"date\",\"type\"\\n',\n",
       " '19,\"94\",\"20160513\",\"routine\"\\n',\n",
       " '19,\"94\",\"20171211\",\"routine\"\\n',\n",
       " '24,\"98\",\"20171101\",\"routine\"\\n',\n",
       " '24,\"98\",\"20161005\",\"routine\"\\n']"
      ]
     },
     "execution_count": 151,
     "metadata": {},
     "output_type": "execute_result"
    }
   ],
   "source": [
    "ds100_utils.head('data/inspections.csv', 5)"
   ]
  },
  {
   "cell_type": "code",
   "execution_count": 152,
   "metadata": {},
   "outputs": [
    {
     "data": {
      "text/plain": [
       "['\"business_id\",\"name\",\"address\",\"city\",\"state\",\"postal_code\",\"latitude\",\"longitude\",\"phone_number\"\\n',\n",
       " '19,\"NRGIZE LIFESTYLE CAFE\",\"1200 VAN NESS AVE, 3RD FLOOR\",\"San Francisco\",\"CA\",\"94109\",\"37.786848\",\"-122.421547\",\"+14157763262\"\\n',\n",
       " '24,\"OMNI S.F. HOTEL - 2ND FLOOR PANTRY\",\"500 CALIFORNIA ST, 2ND  FLOOR\",\"San Francisco\",\"CA\",\"94104\",\"37.792888\",\"-122.403135\",\"+14156779494\"\\n',\n",
       " '31,\"NORMAN\\'S ICE CREAM AND FREEZES\",\"2801 LEAVENWORTH ST \",\"San Francisco\",\"CA\",\"94133\",\"37.807155\",\"-122.419004\",\"\"\\n',\n",
       " '45,\"CHARLIE\\'S DELI CAFE\",\"3202 FOLSOM ST \",\"San Francisco\",\"CA\",\"94110\",\"37.747114\",\"-122.413641\",\"+14156415051\"\\n']"
      ]
     },
     "execution_count": 152,
     "metadata": {},
     "output_type": "execute_result"
    }
   ],
   "source": [
    "ds100_utils.head('data/businesses.csv', 5)"
   ]
  },
  {
   "cell_type": "code",
   "execution_count": 153,
   "metadata": {},
   "outputs": [
    {
     "data": {
      "text/plain": [
       "['\"business_id\",\"date\",\"description\"\\n',\n",
       " '19,\"20171211\",\"Inadequate food safety knowledge or lack of certified food safety manager\"\\n',\n",
       " '19,\"20171211\",\"Unapproved or unmaintained equipment or utensils\"\\n',\n",
       " '19,\"20160513\",\"Unapproved or unmaintained equipment or utensils  [ date violation corrected: 12/11/2017 ]\"\\n',\n",
       " '19,\"20160513\",\"Unclean or degraded floors walls or ceilings  [ date violation corrected: 12/11/2017 ]\"\\n']"
      ]
     },
     "execution_count": 153,
     "metadata": {},
     "output_type": "execute_result"
    }
   ],
   "source": [
    "ds100_utils.head('data/violations.csv', 5)"
   ]
  },
  {
   "cell_type": "markdown",
   "metadata": {
    "nbgrader": {
     "grade": false,
     "grade_id": "q1c",
     "locked": true,
     "schema_version": 2,
     "solution": false
    }
   },
   "source": [
    "### Question 1c: Reading in the Files\n",
    "\n",
    "Based on the above information, let's attempt to load `businesses.csv`, `inspections.csv`, and `violations.csv` into pandas data frames with the following names: `bus`, `ins`, and `vio` respectively.\n",
    "\n",
    "*Note:* Because of character encoding issues one of the files (`bus`) will require an additional argument `encoding='ISO-8859-1'` when calling `pd.read_csv`. One day you should read all about [character encodings](https://www.diveinto.org/python3/strings.html)."
   ]
  },
  {
   "cell_type": "code",
   "execution_count": 154,
   "metadata": {
    "ExecuteTime": {
     "end_time": "2018-08-18T01:21:53.438446Z",
     "start_time": "2018-08-18T01:21:53.280442Z"
    },
    "nbgrader": {
     "grade": false,
     "grade_id": "q1c-answer",
     "locked": false,
     "schema_version": 2,
     "solution": true
    },
    "tags": [
     "solution"
    ]
   },
   "outputs": [],
   "source": [
    "# path to directory containing data\n",
    "dsDir = Path('data')\n",
    "\n",
    "bus = pd.read_csv('data/businesses.csv', encoding='ISO-8859-1')\n",
    "ins = pd.read_csv('data/inspections.csv', encoding='ISO-8859-1')\n",
    "vio = pd.read_csv('data/violations.csv', encoding='ISO-8859-1')"
   ]
  },
  {
   "cell_type": "markdown",
   "metadata": {
    "nbgrader": {
     "grade": false,
     "grade_id": "try-out",
     "locked": true,
     "schema_version": 2,
     "solution": false
    }
   },
   "source": [
    "Now that you've read in the files, let's try some `pd.DataFrame` methods ([docs](https://pandas.pydata.org/pandas-docs/version/0.21/generated/pandas.DataFrame.html)).\n",
    "Use the `DataFrame.head` method to show the top few lines of the `bus`, `ins`, and `vio` dataframes. Use `Dataframe.describe` to learn about the numeric columns."
   ]
  },
  {
   "cell_type": "code",
   "execution_count": 155,
   "metadata": {
    "nbgrader": {
     "grade": false,
     "grade_id": "bus-head",
     "locked": false,
     "schema_version": 2,
     "solution": true
    }
   },
   "outputs": [
    {
     "data": {
      "text/html": [
       "<div>\n",
       "<style scoped>\n",
       "    .dataframe tbody tr th:only-of-type {\n",
       "        vertical-align: middle;\n",
       "    }\n",
       "\n",
       "    .dataframe tbody tr th {\n",
       "        vertical-align: top;\n",
       "    }\n",
       "\n",
       "    .dataframe thead th {\n",
       "        text-align: right;\n",
       "    }\n",
       "</style>\n",
       "<table border=\"1\" class=\"dataframe\">\n",
       "  <thead>\n",
       "    <tr style=\"text-align: right;\">\n",
       "      <th></th>\n",
       "      <th>business_id</th>\n",
       "      <th>name</th>\n",
       "      <th>address</th>\n",
       "      <th>city</th>\n",
       "      <th>state</th>\n",
       "      <th>postal_code</th>\n",
       "      <th>latitude</th>\n",
       "      <th>longitude</th>\n",
       "      <th>phone_number</th>\n",
       "    </tr>\n",
       "  </thead>\n",
       "  <tbody>\n",
       "    <tr>\n",
       "      <th>0</th>\n",
       "      <td>19</td>\n",
       "      <td>NRGIZE LIFESTYLE CAFE</td>\n",
       "      <td>1200 VAN NESS AVE, 3RD FLOOR</td>\n",
       "      <td>San Francisco</td>\n",
       "      <td>CA</td>\n",
       "      <td>94109</td>\n",
       "      <td>37.786848</td>\n",
       "      <td>-122.421547</td>\n",
       "      <td>+14157763262</td>\n",
       "    </tr>\n",
       "    <tr>\n",
       "      <th>1</th>\n",
       "      <td>24</td>\n",
       "      <td>OMNI S.F. HOTEL - 2ND FLOOR PANTRY</td>\n",
       "      <td>500 CALIFORNIA ST, 2ND  FLOOR</td>\n",
       "      <td>San Francisco</td>\n",
       "      <td>CA</td>\n",
       "      <td>94104</td>\n",
       "      <td>37.792888</td>\n",
       "      <td>-122.403135</td>\n",
       "      <td>+14156779494</td>\n",
       "    </tr>\n",
       "    <tr>\n",
       "      <th>2</th>\n",
       "      <td>31</td>\n",
       "      <td>NORMAN'S ICE CREAM AND FREEZES</td>\n",
       "      <td>2801 LEAVENWORTH ST</td>\n",
       "      <td>San Francisco</td>\n",
       "      <td>CA</td>\n",
       "      <td>94133</td>\n",
       "      <td>37.807155</td>\n",
       "      <td>-122.419004</td>\n",
       "      <td>NaN</td>\n",
       "    </tr>\n",
       "    <tr>\n",
       "      <th>3</th>\n",
       "      <td>45</td>\n",
       "      <td>CHARLIE'S DELI CAFE</td>\n",
       "      <td>3202 FOLSOM ST</td>\n",
       "      <td>San Francisco</td>\n",
       "      <td>CA</td>\n",
       "      <td>94110</td>\n",
       "      <td>37.747114</td>\n",
       "      <td>-122.413641</td>\n",
       "      <td>+14156415051</td>\n",
       "    </tr>\n",
       "    <tr>\n",
       "      <th>4</th>\n",
       "      <td>48</td>\n",
       "      <td>ART'S CAFE</td>\n",
       "      <td>747 IRVING ST</td>\n",
       "      <td>San Francisco</td>\n",
       "      <td>CA</td>\n",
       "      <td>94122</td>\n",
       "      <td>37.764013</td>\n",
       "      <td>-122.465749</td>\n",
       "      <td>+14156657440</td>\n",
       "    </tr>\n",
       "  </tbody>\n",
       "</table>\n",
       "</div>"
      ],
      "text/plain": [
       "   business_id                                name  \\\n",
       "0           19               NRGIZE LIFESTYLE CAFE   \n",
       "1           24  OMNI S.F. HOTEL - 2ND FLOOR PANTRY   \n",
       "2           31      NORMAN'S ICE CREAM AND FREEZES   \n",
       "3           45                 CHARLIE'S DELI CAFE   \n",
       "4           48                          ART'S CAFE   \n",
       "\n",
       "                         address           city state postal_code   latitude  \\\n",
       "0   1200 VAN NESS AVE, 3RD FLOOR  San Francisco    CA       94109  37.786848   \n",
       "1  500 CALIFORNIA ST, 2ND  FLOOR  San Francisco    CA       94104  37.792888   \n",
       "2           2801 LEAVENWORTH ST   San Francisco    CA       94133  37.807155   \n",
       "3                3202 FOLSOM ST   San Francisco    CA       94110  37.747114   \n",
       "4                 747 IRVING ST   San Francisco    CA       94122  37.764013   \n",
       "\n",
       "    longitude  phone_number  \n",
       "0 -122.421547  +14157763262  \n",
       "1 -122.403135  +14156779494  \n",
       "2 -122.419004           NaN  \n",
       "3 -122.413641  +14156415051  \n",
       "4 -122.465749  +14156657440  "
      ]
     },
     "execution_count": 155,
     "metadata": {},
     "output_type": "execute_result"
    }
   ],
   "source": [
    "bus.head()"
   ]
  },
  {
   "cell_type": "code",
   "execution_count": 156,
   "metadata": {},
   "outputs": [
    {
     "data": {
      "text/html": [
       "<div>\n",
       "<style scoped>\n",
       "    .dataframe tbody tr th:only-of-type {\n",
       "        vertical-align: middle;\n",
       "    }\n",
       "\n",
       "    .dataframe tbody tr th {\n",
       "        vertical-align: top;\n",
       "    }\n",
       "\n",
       "    .dataframe thead th {\n",
       "        text-align: right;\n",
       "    }\n",
       "</style>\n",
       "<table border=\"1\" class=\"dataframe\">\n",
       "  <thead>\n",
       "    <tr style=\"text-align: right;\">\n",
       "      <th></th>\n",
       "      <th>business_id</th>\n",
       "      <th>score</th>\n",
       "      <th>date</th>\n",
       "      <th>type</th>\n",
       "    </tr>\n",
       "  </thead>\n",
       "  <tbody>\n",
       "    <tr>\n",
       "      <th>0</th>\n",
       "      <td>19</td>\n",
       "      <td>94</td>\n",
       "      <td>20160513</td>\n",
       "      <td>routine</td>\n",
       "    </tr>\n",
       "    <tr>\n",
       "      <th>1</th>\n",
       "      <td>19</td>\n",
       "      <td>94</td>\n",
       "      <td>20171211</td>\n",
       "      <td>routine</td>\n",
       "    </tr>\n",
       "    <tr>\n",
       "      <th>2</th>\n",
       "      <td>24</td>\n",
       "      <td>98</td>\n",
       "      <td>20171101</td>\n",
       "      <td>routine</td>\n",
       "    </tr>\n",
       "    <tr>\n",
       "      <th>3</th>\n",
       "      <td>24</td>\n",
       "      <td>98</td>\n",
       "      <td>20161005</td>\n",
       "      <td>routine</td>\n",
       "    </tr>\n",
       "    <tr>\n",
       "      <th>4</th>\n",
       "      <td>24</td>\n",
       "      <td>96</td>\n",
       "      <td>20160311</td>\n",
       "      <td>routine</td>\n",
       "    </tr>\n",
       "  </tbody>\n",
       "</table>\n",
       "</div>"
      ],
      "text/plain": [
       "   business_id  score      date     type\n",
       "0           19     94  20160513  routine\n",
       "1           19     94  20171211  routine\n",
       "2           24     98  20171101  routine\n",
       "3           24     98  20161005  routine\n",
       "4           24     96  20160311  routine"
      ]
     },
     "execution_count": 156,
     "metadata": {},
     "output_type": "execute_result"
    }
   ],
   "source": [
    "ins.head()"
   ]
  },
  {
   "cell_type": "code",
   "execution_count": 157,
   "metadata": {},
   "outputs": [
    {
     "data": {
      "text/html": [
       "<div>\n",
       "<style scoped>\n",
       "    .dataframe tbody tr th:only-of-type {\n",
       "        vertical-align: middle;\n",
       "    }\n",
       "\n",
       "    .dataframe tbody tr th {\n",
       "        vertical-align: top;\n",
       "    }\n",
       "\n",
       "    .dataframe thead th {\n",
       "        text-align: right;\n",
       "    }\n",
       "</style>\n",
       "<table border=\"1\" class=\"dataframe\">\n",
       "  <thead>\n",
       "    <tr style=\"text-align: right;\">\n",
       "      <th></th>\n",
       "      <th>business_id</th>\n",
       "      <th>date</th>\n",
       "      <th>description</th>\n",
       "    </tr>\n",
       "  </thead>\n",
       "  <tbody>\n",
       "    <tr>\n",
       "      <th>0</th>\n",
       "      <td>19</td>\n",
       "      <td>20171211</td>\n",
       "      <td>Inadequate food safety knowledge or lack of ce...</td>\n",
       "    </tr>\n",
       "    <tr>\n",
       "      <th>1</th>\n",
       "      <td>19</td>\n",
       "      <td>20171211</td>\n",
       "      <td>Unapproved or unmaintained equipment or utensils</td>\n",
       "    </tr>\n",
       "    <tr>\n",
       "      <th>2</th>\n",
       "      <td>19</td>\n",
       "      <td>20160513</td>\n",
       "      <td>Unapproved or unmaintained equipment or utensi...</td>\n",
       "    </tr>\n",
       "    <tr>\n",
       "      <th>3</th>\n",
       "      <td>19</td>\n",
       "      <td>20160513</td>\n",
       "      <td>Unclean or degraded floors walls or ceilings  ...</td>\n",
       "    </tr>\n",
       "    <tr>\n",
       "      <th>4</th>\n",
       "      <td>19</td>\n",
       "      <td>20160513</td>\n",
       "      <td>Food safety certificate or food handler card n...</td>\n",
       "    </tr>\n",
       "  </tbody>\n",
       "</table>\n",
       "</div>"
      ],
      "text/plain": [
       "   business_id      date                                        description\n",
       "0           19  20171211  Inadequate food safety knowledge or lack of ce...\n",
       "1           19  20171211   Unapproved or unmaintained equipment or utensils\n",
       "2           19  20160513  Unapproved or unmaintained equipment or utensi...\n",
       "3           19  20160513  Unclean or degraded floors walls or ceilings  ...\n",
       "4           19  20160513  Food safety certificate or food handler card n..."
      ]
     },
     "execution_count": 157,
     "metadata": {},
     "output_type": "execute_result"
    }
   ],
   "source": [
    "vio.head()"
   ]
  },
  {
   "cell_type": "markdown",
   "metadata": {
    "nbgrader": {
     "grade": false,
     "grade_id": "df-describe",
     "locked": true,
     "schema_version": 2,
     "solution": false
    }
   },
   "source": [
    "The `DataFrame.describe` method can also be handy for computing summaries of various statistics of our dataframes. Try it out with each of our 3 dataframes."
   ]
  },
  {
   "cell_type": "code",
   "execution_count": 158,
   "metadata": {
    "nbgrader": {
     "grade": false,
     "grade_id": "bus-describe",
     "locked": false,
     "schema_version": 2,
     "solution": true
    }
   },
   "outputs": [
    {
     "data": {
      "text/html": [
       "<div>\n",
       "<style scoped>\n",
       "    .dataframe tbody tr th:only-of-type {\n",
       "        vertical-align: middle;\n",
       "    }\n",
       "\n",
       "    .dataframe tbody tr th {\n",
       "        vertical-align: top;\n",
       "    }\n",
       "\n",
       "    .dataframe thead th {\n",
       "        text-align: right;\n",
       "    }\n",
       "</style>\n",
       "<table border=\"1\" class=\"dataframe\">\n",
       "  <thead>\n",
       "    <tr style=\"text-align: right;\">\n",
       "      <th></th>\n",
       "      <th>business_id</th>\n",
       "      <th>latitude</th>\n",
       "      <th>longitude</th>\n",
       "    </tr>\n",
       "  </thead>\n",
       "  <tbody>\n",
       "    <tr>\n",
       "      <th>count</th>\n",
       "      <td>6406.000000</td>\n",
       "      <td>3270.000000</td>\n",
       "      <td>3270.000000</td>\n",
       "    </tr>\n",
       "    <tr>\n",
       "      <th>mean</th>\n",
       "      <td>53058.248049</td>\n",
       "      <td>37.773662</td>\n",
       "      <td>-122.425791</td>\n",
       "    </tr>\n",
       "    <tr>\n",
       "      <th>std</th>\n",
       "      <td>34928.238762</td>\n",
       "      <td>0.022910</td>\n",
       "      <td>0.027762</td>\n",
       "    </tr>\n",
       "    <tr>\n",
       "      <th>min</th>\n",
       "      <td>19.000000</td>\n",
       "      <td>37.668824</td>\n",
       "      <td>-122.510896</td>\n",
       "    </tr>\n",
       "    <tr>\n",
       "      <th>25%</th>\n",
       "      <td>7405.500000</td>\n",
       "      <td>37.760487</td>\n",
       "      <td>-122.436844</td>\n",
       "    </tr>\n",
       "    <tr>\n",
       "      <th>50%</th>\n",
       "      <td>68294.500000</td>\n",
       "      <td>37.780435</td>\n",
       "      <td>-122.418855</td>\n",
       "    </tr>\n",
       "    <tr>\n",
       "      <th>75%</th>\n",
       "      <td>83446.500000</td>\n",
       "      <td>37.789951</td>\n",
       "      <td>-122.406609</td>\n",
       "    </tr>\n",
       "    <tr>\n",
       "      <th>max</th>\n",
       "      <td>94574.000000</td>\n",
       "      <td>37.824494</td>\n",
       "      <td>-122.368257</td>\n",
       "    </tr>\n",
       "  </tbody>\n",
       "</table>\n",
       "</div>"
      ],
      "text/plain": [
       "        business_id     latitude    longitude\n",
       "count   6406.000000  3270.000000  3270.000000\n",
       "mean   53058.248049    37.773662  -122.425791\n",
       "std    34928.238762     0.022910     0.027762\n",
       "min       19.000000    37.668824  -122.510896\n",
       "25%     7405.500000    37.760487  -122.436844\n",
       "50%    68294.500000    37.780435  -122.418855\n",
       "75%    83446.500000    37.789951  -122.406609\n",
       "max    94574.000000    37.824494  -122.368257"
      ]
     },
     "execution_count": 158,
     "metadata": {},
     "output_type": "execute_result"
    }
   ],
   "source": [
    "bus.describe()"
   ]
  },
  {
   "cell_type": "code",
   "execution_count": 159,
   "metadata": {},
   "outputs": [
    {
     "data": {
      "text/html": [
       "<div>\n",
       "<style scoped>\n",
       "    .dataframe tbody tr th:only-of-type {\n",
       "        vertical-align: middle;\n",
       "    }\n",
       "\n",
       "    .dataframe tbody tr th {\n",
       "        vertical-align: top;\n",
       "    }\n",
       "\n",
       "    .dataframe thead th {\n",
       "        text-align: right;\n",
       "    }\n",
       "</style>\n",
       "<table border=\"1\" class=\"dataframe\">\n",
       "  <thead>\n",
       "    <tr style=\"text-align: right;\">\n",
       "      <th></th>\n",
       "      <th>business_id</th>\n",
       "      <th>score</th>\n",
       "      <th>date</th>\n",
       "    </tr>\n",
       "  </thead>\n",
       "  <tbody>\n",
       "    <tr>\n",
       "      <th>count</th>\n",
       "      <td>14222.000000</td>\n",
       "      <td>14222.000000</td>\n",
       "      <td>1.422200e+04</td>\n",
       "    </tr>\n",
       "    <tr>\n",
       "      <th>mean</th>\n",
       "      <td>45138.752637</td>\n",
       "      <td>90.697370</td>\n",
       "      <td>2.016242e+07</td>\n",
       "    </tr>\n",
       "    <tr>\n",
       "      <th>std</th>\n",
       "      <td>34497.913056</td>\n",
       "      <td>8.088705</td>\n",
       "      <td>8.082778e+03</td>\n",
       "    </tr>\n",
       "    <tr>\n",
       "      <th>min</th>\n",
       "      <td>19.000000</td>\n",
       "      <td>48.000000</td>\n",
       "      <td>2.015013e+07</td>\n",
       "    </tr>\n",
       "    <tr>\n",
       "      <th>25%</th>\n",
       "      <td>5634.000000</td>\n",
       "      <td>86.000000</td>\n",
       "      <td>2.016021e+07</td>\n",
       "    </tr>\n",
       "    <tr>\n",
       "      <th>50%</th>\n",
       "      <td>61462.000000</td>\n",
       "      <td>92.000000</td>\n",
       "      <td>2.016091e+07</td>\n",
       "    </tr>\n",
       "    <tr>\n",
       "      <th>75%</th>\n",
       "      <td>78074.000000</td>\n",
       "      <td>96.000000</td>\n",
       "      <td>2.017061e+07</td>\n",
       "    </tr>\n",
       "    <tr>\n",
       "      <th>max</th>\n",
       "      <td>94231.000000</td>\n",
       "      <td>100.000000</td>\n",
       "      <td>2.018012e+07</td>\n",
       "    </tr>\n",
       "  </tbody>\n",
       "</table>\n",
       "</div>"
      ],
      "text/plain": [
       "        business_id         score          date\n",
       "count  14222.000000  14222.000000  1.422200e+04\n",
       "mean   45138.752637     90.697370  2.016242e+07\n",
       "std    34497.913056      8.088705  8.082778e+03\n",
       "min       19.000000     48.000000  2.015013e+07\n",
       "25%     5634.000000     86.000000  2.016021e+07\n",
       "50%    61462.000000     92.000000  2.016091e+07\n",
       "75%    78074.000000     96.000000  2.017061e+07\n",
       "max    94231.000000    100.000000  2.018012e+07"
      ]
     },
     "execution_count": 159,
     "metadata": {},
     "output_type": "execute_result"
    }
   ],
   "source": [
    "ins.describe()"
   ]
  },
  {
   "cell_type": "code",
   "execution_count": 160,
   "metadata": {},
   "outputs": [
    {
     "data": {
      "text/html": [
       "<div>\n",
       "<style scoped>\n",
       "    .dataframe tbody tr th:only-of-type {\n",
       "        vertical-align: middle;\n",
       "    }\n",
       "\n",
       "    .dataframe tbody tr th {\n",
       "        vertical-align: top;\n",
       "    }\n",
       "\n",
       "    .dataframe thead th {\n",
       "        text-align: right;\n",
       "    }\n",
       "</style>\n",
       "<table border=\"1\" class=\"dataframe\">\n",
       "  <thead>\n",
       "    <tr style=\"text-align: right;\">\n",
       "      <th></th>\n",
       "      <th>business_id</th>\n",
       "      <th>date</th>\n",
       "    </tr>\n",
       "  </thead>\n",
       "  <tbody>\n",
       "    <tr>\n",
       "      <th>count</th>\n",
       "      <td>39042.000000</td>\n",
       "      <td>3.904200e+04</td>\n",
       "    </tr>\n",
       "    <tr>\n",
       "      <th>mean</th>\n",
       "      <td>45674.440244</td>\n",
       "      <td>2.016283e+07</td>\n",
       "    </tr>\n",
       "    <tr>\n",
       "      <th>std</th>\n",
       "      <td>34172.433276</td>\n",
       "      <td>7.874679e+03</td>\n",
       "    </tr>\n",
       "    <tr>\n",
       "      <th>min</th>\n",
       "      <td>19.000000</td>\n",
       "      <td>2.015013e+07</td>\n",
       "    </tr>\n",
       "    <tr>\n",
       "      <th>25%</th>\n",
       "      <td>4959.000000</td>\n",
       "      <td>2.016031e+07</td>\n",
       "    </tr>\n",
       "    <tr>\n",
       "      <th>50%</th>\n",
       "      <td>62060.000000</td>\n",
       "      <td>2.016092e+07</td>\n",
       "    </tr>\n",
       "    <tr>\n",
       "      <th>75%</th>\n",
       "      <td>77681.000000</td>\n",
       "      <td>2.017063e+07</td>\n",
       "    </tr>\n",
       "    <tr>\n",
       "      <th>max</th>\n",
       "      <td>94231.000000</td>\n",
       "      <td>2.018012e+07</td>\n",
       "    </tr>\n",
       "  </tbody>\n",
       "</table>\n",
       "</div>"
      ],
      "text/plain": [
       "        business_id          date\n",
       "count  39042.000000  3.904200e+04\n",
       "mean   45674.440244  2.016283e+07\n",
       "std    34172.433276  7.874679e+03\n",
       "min       19.000000  2.015013e+07\n",
       "25%     4959.000000  2.016031e+07\n",
       "50%    62060.000000  2.016092e+07\n",
       "75%    77681.000000  2.017063e+07\n",
       "max    94231.000000  2.018012e+07"
      ]
     },
     "execution_count": 160,
     "metadata": {},
     "output_type": "execute_result"
    }
   ],
   "source": [
    "vio.describe()"
   ]
  },
  {
   "cell_type": "markdown",
   "metadata": {
    "nbgrader": {
     "grade": false,
     "grade_id": "run-these",
     "locked": true,
     "schema_version": 2,
     "solution": false
    }
   },
   "source": [
    "Now, we perform some sanity checks for you to verify that you loaded the data with the right structure. Run the following cells to load some basic utilities (you do not need to change these at all):"
   ]
  },
  {
   "cell_type": "markdown",
   "metadata": {
    "nbgrader": {
     "grade": false,
     "grade_id": "cell-70c105800589cd29",
     "locked": true,
     "schema_version": 2,
     "solution": false
    }
   },
   "source": [
    "First, we check the basic structure of the data frames you created:"
   ]
  },
  {
   "cell_type": "code",
   "execution_count": 161,
   "metadata": {
    "ExecuteTime": {
     "end_time": "2018-08-18T01:21:53.479700Z",
     "start_time": "2018-08-18T01:21:53.468578Z"
    },
    "nbgrader": {
     "grade": true,
     "grade_id": "q1d-test0",
     "locked": true,
     "points": 1,
     "schema_version": 2,
     "solution": false
    }
   },
   "outputs": [],
   "source": [
    "assert all(bus.columns == ['business_id', 'name', 'address', 'city', 'state', 'postal_code',\n",
    "                           'latitude', 'longitude', 'phone_number'])\n",
    "assert 6400 <= len(bus) <= 6420\n",
    "\n",
    "assert all(ins.columns == ['business_id', 'score', 'date', 'type'])\n",
    "assert 14210 <= len(ins) <= 14250\n",
    "\n",
    "assert all(vio.columns == ['business_id', 'date', 'description'])\n",
    "assert 39020 <= len(vio) <= 39080"
   ]
  },
  {
   "cell_type": "markdown",
   "metadata": {
    "nbgrader": {
     "grade": false,
     "grade_id": "summs",
     "locked": true,
     "schema_version": 2,
     "solution": false
    }
   },
   "source": [
    "Next we'll check that the statistics match what we expect. The following are hard-coded statistical summaries of the correct data."
   ]
  },
  {
   "cell_type": "code",
   "execution_count": 162,
   "metadata": {
    "ExecuteTime": {
     "end_time": "2018-08-18T01:21:53.518953Z",
     "start_time": "2018-08-18T01:21:53.482277Z"
    },
    "nbgrader": {
     "grade": false,
     "grade_id": "cell-dfsumms",
     "locked": true,
     "schema_version": 2,
     "solution": false
    }
   },
   "outputs": [
    {
     "name": "stdout",
     "output_type": "stream",
     "text": [
      "What we expect from your Businesses dataframe:\n"
     ]
    },
    {
     "data": {
      "text/html": [
       "<div>\n",
       "<style scoped>\n",
       "    .dataframe tbody tr th:only-of-type {\n",
       "        vertical-align: middle;\n",
       "    }\n",
       "\n",
       "    .dataframe tbody tr th {\n",
       "        vertical-align: top;\n",
       "    }\n",
       "\n",
       "    .dataframe thead th {\n",
       "        text-align: right;\n",
       "    }\n",
       "</style>\n",
       "<table border=\"1\" class=\"dataframe\">\n",
       "  <thead>\n",
       "    <tr style=\"text-align: right;\">\n",
       "      <th></th>\n",
       "      <th>business_id</th>\n",
       "      <th>latitude</th>\n",
       "      <th>longitude</th>\n",
       "    </tr>\n",
       "  </thead>\n",
       "  <tbody>\n",
       "    <tr>\n",
       "      <th>min</th>\n",
       "      <td>19.0</td>\n",
       "      <td>37.668824</td>\n",
       "      <td>-122.510896</td>\n",
       "    </tr>\n",
       "    <tr>\n",
       "      <th>50%</th>\n",
       "      <td>68294.5</td>\n",
       "      <td>37.780435</td>\n",
       "      <td>-122.418855</td>\n",
       "    </tr>\n",
       "    <tr>\n",
       "      <th>max</th>\n",
       "      <td>94574.0</td>\n",
       "      <td>37.824494</td>\n",
       "      <td>-122.368257</td>\n",
       "    </tr>\n",
       "  </tbody>\n",
       "</table>\n",
       "</div>"
      ],
      "text/plain": [
       "     business_id   latitude   longitude\n",
       "min         19.0  37.668824 -122.510896\n",
       "50%      68294.5  37.780435 -122.418855\n",
       "max      94574.0  37.824494 -122.368257"
      ]
     },
     "metadata": {},
     "output_type": "display_data"
    },
    {
     "name": "stdout",
     "output_type": "stream",
     "text": [
      "What we expect from your Inspections dataframe:\n"
     ]
    },
    {
     "data": {
      "text/html": [
       "<div>\n",
       "<style scoped>\n",
       "    .dataframe tbody tr th:only-of-type {\n",
       "        vertical-align: middle;\n",
       "    }\n",
       "\n",
       "    .dataframe tbody tr th {\n",
       "        vertical-align: top;\n",
       "    }\n",
       "\n",
       "    .dataframe thead th {\n",
       "        text-align: right;\n",
       "    }\n",
       "</style>\n",
       "<table border=\"1\" class=\"dataframe\">\n",
       "  <thead>\n",
       "    <tr style=\"text-align: right;\">\n",
       "      <th></th>\n",
       "      <th>business_id</th>\n",
       "      <th>score</th>\n",
       "    </tr>\n",
       "  </thead>\n",
       "  <tbody>\n",
       "    <tr>\n",
       "      <th>min</th>\n",
       "      <td>19.0</td>\n",
       "      <td>48.0</td>\n",
       "    </tr>\n",
       "    <tr>\n",
       "      <th>50%</th>\n",
       "      <td>61462.0</td>\n",
       "      <td>92.0</td>\n",
       "    </tr>\n",
       "    <tr>\n",
       "      <th>max</th>\n",
       "      <td>94231.0</td>\n",
       "      <td>100.0</td>\n",
       "    </tr>\n",
       "  </tbody>\n",
       "</table>\n",
       "</div>"
      ],
      "text/plain": [
       "     business_id  score\n",
       "min         19.0   48.0\n",
       "50%      61462.0   92.0\n",
       "max      94231.0  100.0"
      ]
     },
     "metadata": {},
     "output_type": "display_data"
    },
    {
     "name": "stdout",
     "output_type": "stream",
     "text": [
      "What we expect from your Violations dataframe:\n"
     ]
    },
    {
     "data": {
      "text/html": [
       "<div>\n",
       "<style scoped>\n",
       "    .dataframe tbody tr th:only-of-type {\n",
       "        vertical-align: middle;\n",
       "    }\n",
       "\n",
       "    .dataframe tbody tr th {\n",
       "        vertical-align: top;\n",
       "    }\n",
       "\n",
       "    .dataframe thead th {\n",
       "        text-align: right;\n",
       "    }\n",
       "</style>\n",
       "<table border=\"1\" class=\"dataframe\">\n",
       "  <thead>\n",
       "    <tr style=\"text-align: right;\">\n",
       "      <th></th>\n",
       "      <th>business_id</th>\n",
       "    </tr>\n",
       "  </thead>\n",
       "  <tbody>\n",
       "    <tr>\n",
       "      <th>min</th>\n",
       "      <td>19.0</td>\n",
       "    </tr>\n",
       "    <tr>\n",
       "      <th>50%</th>\n",
       "      <td>62060.0</td>\n",
       "    </tr>\n",
       "    <tr>\n",
       "      <th>max</th>\n",
       "      <td>94231.0</td>\n",
       "    </tr>\n",
       "  </tbody>\n",
       "</table>\n",
       "</div>"
      ],
      "text/plain": [
       "     business_id\n",
       "min         19.0\n",
       "50%      62060.0\n",
       "max      94231.0"
      ]
     },
     "metadata": {},
     "output_type": "display_data"
    }
   ],
   "source": [
    "bus_summary = pd.DataFrame(**{'columns': ['business_id', 'latitude', 'longitude'],\n",
    " 'data': {'business_id': {'50%': 68294.5, 'max': 94574.0, 'min': 19.0},\n",
    "  'latitude': {'50%': 37.780435, 'max': 37.824494, 'min': 37.668824},\n",
    "  'longitude': {'50%': -122.41885450000001,\n",
    "   'max': -122.368257,\n",
    "   'min': -122.510896}},\n",
    " 'index': ['min', '50%', 'max']})\n",
    "\n",
    "ins_summary = pd.DataFrame(**{'columns': ['business_id', 'score'],\n",
    " 'data': {'business_id': {'50%': 61462.0, 'max': 94231.0, 'min': 19.0},\n",
    "  'score': {'50%': 92.0, 'max': 100.0, 'min': 48.0}},\n",
    " 'index': ['min', '50%', 'max']})\n",
    "\n",
    "vio_summary = pd.DataFrame(**{'columns': ['business_id'],\n",
    " 'data': {'business_id': {'50%': 62060.0, 'max': 94231.0, 'min': 19.0}},\n",
    " 'index': ['min', '50%', 'max']})\n",
    "\n",
    "from IPython.display import display\n",
    "\n",
    "print('What we expect from your Businesses dataframe:')\n",
    "display(bus_summary)\n",
    "print('What we expect from your Inspections dataframe:')\n",
    "display(ins_summary)\n",
    "print('What we expect from your Violations dataframe:')\n",
    "display(vio_summary)"
   ]
  },
  {
   "cell_type": "markdown",
   "metadata": {
    "nbgrader": {
     "grade": false,
     "grade_id": "all-close",
     "locked": true,
     "schema_version": 2,
     "solution": false
    }
   },
   "source": [
    "The code below defines a testing function that we'll use to verify that your data has the same statistics as what we expect. Run these cells to define the function. The `df_allclose` function has this name because we are verifying that all of the statistics for your dataframe are close to the expected values. Why not `df_allequal`? It's a bad idea in almost all cases to compare two floating point values like 37.780435, as rounding error can cause spurious failures."
   ]
  },
  {
   "cell_type": "markdown",
   "metadata": {
    "deletable": false,
    "editable": false,
    "nbgrader": {
     "grade": false,
     "grade_id": "cell-704124b2513d9286",
     "locked": true,
     "schema_version": 2,
     "solution": false
    }
   },
   "source": [
    "## Question 1d: Verifying the data\n",
    "\n",
    "Now let's run the automated tests. If your dataframes are correct, then the following cell will seem to do nothing, which is a good thing! However, if your variables don't match the correct answers in the main summary statistics shown above, an exception will be raised.\n",
    "\n",
    "<!--\n",
    "BEGIN QUESTION\n",
    "name: q1d\n",
    "points: 3\n",
    "-->"
   ]
  },
  {
   "cell_type": "code",
   "execution_count": 163,
   "metadata": {
    "ExecuteTime": {
     "end_time": "2018-08-18T01:21:53.464919Z",
     "start_time": "2018-08-18T01:21:53.452814Z"
    },
    "nbgrader": {
     "grade": false,
     "grade_id": "cell-dfcompare",
     "locked": true,
     "schema_version": 2,
     "solution": false
    }
   },
   "outputs": [],
   "source": [
    "\"\"\"Run this cell to load this utility comparison function that we will use in various\n",
    "tests below (both tests you can see and those we run internally for grading).\n",
    "\n",
    "Do not modify the function in any way.\n",
    "\"\"\"\n",
    "\n",
    "\n",
    "def df_allclose(actual, desired, columns=None, rtol=5e-2):\n",
    "    \"\"\"Compare selected columns of two dataframes on a few summary statistics.\n",
    "    \n",
    "    Compute the min, median and max of the two dataframes on the given columns, and compare\n",
    "    that they match numerically to the given relative tolerance.\n",
    "    \n",
    "    If they don't match, an AssertionError is raised (by `numpy.testing`).\n",
    "    \"\"\"    \n",
    "    # summary statistics to compare on\n",
    "    stats = ['min', '50%', 'max']\n",
    "    \n",
    "    # For the desired values, we can provide a full DF with the same structure as\n",
    "    # the actual data, or pre-computed summary statistics.\n",
    "    # We assume a pre-computed summary was provided if columns is None. In that case, \n",
    "    # `desired` *must* have the same structure as the actual's summary\n",
    "    if columns is None:\n",
    "        des = desired\n",
    "        columns = desired.columns\n",
    "    else:\n",
    "        des = desired[columns].describe().loc[stats]\n",
    "\n",
    "    # Extract summary stats from actual DF\n",
    "    act = actual[columns].describe().loc[stats]\n",
    "\n",
    "    return np.allclose(act, des, rtol)"
   ]
  },
  {
   "cell_type": "code",
   "execution_count": 164,
   "metadata": {
    "deletable": false,
    "editable": false
   },
   "outputs": [
    {
     "name": "stdout",
     "output_type": "stream",
     "text": [
      "~~~~~~~~~~~~~~~~~~~~~~~~~~~~~~~~~~~~~~~~~~~~~~~~~~~~~~~~~~~~~~~~~~~~~\n",
      "Running tests\n",
      "\n",
      "---------------------------------------------------------------------\n",
      "Test summary\n",
      "    Passed: 3\n",
      "    Failed: 0\n",
      "[ooooooooook] 100.0% passed\n",
      "\n"
     ]
    }
   ],
   "source": [
    "ok.grade(\"q1d\");"
   ]
  },
  {
   "cell_type": "markdown",
   "metadata": {
    "nbgrader": {
     "grade": false,
     "grade_id": "q1e",
     "locked": true,
     "schema_version": 2,
     "solution": false
    }
   },
   "source": [
    "### Question 1e: Identifying Issues with the Data"
   ]
  },
  {
   "cell_type": "markdown",
   "metadata": {
    "deletable": false,
    "editable": false,
    "nbgrader": {
     "grade": false,
     "grade_id": "cell-use-head",
     "locked": true,
     "schema_version": 2,
     "solution": false
    }
   },
   "source": [
    "Use the `head` command on your three files again. This time, describe at least one potential problem with the data you see. Consider issues with missing values and bad data.\n",
    "\n",
    "<!--\n",
    "BEGIN QUESTION\n",
    "name: q1e\n",
    "manual: True\n",
    "points: 1\n",
    "-->\n",
    "<!-- EXPORT TO PDF -->"
   ]
  },
  {
   "cell_type": "code",
   "execution_count": 165,
   "metadata": {},
   "outputs": [
    {
     "data": {
      "text/html": [
       "<div>\n",
       "<style scoped>\n",
       "    .dataframe tbody tr th:only-of-type {\n",
       "        vertical-align: middle;\n",
       "    }\n",
       "\n",
       "    .dataframe tbody tr th {\n",
       "        vertical-align: top;\n",
       "    }\n",
       "\n",
       "    .dataframe thead th {\n",
       "        text-align: right;\n",
       "    }\n",
       "</style>\n",
       "<table border=\"1\" class=\"dataframe\">\n",
       "  <thead>\n",
       "    <tr style=\"text-align: right;\">\n",
       "      <th></th>\n",
       "      <th>business_id</th>\n",
       "      <th>name</th>\n",
       "      <th>address</th>\n",
       "      <th>city</th>\n",
       "      <th>state</th>\n",
       "      <th>postal_code</th>\n",
       "      <th>latitude</th>\n",
       "      <th>longitude</th>\n",
       "      <th>phone_number</th>\n",
       "    </tr>\n",
       "  </thead>\n",
       "  <tbody>\n",
       "    <tr>\n",
       "      <th>0</th>\n",
       "      <td>19</td>\n",
       "      <td>NRGIZE LIFESTYLE CAFE</td>\n",
       "      <td>1200 VAN NESS AVE, 3RD FLOOR</td>\n",
       "      <td>San Francisco</td>\n",
       "      <td>CA</td>\n",
       "      <td>94109</td>\n",
       "      <td>37.786848</td>\n",
       "      <td>-122.421547</td>\n",
       "      <td>+14157763262</td>\n",
       "    </tr>\n",
       "    <tr>\n",
       "      <th>1</th>\n",
       "      <td>24</td>\n",
       "      <td>OMNI S.F. HOTEL - 2ND FLOOR PANTRY</td>\n",
       "      <td>500 CALIFORNIA ST, 2ND  FLOOR</td>\n",
       "      <td>San Francisco</td>\n",
       "      <td>CA</td>\n",
       "      <td>94104</td>\n",
       "      <td>37.792888</td>\n",
       "      <td>-122.403135</td>\n",
       "      <td>+14156779494</td>\n",
       "    </tr>\n",
       "    <tr>\n",
       "      <th>2</th>\n",
       "      <td>31</td>\n",
       "      <td>NORMAN'S ICE CREAM AND FREEZES</td>\n",
       "      <td>2801 LEAVENWORTH ST</td>\n",
       "      <td>San Francisco</td>\n",
       "      <td>CA</td>\n",
       "      <td>94133</td>\n",
       "      <td>37.807155</td>\n",
       "      <td>-122.419004</td>\n",
       "      <td>NaN</td>\n",
       "    </tr>\n",
       "    <tr>\n",
       "      <th>3</th>\n",
       "      <td>45</td>\n",
       "      <td>CHARLIE'S DELI CAFE</td>\n",
       "      <td>3202 FOLSOM ST</td>\n",
       "      <td>San Francisco</td>\n",
       "      <td>CA</td>\n",
       "      <td>94110</td>\n",
       "      <td>37.747114</td>\n",
       "      <td>-122.413641</td>\n",
       "      <td>+14156415051</td>\n",
       "    </tr>\n",
       "    <tr>\n",
       "      <th>4</th>\n",
       "      <td>48</td>\n",
       "      <td>ART'S CAFE</td>\n",
       "      <td>747 IRVING ST</td>\n",
       "      <td>San Francisco</td>\n",
       "      <td>CA</td>\n",
       "      <td>94122</td>\n",
       "      <td>37.764013</td>\n",
       "      <td>-122.465749</td>\n",
       "      <td>+14156657440</td>\n",
       "    </tr>\n",
       "  </tbody>\n",
       "</table>\n",
       "</div>"
      ],
      "text/plain": [
       "   business_id                                name  \\\n",
       "0           19               NRGIZE LIFESTYLE CAFE   \n",
       "1           24  OMNI S.F. HOTEL - 2ND FLOOR PANTRY   \n",
       "2           31      NORMAN'S ICE CREAM AND FREEZES   \n",
       "3           45                 CHARLIE'S DELI CAFE   \n",
       "4           48                          ART'S CAFE   \n",
       "\n",
       "                         address           city state postal_code   latitude  \\\n",
       "0   1200 VAN NESS AVE, 3RD FLOOR  San Francisco    CA       94109  37.786848   \n",
       "1  500 CALIFORNIA ST, 2ND  FLOOR  San Francisco    CA       94104  37.792888   \n",
       "2           2801 LEAVENWORTH ST   San Francisco    CA       94133  37.807155   \n",
       "3                3202 FOLSOM ST   San Francisco    CA       94110  37.747114   \n",
       "4                 747 IRVING ST   San Francisco    CA       94122  37.764013   \n",
       "\n",
       "    longitude  phone_number  \n",
       "0 -122.421547  +14157763262  \n",
       "1 -122.403135  +14156779494  \n",
       "2 -122.419004           NaN  \n",
       "3 -122.413641  +14156415051  \n",
       "4 -122.465749  +14156657440  "
      ]
     },
     "execution_count": 165,
     "metadata": {},
     "output_type": "execute_result"
    }
   ],
   "source": [
    "bus.head()"
   ]
  },
  {
   "cell_type": "code",
   "execution_count": 166,
   "metadata": {},
   "outputs": [
    {
     "data": {
      "text/plain": [
       "Index(['business_id', 'date', 'description'], dtype='object')"
      ]
     },
     "execution_count": 166,
     "metadata": {},
     "output_type": "execute_result"
    }
   ],
   "source": [
    "vio.columns"
   ]
  },
  {
   "cell_type": "code",
   "execution_count": 167,
   "metadata": {},
   "outputs": [
    {
     "data": {
      "text/plain": [
       "Index(['business_id', 'score', 'date', 'type'], dtype='object')"
      ]
     },
     "execution_count": 167,
     "metadata": {},
     "output_type": "execute_result"
    }
   ],
   "source": [
    "ins.columns"
   ]
  },
  {
   "cell_type": "code",
   "execution_count": 168,
   "metadata": {},
   "outputs": [
    {
     "name": "stdout",
     "output_type": "stream",
     "text": [
      "<class 'pandas.core.frame.DataFrame'>\n",
      "RangeIndex: 6406 entries, 0 to 6405\n",
      "Data columns (total 9 columns):\n",
      "business_id     6406 non-null int64\n",
      "name            6406 non-null object\n",
      "address         6406 non-null object\n",
      "city            6406 non-null object\n",
      "state           6406 non-null object\n",
      "postal_code     6166 non-null object\n",
      "latitude        3270 non-null float64\n",
      "longitude       3270 non-null float64\n",
      "phone_number    5766 non-null object\n",
      "dtypes: float64(2), int64(1), object(6)\n",
      "memory usage: 450.5+ KB\n"
     ]
    }
   ],
   "source": [
    "bus.info()"
   ]
  },
  {
   "cell_type": "code",
   "execution_count": 169,
   "metadata": {},
   "outputs": [
    {
     "name": "stdout",
     "output_type": "stream",
     "text": [
      "<class 'pandas.core.frame.DataFrame'>\n",
      "RangeIndex: 39042 entries, 0 to 39041\n",
      "Data columns (total 3 columns):\n",
      "business_id    39042 non-null int64\n",
      "date           39042 non-null int64\n",
      "description    39042 non-null object\n",
      "dtypes: int64(2), object(1)\n",
      "memory usage: 915.1+ KB\n"
     ]
    }
   ],
   "source": [
    "vio.info()"
   ]
  },
  {
   "cell_type": "code",
   "execution_count": 170,
   "metadata": {},
   "outputs": [
    {
     "name": "stdout",
     "output_type": "stream",
     "text": [
      "<class 'pandas.core.frame.DataFrame'>\n",
      "RangeIndex: 14222 entries, 0 to 14221\n",
      "Data columns (total 4 columns):\n",
      "business_id    14222 non-null int64\n",
      "score          14222 non-null int64\n",
      "date           14222 non-null int64\n",
      "type           14222 non-null object\n",
      "dtypes: int64(3), object(1)\n",
      "memory usage: 444.5+ KB\n"
     ]
    }
   ],
   "source": [
    "ins.info()"
   ]
  },
  {
   "cell_type": "markdown",
   "metadata": {},
   "source": [
    "We can see that there are a significant number of missing data in the business dataframe, especially in the latitude and longitude columns but also in the postal_code and phone_number ones. Yet, those information are not fundamental as they can be infered and found with good research using the business_id. "
   ]
  },
  {
   "cell_type": "code",
   "execution_count": 171,
   "metadata": {},
   "outputs": [
    {
     "data": {
      "text/html": [
       "<div>\n",
       "<style scoped>\n",
       "    .dataframe tbody tr th:only-of-type {\n",
       "        vertical-align: middle;\n",
       "    }\n",
       "\n",
       "    .dataframe tbody tr th {\n",
       "        vertical-align: top;\n",
       "    }\n",
       "\n",
       "    .dataframe thead th {\n",
       "        text-align: right;\n",
       "    }\n",
       "</style>\n",
       "<table border=\"1\" class=\"dataframe\">\n",
       "  <thead>\n",
       "    <tr style=\"text-align: right;\">\n",
       "      <th></th>\n",
       "      <th>business_id</th>\n",
       "      <th>date</th>\n",
       "      <th>description</th>\n",
       "    </tr>\n",
       "  </thead>\n",
       "  <tbody>\n",
       "    <tr>\n",
       "      <th>0</th>\n",
       "      <td>19</td>\n",
       "      <td>20171211</td>\n",
       "      <td>Inadequate food safety knowledge or lack of ce...</td>\n",
       "    </tr>\n",
       "    <tr>\n",
       "      <th>1</th>\n",
       "      <td>19</td>\n",
       "      <td>20171211</td>\n",
       "      <td>Unapproved or unmaintained equipment or utensils</td>\n",
       "    </tr>\n",
       "    <tr>\n",
       "      <th>2</th>\n",
       "      <td>19</td>\n",
       "      <td>20160513</td>\n",
       "      <td>Unapproved or unmaintained equipment or utensi...</td>\n",
       "    </tr>\n",
       "    <tr>\n",
       "      <th>3</th>\n",
       "      <td>19</td>\n",
       "      <td>20160513</td>\n",
       "      <td>Unclean or degraded floors walls or ceilings  ...</td>\n",
       "    </tr>\n",
       "    <tr>\n",
       "      <th>4</th>\n",
       "      <td>19</td>\n",
       "      <td>20160513</td>\n",
       "      <td>Food safety certificate or food handler card n...</td>\n",
       "    </tr>\n",
       "  </tbody>\n",
       "</table>\n",
       "</div>"
      ],
      "text/plain": [
       "   business_id      date                                        description\n",
       "0           19  20171211  Inadequate food safety knowledge or lack of ce...\n",
       "1           19  20171211   Unapproved or unmaintained equipment or utensils\n",
       "2           19  20160513  Unapproved or unmaintained equipment or utensi...\n",
       "3           19  20160513  Unclean or degraded floors walls or ceilings  ...\n",
       "4           19  20160513  Food safety certificate or food handler card n..."
      ]
     },
     "execution_count": 171,
     "metadata": {},
     "output_type": "execute_result"
    }
   ],
   "source": [
    "vio.head()"
   ]
  },
  {
   "cell_type": "code",
   "execution_count": 172,
   "metadata": {},
   "outputs": [
    {
     "name": "stdout",
     "output_type": "stream",
     "text": [
      "Inadequate food safety knowledge or lack of certified food safety manager\n",
      "Unapproved or unmaintained equipment or utensils\n",
      "Unapproved or unmaintained equipment or utensils  [ date violation corrected: 12/11/2017 ]\n",
      "Unclean or degraded floors walls or ceilings  [ date violation corrected: 12/11/2017 ]\n",
      "Food safety certificate or food handler card not available  [ date violation corrected: 12/11/2017 ]\n",
      "Improper food storage\n",
      "Unclean or degraded floors walls or ceilings  [ date violation corrected: 11/1/2017 ]\n",
      "Unclean or degraded floors walls or ceilings  [ date violation corrected: 10/5/2016 ]\n",
      "Unclean or degraded floors walls or ceilings  [ date violation corrected: 3/11/2016 ]\n",
      "Food safety certificate or food handler card not available\n"
     ]
    }
   ],
   "source": [
    "for i in range(10):\n",
    "    print(vio['description'][i])"
   ]
  },
  {
   "cell_type": "markdown",
   "metadata": {},
   "source": [
    "We can see here that some data are wrong: here a significant amount of data have the wrong date (at least in the first rows) which mean that they have to be updated using some NLP techniques."
   ]
  },
  {
   "cell_type": "code",
   "execution_count": 173,
   "metadata": {},
   "outputs": [
    {
     "data": {
      "text/html": [
       "<div>\n",
       "<style scoped>\n",
       "    .dataframe tbody tr th:only-of-type {\n",
       "        vertical-align: middle;\n",
       "    }\n",
       "\n",
       "    .dataframe tbody tr th {\n",
       "        vertical-align: top;\n",
       "    }\n",
       "\n",
       "    .dataframe thead th {\n",
       "        text-align: right;\n",
       "    }\n",
       "</style>\n",
       "<table border=\"1\" class=\"dataframe\">\n",
       "  <thead>\n",
       "    <tr style=\"text-align: right;\">\n",
       "      <th></th>\n",
       "      <th>business_id</th>\n",
       "      <th>score</th>\n",
       "      <th>date</th>\n",
       "      <th>type</th>\n",
       "    </tr>\n",
       "  </thead>\n",
       "  <tbody>\n",
       "    <tr>\n",
       "      <th>0</th>\n",
       "      <td>19</td>\n",
       "      <td>94</td>\n",
       "      <td>20160513</td>\n",
       "      <td>routine</td>\n",
       "    </tr>\n",
       "    <tr>\n",
       "      <th>1</th>\n",
       "      <td>19</td>\n",
       "      <td>94</td>\n",
       "      <td>20171211</td>\n",
       "      <td>routine</td>\n",
       "    </tr>\n",
       "    <tr>\n",
       "      <th>2</th>\n",
       "      <td>24</td>\n",
       "      <td>98</td>\n",
       "      <td>20171101</td>\n",
       "      <td>routine</td>\n",
       "    </tr>\n",
       "    <tr>\n",
       "      <th>3</th>\n",
       "      <td>24</td>\n",
       "      <td>98</td>\n",
       "      <td>20161005</td>\n",
       "      <td>routine</td>\n",
       "    </tr>\n",
       "    <tr>\n",
       "      <th>4</th>\n",
       "      <td>24</td>\n",
       "      <td>96</td>\n",
       "      <td>20160311</td>\n",
       "      <td>routine</td>\n",
       "    </tr>\n",
       "  </tbody>\n",
       "</table>\n",
       "</div>"
      ],
      "text/plain": [
       "   business_id  score      date     type\n",
       "0           19     94  20160513  routine\n",
       "1           19     94  20171211  routine\n",
       "2           24     98  20171101  routine\n",
       "3           24     98  20161005  routine\n",
       "4           24     96  20160311  routine"
      ]
     },
     "execution_count": 173,
     "metadata": {},
     "output_type": "execute_result"
    }
   ],
   "source": [
    "ins.head()"
   ]
  },
  {
   "cell_type": "code",
   "execution_count": 174,
   "metadata": {},
   "outputs": [
    {
     "data": {
      "text/html": [
       "<div>\n",
       "<style scoped>\n",
       "    .dataframe tbody tr th:only-of-type {\n",
       "        vertical-align: middle;\n",
       "    }\n",
       "\n",
       "    .dataframe tbody tr th {\n",
       "        vertical-align: top;\n",
       "    }\n",
       "\n",
       "    .dataframe thead th {\n",
       "        text-align: right;\n",
       "    }\n",
       "</style>\n",
       "<table border=\"1\" class=\"dataframe\">\n",
       "  <thead>\n",
       "    <tr style=\"text-align: right;\">\n",
       "      <th></th>\n",
       "      <th>business_id</th>\n",
       "      <th>score</th>\n",
       "      <th>date</th>\n",
       "    </tr>\n",
       "    <tr>\n",
       "      <th>type</th>\n",
       "      <th></th>\n",
       "      <th></th>\n",
       "      <th></th>\n",
       "    </tr>\n",
       "  </thead>\n",
       "  <tbody>\n",
       "    <tr>\n",
       "      <th>complaint</th>\n",
       "      <td>1</td>\n",
       "      <td>1</td>\n",
       "      <td>1</td>\n",
       "    </tr>\n",
       "    <tr>\n",
       "      <th>routine</th>\n",
       "      <td>14221</td>\n",
       "      <td>14221</td>\n",
       "      <td>14221</td>\n",
       "    </tr>\n",
       "  </tbody>\n",
       "</table>\n",
       "</div>"
      ],
      "text/plain": [
       "           business_id  score   date\n",
       "type                                \n",
       "complaint            1      1      1\n",
       "routine          14221  14221  14221"
      ]
     },
     "execution_count": 174,
     "metadata": {},
     "output_type": "execute_result"
    }
   ],
   "source": [
    "ins.groupby('type').count()"
   ]
  },
  {
   "cell_type": "markdown",
   "metadata": {},
   "source": [
    "The column type is clearly irrelevant here, we can ignore the complaint type as we do not have enought data on it and work only with routine type data."
   ]
  },
  {
   "cell_type": "code",
   "execution_count": 175,
   "metadata": {},
   "outputs": [
    {
     "data": {
      "text/plain": [
       "<BarContainer object of 47 artists>"
      ]
     },
     "execution_count": 175,
     "metadata": {},
     "output_type": "execute_result"
    },
    {
     "data": {
      "image/png": "[encoded data removed]",
      "text/plain": [
       "<Figure size 432x288 with 1 Axes>"
      ]
     },
     "metadata": {},
     "output_type": "display_data"
    }
   ],
   "source": [
    "plt.bar(ins.groupby('score').count().index, ins.groupby('score').count()['business_id'])"
   ]
  },
  {
   "cell_type": "markdown",
   "metadata": {},
   "source": [
    "The goal of this notebook is: \"investigate restaurant food safety scores for restaurants in San Francisco\". Yet, reguarding the previous plot, the data are clearly imbalanced. We have more data for restaurant with higher score (which could also mean that they are more restaurant with high score,which is good). Yet, it could introduce a bias toward positive grades. "
   ]
  },
  {
   "cell_type": "code",
   "execution_count": 176,
   "metadata": {
    "ExecuteTime": {
     "end_time": "2018-08-18T01:21:53.925582Z",
     "start_time": "2018-08-18T01:21:53.918456Z"
    },
    "nbgrader": {
     "grade": true,
     "grade_id": "q1e-answer",
     "locked": false,
     "points": 1,
     "schema_version": 2,
     "solution": true
    },
    "tags": [
     "student",
     "written"
    ]
   },
   "outputs": [
    {
     "data": {
      "text/plain": [
       "(6406, 9)"
      ]
     },
     "execution_count": 176,
     "metadata": {},
     "output_type": "execute_result"
    }
   ],
   "source": [
    "bus.shape"
   ]
  },
  {
   "cell_type": "code",
   "execution_count": 177,
   "metadata": {},
   "outputs": [
    {
     "data": {
      "text/plain": [
       "(14222, 4)"
      ]
     },
     "execution_count": 177,
     "metadata": {},
     "output_type": "execute_result"
    }
   ],
   "source": [
    "ins.shape"
   ]
  },
  {
   "cell_type": "code",
   "execution_count": 178,
   "metadata": {},
   "outputs": [
    {
     "data": {
      "text/plain": [
       "(39042, 3)"
      ]
     },
     "execution_count": 178,
     "metadata": {},
     "output_type": "execute_result"
    }
   ],
   "source": [
    "vio.shape"
   ]
  },
  {
   "cell_type": "code",
   "execution_count": 179,
   "metadata": {},
   "outputs": [
    {
     "data": {
      "text/html": [
       "<div>\n",
       "<style scoped>\n",
       "    .dataframe tbody tr th:only-of-type {\n",
       "        vertical-align: middle;\n",
       "    }\n",
       "\n",
       "    .dataframe tbody tr th {\n",
       "        vertical-align: top;\n",
       "    }\n",
       "\n",
       "    .dataframe thead th {\n",
       "        text-align: right;\n",
       "    }\n",
       "</style>\n",
       "<table border=\"1\" class=\"dataframe\">\n",
       "  <thead>\n",
       "    <tr style=\"text-align: right;\">\n",
       "      <th></th>\n",
       "      <th>business_id</th>\n",
       "      <th>name</th>\n",
       "      <th>address</th>\n",
       "      <th>state</th>\n",
       "      <th>postal_code</th>\n",
       "      <th>latitude</th>\n",
       "      <th>longitude</th>\n",
       "      <th>phone_number</th>\n",
       "    </tr>\n",
       "    <tr>\n",
       "      <th>city</th>\n",
       "      <th></th>\n",
       "      <th></th>\n",
       "      <th></th>\n",
       "      <th></th>\n",
       "      <th></th>\n",
       "      <th></th>\n",
       "      <th></th>\n",
       "      <th></th>\n",
       "    </tr>\n",
       "  </thead>\n",
       "  <tbody>\n",
       "    <tr>\n",
       "      <th>San Francisco</th>\n",
       "      <td>6406</td>\n",
       "      <td>6406</td>\n",
       "      <td>6406</td>\n",
       "      <td>6406</td>\n",
       "      <td>6166</td>\n",
       "      <td>3270</td>\n",
       "      <td>3270</td>\n",
       "      <td>5766</td>\n",
       "    </tr>\n",
       "  </tbody>\n",
       "</table>\n",
       "</div>"
      ],
      "text/plain": [
       "               business_id  name  address  state  postal_code  latitude  \\\n",
       "city                                                                      \n",
       "San Francisco         6406  6406     6406   6406         6166      3270   \n",
       "\n",
       "               longitude  phone_number  \n",
       "city                                    \n",
       "San Francisco       3270          5766  "
      ]
     },
     "execution_count": 179,
     "metadata": {},
     "output_type": "execute_result"
    }
   ],
   "source": [
    "bus.groupby('city').count()"
   ]
  },
  {
   "cell_type": "markdown",
   "metadata": {},
   "source": [
    "The columns city and state are irrelevant here."
   ]
  },
  {
   "cell_type": "markdown",
   "metadata": {
    "nbgrader": {
     "grade": false,
     "grade_id": "intro-explo",
     "locked": true,
     "schema_version": 2,
     "solution": false
    }
   },
   "source": [
    "We will explore each file in turn, including determining its granularity and primary keys and exploring many of the variables individually. Let's begin with the businesses file, which has been read into the `bus` dataframe."
   ]
  },
  {
   "cell_type": "markdown",
   "metadata": {
    "nbgrader": {
     "grade": false,
     "grade_id": "business-data",
     "locked": true,
     "schema_version": 2,
     "solution": false
    }
   },
   "source": [
    "---\n",
    "## 2: Examining the Business Data\n",
    "\n",
    "From its name alone, we expect the `businesses.csv` file to contain information about the restaurants. Let's investigate the granularity of this dataset.\n",
    "\n",
    "**Important note: From now on, the local autograder tests will not be comprehensive. You can pass the automated tests in your notebook but still fail tests in the autograder.** Please be sure to check your results carefully."
   ]
  },
  {
   "cell_type": "markdown",
   "metadata": {
    "deletable": false,
    "editable": false,
    "nbgrader": {
     "grade": false,
     "grade_id": "q2a",
     "locked": true,
     "schema_version": 2,
     "solution": false
    }
   },
   "source": [
    "### Question 2a\n",
    "\n",
    "Examining the entries in `bus`, is the `business_id` unique for each record? Your code should compute the answer, i.e. don't just hard code `True` or `False`.\n",
    "\n",
    "Hint: use `value_counts()` or `unique()` to determine if the `business_id` series has any duplicates.\n",
    "\n",
    "<!--\n",
    "BEGIN QUESTION\n",
    "name: q2a\n",
    "points: 1\n",
    "-->"
   ]
  },
  {
   "cell_type": "code",
   "execution_count": 180,
   "metadata": {
    "ExecuteTime": {
     "end_time": "2018-08-18T01:21:53.936572Z",
     "start_time": "2018-08-18T01:21:53.927344Z"
    },
    "nbgrader": {
     "grade": false,
     "grade_id": "q2a-answer",
     "locked": false,
     "schema_version": 2,
     "solution": true
    },
    "tags": [
     "solution"
    ]
   },
   "outputs": [],
   "source": [
    "is_business_id_unique = len(bus['business_id'].unique()) == bus.shape[0]"
   ]
  },
  {
   "cell_type": "code",
   "execution_count": 181,
   "metadata": {
    "deletable": false,
    "editable": false
   },
   "outputs": [
    {
     "name": "stdout",
     "output_type": "stream",
     "text": [
      "~~~~~~~~~~~~~~~~~~~~~~~~~~~~~~~~~~~~~~~~~~~~~~~~~~~~~~~~~~~~~~~~~~~~~\n",
      "Running tests\n",
      "\n",
      "---------------------------------------------------------------------\n",
      "Test summary\n",
      "    Passed: 2\n",
      "    Failed: 0\n",
      "[ooooooooook] 100.0% passed\n",
      "\n"
     ]
    }
   ],
   "source": [
    "ok.grade(\"q2a\");"
   ]
  },
  {
   "cell_type": "markdown",
   "metadata": {
    "deletable": false,
    "editable": false,
    "nbgrader": {
     "grade": false,
     "grade_id": "q2b",
     "locked": true,
     "schema_version": 2,
     "solution": false
    },
    "tags": [
     "written"
    ]
   },
   "source": [
    "### Question 2b\n",
    "\n",
    "With this information, you can address the question of granularity. Answer the questions below.\n",
    "\n",
    "1. What does each record represent (e.g., a business, a restaurant, a location, etc.)?  \n",
    "1. What is the primary key?\n",
    "1. What would you find by grouping by the following columns: `business_id`, `name`, `address`?\n",
    "\n",
    "Please write your answer in the markdown cell below. You may create new cells below your answer to run code, but **please never add cells between a question cell and the answer cell below it.**\n",
    "\n",
    "<!--\n",
    "BEGIN QUESTION\n",
    "name: q2b\n",
    "points: 2\n",
    "manual: True\n",
    "-->\n",
    "<!-- EXPORT TO PDF -->"
   ]
  },
  {
   "cell_type": "markdown",
   "metadata": {
    "ExecuteTime": {
     "end_time": "2018-08-18T01:21:53.993138Z",
     "start_time": "2018-08-18T01:21:53.989070Z"
    },
    "nbgrader": {
     "grade": true,
     "grade_id": "q2b-answer",
     "locked": false,
     "points": 2,
     "schema_version": 2,
     "solution": true
    },
    "tags": [
     "student",
     "written"
    ]
   },
   "source": [
    "*Write your answer here, replacing this text.*"
   ]
  },
  {
   "cell_type": "code",
   "execution_count": 182,
   "metadata": {
    "ExecuteTime": {
     "end_time": "2018-08-18T01:21:53.987051Z",
     "start_time": "2018-08-18T01:21:53.949344Z"
    },
    "nbgrader": {
     "grade": false,
     "grade_id": "cell-d5e152552a41e14d",
     "locked": false,
     "schema_version": 2,
     "solution": true
    },
    "tags": [
     "student"
    ]
   },
   "outputs": [
    {
     "data": {
      "text/html": [
       "<div>\n",
       "<style scoped>\n",
       "    .dataframe tbody tr th:only-of-type {\n",
       "        vertical-align: middle;\n",
       "    }\n",
       "\n",
       "    .dataframe tbody tr th {\n",
       "        vertical-align: top;\n",
       "    }\n",
       "\n",
       "    .dataframe thead th {\n",
       "        text-align: right;\n",
       "    }\n",
       "</style>\n",
       "<table border=\"1\" class=\"dataframe\">\n",
       "  <thead>\n",
       "    <tr style=\"text-align: right;\">\n",
       "      <th></th>\n",
       "      <th>business_id</th>\n",
       "      <th>name</th>\n",
       "      <th>address</th>\n",
       "      <th>city</th>\n",
       "      <th>state</th>\n",
       "      <th>postal_code</th>\n",
       "      <th>latitude</th>\n",
       "      <th>longitude</th>\n",
       "      <th>phone_number</th>\n",
       "    </tr>\n",
       "  </thead>\n",
       "  <tbody>\n",
       "    <tr>\n",
       "      <th>0</th>\n",
       "      <td>19</td>\n",
       "      <td>NRGIZE LIFESTYLE CAFE</td>\n",
       "      <td>1200 VAN NESS AVE, 3RD FLOOR</td>\n",
       "      <td>San Francisco</td>\n",
       "      <td>CA</td>\n",
       "      <td>94109</td>\n",
       "      <td>37.786848</td>\n",
       "      <td>-122.421547</td>\n",
       "      <td>+14157763262</td>\n",
       "    </tr>\n",
       "    <tr>\n",
       "      <th>1</th>\n",
       "      <td>24</td>\n",
       "      <td>OMNI S.F. HOTEL - 2ND FLOOR PANTRY</td>\n",
       "      <td>500 CALIFORNIA ST, 2ND  FLOOR</td>\n",
       "      <td>San Francisco</td>\n",
       "      <td>CA</td>\n",
       "      <td>94104</td>\n",
       "      <td>37.792888</td>\n",
       "      <td>-122.403135</td>\n",
       "      <td>+14156779494</td>\n",
       "    </tr>\n",
       "    <tr>\n",
       "      <th>2</th>\n",
       "      <td>31</td>\n",
       "      <td>NORMAN'S ICE CREAM AND FREEZES</td>\n",
       "      <td>2801 LEAVENWORTH ST</td>\n",
       "      <td>San Francisco</td>\n",
       "      <td>CA</td>\n",
       "      <td>94133</td>\n",
       "      <td>37.807155</td>\n",
       "      <td>-122.419004</td>\n",
       "      <td>NaN</td>\n",
       "    </tr>\n",
       "    <tr>\n",
       "      <th>3</th>\n",
       "      <td>45</td>\n",
       "      <td>CHARLIE'S DELI CAFE</td>\n",
       "      <td>3202 FOLSOM ST</td>\n",
       "      <td>San Francisco</td>\n",
       "      <td>CA</td>\n",
       "      <td>94110</td>\n",
       "      <td>37.747114</td>\n",
       "      <td>-122.413641</td>\n",
       "      <td>+14156415051</td>\n",
       "    </tr>\n",
       "    <tr>\n",
       "      <th>4</th>\n",
       "      <td>48</td>\n",
       "      <td>ART'S CAFE</td>\n",
       "      <td>747 IRVING ST</td>\n",
       "      <td>San Francisco</td>\n",
       "      <td>CA</td>\n",
       "      <td>94122</td>\n",
       "      <td>37.764013</td>\n",
       "      <td>-122.465749</td>\n",
       "      <td>+14156657440</td>\n",
       "    </tr>\n",
       "  </tbody>\n",
       "</table>\n",
       "</div>"
      ],
      "text/plain": [
       "   business_id                                name  \\\n",
       "0           19               NRGIZE LIFESTYLE CAFE   \n",
       "1           24  OMNI S.F. HOTEL - 2ND FLOOR PANTRY   \n",
       "2           31      NORMAN'S ICE CREAM AND FREEZES   \n",
       "3           45                 CHARLIE'S DELI CAFE   \n",
       "4           48                          ART'S CAFE   \n",
       "\n",
       "                         address           city state postal_code   latitude  \\\n",
       "0   1200 VAN NESS AVE, 3RD FLOOR  San Francisco    CA       94109  37.786848   \n",
       "1  500 CALIFORNIA ST, 2ND  FLOOR  San Francisco    CA       94104  37.792888   \n",
       "2           2801 LEAVENWORTH ST   San Francisco    CA       94133  37.807155   \n",
       "3                3202 FOLSOM ST   San Francisco    CA       94110  37.747114   \n",
       "4                 747 IRVING ST   San Francisco    CA       94122  37.764013   \n",
       "\n",
       "    longitude  phone_number  \n",
       "0 -122.421547  +14157763262  \n",
       "1 -122.403135  +14156779494  \n",
       "2 -122.419004           NaN  \n",
       "3 -122.413641  +14156415051  \n",
       "4 -122.465749  +14156657440  "
      ]
     },
     "execution_count": 182,
     "metadata": {},
     "output_type": "execute_result"
    }
   ],
   "source": [
    "bus.head()"
   ]
  },
  {
   "cell_type": "code",
   "execution_count": 183,
   "metadata": {},
   "outputs": [
    {
     "data": {
      "text/plain": [
       "(6406, 9)"
      ]
     },
     "execution_count": 183,
     "metadata": {},
     "output_type": "execute_result"
    }
   ],
   "source": [
    "bus.shape"
   ]
  },
  {
   "cell_type": "code",
   "execution_count": 184,
   "metadata": {},
   "outputs": [
    {
     "data": {
      "text/html": [
       "<div>\n",
       "<style scoped>\n",
       "    .dataframe tbody tr th:only-of-type {\n",
       "        vertical-align: middle;\n",
       "    }\n",
       "\n",
       "    .dataframe tbody tr th {\n",
       "        vertical-align: top;\n",
       "    }\n",
       "\n",
       "    .dataframe thead th {\n",
       "        text-align: right;\n",
       "    }\n",
       "</style>\n",
       "<table border=\"1\" class=\"dataframe\">\n",
       "  <thead>\n",
       "    <tr style=\"text-align: right;\">\n",
       "      <th></th>\n",
       "      <th>business_id</th>\n",
       "      <th>name</th>\n",
       "      <th>city</th>\n",
       "      <th>state</th>\n",
       "      <th>postal_code</th>\n",
       "      <th>latitude</th>\n",
       "      <th>longitude</th>\n",
       "      <th>phone_number</th>\n",
       "    </tr>\n",
       "    <tr>\n",
       "      <th>address</th>\n",
       "      <th></th>\n",
       "      <th></th>\n",
       "      <th></th>\n",
       "      <th></th>\n",
       "      <th></th>\n",
       "      <th></th>\n",
       "      <th></th>\n",
       "      <th></th>\n",
       "    </tr>\n",
       "  </thead>\n",
       "  <tbody>\n",
       "    <tr>\n",
       "      <th></th>\n",
       "      <td>1</td>\n",
       "      <td>1</td>\n",
       "      <td>1</td>\n",
       "      <td>1</td>\n",
       "      <td>0</td>\n",
       "      <td>0</td>\n",
       "      <td>0</td>\n",
       "      <td>0</td>\n",
       "    </tr>\n",
       "    <tr>\n",
       "      <th>16TH AND SHOTWELL ST</th>\n",
       "      <td>1</td>\n",
       "      <td>1</td>\n",
       "      <td>1</td>\n",
       "      <td>1</td>\n",
       "      <td>1</td>\n",
       "      <td>1</td>\n",
       "      <td>1</td>\n",
       "      <td>1</td>\n",
       "    </tr>\n",
       "    <tr>\n",
       "      <th>1700 O'FARRELL @ FILLMORE ST</th>\n",
       "      <td>1</td>\n",
       "      <td>1</td>\n",
       "      <td>1</td>\n",
       "      <td>1</td>\n",
       "      <td>1</td>\n",
       "      <td>0</td>\n",
       "      <td>0</td>\n",
       "      <td>1</td>\n",
       "    </tr>\n",
       "    <tr>\n",
       "      <th>377</th>\n",
       "      <td>1</td>\n",
       "      <td>1</td>\n",
       "      <td>1</td>\n",
       "      <td>1</td>\n",
       "      <td>1</td>\n",
       "      <td>1</td>\n",
       "      <td>1</td>\n",
       "      <td>1</td>\n",
       "    </tr>\n",
       "    <tr>\n",
       "      <th>APPROVED LOCATIONS</th>\n",
       "      <td>4</td>\n",
       "      <td>4</td>\n",
       "      <td>4</td>\n",
       "      <td>4</td>\n",
       "      <td>0</td>\n",
       "      <td>0</td>\n",
       "      <td>0</td>\n",
       "      <td>4</td>\n",
       "    </tr>\n",
       "    <tr>\n",
       "      <th>APPROVED PRIVATE LOCATIONS</th>\n",
       "      <td>9</td>\n",
       "      <td>9</td>\n",
       "      <td>9</td>\n",
       "      <td>9</td>\n",
       "      <td>3</td>\n",
       "      <td>0</td>\n",
       "      <td>0</td>\n",
       "      <td>9</td>\n",
       "    </tr>\n",
       "    <tr>\n",
       "      <th>APPROVED PRIVATE LOCATIONS</th>\n",
       "      <td>1</td>\n",
       "      <td>1</td>\n",
       "      <td>1</td>\n",
       "      <td>1</td>\n",
       "      <td>1</td>\n",
       "      <td>0</td>\n",
       "      <td>0</td>\n",
       "      <td>1</td>\n",
       "    </tr>\n",
       "    <tr>\n",
       "      <th>APPROVED PRIVATE LOCATIONS &amp; SPECIAL EVENTS</th>\n",
       "      <td>1</td>\n",
       "      <td>1</td>\n",
       "      <td>1</td>\n",
       "      <td>1</td>\n",
       "      <td>1</td>\n",
       "      <td>0</td>\n",
       "      <td>0</td>\n",
       "      <td>1</td>\n",
       "    </tr>\n",
       "    <tr>\n",
       "      <th>APPROVED PUBLIC LOCATIONS</th>\n",
       "      <td>1</td>\n",
       "      <td>1</td>\n",
       "      <td>1</td>\n",
       "      <td>1</td>\n",
       "      <td>0</td>\n",
       "      <td>0</td>\n",
       "      <td>0</td>\n",
       "      <td>1</td>\n",
       "    </tr>\n",
       "    <tr>\n",
       "      <th>BEACH CHALET SOCCER FIELD PARKING LOT</th>\n",
       "      <td>1</td>\n",
       "      <td>1</td>\n",
       "      <td>1</td>\n",
       "      <td>1</td>\n",
       "      <td>0</td>\n",
       "      <td>0</td>\n",
       "      <td>0</td>\n",
       "      <td>1</td>\n",
       "    </tr>\n",
       "    <tr>\n",
       "      <th>BUENA VISTA WEST AVE</th>\n",
       "      <td>1</td>\n",
       "      <td>1</td>\n",
       "      <td>1</td>\n",
       "      <td>1</td>\n",
       "      <td>1</td>\n",
       "      <td>1</td>\n",
       "      <td>1</td>\n",
       "      <td>1</td>\n",
       "    </tr>\n",
       "    <tr>\n",
       "      <th>CHURCH ST</th>\n",
       "      <td>1</td>\n",
       "      <td>1</td>\n",
       "      <td>1</td>\n",
       "      <td>1</td>\n",
       "      <td>1</td>\n",
       "      <td>1</td>\n",
       "      <td>1</td>\n",
       "      <td>1</td>\n",
       "    </tr>\n",
       "    <tr>\n",
       "      <th>CIVIC CENTER-POLKK/MCALLISTER</th>\n",
       "      <td>1</td>\n",
       "      <td>1</td>\n",
       "      <td>1</td>\n",
       "      <td>1</td>\n",
       "      <td>1</td>\n",
       "      <td>1</td>\n",
       "      <td>1</td>\n",
       "      <td>1</td>\n",
       "    </tr>\n",
       "    <tr>\n",
       "      <th>CIVIC CTR- GARAGE LOBBY</th>\n",
       "      <td>1</td>\n",
       "      <td>1</td>\n",
       "      <td>1</td>\n",
       "      <td>1</td>\n",
       "      <td>1</td>\n",
       "      <td>1</td>\n",
       "      <td>1</td>\n",
       "      <td>1</td>\n",
       "    </tr>\n",
       "    <tr>\n",
       "      <th>DOLORES PK</th>\n",
       "      <td>1</td>\n",
       "      <td>1</td>\n",
       "      <td>1</td>\n",
       "      <td>1</td>\n",
       "      <td>0</td>\n",
       "      <td>0</td>\n",
       "      <td>0</td>\n",
       "      <td>1</td>\n",
       "    </tr>\n",
       "    <tr>\n",
       "      <th>FERRY PLAZA - PIER 1</th>\n",
       "      <td>1</td>\n",
       "      <td>1</td>\n",
       "      <td>1</td>\n",
       "      <td>1</td>\n",
       "      <td>1</td>\n",
       "      <td>1</td>\n",
       "      <td>1</td>\n",
       "      <td>1</td>\n",
       "    </tr>\n",
       "    <tr>\n",
       "      <th>FERRY PLAZA PIER</th>\n",
       "      <td>5</td>\n",
       "      <td>5</td>\n",
       "      <td>5</td>\n",
       "      <td>5</td>\n",
       "      <td>5</td>\n",
       "      <td>3</td>\n",
       "      <td>3</td>\n",
       "      <td>5</td>\n",
       "    </tr>\n",
       "    <tr>\n",
       "      <th>FOOT OF BAKER STREET ST</th>\n",
       "      <td>1</td>\n",
       "      <td>1</td>\n",
       "      <td>1</td>\n",
       "      <td>1</td>\n",
       "      <td>1</td>\n",
       "      <td>1</td>\n",
       "      <td>1</td>\n",
       "      <td>1</td>\n",
       "    </tr>\n",
       "    <tr>\n",
       "      <th>FOOT OF TAYLOR ST #2</th>\n",
       "      <td>1</td>\n",
       "      <td>1</td>\n",
       "      <td>1</td>\n",
       "      <td>1</td>\n",
       "      <td>1</td>\n",
       "      <td>1</td>\n",
       "      <td>1</td>\n",
       "      <td>1</td>\n",
       "    </tr>\n",
       "    <tr>\n",
       "      <th>FOOT OF TAYLOR ST 5</th>\n",
       "      <td>1</td>\n",
       "      <td>1</td>\n",
       "      <td>1</td>\n",
       "      <td>1</td>\n",
       "      <td>1</td>\n",
       "      <td>1</td>\n",
       "      <td>1</td>\n",
       "      <td>1</td>\n",
       "    </tr>\n",
       "    <tr>\n",
       "      <th>FORT MASON</th>\n",
       "      <td>1</td>\n",
       "      <td>1</td>\n",
       "      <td>1</td>\n",
       "      <td>1</td>\n",
       "      <td>0</td>\n",
       "      <td>1</td>\n",
       "      <td>1</td>\n",
       "      <td>1</td>\n",
       "    </tr>\n",
       "    <tr>\n",
       "      <th>FRONT, BETWEEN CALIFORNIA &amp; SACRAMENTO ST</th>\n",
       "      <td>1</td>\n",
       "      <td>1</td>\n",
       "      <td>1</td>\n",
       "      <td>1</td>\n",
       "      <td>0</td>\n",
       "      <td>0</td>\n",
       "      <td>0</td>\n",
       "      <td>0</td>\n",
       "    </tr>\n",
       "    <tr>\n",
       "      <th>GOLDEN GATE PARK</th>\n",
       "      <td>2</td>\n",
       "      <td>2</td>\n",
       "      <td>2</td>\n",
       "      <td>2</td>\n",
       "      <td>1</td>\n",
       "      <td>2</td>\n",
       "      <td>2</td>\n",
       "      <td>2</td>\n",
       "    </tr>\n",
       "    <tr>\n",
       "      <th>GOLDEN GATE PARK, CAROUSEL SNACK BAR</th>\n",
       "      <td>1</td>\n",
       "      <td>1</td>\n",
       "      <td>1</td>\n",
       "      <td>1</td>\n",
       "      <td>0</td>\n",
       "      <td>1</td>\n",
       "      <td>1</td>\n",
       "      <td>0</td>\n",
       "    </tr>\n",
       "    <tr>\n",
       "      <th>GOLDEN GATE PARK, JFK DR.@8TH AVE</th>\n",
       "      <td>1</td>\n",
       "      <td>1</td>\n",
       "      <td>1</td>\n",
       "      <td>1</td>\n",
       "      <td>0</td>\n",
       "      <td>1</td>\n",
       "      <td>1</td>\n",
       "      <td>1</td>\n",
       "    </tr>\n",
       "    <tr>\n",
       "      <th>GOLDEN GATE PARK, JFK DR.@CONSERVATORY OF FLOWERS</th>\n",
       "      <td>1</td>\n",
       "      <td>1</td>\n",
       "      <td>1</td>\n",
       "      <td>1</td>\n",
       "      <td>0</td>\n",
       "      <td>1</td>\n",
       "      <td>1</td>\n",
       "      <td>0</td>\n",
       "    </tr>\n",
       "    <tr>\n",
       "      <th>GOLDEN GATE PARK, MUSIC CONCOURSE</th>\n",
       "      <td>1</td>\n",
       "      <td>1</td>\n",
       "      <td>1</td>\n",
       "      <td>1</td>\n",
       "      <td>0</td>\n",
       "      <td>1</td>\n",
       "      <td>1</td>\n",
       "      <td>0</td>\n",
       "    </tr>\n",
       "    <tr>\n",
       "      <th>GOLDEN GATE PARK, SPRECKLES LAKE</th>\n",
       "      <td>1</td>\n",
       "      <td>1</td>\n",
       "      <td>1</td>\n",
       "      <td>1</td>\n",
       "      <td>0</td>\n",
       "      <td>1</td>\n",
       "      <td>1</td>\n",
       "      <td>0</td>\n",
       "    </tr>\n",
       "    <tr>\n",
       "      <th>HAIGHT</th>\n",
       "      <td>1</td>\n",
       "      <td>1</td>\n",
       "      <td>1</td>\n",
       "      <td>1</td>\n",
       "      <td>0</td>\n",
       "      <td>0</td>\n",
       "      <td>0</td>\n",
       "      <td>0</td>\n",
       "    </tr>\n",
       "    <tr>\n",
       "      <th>HARRISON &amp; 22ND ST</th>\n",
       "      <td>1</td>\n",
       "      <td>1</td>\n",
       "      <td>1</td>\n",
       "      <td>1</td>\n",
       "      <td>1</td>\n",
       "      <td>0</td>\n",
       "      <td>0</td>\n",
       "      <td>1</td>\n",
       "    </tr>\n",
       "    <tr>\n",
       "      <th>...</th>\n",
       "      <td>...</td>\n",
       "      <td>...</td>\n",
       "      <td>...</td>\n",
       "      <td>...</td>\n",
       "      <td>...</td>\n",
       "      <td>...</td>\n",
       "      <td>...</td>\n",
       "      <td>...</td>\n",
       "    </tr>\n",
       "    <tr>\n",
       "      <th>PIER 39  BUILDING B  SPACE 1-3</th>\n",
       "      <td>1</td>\n",
       "      <td>1</td>\n",
       "      <td>1</td>\n",
       "      <td>1</td>\n",
       "      <td>1</td>\n",
       "      <td>1</td>\n",
       "      <td>1</td>\n",
       "      <td>1</td>\n",
       "    </tr>\n",
       "    <tr>\n",
       "      <th>PIER 39  BUILDING Q1</th>\n",
       "      <td>1</td>\n",
       "      <td>1</td>\n",
       "      <td>1</td>\n",
       "      <td>1</td>\n",
       "      <td>1</td>\n",
       "      <td>1</td>\n",
       "      <td>1</td>\n",
       "      <td>0</td>\n",
       "    </tr>\n",
       "    <tr>\n",
       "      <th>PIER 39  FRONT</th>\n",
       "      <td>1</td>\n",
       "      <td>1</td>\n",
       "      <td>1</td>\n",
       "      <td>1</td>\n",
       "      <td>1</td>\n",
       "      <td>1</td>\n",
       "      <td>1</td>\n",
       "      <td>1</td>\n",
       "    </tr>\n",
       "    <tr>\n",
       "      <th>PIER 39  LOT 12</th>\n",
       "      <td>1</td>\n",
       "      <td>1</td>\n",
       "      <td>1</td>\n",
       "      <td>1</td>\n",
       "      <td>1</td>\n",
       "      <td>1</td>\n",
       "      <td>1</td>\n",
       "      <td>1</td>\n",
       "    </tr>\n",
       "    <tr>\n",
       "      <th>PIER 39  SPACE 103</th>\n",
       "      <td>1</td>\n",
       "      <td>1</td>\n",
       "      <td>1</td>\n",
       "      <td>1</td>\n",
       "      <td>1</td>\n",
       "      <td>1</td>\n",
       "      <td>1</td>\n",
       "      <td>1</td>\n",
       "    </tr>\n",
       "    <tr>\n",
       "      <th>PIER 39  SPACE 203C</th>\n",
       "      <td>1</td>\n",
       "      <td>1</td>\n",
       "      <td>1</td>\n",
       "      <td>1</td>\n",
       "      <td>1</td>\n",
       "      <td>1</td>\n",
       "      <td>1</td>\n",
       "      <td>1</td>\n",
       "    </tr>\n",
       "    <tr>\n",
       "      <th>PIER 39  SPACE 211-212</th>\n",
       "      <td>1</td>\n",
       "      <td>1</td>\n",
       "      <td>1</td>\n",
       "      <td>1</td>\n",
       "      <td>1</td>\n",
       "      <td>1</td>\n",
       "      <td>1</td>\n",
       "      <td>1</td>\n",
       "    </tr>\n",
       "    <tr>\n",
       "      <th>PIER 39  SPACE A202</th>\n",
       "      <td>1</td>\n",
       "      <td>1</td>\n",
       "      <td>1</td>\n",
       "      <td>1</td>\n",
       "      <td>1</td>\n",
       "      <td>1</td>\n",
       "      <td>1</td>\n",
       "      <td>1</td>\n",
       "    </tr>\n",
       "    <tr>\n",
       "      <th>PIER 39  SPACE A3</th>\n",
       "      <td>1</td>\n",
       "      <td>1</td>\n",
       "      <td>1</td>\n",
       "      <td>1</td>\n",
       "      <td>1</td>\n",
       "      <td>1</td>\n",
       "      <td>1</td>\n",
       "      <td>1</td>\n",
       "    </tr>\n",
       "    <tr>\n",
       "      <th>PIER 39  SPACE D-3</th>\n",
       "      <td>1</td>\n",
       "      <td>1</td>\n",
       "      <td>1</td>\n",
       "      <td>1</td>\n",
       "      <td>1</td>\n",
       "      <td>1</td>\n",
       "      <td>1</td>\n",
       "      <td>1</td>\n",
       "    </tr>\n",
       "    <tr>\n",
       "      <th>PIER 39  SPACE H-01</th>\n",
       "      <td>1</td>\n",
       "      <td>1</td>\n",
       "      <td>1</td>\n",
       "      <td>1</td>\n",
       "      <td>1</td>\n",
       "      <td>1</td>\n",
       "      <td>1</td>\n",
       "      <td>0</td>\n",
       "    </tr>\n",
       "    <tr>\n",
       "      <th>PIER 39  SPACE K-01</th>\n",
       "      <td>1</td>\n",
       "      <td>1</td>\n",
       "      <td>1</td>\n",
       "      <td>1</td>\n",
       "      <td>1</td>\n",
       "      <td>1</td>\n",
       "      <td>1</td>\n",
       "      <td>0</td>\n",
       "    </tr>\n",
       "    <tr>\n",
       "      <th>PIER 39  SPACE L-11</th>\n",
       "      <td>1</td>\n",
       "      <td>1</td>\n",
       "      <td>1</td>\n",
       "      <td>1</td>\n",
       "      <td>1</td>\n",
       "      <td>1</td>\n",
       "      <td>1</td>\n",
       "      <td>1</td>\n",
       "    </tr>\n",
       "    <tr>\n",
       "      <th>PIER 39  SPACE L-2</th>\n",
       "      <td>1</td>\n",
       "      <td>1</td>\n",
       "      <td>1</td>\n",
       "      <td>1</td>\n",
       "      <td>1</td>\n",
       "      <td>1</td>\n",
       "      <td>1</td>\n",
       "      <td>1</td>\n",
       "    </tr>\n",
       "    <tr>\n",
       "      <th>PIER 39  SPACE N-111</th>\n",
       "      <td>1</td>\n",
       "      <td>1</td>\n",
       "      <td>1</td>\n",
       "      <td>1</td>\n",
       "      <td>1</td>\n",
       "      <td>1</td>\n",
       "      <td>1</td>\n",
       "      <td>1</td>\n",
       "    </tr>\n",
       "    <tr>\n",
       "      <th>PIER 39  SPACE Q2</th>\n",
       "      <td>1</td>\n",
       "      <td>1</td>\n",
       "      <td>1</td>\n",
       "      <td>1</td>\n",
       "      <td>1</td>\n",
       "      <td>1</td>\n",
       "      <td>1</td>\n",
       "      <td>1</td>\n",
       "    </tr>\n",
       "    <tr>\n",
       "      <th>PIER 39 WEST PARK</th>\n",
       "      <td>1</td>\n",
       "      <td>1</td>\n",
       "      <td>1</td>\n",
       "      <td>1</td>\n",
       "      <td>1</td>\n",
       "      <td>1</td>\n",
       "      <td>1</td>\n",
       "      <td>1</td>\n",
       "    </tr>\n",
       "    <tr>\n",
       "      <th>PIER 40</th>\n",
       "      <td>2</td>\n",
       "      <td>2</td>\n",
       "      <td>2</td>\n",
       "      <td>2</td>\n",
       "      <td>2</td>\n",
       "      <td>1</td>\n",
       "      <td>1</td>\n",
       "      <td>2</td>\n",
       "    </tr>\n",
       "    <tr>\n",
       "      <th>PIER 41</th>\n",
       "      <td>14</td>\n",
       "      <td>14</td>\n",
       "      <td>14</td>\n",
       "      <td>14</td>\n",
       "      <td>14</td>\n",
       "      <td>12</td>\n",
       "      <td>12</td>\n",
       "      <td>13</td>\n",
       "    </tr>\n",
       "    <tr>\n",
       "      <th>PIER 43 1/2</th>\n",
       "      <td>4</td>\n",
       "      <td>4</td>\n",
       "      <td>4</td>\n",
       "      <td>4</td>\n",
       "      <td>4</td>\n",
       "      <td>4</td>\n",
       "      <td>4</td>\n",
       "      <td>4</td>\n",
       "    </tr>\n",
       "    <tr>\n",
       "      <th>PIER 45  SHED B SPACE 1A</th>\n",
       "      <td>1</td>\n",
       "      <td>1</td>\n",
       "      <td>1</td>\n",
       "      <td>1</td>\n",
       "      <td>1</td>\n",
       "      <td>0</td>\n",
       "      <td>0</td>\n",
       "      <td>1</td>\n",
       "    </tr>\n",
       "    <tr>\n",
       "      <th>PIER 45  SHED B UNIT D</th>\n",
       "      <td>1</td>\n",
       "      <td>1</td>\n",
       "      <td>1</td>\n",
       "      <td>1</td>\n",
       "      <td>1</td>\n",
       "      <td>0</td>\n",
       "      <td>0</td>\n",
       "      <td>1</td>\n",
       "    </tr>\n",
       "    <tr>\n",
       "      <th>PIER 47</th>\n",
       "      <td>1</td>\n",
       "      <td>1</td>\n",
       "      <td>1</td>\n",
       "      <td>1</td>\n",
       "      <td>1</td>\n",
       "      <td>1</td>\n",
       "      <td>1</td>\n",
       "      <td>1</td>\n",
       "    </tr>\n",
       "    <tr>\n",
       "      <th>PIER 5</th>\n",
       "      <td>1</td>\n",
       "      <td>1</td>\n",
       "      <td>1</td>\n",
       "      <td>1</td>\n",
       "      <td>1</td>\n",
       "      <td>1</td>\n",
       "      <td>1</td>\n",
       "      <td>1</td>\n",
       "    </tr>\n",
       "    <tr>\n",
       "      <th>PIER 7 EMBARCADERO</th>\n",
       "      <td>1</td>\n",
       "      <td>1</td>\n",
       "      <td>1</td>\n",
       "      <td>1</td>\n",
       "      <td>1</td>\n",
       "      <td>1</td>\n",
       "      <td>1</td>\n",
       "      <td>1</td>\n",
       "    </tr>\n",
       "    <tr>\n",
       "      <th>PIER 9</th>\n",
       "      <td>1</td>\n",
       "      <td>1</td>\n",
       "      <td>1</td>\n",
       "      <td>1</td>\n",
       "      <td>1</td>\n",
       "      <td>0</td>\n",
       "      <td>0</td>\n",
       "      <td>1</td>\n",
       "    </tr>\n",
       "    <tr>\n",
       "      <th>STOCKTON &amp; MARKET &amp; ELLIS ST (NW)</th>\n",
       "      <td>1</td>\n",
       "      <td>1</td>\n",
       "      <td>1</td>\n",
       "      <td>1</td>\n",
       "      <td>1</td>\n",
       "      <td>1</td>\n",
       "      <td>1</td>\n",
       "      <td>1</td>\n",
       "    </tr>\n",
       "    <tr>\n",
       "      <th>TREASURE ISLAND  888 AVENUE H</th>\n",
       "      <td>1</td>\n",
       "      <td>1</td>\n",
       "      <td>1</td>\n",
       "      <td>1</td>\n",
       "      <td>1</td>\n",
       "      <td>0</td>\n",
       "      <td>0</td>\n",
       "      <td>1</td>\n",
       "    </tr>\n",
       "    <tr>\n",
       "      <th>VARIOUS LOACATIONS (17)</th>\n",
       "      <td>1</td>\n",
       "      <td>1</td>\n",
       "      <td>1</td>\n",
       "      <td>1</td>\n",
       "      <td>1</td>\n",
       "      <td>0</td>\n",
       "      <td>0</td>\n",
       "      <td>1</td>\n",
       "    </tr>\n",
       "    <tr>\n",
       "      <th>VARIOUS LOCATIONS</th>\n",
       "      <td>4</td>\n",
       "      <td>4</td>\n",
       "      <td>4</td>\n",
       "      <td>4</td>\n",
       "      <td>2</td>\n",
       "      <td>0</td>\n",
       "      <td>0</td>\n",
       "      <td>4</td>\n",
       "    </tr>\n",
       "  </tbody>\n",
       "</table>\n",
       "<p>5626 rows × 8 columns</p>\n",
       "</div>"
      ],
      "text/plain": [
       "                                                    business_id  name  city  \\\n",
       "address                                                                       \n",
       "                                                              1     1     1   \n",
       " 16TH AND SHOTWELL ST                                         1     1     1   \n",
       " 1700 O'FARRELL @ FILLMORE ST                                 1     1     1   \n",
       " 377                                                          1     1     1   \n",
       " APPROVED LOCATIONS                                           4     4     4   \n",
       " APPROVED PRIVATE LOCATIONS                                   9     9     9   \n",
       " APPROVED PRIVATE LOCATIONS                                   1     1     1   \n",
       " APPROVED PRIVATE LOCATIONS & SPECIAL EVENTS                  1     1     1   \n",
       " APPROVED PUBLIC LOCATIONS                                    1     1     1   \n",
       " BEACH CHALET SOCCER FIELD PARKING LOT                        1     1     1   \n",
       " BUENA VISTA WEST AVE                                         1     1     1   \n",
       " CHURCH ST                                                    1     1     1   \n",
       " CIVIC CENTER-POLKK/MCALLISTER                                1     1     1   \n",
       " CIVIC CTR- GARAGE LOBBY                                      1     1     1   \n",
       " DOLORES PK                                                   1     1     1   \n",
       " FERRY PLAZA - PIER 1                                         1     1     1   \n",
       " FERRY PLAZA PIER                                             5     5     5   \n",
       " FOOT OF BAKER STREET ST                                      1     1     1   \n",
       " FOOT OF TAYLOR ST #2                                         1     1     1   \n",
       " FOOT OF TAYLOR ST 5                                          1     1     1   \n",
       " FORT MASON                                                   1     1     1   \n",
       " FRONT, BETWEEN CALIFORNIA & SACRAMENTO ST                    1     1     1   \n",
       " GOLDEN GATE PARK                                             2     2     2   \n",
       " GOLDEN GATE PARK, CAROUSEL SNACK BAR                         1     1     1   \n",
       " GOLDEN GATE PARK, JFK DR.@8TH AVE                            1     1     1   \n",
       " GOLDEN GATE PARK, JFK DR.@CONSERVATORY OF FLOW...            1     1     1   \n",
       " GOLDEN GATE PARK, MUSIC CONCOURSE                            1     1     1   \n",
       " GOLDEN GATE PARK, SPRECKLES LAKE                             1     1     1   \n",
       " HAIGHT                                                       1     1     1   \n",
       " HARRISON & 22ND ST                                           1     1     1   \n",
       "...                                                         ...   ...   ...   \n",
       "PIER 39  BUILDING B  SPACE 1-3                                1     1     1   \n",
       "PIER 39  BUILDING Q1                                          1     1     1   \n",
       "PIER 39  FRONT                                                1     1     1   \n",
       "PIER 39  LOT 12                                               1     1     1   \n",
       "PIER 39  SPACE 103                                            1     1     1   \n",
       "PIER 39  SPACE 203C                                           1     1     1   \n",
       "PIER 39  SPACE 211-212                                        1     1     1   \n",
       "PIER 39  SPACE A202                                           1     1     1   \n",
       "PIER 39  SPACE A3                                             1     1     1   \n",
       "PIER 39  SPACE D-3                                            1     1     1   \n",
       "PIER 39  SPACE H-01                                           1     1     1   \n",
       "PIER 39  SPACE K-01                                           1     1     1   \n",
       "PIER 39  SPACE L-11                                           1     1     1   \n",
       "PIER 39  SPACE L-2                                            1     1     1   \n",
       "PIER 39  SPACE N-111                                          1     1     1   \n",
       "PIER 39  SPACE Q2                                             1     1     1   \n",
       "PIER 39 WEST PARK                                             1     1     1   \n",
       "PIER 40                                                       2     2     2   \n",
       "PIER 41                                                      14    14    14   \n",
       "PIER 43 1/2                                                   4     4     4   \n",
       "PIER 45  SHED B SPACE 1A                                      1     1     1   \n",
       "PIER 45  SHED B UNIT D                                        1     1     1   \n",
       "PIER 47                                                       1     1     1   \n",
       "PIER 5                                                        1     1     1   \n",
       "PIER 7 EMBARCADERO                                            1     1     1   \n",
       "PIER 9                                                        1     1     1   \n",
       "STOCKTON & MARKET & ELLIS ST (NW)                             1     1     1   \n",
       "TREASURE ISLAND  888 AVENUE H                                 1     1     1   \n",
       "VARIOUS LOACATIONS (17)                                       1     1     1   \n",
       "VARIOUS LOCATIONS                                             4     4     4   \n",
       "\n",
       "                                                    state  postal_code  \\\n",
       "address                                                                  \n",
       "                                                        1            0   \n",
       " 16TH AND SHOTWELL ST                                   1            1   \n",
       " 1700 O'FARRELL @ FILLMORE ST                           1            1   \n",
       " 377                                                    1            1   \n",
       " APPROVED LOCATIONS                                     4            0   \n",
       " APPROVED PRIVATE LOCATIONS                             9            3   \n",
       " APPROVED PRIVATE LOCATIONS                             1            1   \n",
       " APPROVED PRIVATE LOCATIONS & SPECIAL EVENTS            1            1   \n",
       " APPROVED PUBLIC LOCATIONS                              1            0   \n",
       " BEACH CHALET SOCCER FIELD PARKING LOT                  1            0   \n",
       " BUENA VISTA WEST AVE                                   1            1   \n",
       " CHURCH ST                                              1            1   \n",
       " CIVIC CENTER-POLKK/MCALLISTER                          1            1   \n",
       " CIVIC CTR- GARAGE LOBBY                                1            1   \n",
       " DOLORES PK                                             1            0   \n",
       " FERRY PLAZA - PIER 1                                   1            1   \n",
       " FERRY PLAZA PIER                                       5            5   \n",
       " FOOT OF BAKER STREET ST                                1            1   \n",
       " FOOT OF TAYLOR ST #2                                   1            1   \n",
       " FOOT OF TAYLOR ST 5                                    1            1   \n",
       " FORT MASON                                             1            0   \n",
       " FRONT, BETWEEN CALIFORNIA & SACRAMENTO ST              1            0   \n",
       " GOLDEN GATE PARK                                       2            1   \n",
       " GOLDEN GATE PARK, CAROUSEL SNACK BAR                   1            0   \n",
       " GOLDEN GATE PARK, JFK DR.@8TH AVE                      1            0   \n",
       " GOLDEN GATE PARK, JFK DR.@CONSERVATORY OF FLOW...      1            0   \n",
       " GOLDEN GATE PARK, MUSIC CONCOURSE                      1            0   \n",
       " GOLDEN GATE PARK, SPRECKLES LAKE                       1            0   \n",
       " HAIGHT                                                 1            0   \n",
       " HARRISON & 22ND ST                                     1            1   \n",
       "...                                                   ...          ...   \n",
       "PIER 39  BUILDING B  SPACE 1-3                          1            1   \n",
       "PIER 39  BUILDING Q1                                    1            1   \n",
       "PIER 39  FRONT                                          1            1   \n",
       "PIER 39  LOT 12                                         1            1   \n",
       "PIER 39  SPACE 103                                      1            1   \n",
       "PIER 39  SPACE 203C                                     1            1   \n",
       "PIER 39  SPACE 211-212                                  1            1   \n",
       "PIER 39  SPACE A202                                     1            1   \n",
       "PIER 39  SPACE A3                                       1            1   \n",
       "PIER 39  SPACE D-3                                      1            1   \n",
       "PIER 39  SPACE H-01                                     1            1   \n",
       "PIER 39  SPACE K-01                                     1            1   \n",
       "PIER 39  SPACE L-11                                     1            1   \n",
       "PIER 39  SPACE L-2                                      1            1   \n",
       "PIER 39  SPACE N-111                                    1            1   \n",
       "PIER 39  SPACE Q2                                       1            1   \n",
       "PIER 39 WEST PARK                                       1            1   \n",
       "PIER 40                                                 2            2   \n",
       "PIER 41                                                14           14   \n",
       "PIER 43 1/2                                             4            4   \n",
       "PIER 45  SHED B SPACE 1A                                1            1   \n",
       "PIER 45  SHED B UNIT D                                  1            1   \n",
       "PIER 47                                                 1            1   \n",
       "PIER 5                                                  1            1   \n",
       "PIER 7 EMBARCADERO                                      1            1   \n",
       "PIER 9                                                  1            1   \n",
       "STOCKTON & MARKET & ELLIS ST (NW)                       1            1   \n",
       "TREASURE ISLAND  888 AVENUE H                           1            1   \n",
       "VARIOUS LOACATIONS (17)                                 1            1   \n",
       "VARIOUS LOCATIONS                                       4            2   \n",
       "\n",
       "                                                    latitude  longitude  \\\n",
       "address                                                                   \n",
       "                                                           0          0   \n",
       " 16TH AND SHOTWELL ST                                      1          1   \n",
       " 1700 O'FARRELL @ FILLMORE ST                              0          0   \n",
       " 377                                                       1          1   \n",
       " APPROVED LOCATIONS                                        0          0   \n",
       " APPROVED PRIVATE LOCATIONS                                0          0   \n",
       " APPROVED PRIVATE LOCATIONS                                0          0   \n",
       " APPROVED PRIVATE LOCATIONS & SPECIAL EVENTS               0          0   \n",
       " APPROVED PUBLIC LOCATIONS                                 0          0   \n",
       " BEACH CHALET SOCCER FIELD PARKING LOT                     0          0   \n",
       " BUENA VISTA WEST AVE                                      1          1   \n",
       " CHURCH ST                                                 1          1   \n",
       " CIVIC CENTER-POLKK/MCALLISTER                             1          1   \n",
       " CIVIC CTR- GARAGE LOBBY                                   1          1   \n",
       " DOLORES PK                                                0          0   \n",
       " FERRY PLAZA - PIER 1                                      1          1   \n",
       " FERRY PLAZA PIER                                          3          3   \n",
       " FOOT OF BAKER STREET ST                                   1          1   \n",
       " FOOT OF TAYLOR ST #2                                      1          1   \n",
       " FOOT OF TAYLOR ST 5                                       1          1   \n",
       " FORT MASON                                                1          1   \n",
       " FRONT, BETWEEN CALIFORNIA & SACRAMENTO ST                 0          0   \n",
       " GOLDEN GATE PARK                                          2          2   \n",
       " GOLDEN GATE PARK, CAROUSEL SNACK BAR                      1          1   \n",
       " GOLDEN GATE PARK, JFK DR.@8TH AVE                         1          1   \n",
       " GOLDEN GATE PARK, JFK DR.@CONSERVATORY OF FLOW...         1          1   \n",
       " GOLDEN GATE PARK, MUSIC CONCOURSE                         1          1   \n",
       " GOLDEN GATE PARK, SPRECKLES LAKE                          1          1   \n",
       " HAIGHT                                                    0          0   \n",
       " HARRISON & 22ND ST                                        0          0   \n",
       "...                                                      ...        ...   \n",
       "PIER 39  BUILDING B  SPACE 1-3                             1          1   \n",
       "PIER 39  BUILDING Q1                                       1          1   \n",
       "PIER 39  FRONT                                             1          1   \n",
       "PIER 39  LOT 12                                            1          1   \n",
       "PIER 39  SPACE 103                                         1          1   \n",
       "PIER 39  SPACE 203C                                        1          1   \n",
       "PIER 39  SPACE 211-212                                     1          1   \n",
       "PIER 39  SPACE A202                                        1          1   \n",
       "PIER 39  SPACE A3                                          1          1   \n",
       "PIER 39  SPACE D-3                                         1          1   \n",
       "PIER 39  SPACE H-01                                        1          1   \n",
       "PIER 39  SPACE K-01                                        1          1   \n",
       "PIER 39  SPACE L-11                                        1          1   \n",
       "PIER 39  SPACE L-2                                         1          1   \n",
       "PIER 39  SPACE N-111                                       1          1   \n",
       "PIER 39  SPACE Q2                                          1          1   \n",
       "PIER 39 WEST PARK                                          1          1   \n",
       "PIER 40                                                    1          1   \n",
       "PIER 41                                                   12         12   \n",
       "PIER 43 1/2                                                4          4   \n",
       "PIER 45  SHED B SPACE 1A                                   0          0   \n",
       "PIER 45  SHED B UNIT D                                     0          0   \n",
       "PIER 47                                                    1          1   \n",
       "PIER 5                                                     1          1   \n",
       "PIER 7 EMBARCADERO                                         1          1   \n",
       "PIER 9                                                     0          0   \n",
       "STOCKTON & MARKET & ELLIS ST (NW)                          1          1   \n",
       "TREASURE ISLAND  888 AVENUE H                              0          0   \n",
       "VARIOUS LOACATIONS (17)                                    0          0   \n",
       "VARIOUS LOCATIONS                                          0          0   \n",
       "\n",
       "                                                    phone_number  \n",
       "address                                                           \n",
       "                                                               0  \n",
       " 16TH AND SHOTWELL ST                                          1  \n",
       " 1700 O'FARRELL @ FILLMORE ST                                  1  \n",
       " 377                                                           1  \n",
       " APPROVED LOCATIONS                                            4  \n",
       " APPROVED PRIVATE LOCATIONS                                    9  \n",
       " APPROVED PRIVATE LOCATIONS                                    1  \n",
       " APPROVED PRIVATE LOCATIONS & SPECIAL EVENTS                   1  \n",
       " APPROVED PUBLIC LOCATIONS                                     1  \n",
       " BEACH CHALET SOCCER FIELD PARKING LOT                         1  \n",
       " BUENA VISTA WEST AVE                                          1  \n",
       " CHURCH ST                                                     1  \n",
       " CIVIC CENTER-POLKK/MCALLISTER                                 1  \n",
       " CIVIC CTR- GARAGE LOBBY                                       1  \n",
       " DOLORES PK                                                    1  \n",
       " FERRY PLAZA - PIER 1                                          1  \n",
       " FERRY PLAZA PIER                                              5  \n",
       " FOOT OF BAKER STREET ST                                       1  \n",
       " FOOT OF TAYLOR ST #2                                          1  \n",
       " FOOT OF TAYLOR ST 5                                           1  \n",
       " FORT MASON                                                    1  \n",
       " FRONT, BETWEEN CALIFORNIA & SACRAMENTO ST                     0  \n",
       " GOLDEN GATE PARK                                              2  \n",
       " GOLDEN GATE PARK, CAROUSEL SNACK BAR                          0  \n",
       " GOLDEN GATE PARK, JFK DR.@8TH AVE                             1  \n",
       " GOLDEN GATE PARK, JFK DR.@CONSERVATORY OF FLOW...             0  \n",
       " GOLDEN GATE PARK, MUSIC CONCOURSE                             0  \n",
       " GOLDEN GATE PARK, SPRECKLES LAKE                              0  \n",
       " HAIGHT                                                        0  \n",
       " HARRISON & 22ND ST                                            1  \n",
       "...                                                          ...  \n",
       "PIER 39  BUILDING B  SPACE 1-3                                 1  \n",
       "PIER 39  BUILDING Q1                                           0  \n",
       "PIER 39  FRONT                                                 1  \n",
       "PIER 39  LOT 12                                                1  \n",
       "PIER 39  SPACE 103                                             1  \n",
       "PIER 39  SPACE 203C                                            1  \n",
       "PIER 39  SPACE 211-212                                         1  \n",
       "PIER 39  SPACE A202                                            1  \n",
       "PIER 39  SPACE A3                                              1  \n",
       "PIER 39  SPACE D-3                                             1  \n",
       "PIER 39  SPACE H-01                                            0  \n",
       "PIER 39  SPACE K-01                                            0  \n",
       "PIER 39  SPACE L-11                                            1  \n",
       "PIER 39  SPACE L-2                                             1  \n",
       "PIER 39  SPACE N-111                                           1  \n",
       "PIER 39  SPACE Q2                                              1  \n",
       "PIER 39 WEST PARK                                              1  \n",
       "PIER 40                                                        2  \n",
       "PIER 41                                                       13  \n",
       "PIER 43 1/2                                                    4  \n",
       "PIER 45  SHED B SPACE 1A                                       1  \n",
       "PIER 45  SHED B UNIT D                                         1  \n",
       "PIER 47                                                        1  \n",
       "PIER 5                                                         1  \n",
       "PIER 7 EMBARCADERO                                             1  \n",
       "PIER 9                                                         1  \n",
       "STOCKTON & MARKET & ELLIS ST (NW)                              1  \n",
       "TREASURE ISLAND  888 AVENUE H                                  1  \n",
       "VARIOUS LOACATIONS (17)                                        1  \n",
       "VARIOUS LOCATIONS                                              4  \n",
       "\n",
       "[5626 rows x 8 columns]"
      ]
     },
     "execution_count": 184,
     "metadata": {},
     "output_type": "execute_result"
    }
   ],
   "source": [
    "bus.groupby('address').count()"
   ]
  },
  {
   "cell_type": "markdown",
   "metadata": {},
   "source": [
    "### What does each record represent (e.g., a business, a restaurant, a location, etc.)?\n",
    "\n",
    "Each record represent a restaurant. \n",
    "\n",
    "### What is the primary key?\n",
    "\n",
    "The primary key is business_id\n",
    "\n",
    "### What would you find by grouping by the following columns: business_id, name, address?\n",
    "\n",
    "By grouping by business_id, we will have the same dataset as business_id is the key.\n",
    "By grouping by name, we would see if some restaurant have the same name in SF and group them together (this is actually the case as we have 6267 different names but 6406 different business_id). \n",
    "By grouping by adress, we would group together the restaurants that are at the same place, as some addresses are more broad, such as Golden Gate Park or \"Approved location\" (which is pretty (6080 different addresses) \n",
    "\n",
    "\n"
   ]
  },
  {
   "cell_type": "markdown",
   "metadata": {
    "deletable": false,
    "editable": false,
    "nbgrader": {
     "grade": false,
     "grade_id": "q3a",
     "locked": true,
     "schema_version": 2,
     "solution": false
    },
    "tags": [
     "written"
    ]
   },
   "source": [
    "---\n",
    "## 3: Zip Codes\n",
    "\n",
    "Next, let's  explore some of the variables in the business table. We begin by examining the postal code.\n",
    "\n",
    "### Question 3a\n",
    "\n",
    "Answer the following questions about the `postal code` column in the `bus` data frame?  \n",
    "1. Are ZIP codes quantitative or qualitative? If qualitative, is it ordinal or nominal? \n",
    "1. What data type is used to represent a ZIP code?\n",
    "\n",
    "*Note*: ZIP codes and postal codes are the same thing.\n",
    "\n",
    "<!--\n",
    "BEGIN QUESTION\n",
    "name: q3a\n",
    "points: 2\n",
    "manual: True\n",
    "-->\n",
    "<!-- EXPORT TO PDF -->"
   ]
  },
  {
   "cell_type": "code",
   "execution_count": 185,
   "metadata": {},
   "outputs": [
    {
     "data": {
      "text/plain": [
       "count      6166\n",
       "unique       48\n",
       "top       94110\n",
       "freq        596\n",
       "Name: postal_code, dtype: object"
      ]
     },
     "execution_count": 185,
     "metadata": {},
     "output_type": "execute_result"
    }
   ],
   "source": [
    "bus['postal_code'].describe()"
   ]
  },
  {
   "cell_type": "markdown",
   "metadata": {},
   "source": [
    "### 1. Are ZIP codes quantitative or qualitative? If qualitative, is it ordinal or nominal? \n",
    "\n",
    "Zip codes are qualitative, nominal variables.\n",
    "\n",
    "### 2. What data type is used to represent a ZIP code?\n",
    "\n",
    "Zip codes are nominal types of data."
   ]
  },
  {
   "cell_type": "markdown",
   "metadata": {
    "deletable": false,
    "editable": false,
    "nbgrader": {
     "grade": false,
     "grade_id": "cell-a4c4a09f1ecf2f4b",
     "locked": true,
     "schema_version": 2,
     "solution": false
    }
   },
   "source": [
    "### Question 3b\n",
    "\n",
    "How many restaurants are in each ZIP code? \n",
    "\n",
    "In the cell below, create a series where the index is the postal code and the value is the number of records with that postal code in descending order of count. 94110 should be at the top with a count of 596. \n",
    "\n",
    "<!--\n",
    "BEGIN QUESTION\n",
    "name: q3b\n",
    "points: 0\n",
    "-->"
   ]
  },
  {
   "cell_type": "code",
   "execution_count": 186,
   "metadata": {
    "nbgrader": {
     "grade": false,
     "grade_id": "cell-d2151d673e6c36a1",
     "locked": false,
     "schema_version": 2,
     "solution": true
    }
   },
   "outputs": [
    {
     "data": {
      "text/plain": [
       "postal_code\n",
       "94110    596\n",
       "94103    552\n",
       "94102    462\n",
       "94107    460\n",
       "94133    426\n",
       "dtype: int64"
      ]
     },
     "execution_count": 186,
     "metadata": {},
     "output_type": "execute_result"
    }
   ],
   "source": [
    "zip_counts = bus.groupby('postal_code').size().sort_values(ascending=False)\n",
    "zip_counts.head()"
   ]
  },
  {
   "cell_type": "markdown",
   "metadata": {
    "nbgrader": {
     "grade": false,
     "grade_id": "cell-bf6a7fc2384bf533",
     "locked": true,
     "schema_version": 2,
     "solution": false
    }
   },
   "source": [
    "Did you take into account that some businesses have missing ZIP codes?"
   ]
  },
  {
   "cell_type": "code",
   "execution_count": 187,
   "metadata": {},
   "outputs": [
    {
     "name": "stdout",
     "output_type": "stream",
     "text": [
      "zip_counts describes 6166 records.\n",
      "The original data have 6406 records\n"
     ]
    }
   ],
   "source": [
    "print('zip_counts describes', sum(zip_counts), 'records.')\n",
    "print('The original data have', len(bus), 'records')"
   ]
  },
  {
   "cell_type": "markdown",
   "metadata": {
    "nbgrader": {
     "grade": false,
     "grade_id": "cell-5ee47d11c7068c13",
     "locked": true,
     "schema_version": 2,
     "solution": false
    }
   },
   "source": [
    "Missing data is extremely common in real-world data science projects. There are several ways to include missing postal codes in the `zip_counts` series above. One approach is to use the `fillna` method of the series, which will replace all null (a.k.a. NaN) values with a string of our choosing. In the example below, we picked \"?????\". When you run the code below, you should see that there are 240 businesses with missing zip code."
   ]
  },
  {
   "cell_type": "code",
   "execution_count": 188,
   "metadata": {
    "nbgrader": {
     "grade": false,
     "grade_id": "cell-e7169177fd00d200",
     "locked": true,
     "schema_version": 2,
     "solution": false
    },
    "scrolled": false
   },
   "outputs": [
    {
     "data": {
      "text/plain": [
       "postal_code\n",
       "94110    596\n",
       "94103    552\n",
       "94102    462\n",
       "94107    460\n",
       "94133    426\n",
       "94109    380\n",
       "94111    277\n",
       "94122    273\n",
       "94118    249\n",
       "94115    243\n",
       "?????    240\n",
       "94105    232\n",
       "94108    228\n",
       "94114    223\n",
       "94117    204\n",
       "dtype: int64"
      ]
     },
     "execution_count": 188,
     "metadata": {},
     "output_type": "execute_result"
    }
   ],
   "source": [
    "zip_counts = bus.fillna(\"?????\").groupby(\"postal_code\").size().sort_values(ascending=False)\n",
    "zip_counts.head(15)"
   ]
  },
  {
   "cell_type": "markdown",
   "metadata": {
    "nbgrader": {
     "grade": false,
     "grade_id": "cell-3d7c3379cb7dc256",
     "locked": true,
     "schema_version": 2,
     "solution": false
    }
   },
   "source": [
    "An alternate approach is to use the DataFrame `value_counts` method with the optional argument `dropna=False`, which will ensure that null values are counted. In this case, the index will be `NaN` for the row corresponding to a null postal code."
   ]
  },
  {
   "cell_type": "code",
   "execution_count": 189,
   "metadata": {
    "nbgrader": {
     "grade": false,
     "grade_id": "cell-28eecc6664aa9bf2",
     "locked": true,
     "schema_version": 2,
     "solution": false
    }
   },
   "outputs": [
    {
     "data": {
      "text/plain": [
       "94110    596\n",
       "94103    552\n",
       "94102    462\n",
       "94107    460\n",
       "94133    426\n",
       "94109    380\n",
       "94111    277\n",
       "94122    273\n",
       "94118    249\n",
       "94115    243\n",
       "NaN      240\n",
       "94105    232\n",
       "94108    228\n",
       "94114    223\n",
       "94117    204\n",
       "Name: postal_code, dtype: int64"
      ]
     },
     "execution_count": 189,
     "metadata": {},
     "output_type": "execute_result"
    }
   ],
   "source": [
    "bus[\"postal_code\"].value_counts(dropna=False).sort_values(ascending = False).head(15)"
   ]
  },
  {
   "cell_type": "markdown",
   "metadata": {
    "nbgrader": {
     "grade": false,
     "grade_id": "zipcode-details",
     "locked": true,
     "schema_version": 2,
     "solution": false
    }
   },
   "source": [
    "Missing zip codes aren't our only problem. There are also some records where the postal code is wrong, e.g., there are 3 'Ca' and 3 'CA' values. Additionally, there are some extended postal codes that are 9 digits long, rather than the typical 5 digits.\n",
    "\n",
    "Let's clean up the extended zip codes by dropping the digits beyond the first 5. Rather than deleting or replacing the old values in the `postal_code` columnm, we'll instead create a new column called `postal_code_5`.\n",
    "\n",
    "The reason we're making a new column is that it's typically good practice to keep the original values when we are manipulating data. This makes it easier to recover from mistakes, and also makes it more clear that we are not working with the original raw data."
   ]
  },
  {
   "cell_type": "code",
   "execution_count": 190,
   "metadata": {
    "ExecuteTime": {
     "end_time": "2018-08-18T01:21:54.070634Z",
     "start_time": "2018-08-18T01:21:54.061377Z"
    },
    "nbgrader": {
     "grade": false,
     "grade_id": "run-me",
     "locked": true,
     "schema_version": 2,
     "solution": false
    },
    "scrolled": true
   },
   "outputs": [
    {
     "data": {
      "text/html": [
       "<div>\n",
       "<style scoped>\n",
       "    .dataframe tbody tr th:only-of-type {\n",
       "        vertical-align: middle;\n",
       "    }\n",
       "\n",
       "    .dataframe tbody tr th {\n",
       "        vertical-align: top;\n",
       "    }\n",
       "\n",
       "    .dataframe thead th {\n",
       "        text-align: right;\n",
       "    }\n",
       "</style>\n",
       "<table border=\"1\" class=\"dataframe\">\n",
       "  <thead>\n",
       "    <tr style=\"text-align: right;\">\n",
       "      <th></th>\n",
       "      <th>business_id</th>\n",
       "      <th>name</th>\n",
       "      <th>address</th>\n",
       "      <th>city</th>\n",
       "      <th>state</th>\n",
       "      <th>postal_code</th>\n",
       "      <th>latitude</th>\n",
       "      <th>longitude</th>\n",
       "      <th>phone_number</th>\n",
       "      <th>postal_code_5</th>\n",
       "    </tr>\n",
       "  </thead>\n",
       "  <tbody>\n",
       "    <tr>\n",
       "      <th>0</th>\n",
       "      <td>19</td>\n",
       "      <td>NRGIZE LIFESTYLE CAFE</td>\n",
       "      <td>1200 VAN NESS AVE, 3RD FLOOR</td>\n",
       "      <td>San Francisco</td>\n",
       "      <td>CA</td>\n",
       "      <td>94109</td>\n",
       "      <td>37.786848</td>\n",
       "      <td>-122.421547</td>\n",
       "      <td>+14157763262</td>\n",
       "      <td>94109</td>\n",
       "    </tr>\n",
       "    <tr>\n",
       "      <th>1</th>\n",
       "      <td>24</td>\n",
       "      <td>OMNI S.F. HOTEL - 2ND FLOOR PANTRY</td>\n",
       "      <td>500 CALIFORNIA ST, 2ND  FLOOR</td>\n",
       "      <td>San Francisco</td>\n",
       "      <td>CA</td>\n",
       "      <td>94104</td>\n",
       "      <td>37.792888</td>\n",
       "      <td>-122.403135</td>\n",
       "      <td>+14156779494</td>\n",
       "      <td>94104</td>\n",
       "    </tr>\n",
       "    <tr>\n",
       "      <th>2</th>\n",
       "      <td>31</td>\n",
       "      <td>NORMAN'S ICE CREAM AND FREEZES</td>\n",
       "      <td>2801 LEAVENWORTH ST</td>\n",
       "      <td>San Francisco</td>\n",
       "      <td>CA</td>\n",
       "      <td>94133</td>\n",
       "      <td>37.807155</td>\n",
       "      <td>-122.419004</td>\n",
       "      <td>NaN</td>\n",
       "      <td>94133</td>\n",
       "    </tr>\n",
       "    <tr>\n",
       "      <th>3</th>\n",
       "      <td>45</td>\n",
       "      <td>CHARLIE'S DELI CAFE</td>\n",
       "      <td>3202 FOLSOM ST</td>\n",
       "      <td>San Francisco</td>\n",
       "      <td>CA</td>\n",
       "      <td>94110</td>\n",
       "      <td>37.747114</td>\n",
       "      <td>-122.413641</td>\n",
       "      <td>+14156415051</td>\n",
       "      <td>94110</td>\n",
       "    </tr>\n",
       "    <tr>\n",
       "      <th>4</th>\n",
       "      <td>48</td>\n",
       "      <td>ART'S CAFE</td>\n",
       "      <td>747 IRVING ST</td>\n",
       "      <td>San Francisco</td>\n",
       "      <td>CA</td>\n",
       "      <td>94122</td>\n",
       "      <td>37.764013</td>\n",
       "      <td>-122.465749</td>\n",
       "      <td>+14156657440</td>\n",
       "      <td>94122</td>\n",
       "    </tr>\n",
       "  </tbody>\n",
       "</table>\n",
       "</div>"
      ],
      "text/plain": [
       "   business_id                                name  \\\n",
       "0           19               NRGIZE LIFESTYLE CAFE   \n",
       "1           24  OMNI S.F. HOTEL - 2ND FLOOR PANTRY   \n",
       "2           31      NORMAN'S ICE CREAM AND FREEZES   \n",
       "3           45                 CHARLIE'S DELI CAFE   \n",
       "4           48                          ART'S CAFE   \n",
       "\n",
       "                         address           city state postal_code   latitude  \\\n",
       "0   1200 VAN NESS AVE, 3RD FLOOR  San Francisco    CA       94109  37.786848   \n",
       "1  500 CALIFORNIA ST, 2ND  FLOOR  San Francisco    CA       94104  37.792888   \n",
       "2           2801 LEAVENWORTH ST   San Francisco    CA       94133  37.807155   \n",
       "3                3202 FOLSOM ST   San Francisco    CA       94110  37.747114   \n",
       "4                 747 IRVING ST   San Francisco    CA       94122  37.764013   \n",
       "\n",
       "    longitude  phone_number postal_code_5  \n",
       "0 -122.421547  +14157763262         94109  \n",
       "1 -122.403135  +14156779494         94104  \n",
       "2 -122.419004           NaN         94133  \n",
       "3 -122.413641  +14156415051         94110  \n",
       "4 -122.465749  +14156657440         94122  "
      ]
     },
     "execution_count": 190,
     "metadata": {},
     "output_type": "execute_result"
    }
   ],
   "source": [
    "bus['postal_code_5'] = bus['postal_code'].str[:5]\n",
    "bus.head()"
   ]
  },
  {
   "cell_type": "markdown",
   "metadata": {
    "deletable": false,
    "editable": false,
    "nbgrader": {
     "grade": false,
     "grade_id": "q3c",
     "locked": true,
     "schema_version": 2,
     "solution": false
    },
    "tags": [
     "written"
    ]
   },
   "source": [
    "### Question 3c : A Closer Look at Missing ZIP Codes\n",
    "\n",
    "Let's look more closely at records with missing ZIP codes. Describe why some records have missing postal codes.  Pay attention to their addresses. You will need to look at many entries, not just the first five.\n",
    "\n",
    "*Hint*: The `isnull` method of a series returns a boolean series which is true only for entries in the original series that were missing.\n",
    "\n",
    "<!--\n",
    "BEGIN QUESTION\n",
    "name: q3c\n",
    "points: 2\n",
    "manual: True\n",
    "-->\n",
    "<!-- EXPORT TO PDF -->"
   ]
  },
  {
   "cell_type": "code",
   "execution_count": 191,
   "metadata": {},
   "outputs": [],
   "source": [
    "anx = bus[bus.isnull()['postal_code']==True]"
   ]
  },
  {
   "cell_type": "code",
   "execution_count": 192,
   "metadata": {},
   "outputs": [
    {
     "data": {
      "text/plain": [
       "(240, 10)"
      ]
     },
     "execution_count": 192,
     "metadata": {},
     "output_type": "execute_result"
    }
   ],
   "source": [
    "anx.shape"
   ]
  },
  {
   "cell_type": "code",
   "execution_count": 193,
   "metadata": {},
   "outputs": [
    {
     "data": {
      "text/html": [
       "<div>\n",
       "<style scoped>\n",
       "    .dataframe tbody tr th:only-of-type {\n",
       "        vertical-align: middle;\n",
       "    }\n",
       "\n",
       "    .dataframe tbody tr th {\n",
       "        vertical-align: top;\n",
       "    }\n",
       "\n",
       "    .dataframe thead th {\n",
       "        text-align: right;\n",
       "    }\n",
       "</style>\n",
       "<table border=\"1\" class=\"dataframe\">\n",
       "  <thead>\n",
       "    <tr style=\"text-align: right;\">\n",
       "      <th></th>\n",
       "      <th>business_id</th>\n",
       "      <th>name</th>\n",
       "      <th>address</th>\n",
       "      <th>city</th>\n",
       "      <th>state</th>\n",
       "      <th>postal_code</th>\n",
       "      <th>latitude</th>\n",
       "      <th>longitude</th>\n",
       "      <th>phone_number</th>\n",
       "      <th>postal_code_5</th>\n",
       "    </tr>\n",
       "  </thead>\n",
       "  <tbody>\n",
       "    <tr>\n",
       "      <th>1702</th>\n",
       "      <td>8202</td>\n",
       "      <td>XIAO LOONG</td>\n",
       "      <td>250 WEST PORTAL AVENUE</td>\n",
       "      <td>San Francisco</td>\n",
       "      <td>CA</td>\n",
       "      <td>NaN</td>\n",
       "      <td>37.738616</td>\n",
       "      <td>-122.468775</td>\n",
       "      <td>+14152792647</td>\n",
       "      <td>NaN</td>\n",
       "    </tr>\n",
       "    <tr>\n",
       "      <th>1725</th>\n",
       "      <td>9358</td>\n",
       "      <td>EDGEWOOD CHILDREN'S CENTER</td>\n",
       "      <td>1801 VICENTE ST</td>\n",
       "      <td>San Francisco</td>\n",
       "      <td>CA</td>\n",
       "      <td>NaN</td>\n",
       "      <td>37.739083</td>\n",
       "      <td>-122.485437</td>\n",
       "      <td>NaN</td>\n",
       "      <td>NaN</td>\n",
       "    </tr>\n",
       "    <tr>\n",
       "      <th>1731</th>\n",
       "      <td>9582</td>\n",
       "      <td>DIMPLES</td>\n",
       "      <td>1700 POST ST.</td>\n",
       "      <td>San Francisco</td>\n",
       "      <td>CA</td>\n",
       "      <td>NaN</td>\n",
       "      <td>37.785632</td>\n",
       "      <td>-122.429794</td>\n",
       "      <td>+14155190341</td>\n",
       "      <td>NaN</td>\n",
       "    </tr>\n",
       "    <tr>\n",
       "      <th>1747</th>\n",
       "      <td>10011</td>\n",
       "      <td>OSHA THAI NOODLE</td>\n",
       "      <td>819 VALENCIA ST.</td>\n",
       "      <td>San Francisco</td>\n",
       "      <td>CA</td>\n",
       "      <td>NaN</td>\n",
       "      <td>37.759943</td>\n",
       "      <td>-122.421332</td>\n",
       "      <td>+14153109293</td>\n",
       "      <td>NaN</td>\n",
       "    </tr>\n",
       "    <tr>\n",
       "      <th>1754</th>\n",
       "      <td>10227</td>\n",
       "      <td>THE NAPPER TANDY</td>\n",
       "      <td>3200 24TH ST</td>\n",
       "      <td>San Francisco</td>\n",
       "      <td>CA</td>\n",
       "      <td>NaN</td>\n",
       "      <td>37.752581</td>\n",
       "      <td>-122.416482</td>\n",
       "      <td>+14155507510</td>\n",
       "      <td>NaN</td>\n",
       "    </tr>\n",
       "    <tr>\n",
       "      <th>1762</th>\n",
       "      <td>10372</td>\n",
       "      <td>BERNAL HEIGHTS NEIGBORHOOD CENTER</td>\n",
       "      <td>515 CORTLAND AVE</td>\n",
       "      <td>San Francisco</td>\n",
       "      <td>CA</td>\n",
       "      <td>NaN</td>\n",
       "      <td>37.739110</td>\n",
       "      <td>-122.416404</td>\n",
       "      <td>+14152062142</td>\n",
       "      <td>NaN</td>\n",
       "    </tr>\n",
       "    <tr>\n",
       "      <th>1763</th>\n",
       "      <td>10373</td>\n",
       "      <td>EL TONAYENSE #1</td>\n",
       "      <td>1717 HARRISON ST</td>\n",
       "      <td>San Francisco</td>\n",
       "      <td>CA</td>\n",
       "      <td>NaN</td>\n",
       "      <td>37.769426</td>\n",
       "      <td>-122.413446</td>\n",
       "      <td>+14155596127</td>\n",
       "      <td>NaN</td>\n",
       "    </tr>\n",
       "    <tr>\n",
       "      <th>1764</th>\n",
       "      <td>10376</td>\n",
       "      <td>GOOD FRIKIN CHICKEN</td>\n",
       "      <td>10 29TH ST</td>\n",
       "      <td>San Francisco</td>\n",
       "      <td>CA</td>\n",
       "      <td>NaN</td>\n",
       "      <td>37.744369</td>\n",
       "      <td>-122.420967</td>\n",
       "      <td>+14158601365</td>\n",
       "      <td>NaN</td>\n",
       "    </tr>\n",
       "    <tr>\n",
       "      <th>1766</th>\n",
       "      <td>10406</td>\n",
       "      <td>SUNSET YOUTH SERVICES</td>\n",
       "      <td>3918 JUDAH ST</td>\n",
       "      <td>San Francisco</td>\n",
       "      <td>CA</td>\n",
       "      <td>NaN</td>\n",
       "      <td>37.760560</td>\n",
       "      <td>-122.504027</td>\n",
       "      <td>NaN</td>\n",
       "      <td>NaN</td>\n",
       "    </tr>\n",
       "    <tr>\n",
       "      <th>1778</th>\n",
       "      <td>10964</td>\n",
       "      <td>ANGEL'S HOT DOGS</td>\n",
       "      <td>CORNER OF ALAMEDA AND HENRY ADAMS</td>\n",
       "      <td>San Francisco</td>\n",
       "      <td>CA</td>\n",
       "      <td>NaN</td>\n",
       "      <td>NaN</td>\n",
       "      <td>NaN</td>\n",
       "      <td>NaN</td>\n",
       "      <td>NaN</td>\n",
       "    </tr>\n",
       "    <tr>\n",
       "      <th>1788</th>\n",
       "      <td>11416</td>\n",
       "      <td>EL BEACH BURRITO</td>\n",
       "      <td>3914 JUDAH ST</td>\n",
       "      <td>San Francisco</td>\n",
       "      <td>CA</td>\n",
       "      <td>NaN</td>\n",
       "      <td>37.760851</td>\n",
       "      <td>-122.503998</td>\n",
       "      <td>NaN</td>\n",
       "      <td>NaN</td>\n",
       "    </tr>\n",
       "    <tr>\n",
       "      <th>1797</th>\n",
       "      <td>11967</td>\n",
       "      <td>CANTEEN VENDING COMPANY</td>\n",
       "      <td>VARIOUS LOCATIONS</td>\n",
       "      <td>San Francisco</td>\n",
       "      <td>CA</td>\n",
       "      <td>NaN</td>\n",
       "      <td>NaN</td>\n",
       "      <td>NaN</td>\n",
       "      <td>+14159798170</td>\n",
       "      <td>NaN</td>\n",
       "    </tr>\n",
       "    <tr>\n",
       "      <th>1798</th>\n",
       "      <td>11974</td>\n",
       "      <td>WEST COAST VENDING &amp; FOOD SERVICE</td>\n",
       "      <td>VARIOUS LOCATIONS</td>\n",
       "      <td>San Francisco</td>\n",
       "      <td>CA</td>\n",
       "      <td>NaN</td>\n",
       "      <td>NaN</td>\n",
       "      <td>NaN</td>\n",
       "      <td>+14152615954</td>\n",
       "      <td>NaN</td>\n",
       "    </tr>\n",
       "    <tr>\n",
       "      <th>1799</th>\n",
       "      <td>12001</td>\n",
       "      <td>CAHEE'S CATERING</td>\n",
       "      <td>4801 03RD ST</td>\n",
       "      <td>San Francisco</td>\n",
       "      <td>CA</td>\n",
       "      <td>NaN</td>\n",
       "      <td>37.734734</td>\n",
       "      <td>-122.390599</td>\n",
       "      <td>NaN</td>\n",
       "      <td>NaN</td>\n",
       "    </tr>\n",
       "    <tr>\n",
       "      <th>1802</th>\n",
       "      <td>12199</td>\n",
       "      <td>EL GALLO GIRO</td>\n",
       "      <td>3055 23RD ST</td>\n",
       "      <td>San Francisco</td>\n",
       "      <td>CA</td>\n",
       "      <td>NaN</td>\n",
       "      <td>37.754218</td>\n",
       "      <td>-122.413285</td>\n",
       "      <td>+14155772661</td>\n",
       "      <td>NaN</td>\n",
       "    </tr>\n",
       "    <tr>\n",
       "      <th>1805</th>\n",
       "      <td>12344</td>\n",
       "      <td>THE VILLAGE MARKET &amp; PIZZA</td>\n",
       "      <td>750 FONT BLVD</td>\n",
       "      <td>San Francisco</td>\n",
       "      <td>CA</td>\n",
       "      <td>NaN</td>\n",
       "      <td>37.723462</td>\n",
       "      <td>-122.483012</td>\n",
       "      <td>+14153774525</td>\n",
       "      <td>NaN</td>\n",
       "    </tr>\n",
       "    <tr>\n",
       "      <th>1811</th>\n",
       "      <td>13062</td>\n",
       "      <td>EVERETT MIDDLE SCHOOL</td>\n",
       "      <td>450 CHURCH ST</td>\n",
       "      <td>San Francisco</td>\n",
       "      <td>CA</td>\n",
       "      <td>NaN</td>\n",
       "      <td>37.763794</td>\n",
       "      <td>-122.428617</td>\n",
       "      <td>NaN</td>\n",
       "      <td>NaN</td>\n",
       "    </tr>\n",
       "    <tr>\n",
       "      <th>1821</th>\n",
       "      <td>13753</td>\n",
       "      <td>TABOUN</td>\n",
       "      <td>203 PARNASSUS AVE</td>\n",
       "      <td>San Francisco</td>\n",
       "      <td>CA</td>\n",
       "      <td>NaN</td>\n",
       "      <td>37.764574</td>\n",
       "      <td>-122.452950</td>\n",
       "      <td>+14156420168</td>\n",
       "      <td>NaN</td>\n",
       "    </tr>\n",
       "    <tr>\n",
       "      <th>1839</th>\n",
       "      <td>14883</td>\n",
       "      <td>FRIENDSHIP HOUSE HEALING</td>\n",
       "      <td>56 JULIAN</td>\n",
       "      <td>San Francisco</td>\n",
       "      <td>CA</td>\n",
       "      <td>NaN</td>\n",
       "      <td>37.767312</td>\n",
       "      <td>-122.421173</td>\n",
       "      <td>NaN</td>\n",
       "      <td>NaN</td>\n",
       "    </tr>\n",
       "    <tr>\n",
       "      <th>1865</th>\n",
       "      <td>17423</td>\n",
       "      <td>PROJECT OPEN HAND</td>\n",
       "      <td>100 DIAMOND ST</td>\n",
       "      <td>San Francisco</td>\n",
       "      <td>CA</td>\n",
       "      <td>NaN</td>\n",
       "      <td>37.760689</td>\n",
       "      <td>-122.437252</td>\n",
       "      <td>NaN</td>\n",
       "      <td>NaN</td>\n",
       "    </tr>\n",
       "    <tr>\n",
       "      <th>1878</th>\n",
       "      <td>17946</td>\n",
       "      <td>PIZZERIA DELFINA</td>\n",
       "      <td>3611 18TH ST</td>\n",
       "      <td>San Francisco</td>\n",
       "      <td>CA</td>\n",
       "      <td>NaN</td>\n",
       "      <td>37.761657</td>\n",
       "      <td>-122.424347</td>\n",
       "      <td>+14158196457</td>\n",
       "      <td>NaN</td>\n",
       "    </tr>\n",
       "    <tr>\n",
       "      <th>1881</th>\n",
       "      <td>18079</td>\n",
       "      <td>JOE'S COFFEE SHOP</td>\n",
       "      <td>6134 GEARY BLVD</td>\n",
       "      <td>San Francisco</td>\n",
       "      <td>CA</td>\n",
       "      <td>NaN</td>\n",
       "      <td>37.780408</td>\n",
       "      <td>-122.485383</td>\n",
       "      <td>+14156689382</td>\n",
       "      <td>NaN</td>\n",
       "    </tr>\n",
       "    <tr>\n",
       "      <th>1944</th>\n",
       "      <td>19357</td>\n",
       "      <td>ORIGINAL BUFFALO WINGS</td>\n",
       "      <td>2499 LOMBARD ST</td>\n",
       "      <td>San Francisco</td>\n",
       "      <td>CA</td>\n",
       "      <td>NaN</td>\n",
       "      <td>37.799095</td>\n",
       "      <td>-122.442457</td>\n",
       "      <td>+14159318181</td>\n",
       "      <td>NaN</td>\n",
       "    </tr>\n",
       "    <tr>\n",
       "      <th>2095</th>\n",
       "      <td>33114</td>\n",
       "      <td>SAUSALITO CAFE #2</td>\n",
       "      <td>50 BEALE ST 105</td>\n",
       "      <td>San Francisco</td>\n",
       "      <td>CA</td>\n",
       "      <td>NaN</td>\n",
       "      <td>37.792414</td>\n",
       "      <td>-122.397020</td>\n",
       "      <td>NaN</td>\n",
       "      <td>NaN</td>\n",
       "    </tr>\n",
       "    <tr>\n",
       "      <th>2155</th>\n",
       "      <td>34201</td>\n",
       "      <td>TROUBLE COFFEE COMPANY</td>\n",
       "      <td>4033 JUDAH ST</td>\n",
       "      <td>San Francisco</td>\n",
       "      <td>CA</td>\n",
       "      <td>NaN</td>\n",
       "      <td>37.760469</td>\n",
       "      <td>-122.505349</td>\n",
       "      <td>+14156909119</td>\n",
       "      <td>NaN</td>\n",
       "    </tr>\n",
       "    <tr>\n",
       "      <th>2160</th>\n",
       "      <td>34331</td>\n",
       "      <td>STANLEY'S STEAMERS</td>\n",
       "      <td>NW CORNER GRANT AT GEARY ST ON GRANT</td>\n",
       "      <td>San Francisco</td>\n",
       "      <td>CA</td>\n",
       "      <td>NaN</td>\n",
       "      <td>37.787954</td>\n",
       "      <td>-122.405035</td>\n",
       "      <td>NaN</td>\n",
       "      <td>NaN</td>\n",
       "    </tr>\n",
       "    <tr>\n",
       "      <th>2206</th>\n",
       "      <td>35469</td>\n",
       "      <td>SUBWAY #36339</td>\n",
       "      <td>1099 MISSION ST</td>\n",
       "      <td>San Francisco</td>\n",
       "      <td>CA</td>\n",
       "      <td>NaN</td>\n",
       "      <td>37.779466</td>\n",
       "      <td>-122.410903</td>\n",
       "      <td>+14152419033</td>\n",
       "      <td>NaN</td>\n",
       "    </tr>\n",
       "    <tr>\n",
       "      <th>2257</th>\n",
       "      <td>36546</td>\n",
       "      <td>EPIC ROASTHOUSE</td>\n",
       "      <td>PIER26 EMBARCADERO</td>\n",
       "      <td>San Francisco</td>\n",
       "      <td>CA</td>\n",
       "      <td>NaN</td>\n",
       "      <td>NaN</td>\n",
       "      <td>NaN</td>\n",
       "      <td>NaN</td>\n",
       "      <td>NaN</td>\n",
       "    </tr>\n",
       "    <tr>\n",
       "      <th>2263</th>\n",
       "      <td>36608</td>\n",
       "      <td>TAQUERIA ANGELICA'S</td>\n",
       "      <td>1301 CESAR CHAVEZ ST</td>\n",
       "      <td>San Francisco</td>\n",
       "      <td>CA</td>\n",
       "      <td>NaN</td>\n",
       "      <td>37.748543</td>\n",
       "      <td>-122.390883</td>\n",
       "      <td>+14158343695</td>\n",
       "      <td>NaN</td>\n",
       "    </tr>\n",
       "    <tr>\n",
       "      <th>2348</th>\n",
       "      <td>38146</td>\n",
       "      <td>SAN PANCHO'S TACOS</td>\n",
       "      <td>491 BAYSHORE ST</td>\n",
       "      <td>San Francisco</td>\n",
       "      <td>CA</td>\n",
       "      <td>NaN</td>\n",
       "      <td>NaN</td>\n",
       "      <td>NaN</td>\n",
       "      <td>+14153375152</td>\n",
       "      <td>NaN</td>\n",
       "    </tr>\n",
       "    <tr>\n",
       "      <th>...</th>\n",
       "      <td>...</td>\n",
       "      <td>...</td>\n",
       "      <td>...</td>\n",
       "      <td>...</td>\n",
       "      <td>...</td>\n",
       "      <td>...</td>\n",
       "      <td>...</td>\n",
       "      <td>...</td>\n",
       "      <td>...</td>\n",
       "      <td>...</td>\n",
       "    </tr>\n",
       "    <tr>\n",
       "      <th>3285</th>\n",
       "      <td>68804</td>\n",
       "      <td>SANGUCHON 2</td>\n",
       "      <td>OFF THE GRID</td>\n",
       "      <td>San Francisco</td>\n",
       "      <td>CA</td>\n",
       "      <td>NaN</td>\n",
       "      <td>NaN</td>\n",
       "      <td>NaN</td>\n",
       "      <td>NaN</td>\n",
       "      <td>NaN</td>\n",
       "    </tr>\n",
       "    <tr>\n",
       "      <th>3294</th>\n",
       "      <td>68842</td>\n",
       "      <td>ALL GOOD PIZZA</td>\n",
       "      <td>1605 JERROLD AVE</td>\n",
       "      <td>San Francisco</td>\n",
       "      <td>CA</td>\n",
       "      <td>NaN</td>\n",
       "      <td>37.738998</td>\n",
       "      <td>-122.389778</td>\n",
       "      <td>+14158466960</td>\n",
       "      <td>NaN</td>\n",
       "    </tr>\n",
       "    <tr>\n",
       "      <th>3316</th>\n",
       "      <td>69012</td>\n",
       "      <td>CARMEL PIZZA COMPANY</td>\n",
       "      <td>2826 JONES ST</td>\n",
       "      <td>San Francisco</td>\n",
       "      <td>CA</td>\n",
       "      <td>NaN</td>\n",
       "      <td>37.807673</td>\n",
       "      <td>-122.417266</td>\n",
       "      <td>NaN</td>\n",
       "      <td>NaN</td>\n",
       "    </tr>\n",
       "    <tr>\n",
       "      <th>3328</th>\n",
       "      <td>69066</td>\n",
       "      <td>HAYES VALLEY BAKEWORKS</td>\n",
       "      <td>550 GOUGH ST</td>\n",
       "      <td>San Francisco</td>\n",
       "      <td>CA</td>\n",
       "      <td>NaN</td>\n",
       "      <td>37.778299</td>\n",
       "      <td>-122.423187</td>\n",
       "      <td>+14157330990</td>\n",
       "      <td>NaN</td>\n",
       "    </tr>\n",
       "    <tr>\n",
       "      <th>3336</th>\n",
       "      <td>69122</td>\n",
       "      <td>HIYAAA!</td>\n",
       "      <td>OFF THE GRID</td>\n",
       "      <td>San Francisco</td>\n",
       "      <td>CA</td>\n",
       "      <td>NaN</td>\n",
       "      <td>NaN</td>\n",
       "      <td>NaN</td>\n",
       "      <td>+14153336052</td>\n",
       "      <td>NaN</td>\n",
       "    </tr>\n",
       "    <tr>\n",
       "      <th>3368</th>\n",
       "      <td>69294</td>\n",
       "      <td>WE SUSHI</td>\n",
       "      <td>428 11TH</td>\n",
       "      <td>San Francisco</td>\n",
       "      <td>CA</td>\n",
       "      <td>NaN</td>\n",
       "      <td>37.770613</td>\n",
       "      <td>-122.412191</td>\n",
       "      <td>NaN</td>\n",
       "      <td>NaN</td>\n",
       "    </tr>\n",
       "    <tr>\n",
       "      <th>3370</th>\n",
       "      <td>69312</td>\n",
       "      <td>EL SUR LLC</td>\n",
       "      <td>OFF THE GRID</td>\n",
       "      <td>San Francisco</td>\n",
       "      <td>CA</td>\n",
       "      <td>NaN</td>\n",
       "      <td>NaN</td>\n",
       "      <td>NaN</td>\n",
       "      <td>NaN</td>\n",
       "      <td>NaN</td>\n",
       "    </tr>\n",
       "    <tr>\n",
       "      <th>3428</th>\n",
       "      <td>69707</td>\n",
       "      <td>LITTLE GREEN CYCLO 2</td>\n",
       "      <td>OFF THE GRID</td>\n",
       "      <td>San Francisco</td>\n",
       "      <td>CA</td>\n",
       "      <td>NaN</td>\n",
       "      <td>NaN</td>\n",
       "      <td>NaN</td>\n",
       "      <td>NaN</td>\n",
       "      <td>NaN</td>\n",
       "    </tr>\n",
       "    <tr>\n",
       "      <th>3429</th>\n",
       "      <td>69708</td>\n",
       "      <td>BHUK BURGER</td>\n",
       "      <td>11 PHELAN AVE</td>\n",
       "      <td>San Francisco</td>\n",
       "      <td>CA</td>\n",
       "      <td>NaN</td>\n",
       "      <td>NaN</td>\n",
       "      <td>NaN</td>\n",
       "      <td>NaN</td>\n",
       "      <td>NaN</td>\n",
       "    </tr>\n",
       "    <tr>\n",
       "      <th>3447</th>\n",
       "      <td>69850</td>\n",
       "      <td>KABOB TROLLEY, LLC</td>\n",
       "      <td>298 KING ST</td>\n",
       "      <td>San Francisco</td>\n",
       "      <td>CA</td>\n",
       "      <td>NaN</td>\n",
       "      <td>NaN</td>\n",
       "      <td>NaN</td>\n",
       "      <td>+14158905557</td>\n",
       "      <td>NaN</td>\n",
       "    </tr>\n",
       "    <tr>\n",
       "      <th>3448</th>\n",
       "      <td>69863</td>\n",
       "      <td>HONGRY KONG</td>\n",
       "      <td>1975 BRYANT</td>\n",
       "      <td>San Francisco</td>\n",
       "      <td>CA</td>\n",
       "      <td>NaN</td>\n",
       "      <td>NaN</td>\n",
       "      <td>NaN</td>\n",
       "      <td>NaN</td>\n",
       "      <td>NaN</td>\n",
       "    </tr>\n",
       "    <tr>\n",
       "      <th>3468</th>\n",
       "      <td>70044</td>\n",
       "      <td>ME SO HUNGRY</td>\n",
       "      <td>OFF THE GRID</td>\n",
       "      <td>San Francisco</td>\n",
       "      <td>CA</td>\n",
       "      <td>NaN</td>\n",
       "      <td>NaN</td>\n",
       "      <td>NaN</td>\n",
       "      <td>NaN</td>\n",
       "      <td>NaN</td>\n",
       "    </tr>\n",
       "    <tr>\n",
       "      <th>3514</th>\n",
       "      <td>70580</td>\n",
       "      <td>333</td>\n",
       "      <td>OFF THE GRID</td>\n",
       "      <td>San Francisco</td>\n",
       "      <td>CA</td>\n",
       "      <td>NaN</td>\n",
       "      <td>NaN</td>\n",
       "      <td>NaN</td>\n",
       "      <td>NaN</td>\n",
       "      <td>NaN</td>\n",
       "    </tr>\n",
       "    <tr>\n",
       "      <th>3526</th>\n",
       "      <td>70708</td>\n",
       "      <td>EL CALAMAR</td>\n",
       "      <td>OFF THE GRID</td>\n",
       "      <td>San Francisco</td>\n",
       "      <td>CA</td>\n",
       "      <td>NaN</td>\n",
       "      <td>NaN</td>\n",
       "      <td>NaN</td>\n",
       "      <td>NaN</td>\n",
       "      <td>NaN</td>\n",
       "    </tr>\n",
       "    <tr>\n",
       "      <th>3534</th>\n",
       "      <td>70779</td>\n",
       "      <td>DAVIDS TEA</td>\n",
       "      <td>845 MARKET ST #13</td>\n",
       "      <td>San Francisco</td>\n",
       "      <td>CA</td>\n",
       "      <td>NaN</td>\n",
       "      <td>NaN</td>\n",
       "      <td>NaN</td>\n",
       "      <td>+14157390006</td>\n",
       "      <td>NaN</td>\n",
       "    </tr>\n",
       "    <tr>\n",
       "      <th>3546</th>\n",
       "      <td>70922</td>\n",
       "      <td>EXPRESSO SUBITO</td>\n",
       "      <td>FRONT, BETWEEN CALIFORNIA &amp; SACRAMENTO ST</td>\n",
       "      <td>San Francisco</td>\n",
       "      <td>CA</td>\n",
       "      <td>NaN</td>\n",
       "      <td>NaN</td>\n",
       "      <td>NaN</td>\n",
       "      <td>NaN</td>\n",
       "      <td>NaN</td>\n",
       "    </tr>\n",
       "    <tr>\n",
       "      <th>3614</th>\n",
       "      <td>71581</td>\n",
       "      <td>SAJJ STREET EATS</td>\n",
       "      <td>OFF THE GRID</td>\n",
       "      <td>San Francisco</td>\n",
       "      <td>CA</td>\n",
       "      <td>NaN</td>\n",
       "      <td>NaN</td>\n",
       "      <td>NaN</td>\n",
       "      <td>+14158963501</td>\n",
       "      <td>NaN</td>\n",
       "    </tr>\n",
       "    <tr>\n",
       "      <th>3617</th>\n",
       "      <td>71658</td>\n",
       "      <td>WE2 SUSHI</td>\n",
       "      <td>OFF THE GRID</td>\n",
       "      <td>San Francisco</td>\n",
       "      <td>CA</td>\n",
       "      <td>NaN</td>\n",
       "      <td>NaN</td>\n",
       "      <td>NaN</td>\n",
       "      <td>NaN</td>\n",
       "      <td>NaN</td>\n",
       "    </tr>\n",
       "    <tr>\n",
       "      <th>3620</th>\n",
       "      <td>71683</td>\n",
       "      <td>PACIFIC COOKIE COMPANY</td>\n",
       "      <td>1780 HAIGHT ST</td>\n",
       "      <td>San Francisco</td>\n",
       "      <td>CA</td>\n",
       "      <td>NaN</td>\n",
       "      <td>NaN</td>\n",
       "      <td>NaN</td>\n",
       "      <td>NaN</td>\n",
       "      <td>NaN</td>\n",
       "    </tr>\n",
       "    <tr>\n",
       "      <th>3625</th>\n",
       "      <td>71753</td>\n",
       "      <td>SUNRISE DELI</td>\n",
       "      <td>OFF THE GRID</td>\n",
       "      <td>San Francisco</td>\n",
       "      <td>CA</td>\n",
       "      <td>NaN</td>\n",
       "      <td>NaN</td>\n",
       "      <td>NaN</td>\n",
       "      <td>NaN</td>\n",
       "      <td>NaN</td>\n",
       "    </tr>\n",
       "    <tr>\n",
       "      <th>3654</th>\n",
       "      <td>72025</td>\n",
       "      <td>J. GEORGIE'S DONUTS AND RESTAURANT</td>\n",
       "      <td>2462 SAN BRUNO AVE</td>\n",
       "      <td>San Francisco</td>\n",
       "      <td>CA</td>\n",
       "      <td>NaN</td>\n",
       "      <td>NaN</td>\n",
       "      <td>NaN</td>\n",
       "      <td>NaN</td>\n",
       "      <td>NaN</td>\n",
       "    </tr>\n",
       "    <tr>\n",
       "      <th>3660</th>\n",
       "      <td>72084</td>\n",
       "      <td>GREENS &amp; COMPANY</td>\n",
       "      <td>2501 PHELPS ST</td>\n",
       "      <td>San Francisco</td>\n",
       "      <td>CA</td>\n",
       "      <td>NaN</td>\n",
       "      <td>NaN</td>\n",
       "      <td>NaN</td>\n",
       "      <td>+14153079507</td>\n",
       "      <td>NaN</td>\n",
       "    </tr>\n",
       "    <tr>\n",
       "      <th>3667</th>\n",
       "      <td>72132</td>\n",
       "      <td>LITTLE RED RIDING TRUCK</td>\n",
       "      <td>SOMA STREET FOOD PARK</td>\n",
       "      <td>San Francisco</td>\n",
       "      <td>CA</td>\n",
       "      <td>NaN</td>\n",
       "      <td>NaN</td>\n",
       "      <td>NaN</td>\n",
       "      <td>NaN</td>\n",
       "      <td>NaN</td>\n",
       "    </tr>\n",
       "    <tr>\n",
       "      <th>3668</th>\n",
       "      <td>72136</td>\n",
       "      <td>ROLI ROTI</td>\n",
       "      <td>VARIOUS FARMERS MARKETS</td>\n",
       "      <td>San Francisco</td>\n",
       "      <td>CA</td>\n",
       "      <td>NaN</td>\n",
       "      <td>NaN</td>\n",
       "      <td>NaN</td>\n",
       "      <td>NaN</td>\n",
       "      <td>NaN</td>\n",
       "    </tr>\n",
       "    <tr>\n",
       "      <th>3684</th>\n",
       "      <td>73939</td>\n",
       "      <td>GARDEN CREAMERY</td>\n",
       "      <td>SOMA STREET @ 428 11TH ST.</td>\n",
       "      <td>San Francisco</td>\n",
       "      <td>CA</td>\n",
       "      <td>NaN</td>\n",
       "      <td>NaN</td>\n",
       "      <td>NaN</td>\n",
       "      <td>NaN</td>\n",
       "      <td>NaN</td>\n",
       "    </tr>\n",
       "    <tr>\n",
       "      <th>3685</th>\n",
       "      <td>73940</td>\n",
       "      <td>ADAM'S GRUB TRUCK</td>\n",
       "      <td>OFF THE GRID</td>\n",
       "      <td>San Francisco</td>\n",
       "      <td>CA</td>\n",
       "      <td>NaN</td>\n",
       "      <td>NaN</td>\n",
       "      <td>NaN</td>\n",
       "      <td>NaN</td>\n",
       "      <td>NaN</td>\n",
       "    </tr>\n",
       "    <tr>\n",
       "      <th>3691</th>\n",
       "      <td>73996</td>\n",
       "      <td>BEAUMONT'S CAFE ESPRESSO BAR</td>\n",
       "      <td>2781 21ST ST</td>\n",
       "      <td>San Francisco</td>\n",
       "      <td>CA</td>\n",
       "      <td>NaN</td>\n",
       "      <td>NaN</td>\n",
       "      <td>NaN</td>\n",
       "      <td>NaN</td>\n",
       "      <td>NaN</td>\n",
       "    </tr>\n",
       "    <tr>\n",
       "      <th>3755</th>\n",
       "      <td>74602</td>\n",
       "      <td>LAGUNA CAFE</td>\n",
       "      <td>HAIGHT</td>\n",
       "      <td>San Francisco</td>\n",
       "      <td>CA</td>\n",
       "      <td>NaN</td>\n",
       "      <td>NaN</td>\n",
       "      <td>NaN</td>\n",
       "      <td>NaN</td>\n",
       "      <td>NaN</td>\n",
       "    </tr>\n",
       "    <tr>\n",
       "      <th>3776</th>\n",
       "      <td>74869</td>\n",
       "      <td>SABROSA</td>\n",
       "      <td>3200 FILLMORE ST</td>\n",
       "      <td>San Francisco</td>\n",
       "      <td>CA</td>\n",
       "      <td>NaN</td>\n",
       "      <td>NaN</td>\n",
       "      <td>NaN</td>\n",
       "      <td>+14153165876</td>\n",
       "      <td>NaN</td>\n",
       "    </tr>\n",
       "    <tr>\n",
       "      <th>3783</th>\n",
       "      <td>74975</td>\n",
       "      <td>MOURAD</td>\n",
       "      <td>140 NEW MONTGOMERY ST</td>\n",
       "      <td>San Francisco</td>\n",
       "      <td>CA</td>\n",
       "      <td>NaN</td>\n",
       "      <td>NaN</td>\n",
       "      <td>NaN</td>\n",
       "      <td>+14157306464</td>\n",
       "      <td>NaN</td>\n",
       "    </tr>\n",
       "  </tbody>\n",
       "</table>\n",
       "<p>100 rows × 10 columns</p>\n",
       "</div>"
      ],
      "text/plain": [
       "      business_id                                name  \\\n",
       "1702         8202                          XIAO LOONG   \n",
       "1725         9358          EDGEWOOD CHILDREN'S CENTER   \n",
       "1731         9582                             DIMPLES   \n",
       "1747        10011                    OSHA THAI NOODLE   \n",
       "1754        10227                    THE NAPPER TANDY   \n",
       "1762        10372   BERNAL HEIGHTS NEIGBORHOOD CENTER   \n",
       "1763        10373                     EL TONAYENSE #1   \n",
       "1764        10376                 GOOD FRIKIN CHICKEN   \n",
       "1766        10406               SUNSET YOUTH SERVICES   \n",
       "1778        10964                    ANGEL'S HOT DOGS   \n",
       "1788        11416                    EL BEACH BURRITO   \n",
       "1797        11967             CANTEEN VENDING COMPANY   \n",
       "1798        11974   WEST COAST VENDING & FOOD SERVICE   \n",
       "1799        12001                    CAHEE'S CATERING   \n",
       "1802        12199                       EL GALLO GIRO   \n",
       "1805        12344          THE VILLAGE MARKET & PIZZA   \n",
       "1811        13062               EVERETT MIDDLE SCHOOL   \n",
       "1821        13753                              TABOUN   \n",
       "1839        14883            FRIENDSHIP HOUSE HEALING   \n",
       "1865        17423                   PROJECT OPEN HAND   \n",
       "1878        17946                    PIZZERIA DELFINA   \n",
       "1881        18079                   JOE'S COFFEE SHOP   \n",
       "1944        19357              ORIGINAL BUFFALO WINGS   \n",
       "2095        33114                   SAUSALITO CAFE #2   \n",
       "2155        34201              TROUBLE COFFEE COMPANY   \n",
       "2160        34331                  STANLEY'S STEAMERS   \n",
       "2206        35469                       SUBWAY #36339   \n",
       "2257        36546                     EPIC ROASTHOUSE   \n",
       "2263        36608                 TAQUERIA ANGELICA'S   \n",
       "2348        38146                  SAN PANCHO'S TACOS   \n",
       "...           ...                                 ...   \n",
       "3285        68804                         SANGUCHON 2   \n",
       "3294        68842                      ALL GOOD PIZZA   \n",
       "3316        69012                CARMEL PIZZA COMPANY   \n",
       "3328        69066              HAYES VALLEY BAKEWORKS   \n",
       "3336        69122                             HIYAAA!   \n",
       "3368        69294                            WE SUSHI   \n",
       "3370        69312                          EL SUR LLC   \n",
       "3428        69707                LITTLE GREEN CYCLO 2   \n",
       "3429        69708                         BHUK BURGER   \n",
       "3447        69850                  KABOB TROLLEY, LLC   \n",
       "3448        69863                         HONGRY KONG   \n",
       "3468        70044                        ME SO HUNGRY   \n",
       "3514        70580                                 333   \n",
       "3526        70708                          EL CALAMAR   \n",
       "3534        70779                          DAVIDS TEA   \n",
       "3546        70922                     EXPRESSO SUBITO   \n",
       "3614        71581                    SAJJ STREET EATS   \n",
       "3617        71658                           WE2 SUSHI   \n",
       "3620        71683              PACIFIC COOKIE COMPANY   \n",
       "3625        71753                        SUNRISE DELI   \n",
       "3654        72025  J. GEORGIE'S DONUTS AND RESTAURANT   \n",
       "3660        72084                    GREENS & COMPANY   \n",
       "3667        72132             LITTLE RED RIDING TRUCK   \n",
       "3668        72136                           ROLI ROTI   \n",
       "3684        73939                     GARDEN CREAMERY   \n",
       "3685        73940                   ADAM'S GRUB TRUCK   \n",
       "3691        73996        BEAUMONT'S CAFE ESPRESSO BAR   \n",
       "3755        74602                         LAGUNA CAFE   \n",
       "3776        74869                             SABROSA   \n",
       "3783        74975                              MOURAD   \n",
       "\n",
       "                                          address           city state  \\\n",
       "1702                       250 WEST PORTAL AVENUE  San Francisco    CA   \n",
       "1725                             1801 VICENTE ST   San Francisco    CA   \n",
       "1731                                1700 POST ST.  San Francisco    CA   \n",
       "1747                             819 VALENCIA ST.  San Francisco    CA   \n",
       "1754                                3200 24TH ST   San Francisco    CA   \n",
       "1762                             515 CORTLAND AVE  San Francisco    CA   \n",
       "1763                            1717 HARRISON ST   San Francisco    CA   \n",
       "1764                                  10 29TH ST   San Francisco    CA   \n",
       "1766                                3918 JUDAH ST  San Francisco    CA   \n",
       "1778            CORNER OF ALAMEDA AND HENRY ADAMS  San Francisco    CA   \n",
       "1788                                3914 JUDAH ST  San Francisco    CA   \n",
       "1797                            VARIOUS LOCATIONS  San Francisco    CA   \n",
       "1798                            VARIOUS LOCATIONS  San Francisco    CA   \n",
       "1799                                4801 03RD ST   San Francisco    CA   \n",
       "1802                                3055 23RD ST   San Francisco    CA   \n",
       "1805                                750 FONT BLVD  San Francisco    CA   \n",
       "1811                               450 CHURCH ST   San Francisco    CA   \n",
       "1821                           203 PARNASSUS AVE   San Francisco    CA   \n",
       "1839                                    56 JULIAN  San Francisco    CA   \n",
       "1865                              100 DIAMOND ST   San Francisco    CA   \n",
       "1878                                3611 18TH ST   San Francisco    CA   \n",
       "1881                             6134 GEARY BLVD   San Francisco    CA   \n",
       "1944                             2499 LOMBARD ST   San Francisco    CA   \n",
       "2095                              50 BEALE ST 105  San Francisco    CA   \n",
       "2155                               4033 JUDAH ST   San Francisco    CA   \n",
       "2160         NW CORNER GRANT AT GEARY ST ON GRANT  San Francisco    CA   \n",
       "2206                             1099 MISSION ST   San Francisco    CA   \n",
       "2257                         PIER26 EMBARCADERO    San Francisco    CA   \n",
       "2263                        1301 CESAR CHAVEZ ST   San Francisco    CA   \n",
       "2348                             491 BAYSHORE ST   San Francisco    CA   \n",
       "...                                           ...            ...   ...   \n",
       "3285                               OFF THE GRID    San Francisco    CA   \n",
       "3294                            1605 JERROLD AVE   San Francisco    CA   \n",
       "3316                               2826 JONES ST   San Francisco    CA   \n",
       "3328                                550 GOUGH ST   San Francisco    CA   \n",
       "3336                               OFF THE GRID    San Francisco    CA   \n",
       "3368                                   428 11TH    San Francisco    CA   \n",
       "3370                               OFF THE GRID    San Francisco    CA   \n",
       "3428                               OFF THE GRID    San Francisco    CA   \n",
       "3429                               11 PHELAN AVE   San Francisco    CA   \n",
       "3447                                 298 KING ST   San Francisco    CA   \n",
       "3448                                1975 BRYANT    San Francisco    CA   \n",
       "3468                               OFF THE GRID    San Francisco    CA   \n",
       "3514                               OFF THE GRID    San Francisco    CA   \n",
       "3526                               OFF THE GRID    San Francisco    CA   \n",
       "3534                            845 MARKET ST #13  San Francisco    CA   \n",
       "3546   FRONT, BETWEEN CALIFORNIA & SACRAMENTO ST   San Francisco    CA   \n",
       "3614                               OFF THE GRID    San Francisco    CA   \n",
       "3617                               OFF THE GRID    San Francisco    CA   \n",
       "3620                             1780 HAIGHT ST    San Francisco    CA   \n",
       "3625                               OFF THE GRID    San Francisco    CA   \n",
       "3654                          2462 SAN BRUNO AVE   San Francisco    CA   \n",
       "3660                              2501 PHELPS ST   San Francisco    CA   \n",
       "3667                      SOMA STREET FOOD PARK    San Francisco    CA   \n",
       "3668                    VARIOUS FARMERS MARKETS    San Francisco    CA   \n",
       "3684                 SOMA STREET @ 428 11TH ST.    San Francisco    CA   \n",
       "3685                               OFF THE GRID    San Francisco    CA   \n",
       "3691                                2781 21ST ST   San Francisco    CA   \n",
       "3755                                     HAIGHT    San Francisco    CA   \n",
       "3776                            3200 FILLMORE ST   San Francisco    CA   \n",
       "3783                      140 NEW MONTGOMERY ST    San Francisco    CA   \n",
       "\n",
       "     postal_code   latitude   longitude  phone_number postal_code_5  \n",
       "1702         NaN  37.738616 -122.468775  +14152792647           NaN  \n",
       "1725         NaN  37.739083 -122.485437           NaN           NaN  \n",
       "1731         NaN  37.785632 -122.429794  +14155190341           NaN  \n",
       "1747         NaN  37.759943 -122.421332  +14153109293           NaN  \n",
       "1754         NaN  37.752581 -122.416482  +14155507510           NaN  \n",
       "1762         NaN  37.739110 -122.416404  +14152062142           NaN  \n",
       "1763         NaN  37.769426 -122.413446  +14155596127           NaN  \n",
       "1764         NaN  37.744369 -122.420967  +14158601365           NaN  \n",
       "1766         NaN  37.760560 -122.504027           NaN           NaN  \n",
       "1778         NaN        NaN         NaN           NaN           NaN  \n",
       "1788         NaN  37.760851 -122.503998           NaN           NaN  \n",
       "1797         NaN        NaN         NaN  +14159798170           NaN  \n",
       "1798         NaN        NaN         NaN  +14152615954           NaN  \n",
       "1799         NaN  37.734734 -122.390599           NaN           NaN  \n",
       "1802         NaN  37.754218 -122.413285  +14155772661           NaN  \n",
       "1805         NaN  37.723462 -122.483012  +14153774525           NaN  \n",
       "1811         NaN  37.763794 -122.428617           NaN           NaN  \n",
       "1821         NaN  37.764574 -122.452950  +14156420168           NaN  \n",
       "1839         NaN  37.767312 -122.421173           NaN           NaN  \n",
       "1865         NaN  37.760689 -122.437252           NaN           NaN  \n",
       "1878         NaN  37.761657 -122.424347  +14158196457           NaN  \n",
       "1881         NaN  37.780408 -122.485383  +14156689382           NaN  \n",
       "1944         NaN  37.799095 -122.442457  +14159318181           NaN  \n",
       "2095         NaN  37.792414 -122.397020           NaN           NaN  \n",
       "2155         NaN  37.760469 -122.505349  +14156909119           NaN  \n",
       "2160         NaN  37.787954 -122.405035           NaN           NaN  \n",
       "2206         NaN  37.779466 -122.410903  +14152419033           NaN  \n",
       "2257         NaN        NaN         NaN           NaN           NaN  \n",
       "2263         NaN  37.748543 -122.390883  +14158343695           NaN  \n",
       "2348         NaN        NaN         NaN  +14153375152           NaN  \n",
       "...          ...        ...         ...           ...           ...  \n",
       "3285         NaN        NaN         NaN           NaN           NaN  \n",
       "3294         NaN  37.738998 -122.389778  +14158466960           NaN  \n",
       "3316         NaN  37.807673 -122.417266           NaN           NaN  \n",
       "3328         NaN  37.778299 -122.423187  +14157330990           NaN  \n",
       "3336         NaN        NaN         NaN  +14153336052           NaN  \n",
       "3368         NaN  37.770613 -122.412191           NaN           NaN  \n",
       "3370         NaN        NaN         NaN           NaN           NaN  \n",
       "3428         NaN        NaN         NaN           NaN           NaN  \n",
       "3429         NaN        NaN         NaN           NaN           NaN  \n",
       "3447         NaN        NaN         NaN  +14158905557           NaN  \n",
       "3448         NaN        NaN         NaN           NaN           NaN  \n",
       "3468         NaN        NaN         NaN           NaN           NaN  \n",
       "3514         NaN        NaN         NaN           NaN           NaN  \n",
       "3526         NaN        NaN         NaN           NaN           NaN  \n",
       "3534         NaN        NaN         NaN  +14157390006           NaN  \n",
       "3546         NaN        NaN         NaN           NaN           NaN  \n",
       "3614         NaN        NaN         NaN  +14158963501           NaN  \n",
       "3617         NaN        NaN         NaN           NaN           NaN  \n",
       "3620         NaN        NaN         NaN           NaN           NaN  \n",
       "3625         NaN        NaN         NaN           NaN           NaN  \n",
       "3654         NaN        NaN         NaN           NaN           NaN  \n",
       "3660         NaN        NaN         NaN  +14153079507           NaN  \n",
       "3667         NaN        NaN         NaN           NaN           NaN  \n",
       "3668         NaN        NaN         NaN           NaN           NaN  \n",
       "3684         NaN        NaN         NaN           NaN           NaN  \n",
       "3685         NaN        NaN         NaN           NaN           NaN  \n",
       "3691         NaN        NaN         NaN           NaN           NaN  \n",
       "3755         NaN        NaN         NaN           NaN           NaN  \n",
       "3776         NaN        NaN         NaN  +14153165876           NaN  \n",
       "3783         NaN        NaN         NaN  +14157306464           NaN  \n",
       "\n",
       "[100 rows x 10 columns]"
      ]
     },
     "execution_count": 193,
     "metadata": {},
     "output_type": "execute_result"
    }
   ],
   "source": [
    "anx.head(100)"
   ]
  },
  {
   "cell_type": "markdown",
   "metadata": {},
   "source": [
    "### Some reasons why some records have missing postal code:\n",
    "\n",
    "- Some restaurants have various locations\n",
    "- Some locations are off the grid\n",
    "- Some locations are not really specific: Various farmers markets, Haight..."
   ]
  },
  {
   "cell_type": "markdown",
   "metadata": {
    "nbgrader": {
     "grade": false,
     "grade_id": "q3d",
     "locked": true,
     "schema_version": 2,
     "solution": false
    }
   },
   "source": [
    "### Question 3d: Incorrect ZIP Codes"
   ]
  },
  {
   "cell_type": "markdown",
   "metadata": {
    "nbgrader": {
     "grade": false,
     "grade_id": "cell-e48949d5308e5f4b",
     "locked": true,
     "schema_version": 2,
     "solution": false
    }
   },
   "source": [
    "This dataset is supposed to be only about San Francisco, so let's set up a list of all San Francisco ZIP codes."
   ]
  },
  {
   "cell_type": "code",
   "execution_count": 194,
   "metadata": {
    "nbgrader": {
     "grade": false,
     "grade_id": "cell-6e48f854beb16cbb",
     "locked": true,
     "schema_version": 2,
     "solution": false
    }
   },
   "outputs": [],
   "source": [
    "all_sf_zip_codes = [\"94102\", \"94103\", \"94104\", \"94105\", \"94107\", \"94108\", \n",
    "                    \"94109\", \"94110\", \"94111\", \"94112\", \"94114\", \"94115\", \n",
    "                    \"94116\", \"94117\", \"94118\", \"94119\", \"94120\", \"94121\", \n",
    "                    \"94122\", \"94123\", \"94124\", \"94125\", \"94126\", \"94127\", \n",
    "                    \"94128\", \"94129\", \"94130\", \"94131\", \"94132\", \"94133\", \n",
    "                    \"94134\", \"94137\", \"94139\", \"94140\", \"94141\", \"94142\", \n",
    "                    \"94143\", \"94144\", \"94145\", \"94146\", \"94147\", \"94151\", \n",
    "                    \"94158\", \"94159\", \"94160\", \"94161\", \"94163\", \"94164\", \n",
    "                    \"94172\", \"94177\", \"94188\"]"
   ]
  },
  {
   "cell_type": "markdown",
   "metadata": {
    "deletable": false,
    "editable": false,
    "nbgrader": {
     "grade": false,
     "grade_id": "cell-57244ec02a330146",
     "locked": true,
     "schema_version": 2,
     "solution": false
    }
   },
   "source": [
    "Set `weird_zip_code_businesses` equal to a new dataframe showing only rows corresponding to ZIP codes that are not valid and not missing. Use the `postal_code_5` column.\n",
    "\n",
    "*Hint*: The `~` operator inverts a boolean array. Use in conjunction with `isin`.\n",
    "\n",
    "<!--\n",
    "BEGIN QUESTION\n",
    "name: q3d1\n",
    "points: 0\n",
    "-->"
   ]
  },
  {
   "cell_type": "code",
   "execution_count": 195,
   "metadata": {
    "nbgrader": {
     "grade": false,
     "grade_id": "cell-c5f486cab68d56a0",
     "locked": false,
     "schema_version": 2,
     "solution": true
    },
    "scrolled": true
   },
   "outputs": [
    {
     "data": {
      "text/html": [
       "<div>\n",
       "<style scoped>\n",
       "    .dataframe tbody tr th:only-of-type {\n",
       "        vertical-align: middle;\n",
       "    }\n",
       "\n",
       "    .dataframe tbody tr th {\n",
       "        vertical-align: top;\n",
       "    }\n",
       "\n",
       "    .dataframe thead th {\n",
       "        text-align: right;\n",
       "    }\n",
       "</style>\n",
       "<table border=\"1\" class=\"dataframe\">\n",
       "  <thead>\n",
       "    <tr style=\"text-align: right;\">\n",
       "      <th></th>\n",
       "      <th>business_id</th>\n",
       "      <th>name</th>\n",
       "      <th>address</th>\n",
       "      <th>city</th>\n",
       "      <th>state</th>\n",
       "      <th>postal_code</th>\n",
       "      <th>latitude</th>\n",
       "      <th>longitude</th>\n",
       "      <th>phone_number</th>\n",
       "      <th>postal_code_5</th>\n",
       "    </tr>\n",
       "  </thead>\n",
       "  <tbody>\n",
       "    <tr>\n",
       "      <th>1209</th>\n",
       "      <td>5200</td>\n",
       "      <td>LATINO CUISINE CULINARY ACADEMY</td>\n",
       "      <td>2929 19TH ST</td>\n",
       "      <td>San Francisco</td>\n",
       "      <td>CA</td>\n",
       "      <td>941102019</td>\n",
       "      <td>37.760373</td>\n",
       "      <td>-122.411153</td>\n",
       "      <td>+14156485220</td>\n",
       "      <td>94110</td>\n",
       "    </tr>\n",
       "    <tr>\n",
       "      <th>1211</th>\n",
       "      <td>5208</td>\n",
       "      <td>GOLDEN GATE YACHT CLUB</td>\n",
       "      <td>1 YACHT RD</td>\n",
       "      <td>San Francisco</td>\n",
       "      <td>CA</td>\n",
       "      <td>941</td>\n",
       "      <td>37.807878</td>\n",
       "      <td>-122.442499</td>\n",
       "      <td>+14153462628</td>\n",
       "      <td>941</td>\n",
       "    </tr>\n",
       "    <tr>\n",
       "      <th>1372</th>\n",
       "      <td>5755</td>\n",
       "      <td>J &amp; J VENDING</td>\n",
       "      <td>VARIOUS LOACATIONS (17)</td>\n",
       "      <td>San Francisco</td>\n",
       "      <td>CA</td>\n",
       "      <td>94545</td>\n",
       "      <td>NaN</td>\n",
       "      <td>NaN</td>\n",
       "      <td>+14156750910</td>\n",
       "      <td>94545</td>\n",
       "    </tr>\n",
       "    <tr>\n",
       "      <th>1373</th>\n",
       "      <td>5757</td>\n",
       "      <td>RICO VENDING, INC</td>\n",
       "      <td>VARIOUS LOCATIONS</td>\n",
       "      <td>San Francisco</td>\n",
       "      <td>CA</td>\n",
       "      <td>94066</td>\n",
       "      <td>NaN</td>\n",
       "      <td>NaN</td>\n",
       "      <td>+14155836723</td>\n",
       "      <td>94066</td>\n",
       "    </tr>\n",
       "    <tr>\n",
       "      <th>1534</th>\n",
       "      <td>6029</td>\n",
       "      <td>ALEXIS APARTMENTS SR. MEALS PROGRAM</td>\n",
       "      <td>390 CLEMENTINA ST</td>\n",
       "      <td>San Francisco</td>\n",
       "      <td>CA</td>\n",
       "      <td>941033148</td>\n",
       "      <td>NaN</td>\n",
       "      <td>NaN</td>\n",
       "      <td>+14154959541</td>\n",
       "      <td>94103</td>\n",
       "    </tr>\n",
       "    <tr>\n",
       "      <th>2258</th>\n",
       "      <td>36547</td>\n",
       "      <td>EPIC ROASTHOUSE</td>\n",
       "      <td>PIER 26 EMBARARCADERO</td>\n",
       "      <td>San Francisco</td>\n",
       "      <td>CA</td>\n",
       "      <td>95105</td>\n",
       "      <td>37.788962</td>\n",
       "      <td>-122.387941</td>\n",
       "      <td>+14153699955</td>\n",
       "      <td>95105</td>\n",
       "    </tr>\n",
       "    <tr>\n",
       "      <th>2293</th>\n",
       "      <td>37167</td>\n",
       "      <td>INTERCONTINENTAL SAN FRANCISCO EMPLOYEE CAFETERIA</td>\n",
       "      <td>888 HOWARD ST 2ND FLOOR</td>\n",
       "      <td>San Francisco</td>\n",
       "      <td>CA</td>\n",
       "      <td>94013</td>\n",
       "      <td>37.781664</td>\n",
       "      <td>-122.404778</td>\n",
       "      <td>+14156166532</td>\n",
       "      <td>94013</td>\n",
       "    </tr>\n",
       "    <tr>\n",
       "      <th>2295</th>\n",
       "      <td>37169</td>\n",
       "      <td>INTERCONTINENTAL SAN FRANCISCO 4TH FL. KITCHEN</td>\n",
       "      <td>888 HOWARD ST 4TH FLOOR</td>\n",
       "      <td>San Francisco</td>\n",
       "      <td>CA</td>\n",
       "      <td>94013</td>\n",
       "      <td>37.781664</td>\n",
       "      <td>-122.404778</td>\n",
       "      <td>+14156166532</td>\n",
       "      <td>94013</td>\n",
       "    </tr>\n",
       "    <tr>\n",
       "      <th>2846</th>\n",
       "      <td>64540</td>\n",
       "      <td>LEO'S HOT DOGS</td>\n",
       "      <td>2301 MISSION ST</td>\n",
       "      <td>San Francisco</td>\n",
       "      <td>CA</td>\n",
       "      <td>CA</td>\n",
       "      <td>37.760054</td>\n",
       "      <td>-122.419166</td>\n",
       "      <td>+14152406434</td>\n",
       "      <td>CA</td>\n",
       "    </tr>\n",
       "    <tr>\n",
       "      <th>2852</th>\n",
       "      <td>64660</td>\n",
       "      <td>HAIGHT STREET MARKET</td>\n",
       "      <td>1530 HAIGHT ST</td>\n",
       "      <td>San Francisco</td>\n",
       "      <td>CA</td>\n",
       "      <td>92672</td>\n",
       "      <td>37.769957</td>\n",
       "      <td>-122.447533</td>\n",
       "      <td>+14152550643</td>\n",
       "      <td>92672</td>\n",
       "    </tr>\n",
       "    <tr>\n",
       "      <th>2857</th>\n",
       "      <td>64738</td>\n",
       "      <td>JAPACURRY</td>\n",
       "      <td>PUBLIC</td>\n",
       "      <td>San Francisco</td>\n",
       "      <td>CA</td>\n",
       "      <td>CA</td>\n",
       "      <td>37.777122</td>\n",
       "      <td>-122.419639</td>\n",
       "      <td>+14152444785</td>\n",
       "      <td>CA</td>\n",
       "    </tr>\n",
       "    <tr>\n",
       "      <th>2969</th>\n",
       "      <td>65856</td>\n",
       "      <td>BAMBOO ASIA</td>\n",
       "      <td>41 MONTGOMERY ST</td>\n",
       "      <td>San Francisco</td>\n",
       "      <td>CA</td>\n",
       "      <td>94101</td>\n",
       "      <td>37.774998</td>\n",
       "      <td>-122.418299</td>\n",
       "      <td>+14156246790</td>\n",
       "      <td>94101</td>\n",
       "    </tr>\n",
       "    <tr>\n",
       "      <th>3142</th>\n",
       "      <td>67875</td>\n",
       "      <td>THE CHAIRMAN TRUCK</td>\n",
       "      <td>OFF THE GRID</td>\n",
       "      <td>San Francisco</td>\n",
       "      <td>CA</td>\n",
       "      <td>00000</td>\n",
       "      <td>37.777122</td>\n",
       "      <td>-122.419639</td>\n",
       "      <td>+14158461711</td>\n",
       "      <td>00000</td>\n",
       "    </tr>\n",
       "    <tr>\n",
       "      <th>3665</th>\n",
       "      <td>72127</td>\n",
       "      <td>REVOLUTION FOODS</td>\n",
       "      <td>5383 CAPWELL</td>\n",
       "      <td>San Francisco</td>\n",
       "      <td>CA</td>\n",
       "      <td>94621</td>\n",
       "      <td>NaN</td>\n",
       "      <td>NaN</td>\n",
       "      <td>NaN</td>\n",
       "      <td>94621</td>\n",
       "    </tr>\n",
       "    <tr>\n",
       "      <th>3758</th>\n",
       "      <td>74674</td>\n",
       "      <td>ELI'S HOT DOGS</td>\n",
       "      <td>101 BAYSHORE BLVD</td>\n",
       "      <td>San Francisco</td>\n",
       "      <td>CA</td>\n",
       "      <td>94014</td>\n",
       "      <td>NaN</td>\n",
       "      <td>NaN</td>\n",
       "      <td>+14158301168</td>\n",
       "      <td>94014</td>\n",
       "    </tr>\n",
       "    <tr>\n",
       "      <th>4853</th>\n",
       "      <td>83744</td>\n",
       "      <td>LA FROMAGERIE</td>\n",
       "      <td>101 MONTGOMERY ST</td>\n",
       "      <td>San Francisco</td>\n",
       "      <td>CA</td>\n",
       "      <td>94101</td>\n",
       "      <td>NaN</td>\n",
       "      <td>NaN</td>\n",
       "      <td>+14153682943</td>\n",
       "      <td>94101</td>\n",
       "    </tr>\n",
       "    <tr>\n",
       "      <th>5060</th>\n",
       "      <td>85459</td>\n",
       "      <td>ORBIT ROOM</td>\n",
       "      <td>1900 MARKET ST</td>\n",
       "      <td>San Francisco</td>\n",
       "      <td>CA</td>\n",
       "      <td>94602</td>\n",
       "      <td>NaN</td>\n",
       "      <td>NaN</td>\n",
       "      <td>+14153705584</td>\n",
       "      <td>94602</td>\n",
       "    </tr>\n",
       "    <tr>\n",
       "      <th>5325</th>\n",
       "      <td>87059</td>\n",
       "      <td>COFFEE BAR-MONTGOMERY</td>\n",
       "      <td>101 MONTGOMERY ST SUITE 101C</td>\n",
       "      <td>San Francisco</td>\n",
       "      <td>CA</td>\n",
       "      <td>94014</td>\n",
       "      <td>NaN</td>\n",
       "      <td>NaN</td>\n",
       "      <td>+14158158774</td>\n",
       "      <td>94014</td>\n",
       "    </tr>\n",
       "    <tr>\n",
       "      <th>5480</th>\n",
       "      <td>88139</td>\n",
       "      <td>TACOLICIOUS</td>\n",
       "      <td>2250 CHESTNUT ST</td>\n",
       "      <td>San Francisco</td>\n",
       "      <td>CA</td>\n",
       "      <td>Ca</td>\n",
       "      <td>NaN</td>\n",
       "      <td>NaN</td>\n",
       "      <td>+14156496077</td>\n",
       "      <td>Ca</td>\n",
       "    </tr>\n",
       "    <tr>\n",
       "      <th>5894</th>\n",
       "      <td>90733</td>\n",
       "      <td>JEEPSILOG</td>\n",
       "      <td>2 MARINA BLVD</td>\n",
       "      <td>San Francisco</td>\n",
       "      <td>CA</td>\n",
       "      <td>94080</td>\n",
       "      <td>NaN</td>\n",
       "      <td>NaN</td>\n",
       "      <td>+14157035586</td>\n",
       "      <td>94080</td>\n",
       "    </tr>\n",
       "    <tr>\n",
       "      <th>6002</th>\n",
       "      <td>91249</td>\n",
       "      <td>AN THE GO</td>\n",
       "      <td>OFF THE GRID</td>\n",
       "      <td>San Francisco</td>\n",
       "      <td>CA</td>\n",
       "      <td>00000</td>\n",
       "      <td>NaN</td>\n",
       "      <td>NaN</td>\n",
       "      <td>+14158192000</td>\n",
       "      <td>00000</td>\n",
       "    </tr>\n",
       "    <tr>\n",
       "      <th>6130</th>\n",
       "      <td>92141</td>\n",
       "      <td>ALFARO TRUCK</td>\n",
       "      <td>332 VALENCIA ST</td>\n",
       "      <td>San Francisco</td>\n",
       "      <td>CA</td>\n",
       "      <td>64110</td>\n",
       "      <td>NaN</td>\n",
       "      <td>NaN</td>\n",
       "      <td>+14159409273</td>\n",
       "      <td>64110</td>\n",
       "    </tr>\n",
       "    <tr>\n",
       "      <th>6300</th>\n",
       "      <td>93484</td>\n",
       "      <td>CARDONA'S FOOD TRUCK</td>\n",
       "      <td>2430 WHIPPLE RD</td>\n",
       "      <td>San Francisco</td>\n",
       "      <td>CA</td>\n",
       "      <td>94544</td>\n",
       "      <td>NaN</td>\n",
       "      <td>NaN</td>\n",
       "      <td>+14153365990</td>\n",
       "      <td>94544</td>\n",
       "    </tr>\n",
       "  </tbody>\n",
       "</table>\n",
       "</div>"
      ],
      "text/plain": [
       "      business_id                                               name  \\\n",
       "1209         5200                    LATINO CUISINE CULINARY ACADEMY   \n",
       "1211         5208                             GOLDEN GATE YACHT CLUB   \n",
       "1372         5755                                      J & J VENDING   \n",
       "1373         5757                                  RICO VENDING, INC   \n",
       "1534         6029                ALEXIS APARTMENTS SR. MEALS PROGRAM   \n",
       "2258        36547                                    EPIC ROASTHOUSE   \n",
       "2293        37167  INTERCONTINENTAL SAN FRANCISCO EMPLOYEE CAFETERIA   \n",
       "2295        37169     INTERCONTINENTAL SAN FRANCISCO 4TH FL. KITCHEN   \n",
       "2846        64540                                     LEO'S HOT DOGS   \n",
       "2852        64660                               HAIGHT STREET MARKET   \n",
       "2857        64738                                          JAPACURRY   \n",
       "2969        65856                                        BAMBOO ASIA   \n",
       "3142        67875                                 THE CHAIRMAN TRUCK   \n",
       "3665        72127                                   REVOLUTION FOODS   \n",
       "3758        74674                                     ELI'S HOT DOGS   \n",
       "4853        83744                                      LA FROMAGERIE   \n",
       "5060        85459                                         ORBIT ROOM   \n",
       "5325        87059                              COFFEE BAR-MONTGOMERY   \n",
       "5480        88139                                        TACOLICIOUS   \n",
       "5894        90733                                          JEEPSILOG   \n",
       "6002        91249                                          AN THE GO   \n",
       "6130        92141                                       ALFARO TRUCK   \n",
       "6300        93484                               CARDONA'S FOOD TRUCK   \n",
       "\n",
       "                           address           city state postal_code  \\\n",
       "1209                 2929 19TH ST   San Francisco    CA   941102019   \n",
       "1211                   1 YACHT RD   San Francisco    CA         941   \n",
       "1372       VARIOUS LOACATIONS (17)  San Francisco    CA       94545   \n",
       "1373             VARIOUS LOCATIONS  San Francisco    CA       94066   \n",
       "1534            390 CLEMENTINA ST   San Francisco    CA   941033148   \n",
       "2258       PIER 26 EMBARARCADERO    San Francisco    CA       95105   \n",
       "2293       888 HOWARD ST 2ND FLOOR  San Francisco    CA       94013   \n",
       "2295       888 HOWARD ST 4TH FLOOR  San Francisco    CA       94013   \n",
       "2846              2301 MISSION ST   San Francisco    CA          CA   \n",
       "2852               1530 HAIGHT ST   San Francisco    CA       92672   \n",
       "2857                      PUBLIC    San Francisco    CA          CA   \n",
       "2969             41 MONTGOMERY ST   San Francisco    CA       94101   \n",
       "3142                OFF THE GRID    San Francisco    CA       00000   \n",
       "3665                5383 CAPWELL    San Francisco    CA       94621   \n",
       "3758            101 BAYSHORE BLVD   San Francisco    CA       94014   \n",
       "4853            101 MONTGOMERY ST   San Francisco    CA       94101   \n",
       "5060               1900 MARKET ST   San Francisco    CA       94602   \n",
       "5325  101 MONTGOMERY ST SUITE 101C  San Francisco    CA       94014   \n",
       "5480             2250 CHESTNUT ST   San Francisco    CA          Ca   \n",
       "5894                2 MARINA BLVD   San Francisco    CA       94080   \n",
       "6002                OFF THE GRID    San Francisco    CA       00000   \n",
       "6130              332 VALENCIA ST   San Francisco    CA       64110   \n",
       "6300              2430 WHIPPLE RD   San Francisco    CA       94544   \n",
       "\n",
       "       latitude   longitude  phone_number postal_code_5  \n",
       "1209  37.760373 -122.411153  +14156485220         94110  \n",
       "1211  37.807878 -122.442499  +14153462628           941  \n",
       "1372        NaN         NaN  +14156750910         94545  \n",
       "1373        NaN         NaN  +14155836723         94066  \n",
       "1534        NaN         NaN  +14154959541         94103  \n",
       "2258  37.788962 -122.387941  +14153699955         95105  \n",
       "2293  37.781664 -122.404778  +14156166532         94013  \n",
       "2295  37.781664 -122.404778  +14156166532         94013  \n",
       "2846  37.760054 -122.419166  +14152406434            CA  \n",
       "2852  37.769957 -122.447533  +14152550643         92672  \n",
       "2857  37.777122 -122.419639  +14152444785            CA  \n",
       "2969  37.774998 -122.418299  +14156246790         94101  \n",
       "3142  37.777122 -122.419639  +14158461711         00000  \n",
       "3665        NaN         NaN           NaN         94621  \n",
       "3758        NaN         NaN  +14158301168         94014  \n",
       "4853        NaN         NaN  +14153682943         94101  \n",
       "5060        NaN         NaN  +14153705584         94602  \n",
       "5325        NaN         NaN  +14158158774         94014  \n",
       "5480        NaN         NaN  +14156496077            Ca  \n",
       "5894        NaN         NaN  +14157035586         94080  \n",
       "6002        NaN         NaN  +14158192000         00000  \n",
       "6130        NaN         NaN  +14159409273         64110  \n",
       "6300        NaN         NaN  +14153365990         94544  "
      ]
     },
     "execution_count": 195,
     "metadata": {},
     "output_type": "execute_result"
    }
   ],
   "source": [
    "zip_wrd = [w for w in bus['postal_code'] if not w in all_sf_zip_codes]  \n",
    "weird_zip_code_businesses = bus[(bus['postal_code'].isin(zip_wrd))&(bus.isnull()['postal_code']==False)]\n",
    "weird_zip_code_businesses"
   ]
  },
  {
   "cell_type": "code",
   "execution_count": 196,
   "metadata": {},
   "outputs": [
    {
     "data": {
      "text/plain": [
       "(23, 10)"
      ]
     },
     "execution_count": 196,
     "metadata": {},
     "output_type": "execute_result"
    }
   ],
   "source": [
    "weird_zip_code_businesses.shape"
   ]
  },
  {
   "cell_type": "markdown",
   "metadata": {
    "deletable": false,
    "editable": false,
    "nbgrader": {
     "grade": false,
     "grade_id": "cell-98f842a32db99f23",
     "locked": true,
     "schema_version": 2,
     "solution": false
    }
   },
   "source": [
    "If we were doing very serious data analysis, we might indivdually look up every one of these strange records. Let's focus on just two of them: ZIP codes 94545 and 94602. Use a search engine to identify what cities these ZIP codes appear in. Try to explain why you think these two ZIP codes appear in your dataframe. For the one with ZIP code 94602, try searching for the business name and locate its real address.\n",
    "<!--\n",
    "BEGIN QUESTION\n",
    "name: q3d2\n",
    "points: 1\n",
    "manual: True\n",
    "-->\n",
    "<!-- EXPORT TO PDF -->"
   ]
  },
  {
   "cell_type": "markdown",
   "metadata": {
    "nbgrader": {
     "grade": true,
     "grade_id": "cell-56691be6d6a68838",
     "locked": false,
     "points": 1,
     "schema_version": 2,
     "solution": true
    }
   },
   "source": [
    "### Analysis\n",
    "\n",
    "Zip code 94545 corresponds to Hayward, CA, Russell City, California, CA. There is a J&J Vending venue in Union City, CA, 94587, which is actually very close to Russel City (a couple of miles). Thus this can explain the error in the postal code. \n",
    "\n",
    "Zip code 94602 corresponds to Oakland. There was actually a Orbid Room restaurant in the past located in Oakland, in 1724 7th St, Oakland, CA 94607 to be more specific. In addition, there is a 1900 MARKET ST in Oakland, hence the confusion. This might explain the error in the postal code. \n"
   ]
  },
  {
   "cell_type": "markdown",
   "metadata": {
    "deletable": false,
    "editable": false,
    "nbgrader": {
     "grade": false,
     "grade_id": "cell-92663ead60440a42",
     "locked": true,
     "schema_version": 2,
     "solution": false
    }
   },
   "source": [
    "### Question 3e\n",
    "\n",
    "We often want to clean the data to improve our analysis. This cleaning might include changing values for a variable or dropping records.\n",
    "\n",
    "The value 94602 is wrong. Change it to the most reasonable correct value, using all information you have available. Modify the `postal_code_5` field using `bus['postal_code_5'].str.replace` to replace 94602.\n",
    "\n",
    "<!--\n",
    "BEGIN QUESTION\n",
    "name: q3e\n",
    "points: 1\n",
    "-->"
   ]
  },
  {
   "cell_type": "code",
   "execution_count": 197,
   "metadata": {},
   "outputs": [],
   "source": [
    "bus['postal_code_5'] = bus['postal_code_5'].str.replace('94602','94102')"
   ]
  },
  {
   "cell_type": "code",
   "execution_count": 198,
   "metadata": {
    "deletable": false,
    "editable": false
   },
   "outputs": [
    {
     "name": "stdout",
     "output_type": "stream",
     "text": [
      "~~~~~~~~~~~~~~~~~~~~~~~~~~~~~~~~~~~~~~~~~~~~~~~~~~~~~~~~~~~~~~~~~~~~~\n",
      "Running tests\n",
      "\n",
      "---------------------------------------------------------------------\n",
      "Test summary\n",
      "    Passed: 1\n",
      "    Failed: 0\n",
      "[ooooooooook] 100.0% passed\n",
      "\n"
     ]
    }
   ],
   "source": [
    "ok.grade(\"q3e\");"
   ]
  },
  {
   "cell_type": "markdown",
   "metadata": {
    "deletable": false,
    "editable": false
   },
   "source": [
    "### Question 3f\n",
    "\n",
    "Now that we have corrected one of the weird postal codes, let's filter our `bus` data such that only postal codes from San Francisco remain. While we're at it, we'll also remove the businesses that are missing a postal code. As we mentioned in question 3d, filtering our postal codes in this way may not be ideal. (Fortunately, this is just a course assignment.)\n",
    "\n",
    "Assign `bus` to a new dataframe that has the same columns but only the rows with ZIP codes in San Francisco.\n",
    "\n",
    "<!--\n",
    "BEGIN QUESTION\n",
    "name: q3f\n",
    "points: 1\n",
    "-->"
   ]
  },
  {
   "cell_type": "code",
   "execution_count": 199,
   "metadata": {},
   "outputs": [
    {
     "data": {
      "text/html": [
       "<div>\n",
       "<style scoped>\n",
       "    .dataframe tbody tr th:only-of-type {\n",
       "        vertical-align: middle;\n",
       "    }\n",
       "\n",
       "    .dataframe tbody tr th {\n",
       "        vertical-align: top;\n",
       "    }\n",
       "\n",
       "    .dataframe thead th {\n",
       "        text-align: right;\n",
       "    }\n",
       "</style>\n",
       "<table border=\"1\" class=\"dataframe\">\n",
       "  <thead>\n",
       "    <tr style=\"text-align: right;\">\n",
       "      <th></th>\n",
       "      <th>business_id</th>\n",
       "      <th>name</th>\n",
       "      <th>address</th>\n",
       "      <th>city</th>\n",
       "      <th>state</th>\n",
       "      <th>postal_code</th>\n",
       "      <th>latitude</th>\n",
       "      <th>longitude</th>\n",
       "      <th>phone_number</th>\n",
       "      <th>postal_code_5</th>\n",
       "    </tr>\n",
       "  </thead>\n",
       "  <tbody>\n",
       "    <tr>\n",
       "      <th>0</th>\n",
       "      <td>19</td>\n",
       "      <td>NRGIZE LIFESTYLE CAFE</td>\n",
       "      <td>1200 VAN NESS AVE, 3RD FLOOR</td>\n",
       "      <td>San Francisco</td>\n",
       "      <td>CA</td>\n",
       "      <td>94109</td>\n",
       "      <td>37.786848</td>\n",
       "      <td>-122.421547</td>\n",
       "      <td>+14157763262</td>\n",
       "      <td>94109</td>\n",
       "    </tr>\n",
       "    <tr>\n",
       "      <th>1</th>\n",
       "      <td>24</td>\n",
       "      <td>OMNI S.F. HOTEL - 2ND FLOOR PANTRY</td>\n",
       "      <td>500 CALIFORNIA ST, 2ND  FLOOR</td>\n",
       "      <td>San Francisco</td>\n",
       "      <td>CA</td>\n",
       "      <td>94104</td>\n",
       "      <td>37.792888</td>\n",
       "      <td>-122.403135</td>\n",
       "      <td>+14156779494</td>\n",
       "      <td>94104</td>\n",
       "    </tr>\n",
       "    <tr>\n",
       "      <th>2</th>\n",
       "      <td>31</td>\n",
       "      <td>NORMAN'S ICE CREAM AND FREEZES</td>\n",
       "      <td>2801 LEAVENWORTH ST</td>\n",
       "      <td>San Francisco</td>\n",
       "      <td>CA</td>\n",
       "      <td>94133</td>\n",
       "      <td>37.807155</td>\n",
       "      <td>-122.419004</td>\n",
       "      <td>NaN</td>\n",
       "      <td>94133</td>\n",
       "    </tr>\n",
       "    <tr>\n",
       "      <th>3</th>\n",
       "      <td>45</td>\n",
       "      <td>CHARLIE'S DELI CAFE</td>\n",
       "      <td>3202 FOLSOM ST</td>\n",
       "      <td>San Francisco</td>\n",
       "      <td>CA</td>\n",
       "      <td>94110</td>\n",
       "      <td>37.747114</td>\n",
       "      <td>-122.413641</td>\n",
       "      <td>+14156415051</td>\n",
       "      <td>94110</td>\n",
       "    </tr>\n",
       "    <tr>\n",
       "      <th>4</th>\n",
       "      <td>48</td>\n",
       "      <td>ART'S CAFE</td>\n",
       "      <td>747 IRVING ST</td>\n",
       "      <td>San Francisco</td>\n",
       "      <td>CA</td>\n",
       "      <td>94122</td>\n",
       "      <td>37.764013</td>\n",
       "      <td>-122.465749</td>\n",
       "      <td>+14156657440</td>\n",
       "      <td>94122</td>\n",
       "    </tr>\n",
       "  </tbody>\n",
       "</table>\n",
       "</div>"
      ],
      "text/plain": [
       "   business_id                                name  \\\n",
       "0           19               NRGIZE LIFESTYLE CAFE   \n",
       "1           24  OMNI S.F. HOTEL - 2ND FLOOR PANTRY   \n",
       "2           31      NORMAN'S ICE CREAM AND FREEZES   \n",
       "3           45                 CHARLIE'S DELI CAFE   \n",
       "4           48                          ART'S CAFE   \n",
       "\n",
       "                         address           city state postal_code   latitude  \\\n",
       "0   1200 VAN NESS AVE, 3RD FLOOR  San Francisco    CA       94109  37.786848   \n",
       "1  500 CALIFORNIA ST, 2ND  FLOOR  San Francisco    CA       94104  37.792888   \n",
       "2           2801 LEAVENWORTH ST   San Francisco    CA       94133  37.807155   \n",
       "3                3202 FOLSOM ST   San Francisco    CA       94110  37.747114   \n",
       "4                 747 IRVING ST   San Francisco    CA       94122  37.764013   \n",
       "\n",
       "    longitude  phone_number postal_code_5  \n",
       "0 -122.421547  +14157763262         94109  \n",
       "1 -122.403135  +14156779494         94104  \n",
       "2 -122.419004           NaN         94133  \n",
       "3 -122.413641  +14156415051         94110  \n",
       "4 -122.465749  +14156657440         94122  "
      ]
     },
     "execution_count": 199,
     "metadata": {},
     "output_type": "execute_result"
    }
   ],
   "source": [
    "bus = bus[(bus['postal_code_5'].isin(all_sf_zip_codes))&(bus.isnull()['postal_code_5']==False)]\n",
    "bus.head()"
   ]
  },
  {
   "cell_type": "code",
   "execution_count": 200,
   "metadata": {
    "deletable": false,
    "editable": false
   },
   "outputs": [
    {
     "name": "stdout",
     "output_type": "stream",
     "text": [
      "~~~~~~~~~~~~~~~~~~~~~~~~~~~~~~~~~~~~~~~~~~~~~~~~~~~~~~~~~~~~~~~~~~~~~\n",
      "Running tests\n",
      "\n",
      "---------------------------------------------------------------------\n",
      "Test summary\n",
      "    Passed: 1\n",
      "    Failed: 0\n",
      "[ooooooooook] 100.0% passed\n",
      "\n"
     ]
    }
   ],
   "source": [
    "ok.grade(\"q3f\");"
   ]
  },
  {
   "cell_type": "markdown",
   "metadata": {},
   "source": [
    "## 4: Sampling from the Business Data\n",
    "We can now sample from the business data using the cleaned ZIP code data. Make sure to use `postal_code_5` instead of `postal_code` for all parts of this question."
   ]
  },
  {
   "cell_type": "markdown",
   "metadata": {
    "deletable": false,
    "editable": false
   },
   "source": [
    "### Question 4a\n",
    "\n",
    "First, complete the following function `sample`, which takes as arguments a series, `series`, and a sample size, `n`, and returns a simple random sample (SRS) of size `n` from the series. Recall that in SRS, sampling is performed **without** replacement. The result should be a **list** of the `n` values that are in the sample.\n",
    "\n",
    "*Hint*: Consider using [`np.random.choice`](https://docs.scipy.org/doc/numpy-1.14.1/reference/generated/numpy.random.choice.html).\n",
    "\n",
    "<!--\n",
    "BEGIN QUESTION\n",
    "name: q4a\n",
    "points: 1\n",
    "-->"
   ]
  },
  {
   "cell_type": "code",
   "execution_count": 225,
   "metadata": {},
   "outputs": [],
   "source": [
    "def sample(series, n):\n",
    "    np.random.seed(40)\n",
    "    return list(np.random.choice(series, size=n, replace=False))"
   ]
  },
  {
   "cell_type": "code",
   "execution_count": 226,
   "metadata": {
    "deletable": false,
    "editable": false
   },
   "outputs": [
    {
     "name": "stdout",
     "output_type": "stream",
     "text": [
      "~~~~~~~~~~~~~~~~~~~~~~~~~~~~~~~~~~~~~~~~~~~~~~~~~~~~~~~~~~~~~~~~~~~~~\n",
      "Running tests\n",
      "\n",
      "---------------------------------------------------------------------\n",
      "Test summary\n",
      "    Passed: 1\n",
      "    Failed: 0\n",
      "[ooooooooook] 100.0% passed\n",
      "\n"
     ]
    }
   ],
   "source": [
    "ok.grade(\"q4a\");"
   ]
  },
  {
   "cell_type": "markdown",
   "metadata": {
    "deletable": false,
    "editable": false
   },
   "source": [
    "### Question 4b\n",
    "Suppose we take a SRS of 5 businesses from the business data. What is the probability that the business named AMERICANA GRILL & FOUNTAIN is in the sample?\n",
    "<!--\n",
    "BEGIN QUESTION\n",
    "name: q4b\n",
    "points: 1\n",
    "-->"
   ]
  },
  {
   "cell_type": "code",
   "execution_count": 227,
   "metadata": {},
   "outputs": [],
   "source": [
    "import scipy"
   ]
  },
  {
   "cell_type": "code",
   "execution_count": 228,
   "metadata": {},
   "outputs": [
    {
     "data": {
      "text/plain": [
       "(6146, 10)"
      ]
     },
     "execution_count": 228,
     "metadata": {},
     "output_type": "execute_result"
    }
   ],
   "source": [
    "bus.shape"
   ]
  },
  {
   "cell_type": "code",
   "execution_count": 229,
   "metadata": {},
   "outputs": [
    {
     "data": {
      "text/html": [
       "<div>\n",
       "<style scoped>\n",
       "    .dataframe tbody tr th:only-of-type {\n",
       "        vertical-align: middle;\n",
       "    }\n",
       "\n",
       "    .dataframe tbody tr th {\n",
       "        vertical-align: top;\n",
       "    }\n",
       "\n",
       "    .dataframe thead th {\n",
       "        text-align: right;\n",
       "    }\n",
       "</style>\n",
       "<table border=\"1\" class=\"dataframe\">\n",
       "  <thead>\n",
       "    <tr style=\"text-align: right;\">\n",
       "      <th></th>\n",
       "      <th>business_id</th>\n",
       "      <th>name</th>\n",
       "      <th>address</th>\n",
       "      <th>city</th>\n",
       "      <th>state</th>\n",
       "      <th>postal_code</th>\n",
       "      <th>latitude</th>\n",
       "      <th>longitude</th>\n",
       "      <th>phone_number</th>\n",
       "      <th>postal_code_5</th>\n",
       "    </tr>\n",
       "  </thead>\n",
       "  <tbody>\n",
       "    <tr>\n",
       "      <th>580</th>\n",
       "      <td>2505</td>\n",
       "      <td>AMERICANA GRILL &amp; FOUNTAIN</td>\n",
       "      <td>3532 BALBOA ST</td>\n",
       "      <td>San Francisco</td>\n",
       "      <td>CA</td>\n",
       "      <td>94121</td>\n",
       "      <td>37.775806</td>\n",
       "      <td>-122.496608</td>\n",
       "      <td>+14153872893</td>\n",
       "      <td>94121</td>\n",
       "    </tr>\n",
       "  </tbody>\n",
       "</table>\n",
       "</div>"
      ],
      "text/plain": [
       "     business_id                        name          address           city  \\\n",
       "580         2505  AMERICANA GRILL & FOUNTAIN  3532 BALBOA ST   San Francisco   \n",
       "\n",
       "    state postal_code   latitude   longitude  phone_number postal_code_5  \n",
       "580    CA       94121  37.775806 -122.496608  +14153872893         94121  "
      ]
     },
     "execution_count": 229,
     "metadata": {},
     "output_type": "execute_result"
    }
   ],
   "source": [
    "bus[bus['name']=='AMERICANA GRILL & FOUNTAIN']"
   ]
  },
  {
   "cell_type": "code",
   "execution_count": 230,
   "metadata": {},
   "outputs": [
    {
     "data": {
      "text/plain": [
       "0.0008135372600065083"
      ]
     },
     "execution_count": 230,
     "metadata": {},
     "output_type": "execute_result"
    }
   ],
   "source": [
    "q4b_answer = (scipy.special.binom(bus.shape[0]-1,4))/(scipy.special.binom(bus.shape[0],5))\n",
    "q4b_answer"
   ]
  },
  {
   "cell_type": "code",
   "execution_count": 231,
   "metadata": {
    "deletable": false,
    "editable": false
   },
   "outputs": [
    {
     "name": "stdout",
     "output_type": "stream",
     "text": [
      "~~~~~~~~~~~~~~~~~~~~~~~~~~~~~~~~~~~~~~~~~~~~~~~~~~~~~~~~~~~~~~~~~~~~~\n",
      "Running tests\n",
      "\n",
      "---------------------------------------------------------------------\n",
      "Test summary\n",
      "    Passed: 1\n",
      "    Failed: 0\n",
      "[ooooooooook] 100.0% passed\n",
      "\n"
     ]
    }
   ],
   "source": [
    "ok.grade(\"q4b\");"
   ]
  },
  {
   "cell_type": "markdown",
   "metadata": {
    "deletable": false,
    "editable": false
   },
   "source": [
    "### Question 4c\n",
    "Collect a stratified random sample of business names, where each stratum consists of a postal code. Collect one business name per stratum. Assign `bus_strat_sample` to a series of business names selected by this sampling procedure.\n",
    "\n",
    "Hint: You can use the `sample` function you defined earlier.\n",
    "\n",
    "<!--\n",
    "BEGIN QUESTION\n",
    "name: q4c\n",
    "points: 1\n",
    "-->"
   ]
  },
  {
   "cell_type": "code",
   "execution_count": 232,
   "metadata": {},
   "outputs": [
    {
     "data": {
      "text/html": [
       "<div>\n",
       "<style scoped>\n",
       "    .dataframe tbody tr th:only-of-type {\n",
       "        vertical-align: middle;\n",
       "    }\n",
       "\n",
       "    .dataframe tbody tr th {\n",
       "        vertical-align: top;\n",
       "    }\n",
       "\n",
       "    .dataframe thead th {\n",
       "        text-align: right;\n",
       "    }\n",
       "</style>\n",
       "<table border=\"1\" class=\"dataframe\">\n",
       "  <thead>\n",
       "    <tr style=\"text-align: right;\">\n",
       "      <th></th>\n",
       "      <th>business_id</th>\n",
       "      <th>name</th>\n",
       "      <th>address</th>\n",
       "      <th>city</th>\n",
       "      <th>state</th>\n",
       "      <th>postal_code</th>\n",
       "      <th>latitude</th>\n",
       "      <th>longitude</th>\n",
       "      <th>phone_number</th>\n",
       "      <th>postal_code_5</th>\n",
       "    </tr>\n",
       "  </thead>\n",
       "  <tbody>\n",
       "    <tr>\n",
       "      <th>0</th>\n",
       "      <td>19</td>\n",
       "      <td>NRGIZE LIFESTYLE CAFE</td>\n",
       "      <td>1200 VAN NESS AVE, 3RD FLOOR</td>\n",
       "      <td>San Francisco</td>\n",
       "      <td>CA</td>\n",
       "      <td>94109</td>\n",
       "      <td>37.786848</td>\n",
       "      <td>-122.421547</td>\n",
       "      <td>+14157763262</td>\n",
       "      <td>94109</td>\n",
       "    </tr>\n",
       "    <tr>\n",
       "      <th>1</th>\n",
       "      <td>24</td>\n",
       "      <td>OMNI S.F. HOTEL - 2ND FLOOR PANTRY</td>\n",
       "      <td>500 CALIFORNIA ST, 2ND  FLOOR</td>\n",
       "      <td>San Francisco</td>\n",
       "      <td>CA</td>\n",
       "      <td>94104</td>\n",
       "      <td>37.792888</td>\n",
       "      <td>-122.403135</td>\n",
       "      <td>+14156779494</td>\n",
       "      <td>94104</td>\n",
       "    </tr>\n",
       "    <tr>\n",
       "      <th>2</th>\n",
       "      <td>31</td>\n",
       "      <td>NORMAN'S ICE CREAM AND FREEZES</td>\n",
       "      <td>2801 LEAVENWORTH ST</td>\n",
       "      <td>San Francisco</td>\n",
       "      <td>CA</td>\n",
       "      <td>94133</td>\n",
       "      <td>37.807155</td>\n",
       "      <td>-122.419004</td>\n",
       "      <td>NaN</td>\n",
       "      <td>94133</td>\n",
       "    </tr>\n",
       "  </tbody>\n",
       "</table>\n",
       "</div>"
      ],
      "text/plain": [
       "   business_id                                name  \\\n",
       "0           19               NRGIZE LIFESTYLE CAFE   \n",
       "1           24  OMNI S.F. HOTEL - 2ND FLOOR PANTRY   \n",
       "2           31      NORMAN'S ICE CREAM AND FREEZES   \n",
       "\n",
       "                         address           city state postal_code   latitude  \\\n",
       "0   1200 VAN NESS AVE, 3RD FLOOR  San Francisco    CA       94109  37.786848   \n",
       "1  500 CALIFORNIA ST, 2ND  FLOOR  San Francisco    CA       94104  37.792888   \n",
       "2           2801 LEAVENWORTH ST   San Francisco    CA       94133  37.807155   \n",
       "\n",
       "    longitude  phone_number postal_code_5  \n",
       "0 -122.421547  +14157763262         94109  \n",
       "1 -122.403135  +14156779494         94104  \n",
       "2 -122.419004           NaN         94133  "
      ]
     },
     "execution_count": 232,
     "metadata": {},
     "output_type": "execute_result"
    }
   ],
   "source": [
    "bus.head(3)"
   ]
  },
  {
   "cell_type": "code",
   "execution_count": 233,
   "metadata": {},
   "outputs": [],
   "source": [
    "bus_strat_sample = bus[bus['postal_code_5'].isin(sample(bus['postal_code_5'],5))].groupby('postal_code_5').first()"
   ]
  },
  {
   "cell_type": "code",
   "execution_count": 234,
   "metadata": {
    "deletable": false,
    "editable": false
   },
   "outputs": [
    {
     "name": "stdout",
     "output_type": "stream",
     "text": [
      "~~~~~~~~~~~~~~~~~~~~~~~~~~~~~~~~~~~~~~~~~~~~~~~~~~~~~~~~~~~~~~~~~~~~~\n",
      "Running tests\n",
      "\n",
      "---------------------------------------------------------------------\n",
      "Test summary\n",
      "    Passed: 1\n",
      "    Failed: 0\n",
      "[ooooooooook] 100.0% passed\n",
      "\n"
     ]
    }
   ],
   "source": [
    "ok.grade(\"q4c\");"
   ]
  },
  {
   "cell_type": "markdown",
   "metadata": {
    "deletable": false,
    "editable": false
   },
   "source": [
    "### Question 4d\n",
    "\n",
    "What is the probability that AMERICANA GRILL & FOUNTAIN is selected as part of this stratified random sampling procedure?\n",
    "<!--\n",
    "BEGIN QUESTION\n",
    "name: q4d\n",
    "points: 1\n",
    "-->"
   ]
  },
  {
   "cell_type": "code",
   "execution_count": 235,
   "metadata": {},
   "outputs": [
    {
     "data": {
      "text/plain": [
       "30"
      ]
     },
     "execution_count": 235,
     "metadata": {},
     "output_type": "execute_result"
    }
   ],
   "source": [
    "bus.groupby('postal_code_5').count().shape[0]"
   ]
  },
  {
   "cell_type": "markdown",
   "metadata": {},
   "source": [
    "There are 30 different postal codes."
   ]
  },
  {
   "cell_type": "code",
   "execution_count": 236,
   "metadata": {},
   "outputs": [
    {
     "data": {
      "text/plain": [
       "160"
      ]
     },
     "execution_count": 236,
     "metadata": {},
     "output_type": "execute_result"
    }
   ],
   "source": [
    "bus[bus['postal_code_5']=='94121'].shape[0]"
   ]
  },
  {
   "cell_type": "code",
   "execution_count": 237,
   "metadata": {},
   "outputs": [
    {
     "data": {
      "text/plain": [
       "0.0010416666666666667"
      ]
     },
     "execution_count": 237,
     "metadata": {},
     "output_type": "execute_result"
    }
   ],
   "source": [
    "q4d_answer = (scipy.special.binom(29,4))/((scipy.special.binom(30,5))*160)\n",
    "q4d_answer"
   ]
  },
  {
   "cell_type": "code",
   "execution_count": 238,
   "metadata": {
    "deletable": false,
    "editable": false
   },
   "outputs": [
    {
     "name": "stdout",
     "output_type": "stream",
     "text": [
      "~~~~~~~~~~~~~~~~~~~~~~~~~~~~~~~~~~~~~~~~~~~~~~~~~~~~~~~~~~~~~~~~~~~~~\n",
      "Running tests\n",
      "\n",
      "---------------------------------------------------------------------\n",
      "Test summary\n",
      "    Passed: 1\n",
      "    Failed: 0\n",
      "[ooooooooook] 100.0% passed\n",
      "\n"
     ]
    }
   ],
   "source": [
    "ok.grade(\"q4d\");"
   ]
  },
  {
   "cell_type": "markdown",
   "metadata": {
    "deletable": false,
    "editable": false
   },
   "source": [
    "### Question 4e\n",
    "Collect a cluster sample of business IDs, where each cluster is a postal code, with 5 clusters in the sample. Assign `bus_cluster_sample` to a series of business IDs selected by this sampling procedure.\n",
    "\n",
    "Hint: Consider using [`isin`](https://pandas.pydata.org/pandas-docs/stable/reference/api/pandas.Series.isin.html).\n",
    "\n",
    "<!--\n",
    "BEGIN QUESTION\n",
    "name: q4e\n",
    "points: 1\n",
    "-->"
   ]
  },
  {
   "cell_type": "code",
   "execution_count": 239,
   "metadata": {},
   "outputs": [
    {
     "data": {
      "text/plain": [
       "3      45\n",
       "10     67\n",
       "17     95\n",
       "33    180\n",
       "34    184\n",
       "Name: business_id, dtype: int64"
      ]
     },
     "execution_count": 239,
     "metadata": {},
     "output_type": "execute_result"
    }
   ],
   "source": [
    "bus_cluster_sample = bus[bus['postal_code_5'].isin(sample(bus['postal_code_5'],5))].business_id\n",
    "bus_cluster_sample.head()"
   ]
  },
  {
   "cell_type": "code",
   "execution_count": 240,
   "metadata": {
    "deletable": false,
    "editable": false
   },
   "outputs": [
    {
     "name": "stdout",
     "output_type": "stream",
     "text": [
      "~~~~~~~~~~~~~~~~~~~~~~~~~~~~~~~~~~~~~~~~~~~~~~~~~~~~~~~~~~~~~~~~~~~~~\n",
      "Running tests\n",
      "\n",
      "---------------------------------------------------------------------\n",
      "Test summary\n",
      "    Passed: 1\n",
      "    Failed: 0\n",
      "[ooooooooook] 100.0% passed\n",
      "\n"
     ]
    }
   ],
   "source": [
    "ok.grade(\"q4e\");"
   ]
  },
  {
   "cell_type": "markdown",
   "metadata": {
    "deletable": false,
    "editable": false
   },
   "source": [
    "### Question 4f\n",
    "What is the probability that AMERICANA GRILL & FOUNTAIN is selected as part of this cluster sampling procedure?\n",
    "<!--\n",
    "BEGIN QUESTION\n",
    "name: q4f\n",
    "points: 1\n",
    "-->"
   ]
  },
  {
   "cell_type": "code",
   "execution_count": 241,
   "metadata": {},
   "outputs": [
    {
     "data": {
      "text/plain": [
       "0.16666666666666666"
      ]
     },
     "execution_count": 241,
     "metadata": {},
     "output_type": "execute_result"
    }
   ],
   "source": [
    "q4f_answer = (scipy.special.binom(29,4))/((scipy.special.binom(30,5)))\n",
    "q4f_answer"
   ]
  },
  {
   "cell_type": "code",
   "execution_count": 242,
   "metadata": {
    "deletable": false,
    "editable": false
   },
   "outputs": [
    {
     "name": "stdout",
     "output_type": "stream",
     "text": [
      "~~~~~~~~~~~~~~~~~~~~~~~~~~~~~~~~~~~~~~~~~~~~~~~~~~~~~~~~~~~~~~~~~~~~~\n",
      "Running tests\n",
      "\n",
      "---------------------------------------------------------------------\n",
      "Test summary\n",
      "    Passed: 1\n",
      "    Failed: 0\n",
      "[ooooooooook] 100.0% passed\n",
      "\n"
     ]
    }
   ],
   "source": [
    "ok.grade(\"q4f\");"
   ]
  },
  {
   "cell_type": "markdown",
   "metadata": {
    "deletable": false,
    "editable": false
   },
   "source": [
    "### Question 4g\n",
    "In the context of this question, what are the benefit(s) of performing stratified sampling over cluster sampling? Why would you consider performing cluster sampling instead of stratified sampling? Compare the strengths and weaknesses of both sampling techniques.\n",
    "<!--\n",
    "BEGIN QUESTION\n",
    "name: q4g\n",
    "points: 2\n",
    "manual: True\n",
    "-->\n",
    "<!-- EXPORT TO PDF -->"
   ]
  },
  {
   "cell_type": "markdown",
   "metadata": {},
   "source": [
    "### Answer\n",
    "\n",
    "Stratified sampling can help to reduce the risk of unrepresentative samples. Therefore, the sampling reflectsq rather well the population that we want to study. Here, we can underline the particularities of each postal_code after having done a stratified sample. "
   ]
  },
  {
   "cell_type": "markdown",
   "metadata": {
    "deletable": false,
    "editable": false
   },
   "source": [
    "### Question 4h\n",
    "Collect a multi-stage sample. First, take a SRS of 5 postal codes. Then, collect an SRS of one business name per selected postal code. Assign `bus_multi_sample` to a series of names selected by this procedure.\n",
    "\n",
    "<!--\n",
    "BEGIN QUESTION\n",
    "name: q4h\n",
    "points: 1\n",
    "-->"
   ]
  },
  {
   "cell_type": "code",
   "execution_count": 243,
   "metadata": {},
   "outputs": [
    {
     "data": {
      "text/plain": [
       "0                   ASTER\n",
       "1    THREE BABES BAKESHOP\n",
       "2                   ASTER\n",
       "3         GENJI SUSHI CAS\n",
       "4                   ASTER\n",
       "dtype: object"
      ]
     },
     "execution_count": 243,
     "metadata": {},
     "output_type": "execute_result"
    }
   ],
   "source": [
    "np.random.seed(40) # Do not touch this!\n",
    "ptc = sample(bus['postal_code_5'],5)\n",
    "bsn = []\n",
    "for element in ptc:   \n",
    "    bsn.append((sample(bus[bus['postal_code_5']==element]['name'],1)[0]))\n",
    "bus_multi_sample = pd.Series(bsn)\n",
    "bus_multi_sample"
   ]
  },
  {
   "cell_type": "code",
   "execution_count": 244,
   "metadata": {
    "deletable": false,
    "editable": false
   },
   "outputs": [
    {
     "name": "stdout",
     "output_type": "stream",
     "text": [
      "~~~~~~~~~~~~~~~~~~~~~~~~~~~~~~~~~~~~~~~~~~~~~~~~~~~~~~~~~~~~~~~~~~~~~\n",
      "Running tests\n",
      "\n",
      "---------------------------------------------------------------------\n",
      "Test summary\n",
      "    Passed: 1\n",
      "    Failed: 0\n",
      "[ooooooooook] 100.0% passed\n",
      "\n"
     ]
    }
   ],
   "source": [
    "ok.grade(\"q4h\");"
   ]
  },
  {
   "cell_type": "markdown",
   "metadata": {
    "deletable": false,
    "editable": false
   },
   "source": [
    "### Question 4i\n",
    "What is the probability that AMERICANA GRILL & FOUNTAIN is chosen in the multi-stage sample?\n",
    "\n",
    "<!--\n",
    "BEGIN QUESTION\n",
    "name: q4i\n",
    "points: 1\n",
    "-->"
   ]
  },
  {
   "cell_type": "code",
   "execution_count": 245,
   "metadata": {},
   "outputs": [
    {
     "data": {
      "text/plain": [
       "0.0010416666666666667"
      ]
     },
     "execution_count": 245,
     "metadata": {},
     "output_type": "execute_result"
    }
   ],
   "source": [
    "q4i_answer = (scipy.special.binom(29,4))/((scipy.special.binom(30,5))*160)\n",
    "q4i_answer"
   ]
  },
  {
   "cell_type": "code",
   "execution_count": 246,
   "metadata": {
    "deletable": false,
    "editable": false
   },
   "outputs": [
    {
     "name": "stdout",
     "output_type": "stream",
     "text": [
      "~~~~~~~~~~~~~~~~~~~~~~~~~~~~~~~~~~~~~~~~~~~~~~~~~~~~~~~~~~~~~~~~~~~~~\n",
      "Running tests\n",
      "\n",
      "---------------------------------------------------------------------\n",
      "Test summary\n",
      "    Passed: 1\n",
      "    Failed: 0\n",
      "[ooooooooook] 100.0% passed\n",
      "\n"
     ]
    }
   ],
   "source": [
    "ok.grade(\"q4i\");"
   ]
  },
  {
   "cell_type": "markdown",
   "metadata": {
    "deletable": false,
    "editable": false,
    "nbgrader": {
     "grade": false,
     "grade_id": "q4a",
     "locked": true,
     "schema_version": 2,
     "solution": false
    }
   },
   "source": [
    "---\n",
    "## 5: Latitude and Longitude\n",
    "\n",
    "Let's also consider latitude and longitude values and get a sense of how many are missing.\n",
    "\n",
    "### Question 5a\n",
    "\n",
    "How many businesses are missing longitude values?\n",
    "\n",
    "*Hint*: Use `isnull`.\n",
    "\n",
    "<!--\n",
    "BEGIN QUESTION\n",
    "name: q5a1\n",
    "points: 1\n",
    "-->"
   ]
  },
  {
   "cell_type": "code",
   "execution_count": 247,
   "metadata": {
    "ExecuteTime": {
     "end_time": "2018-08-18T01:21:54.132374Z",
     "start_time": "2018-08-18T01:21:54.123081Z"
    },
    "nbgrader": {
     "grade": false,
     "grade_id": "q4a-answer",
     "locked": false,
     "schema_version": 2,
     "solution": true
    },
    "tags": [
     "student"
    ]
   },
   "outputs": [
    {
     "data": {
      "text/plain": [
       "6146"
      ]
     },
     "execution_count": 247,
     "metadata": {},
     "output_type": "execute_result"
    }
   ],
   "source": [
    "num_missing_longs = bus['longitude'].isnull().count()\n",
    "num_missing_longs"
   ]
  },
  {
   "cell_type": "code",
   "execution_count": 248,
   "metadata": {
    "deletable": false,
    "editable": false
   },
   "outputs": [
    {
     "name": "stdout",
     "output_type": "stream",
     "text": [
      "~~~~~~~~~~~~~~~~~~~~~~~~~~~~~~~~~~~~~~~~~~~~~~~~~~~~~~~~~~~~~~~~~~~~~\n",
      "Running tests\n",
      "\n",
      "---------------------------------------------------------------------\n",
      "Test summary\n",
      "    Passed: 1\n",
      "    Failed: 0\n",
      "[ooooooooook] 100.0% passed\n",
      "\n"
     ]
    }
   ],
   "source": [
    "ok.grade(\"q5a1\");"
   ]
  },
  {
   "cell_type": "markdown",
   "metadata": {
    "nbgrader": {
     "grade": false,
     "grade_id": "annex-zip",
     "locked": true,
     "schema_version": 2,
     "solution": false
    }
   },
   "source": [
    "As a somewhat contrived exercise in data manipulation, let's try to identify which ZIP codes are missing the most longitude values."
   ]
  },
  {
   "cell_type": "markdown",
   "metadata": {
    "nbgrader": {
     "grade": false,
     "grade_id": "cell-22502e4e3bc97a90",
     "locked": true,
     "schema_version": 2,
     "solution": false
    }
   },
   "source": [
    "Throughout problems 5a and 5b, let's focus on only the \"dense\" ZIP codes of the city of San Francisco, listed below as `sf_dense_zip`."
   ]
  },
  {
   "cell_type": "code",
   "execution_count": 249,
   "metadata": {
    "ExecuteTime": {
     "end_time": "2018-08-18T01:21:54.153495Z",
     "start_time": "2018-08-18T01:21:54.145177Z"
    },
    "nbgrader": {
     "grade": false,
     "grade_id": "annex-zip-codes",
     "locked": true,
     "schema_version": 2,
     "solution": false
    }
   },
   "outputs": [],
   "source": [
    "sf_dense_zip = [\"94102\", \"94103\", \"94104\", \"94105\", \"94107\", \"94108\",\n",
    "                \"94109\", \"94110\", \"94111\", \"94112\", \"94114\", \"94115\",\n",
    "                \"94116\", \"94117\", \"94118\", \"94121\", \"94122\", \"94123\", \n",
    "                \"94124\", \"94127\", \"94131\", \"94132\", \"94133\", \"94134\"]"
   ]
  },
  {
   "cell_type": "markdown",
   "metadata": {
    "deletable": false,
    "editable": false,
    "nbgrader": {
     "grade": false,
     "grade_id": "cell-04deef019a758f65",
     "locked": true,
     "schema_version": 2,
     "solution": false
    }
   },
   "source": [
    "In the cell below, create a series where the index is `postal_code_5`, and the value is the number of businesses with missing longitudes in that ZIP code. Your series should be in descending order. Only businesses from `sf_dense_zip` should be included.\n",
    "\n",
    "*Hint: Start by making a new dataframe called `bus_sf` that only has businesses from `sf_dense_zip`.*\n",
    "\n",
    "*Hint: Create a custom function to compute the number of null entries in a series, and use this function with the `agg` method.*\n",
    "<!--\n",
    "BEGIN QUESTION\n",
    "name: q5a2\n",
    "points: 1\n",
    "-->"
   ]
  },
  {
   "cell_type": "code",
   "execution_count": 250,
   "metadata": {
    "nbgrader": {
     "grade": false,
     "grade_id": "cell-acf341c6f3ee2e77",
     "locked": false,
     "schema_version": 2,
     "solution": true
    }
   },
   "outputs": [],
   "source": [
    "bus_sf = bus[bus['postal_code'].isin(sf_dense_zip)]"
   ]
  },
  {
   "cell_type": "code",
   "execution_count": 251,
   "metadata": {},
   "outputs": [],
   "source": [
    "def nb_null(serie):\n",
    "    return serie.isna().sum()"
   ]
  },
  {
   "cell_type": "code",
   "execution_count": 252,
   "metadata": {},
   "outputs": [
    {
     "data": {
      "text/html": [
       "<div>\n",
       "<style scoped>\n",
       "    .dataframe tbody tr th:only-of-type {\n",
       "        vertical-align: middle;\n",
       "    }\n",
       "\n",
       "    .dataframe tbody tr th {\n",
       "        vertical-align: top;\n",
       "    }\n",
       "\n",
       "    .dataframe thead th {\n",
       "        text-align: right;\n",
       "    }\n",
       "</style>\n",
       "<table border=\"1\" class=\"dataframe\">\n",
       "  <thead>\n",
       "    <tr style=\"text-align: right;\">\n",
       "      <th></th>\n",
       "      <th>longitude</th>\n",
       "    </tr>\n",
       "    <tr>\n",
       "      <th>postal_code_5</th>\n",
       "      <th></th>\n",
       "    </tr>\n",
       "  </thead>\n",
       "  <tbody>\n",
       "    <tr>\n",
       "      <th>94110</th>\n",
       "      <td>294.0</td>\n",
       "    </tr>\n",
       "    <tr>\n",
       "      <th>94103</th>\n",
       "      <td>284.0</td>\n",
       "    </tr>\n",
       "    <tr>\n",
       "      <th>94107</th>\n",
       "      <td>275.0</td>\n",
       "    </tr>\n",
       "    <tr>\n",
       "      <th>94102</th>\n",
       "      <td>221.0</td>\n",
       "    </tr>\n",
       "    <tr>\n",
       "      <th>94109</th>\n",
       "      <td>171.0</td>\n",
       "    </tr>\n",
       "  </tbody>\n",
       "</table>\n",
       "</div>"
      ],
      "text/plain": [
       "               longitude\n",
       "postal_code_5           \n",
       "94110              294.0\n",
       "94103              284.0\n",
       "94107              275.0\n",
       "94102              221.0\n",
       "94109              171.0"
      ]
     },
     "execution_count": 252,
     "metadata": {},
     "output_type": "execute_result"
    }
   ],
   "source": [
    "num_missing_in_each_zip = bus_sf.groupby('postal_code_5').agg(nb_null)[['longitude']].sort_values(by='longitude', ascending=False)\n",
    "num_missing_in_each_zip.head()"
   ]
  },
  {
   "cell_type": "code",
   "execution_count": 253,
   "metadata": {
    "deletable": false,
    "editable": false
   },
   "outputs": [
    {
     "name": "stdout",
     "output_type": "stream",
     "text": [
      "~~~~~~~~~~~~~~~~~~~~~~~~~~~~~~~~~~~~~~~~~~~~~~~~~~~~~~~~~~~~~~~~~~~~~\n",
      "Running tests\n",
      "\n",
      "---------------------------------------------------------------------\n",
      "Test summary\n",
      "    Passed: 1\n",
      "    Failed: 0\n",
      "[ooooooooook] 100.0% passed\n",
      "\n"
     ]
    }
   ],
   "source": [
    "ok.grade(\"q5a2\");"
   ]
  },
  {
   "cell_type": "markdown",
   "metadata": {
    "deletable": false,
    "editable": false,
    "nbgrader": {
     "grade": false,
     "grade_id": "q4b",
     "locked": true,
     "schema_version": 2,
     "solution": false
    }
   },
   "source": [
    "### Question 5b\n",
    "\n",
    "In question 5a, we counted the number of null values per ZIP code. Let's now count the proportion of null values.\n",
    "\n",
    "Create a new dataframe of counts of the null and proportion of null values, storing the result in `fraction_missing_df`. It should have an index called `postal_code_5` and should also have 3 columns:\n",
    "\n",
    "1. `count null`: The number of missing values for the zip code.\n",
    "2. `count non null`: The number of present values for the zip code.\n",
    "3. `fraction null`: The fraction of values that are null for the zip code.\n",
    "\n",
    "Your data frame should be sorted by the fraction null in descending order.\n",
    "\n",
    "Recommended approach: Build three series with the appropriate names and data and then combine them into a dataframe. This will require some new syntax you may not have seen. You already have code from question 4a that computes the `null count` series.\n",
    "\n",
    "To pursue this recommended approach, you might find these two functions useful:\n",
    "\n",
    "* `rename`: Renames the values of a series.\n",
    "* `pd.concat`: Can be used to combine a list of Series into a dataframe. Example: `pd.concat([s1, s2, s3], axis=1)` will combine series 1, 2, and 3 into a dataframe.\n",
    "\n",
    "*Hint*: You can use the divison operator to compute the ratio of two series.\n",
    "\n",
    "*Hint*: The - operator can invert a boolean array. Or alternately, the `notnull` method can be used to create a boolean array from a series.\n",
    "\n",
    "*Note*: An alternate approach is to create three aggregation functions and pass them in a list to the `agg` function.\n",
    "<!--\n",
    "BEGIN QUESTION\n",
    "name: q5b\n",
    "points: 3\n",
    "-->"
   ]
  },
  {
   "cell_type": "code",
   "execution_count": 254,
   "metadata": {},
   "outputs": [],
   "source": [
    "def nb_non_null(serie):\n",
    "    return len(serie) - serie.isna().sum()"
   ]
  },
  {
   "cell_type": "code",
   "execution_count": 255,
   "metadata": {},
   "outputs": [],
   "source": [
    "mis = bus_sf.groupby('postal_code_5').agg(nb_null)[['longitude']]"
   ]
  },
  {
   "cell_type": "code",
   "execution_count": 256,
   "metadata": {},
   "outputs": [
    {
     "data": {
      "text/html": [
       "<div>\n",
       "<style scoped>\n",
       "    .dataframe tbody tr th:only-of-type {\n",
       "        vertical-align: middle;\n",
       "    }\n",
       "\n",
       "    .dataframe tbody tr th {\n",
       "        vertical-align: top;\n",
       "    }\n",
       "\n",
       "    .dataframe thead th {\n",
       "        text-align: right;\n",
       "    }\n",
       "</style>\n",
       "<table border=\"1\" class=\"dataframe\">\n",
       "  <thead>\n",
       "    <tr style=\"text-align: right;\">\n",
       "      <th></th>\n",
       "      <th>longitude</th>\n",
       "    </tr>\n",
       "    <tr>\n",
       "      <th>postal_code_5</th>\n",
       "      <th></th>\n",
       "    </tr>\n",
       "  </thead>\n",
       "  <tbody>\n",
       "    <tr>\n",
       "      <th>94102</th>\n",
       "      <td>221.0</td>\n",
       "    </tr>\n",
       "    <tr>\n",
       "      <th>94103</th>\n",
       "      <td>284.0</td>\n",
       "    </tr>\n",
       "    <tr>\n",
       "      <th>94104</th>\n",
       "      <td>79.0</td>\n",
       "    </tr>\n",
       "  </tbody>\n",
       "</table>\n",
       "</div>"
      ],
      "text/plain": [
       "               longitude\n",
       "postal_code_5           \n",
       "94102              221.0\n",
       "94103              284.0\n",
       "94104               79.0"
      ]
     },
     "execution_count": 256,
     "metadata": {},
     "output_type": "execute_result"
    }
   ],
   "source": [
    "mis.head(3)"
   ]
  },
  {
   "cell_type": "code",
   "execution_count": 257,
   "metadata": {},
   "outputs": [
    {
     "data": {
      "text/html": [
       "<div>\n",
       "<style scoped>\n",
       "    .dataframe tbody tr th:only-of-type {\n",
       "        vertical-align: middle;\n",
       "    }\n",
       "\n",
       "    .dataframe tbody tr th {\n",
       "        vertical-align: top;\n",
       "    }\n",
       "\n",
       "    .dataframe thead th {\n",
       "        text-align: right;\n",
       "    }\n",
       "</style>\n",
       "<table border=\"1\" class=\"dataframe\">\n",
       "  <thead>\n",
       "    <tr style=\"text-align: right;\">\n",
       "      <th></th>\n",
       "      <th>longitude</th>\n",
       "    </tr>\n",
       "    <tr>\n",
       "      <th>postal_code_5</th>\n",
       "      <th></th>\n",
       "    </tr>\n",
       "  </thead>\n",
       "  <tbody>\n",
       "    <tr>\n",
       "      <th>94102</th>\n",
       "      <td>241.0</td>\n",
       "    </tr>\n",
       "    <tr>\n",
       "      <th>94103</th>\n",
       "      <td>268.0</td>\n",
       "    </tr>\n",
       "    <tr>\n",
       "      <th>94104</th>\n",
       "      <td>60.0</td>\n",
       "    </tr>\n",
       "  </tbody>\n",
       "</table>\n",
       "</div>"
      ],
      "text/plain": [
       "               longitude\n",
       "postal_code_5           \n",
       "94102              241.0\n",
       "94103              268.0\n",
       "94104               60.0"
      ]
     },
     "execution_count": 257,
     "metadata": {},
     "output_type": "execute_result"
    }
   ],
   "source": [
    "prs = bus_sf.groupby('postal_code_5').agg(nb_non_null)[['longitude']]\n",
    "prs.head(3)"
   ]
  },
  {
   "cell_type": "code",
   "execution_count": 258,
   "metadata": {},
   "outputs": [
    {
     "data": {
      "text/html": [
       "<div>\n",
       "<style scoped>\n",
       "    .dataframe tbody tr th:only-of-type {\n",
       "        vertical-align: middle;\n",
       "    }\n",
       "\n",
       "    .dataframe tbody tr th {\n",
       "        vertical-align: top;\n",
       "    }\n",
       "\n",
       "    .dataframe thead th {\n",
       "        text-align: right;\n",
       "    }\n",
       "</style>\n",
       "<table border=\"1\" class=\"dataframe\">\n",
       "  <thead>\n",
       "    <tr style=\"text-align: right;\">\n",
       "      <th></th>\n",
       "      <th>fraction_null</th>\n",
       "    </tr>\n",
       "    <tr>\n",
       "      <th>postal_code_5</th>\n",
       "      <th></th>\n",
       "    </tr>\n",
       "  </thead>\n",
       "  <tbody>\n",
       "    <tr>\n",
       "      <th>94102</th>\n",
       "      <td>0.478355</td>\n",
       "    </tr>\n",
       "    <tr>\n",
       "      <th>94103</th>\n",
       "      <td>0.514493</td>\n",
       "    </tr>\n",
       "    <tr>\n",
       "      <th>94104</th>\n",
       "      <td>0.568345</td>\n",
       "    </tr>\n",
       "  </tbody>\n",
       "</table>\n",
       "</div>"
      ],
      "text/plain": [
       "               fraction_null\n",
       "postal_code_5               \n",
       "94102               0.478355\n",
       "94103               0.514493\n",
       "94104               0.568345"
      ]
     },
     "execution_count": 258,
     "metadata": {},
     "output_type": "execute_result"
    }
   ],
   "source": [
    "frc = pd.DataFrame({'fraction_null': mis['longitude']/(mis['longitude']+prs['longitude'])})\n",
    "frc.head(3)"
   ]
  },
  {
   "cell_type": "code",
   "execution_count": 259,
   "metadata": {
    "nbgrader": {
     "grade": false,
     "grade_id": "q4b-answer",
     "locked": false,
     "schema_version": 2,
     "solution": true
    }
   },
   "outputs": [
    {
     "data": {
      "text/html": [
       "<div>\n",
       "<style scoped>\n",
       "    .dataframe tbody tr th:only-of-type {\n",
       "        vertical-align: middle;\n",
       "    }\n",
       "\n",
       "    .dataframe tbody tr th {\n",
       "        vertical-align: top;\n",
       "    }\n",
       "\n",
       "    .dataframe thead th {\n",
       "        text-align: right;\n",
       "    }\n",
       "</style>\n",
       "<table border=\"1\" class=\"dataframe\">\n",
       "  <thead>\n",
       "    <tr style=\"text-align: right;\">\n",
       "      <th></th>\n",
       "      <th>count null</th>\n",
       "      <th>count non null</th>\n",
       "      <th>fraction null</th>\n",
       "    </tr>\n",
       "    <tr>\n",
       "      <th>postal_code_5</th>\n",
       "      <th></th>\n",
       "      <th></th>\n",
       "      <th></th>\n",
       "    </tr>\n",
       "  </thead>\n",
       "  <tbody>\n",
       "    <tr>\n",
       "      <th>94124</th>\n",
       "      <td>118.0</td>\n",
       "      <td>73.0</td>\n",
       "      <td>0.617801</td>\n",
       "    </tr>\n",
       "    <tr>\n",
       "      <th>94107</th>\n",
       "      <td>275.0</td>\n",
       "      <td>185.0</td>\n",
       "      <td>0.597826</td>\n",
       "    </tr>\n",
       "    <tr>\n",
       "      <th>94104</th>\n",
       "      <td>79.0</td>\n",
       "      <td>60.0</td>\n",
       "      <td>0.568345</td>\n",
       "    </tr>\n",
       "  </tbody>\n",
       "</table>\n",
       "</div>"
      ],
      "text/plain": [
       "               count null  count non null  fraction null\n",
       "postal_code_5                                           \n",
       "94124               118.0            73.0       0.617801\n",
       "94107               275.0           185.0       0.597826\n",
       "94104                79.0            60.0       0.568345"
      ]
     },
     "execution_count": 259,
     "metadata": {},
     "output_type": "execute_result"
    }
   ],
   "source": [
    "fraction_missing_df = pd.DataFrame({'count null': mis['longitude'], 'count non null': prs['longitude'], 'fraction null':frc['fraction_null']}).sort_values(by='fraction null', ascending=False)\n",
    "fraction_missing_df.head(3)"
   ]
  },
  {
   "cell_type": "code",
   "execution_count": 260,
   "metadata": {
    "deletable": false,
    "editable": false
   },
   "outputs": [
    {
     "name": "stdout",
     "output_type": "stream",
     "text": [
      "~~~~~~~~~~~~~~~~~~~~~~~~~~~~~~~~~~~~~~~~~~~~~~~~~~~~~~~~~~~~~~~~~~~~~\n",
      "Running tests\n",
      "\n",
      "---------------------------------------------------------------------\n",
      "Test summary\n",
      "    Passed: 2\n",
      "    Failed: 0\n",
      "[ooooooooook] 100.0% passed\n",
      "\n"
     ]
    }
   ],
   "source": [
    "ok.grade(\"q5b\");"
   ]
  },
  {
   "cell_type": "markdown",
   "metadata": {
    "nbgrader": {
     "grade": false,
     "grade_id": "summary-business",
     "locked": true,
     "schema_version": 2,
     "solution": false
    }
   },
   "source": [
    "## Summary of the Business Data\n",
    "\n",
    "Before we move on to explore the other data, let's take stock of what we have learned and the implications of our findings on future analysis. \n",
    "\n",
    "* We found that the business id is unique across records and so we may be able to use it as a key in joining tables. \n",
    "* We found that there are some errors with the ZIP codes. As a result, we dropped the records with ZIP codes outside of San Francisco or ones that were missing. In practive, however, we could take the time to look up the restaurant address online and fix these errors.   \n",
    "* We found that there are a huge number of missing longitude (and latitude) values. Fixing would require a lot of work, but could in principle be automated for records with well-formed addresses. "
   ]
  },
  {
   "cell_type": "markdown",
   "metadata": {
    "nbgrader": {
     "grade": false,
     "grade_id": "q5a",
     "locked": true,
     "schema_version": 2,
     "solution": false
    }
   },
   "source": [
    "---\n",
    "## 6: Investigate the Inspection Data\n",
    "\n",
    "Let's now turn to the inspection DataFrame. Earlier, we found that `ins` has 4 columns named `business_id`, `score`, `date` and `type`.  In this section, we determine the granularity of `ins` and investigate the kinds of information provided for the inspections. "
   ]
  },
  {
   "cell_type": "markdown",
   "metadata": {
    "nbgrader": {
     "grade": false,
     "grade_id": "cell-174ed23c543ad9da",
     "locked": true,
     "schema_version": 2,
     "solution": false
    }
   },
   "source": [
    "Let's start by looking again at the first 5 rows of `ins` to see what we're working with."
   ]
  },
  {
   "cell_type": "code",
   "execution_count": 261,
   "metadata": {
    "nbgrader": {
     "grade": false,
     "grade_id": "cell-f0fbe724a2783e33",
     "locked": true,
     "schema_version": 2,
     "solution": false
    }
   },
   "outputs": [
    {
     "data": {
      "text/html": [
       "<div>\n",
       "<style scoped>\n",
       "    .dataframe tbody tr th:only-of-type {\n",
       "        vertical-align: middle;\n",
       "    }\n",
       "\n",
       "    .dataframe tbody tr th {\n",
       "        vertical-align: top;\n",
       "    }\n",
       "\n",
       "    .dataframe thead th {\n",
       "        text-align: right;\n",
       "    }\n",
       "</style>\n",
       "<table border=\"1\" class=\"dataframe\">\n",
       "  <thead>\n",
       "    <tr style=\"text-align: right;\">\n",
       "      <th></th>\n",
       "      <th>business_id</th>\n",
       "      <th>score</th>\n",
       "      <th>date</th>\n",
       "      <th>type</th>\n",
       "    </tr>\n",
       "  </thead>\n",
       "  <tbody>\n",
       "    <tr>\n",
       "      <th>0</th>\n",
       "      <td>19</td>\n",
       "      <td>94</td>\n",
       "      <td>20160513</td>\n",
       "      <td>routine</td>\n",
       "    </tr>\n",
       "    <tr>\n",
       "      <th>1</th>\n",
       "      <td>19</td>\n",
       "      <td>94</td>\n",
       "      <td>20171211</td>\n",
       "      <td>routine</td>\n",
       "    </tr>\n",
       "    <tr>\n",
       "      <th>2</th>\n",
       "      <td>24</td>\n",
       "      <td>98</td>\n",
       "      <td>20171101</td>\n",
       "      <td>routine</td>\n",
       "    </tr>\n",
       "    <tr>\n",
       "      <th>3</th>\n",
       "      <td>24</td>\n",
       "      <td>98</td>\n",
       "      <td>20161005</td>\n",
       "      <td>routine</td>\n",
       "    </tr>\n",
       "    <tr>\n",
       "      <th>4</th>\n",
       "      <td>24</td>\n",
       "      <td>96</td>\n",
       "      <td>20160311</td>\n",
       "      <td>routine</td>\n",
       "    </tr>\n",
       "  </tbody>\n",
       "</table>\n",
       "</div>"
      ],
      "text/plain": [
       "   business_id  score      date     type\n",
       "0           19     94  20160513  routine\n",
       "1           19     94  20171211  routine\n",
       "2           24     98  20171101  routine\n",
       "3           24     98  20161005  routine\n",
       "4           24     96  20160311  routine"
      ]
     },
     "execution_count": 261,
     "metadata": {},
     "output_type": "execute_result"
    }
   ],
   "source": [
    "ins.head(5)"
   ]
  },
  {
   "cell_type": "markdown",
   "metadata": {
    "deletable": false,
    "editable": false,
    "nbgrader": {
     "grade": false,
     "grade_id": "cell-84f5d3684c7b6a66",
     "locked": true,
     "schema_version": 2,
     "solution": false
    }
   },
   "source": [
    "### Question 6a\n",
    "From calling `head`, we know that each row in this table corresponds to a single inspection. Let's get a sense of the total number of inspections conducted, as well as the total number of unique businesses that occur in the dataset.\n",
    "<!--\n",
    "BEGIN QUESTION\n",
    "name: q6a\n",
    "points: 1\n",
    "-->"
   ]
  },
  {
   "cell_type": "code",
   "execution_count": 262,
   "metadata": {
    "ExecuteTime": {
     "end_time": "2018-08-18T01:21:54.210570Z",
     "start_time": "2018-08-18T01:21:54.206688Z"
    },
    "nbgrader": {
     "grade": false,
     "grade_id": "q5a-answer",
     "locked": false,
     "schema_version": 2,
     "solution": true
    },
    "tags": [
     "student"
    ]
   },
   "outputs": [],
   "source": [
    "# The number of rows in ins\n",
    "rows_in_table  = ins.shape[0]\n",
    "\n",
    "# The number of unique business IDs in ins.\n",
    "unique_ins_ids = len(ins['business_id'].unique())"
   ]
  },
  {
   "cell_type": "code",
   "execution_count": 263,
   "metadata": {
    "deletable": false,
    "editable": false
   },
   "outputs": [
    {
     "name": "stdout",
     "output_type": "stream",
     "text": [
      "~~~~~~~~~~~~~~~~~~~~~~~~~~~~~~~~~~~~~~~~~~~~~~~~~~~~~~~~~~~~~~~~~~~~~\n",
      "Running tests\n",
      "\n",
      "---------------------------------------------------------------------\n",
      "Test summary\n",
      "    Passed: 2\n",
      "    Failed: 0\n",
      "[ooooooooook] 100.0% passed\n",
      "\n"
     ]
    }
   ],
   "source": [
    "ok.grade(\"q6a\");"
   ]
  },
  {
   "cell_type": "markdown",
   "metadata": {
    "deletable": false,
    "editable": false,
    "nbgrader": {
     "grade": false,
     "grade_id": "q5b",
     "locked": true,
     "schema_version": 2,
     "solution": false
    }
   },
   "source": [
    "### Question 6b\n",
    "\n",
    "Next, we examine the Series in the `ins` dataframe called `type`. From examining the first few rows of `ins`, we see that `type` is a string and one of its values is `'routine'`, presumably for a routine inspection. What values does the inspection `type` take? How many occurrences of each value is in the DataFrame? What are the implications for further analysis? \n",
    "\n",
    "<!--\n",
    "BEGIN QUESTION\n",
    "name: q6b\n",
    "points: 1\n",
    "manual: True\n",
    "-->\n",
    "<!-- EXPORT TO PDF -->"
   ]
  },
  {
   "cell_type": "code",
   "execution_count": 264,
   "metadata": {},
   "outputs": [
    {
     "data": {
      "text/html": [
       "<div>\n",
       "<style scoped>\n",
       "    .dataframe tbody tr th:only-of-type {\n",
       "        vertical-align: middle;\n",
       "    }\n",
       "\n",
       "    .dataframe tbody tr th {\n",
       "        vertical-align: top;\n",
       "    }\n",
       "\n",
       "    .dataframe thead th {\n",
       "        text-align: right;\n",
       "    }\n",
       "</style>\n",
       "<table border=\"1\" class=\"dataframe\">\n",
       "  <thead>\n",
       "    <tr style=\"text-align: right;\">\n",
       "      <th></th>\n",
       "      <th>business_id</th>\n",
       "      <th>score</th>\n",
       "      <th>date</th>\n",
       "    </tr>\n",
       "    <tr>\n",
       "      <th>type</th>\n",
       "      <th></th>\n",
       "      <th></th>\n",
       "      <th></th>\n",
       "    </tr>\n",
       "  </thead>\n",
       "  <tbody>\n",
       "    <tr>\n",
       "      <th>complaint</th>\n",
       "      <td>1</td>\n",
       "      <td>1</td>\n",
       "      <td>1</td>\n",
       "    </tr>\n",
       "    <tr>\n",
       "      <th>routine</th>\n",
       "      <td>14221</td>\n",
       "      <td>14221</td>\n",
       "      <td>14221</td>\n",
       "    </tr>\n",
       "  </tbody>\n",
       "</table>\n",
       "</div>"
      ],
      "text/plain": [
       "           business_id  score   date\n",
       "type                                \n",
       "complaint            1      1      1\n",
       "routine          14221  14221  14221"
      ]
     },
     "execution_count": 264,
     "metadata": {},
     "output_type": "execute_result"
    }
   ],
   "source": [
    "ins.groupby('type').count()"
   ]
  },
  {
   "cell_type": "markdown",
   "metadata": {},
   "source": [
    "As seen before, they are only two type but one of them, complaint, has only one occurence. Therefore it is irrevalant for the study, because the sample is too small. Therefore we can remove this occurence and assume that all types are routine."
   ]
  },
  {
   "cell_type": "markdown",
   "metadata": {
    "nbgrader": {
     "grade": false,
     "grade_id": "q5c",
     "locked": true,
     "schema_version": 2,
     "solution": false
    }
   },
   "source": [
    "### Question 6c\n",
    "\n",
    "In this question, we're going to try to figure out what years the data span. The dates in our file are formatted as strings such as `20160503`, which are a little tricky to interpret. The ideal solution for this problem is to modify our dates so that they are in an appropriate format for analysis. \n",
    "\n",
    "In the cell below, we attempt to add a new column to `ins` called `new_date` which contains the `date` stored as a datetime object. This calls the `pd.to_datetime` method, which converts a series of string representations of dates (and/or times) to a series containing a datetime object."
   ]
  },
  {
   "cell_type": "code",
   "execution_count": 265,
   "metadata": {
    "nbgrader": {
     "grade": false,
     "grade_id": "cell-ef5885d023fc290e",
     "locked": true,
     "schema_version": 2,
     "solution": false
    },
    "scrolled": true
   },
   "outputs": [
    {
     "data": {
      "text/html": [
       "<div>\n",
       "<style scoped>\n",
       "    .dataframe tbody tr th:only-of-type {\n",
       "        vertical-align: middle;\n",
       "    }\n",
       "\n",
       "    .dataframe tbody tr th {\n",
       "        vertical-align: top;\n",
       "    }\n",
       "\n",
       "    .dataframe thead th {\n",
       "        text-align: right;\n",
       "    }\n",
       "</style>\n",
       "<table border=\"1\" class=\"dataframe\">\n",
       "  <thead>\n",
       "    <tr style=\"text-align: right;\">\n",
       "      <th></th>\n",
       "      <th>business_id</th>\n",
       "      <th>score</th>\n",
       "      <th>date</th>\n",
       "      <th>type</th>\n",
       "      <th>new_date</th>\n",
       "    </tr>\n",
       "  </thead>\n",
       "  <tbody>\n",
       "    <tr>\n",
       "      <th>0</th>\n",
       "      <td>19</td>\n",
       "      <td>94</td>\n",
       "      <td>20160513</td>\n",
       "      <td>routine</td>\n",
       "      <td>1970-01-01 00:00:00.020160513</td>\n",
       "    </tr>\n",
       "    <tr>\n",
       "      <th>1</th>\n",
       "      <td>19</td>\n",
       "      <td>94</td>\n",
       "      <td>20171211</td>\n",
       "      <td>routine</td>\n",
       "      <td>1970-01-01 00:00:00.020171211</td>\n",
       "    </tr>\n",
       "    <tr>\n",
       "      <th>2</th>\n",
       "      <td>24</td>\n",
       "      <td>98</td>\n",
       "      <td>20171101</td>\n",
       "      <td>routine</td>\n",
       "      <td>1970-01-01 00:00:00.020171101</td>\n",
       "    </tr>\n",
       "    <tr>\n",
       "      <th>3</th>\n",
       "      <td>24</td>\n",
       "      <td>98</td>\n",
       "      <td>20161005</td>\n",
       "      <td>routine</td>\n",
       "      <td>1970-01-01 00:00:00.020161005</td>\n",
       "    </tr>\n",
       "    <tr>\n",
       "      <th>4</th>\n",
       "      <td>24</td>\n",
       "      <td>96</td>\n",
       "      <td>20160311</td>\n",
       "      <td>routine</td>\n",
       "      <td>1970-01-01 00:00:00.020160311</td>\n",
       "    </tr>\n",
       "  </tbody>\n",
       "</table>\n",
       "</div>"
      ],
      "text/plain": [
       "   business_id  score      date     type                      new_date\n",
       "0           19     94  20160513  routine 1970-01-01 00:00:00.020160513\n",
       "1           19     94  20171211  routine 1970-01-01 00:00:00.020171211\n",
       "2           24     98  20171101  routine 1970-01-01 00:00:00.020171101\n",
       "3           24     98  20161005  routine 1970-01-01 00:00:00.020161005\n",
       "4           24     96  20160311  routine 1970-01-01 00:00:00.020160311"
      ]
     },
     "execution_count": 265,
     "metadata": {},
     "output_type": "execute_result"
    }
   ],
   "source": [
    "ins['new_date'] = pd.to_datetime(ins['date'])\n",
    "ins.head(5)"
   ]
  },
  {
   "cell_type": "markdown",
   "metadata": {
    "nbgrader": {
     "grade": false,
     "grade_id": "cell-d48dfa6ba214c40f",
     "locked": true,
     "schema_version": 2,
     "solution": false
    }
   },
   "source": [
    "As you'll see, the resulting `new_date` column doesn't make any sense. This is because the default behavior of the `to_datetime()` method does not properly process the passed string. We can fix this by telling `to_datetime` how to do its job by providing a format string."
   ]
  },
  {
   "cell_type": "code",
   "execution_count": 266,
   "metadata": {
    "nbgrader": {
     "grade": false,
     "grade_id": "cell-574b120d333a379d",
     "locked": true,
     "schema_version": 2,
     "solution": false
    },
    "scrolled": true
   },
   "outputs": [
    {
     "data": {
      "text/html": [
       "<div>\n",
       "<style scoped>\n",
       "    .dataframe tbody tr th:only-of-type {\n",
       "        vertical-align: middle;\n",
       "    }\n",
       "\n",
       "    .dataframe tbody tr th {\n",
       "        vertical-align: top;\n",
       "    }\n",
       "\n",
       "    .dataframe thead th {\n",
       "        text-align: right;\n",
       "    }\n",
       "</style>\n",
       "<table border=\"1\" class=\"dataframe\">\n",
       "  <thead>\n",
       "    <tr style=\"text-align: right;\">\n",
       "      <th></th>\n",
       "      <th>business_id</th>\n",
       "      <th>score</th>\n",
       "      <th>date</th>\n",
       "      <th>type</th>\n",
       "      <th>new_date</th>\n",
       "    </tr>\n",
       "  </thead>\n",
       "  <tbody>\n",
       "    <tr>\n",
       "      <th>0</th>\n",
       "      <td>19</td>\n",
       "      <td>94</td>\n",
       "      <td>20160513</td>\n",
       "      <td>routine</td>\n",
       "      <td>2016-05-13</td>\n",
       "    </tr>\n",
       "    <tr>\n",
       "      <th>1</th>\n",
       "      <td>19</td>\n",
       "      <td>94</td>\n",
       "      <td>20171211</td>\n",
       "      <td>routine</td>\n",
       "      <td>2017-12-11</td>\n",
       "    </tr>\n",
       "    <tr>\n",
       "      <th>2</th>\n",
       "      <td>24</td>\n",
       "      <td>98</td>\n",
       "      <td>20171101</td>\n",
       "      <td>routine</td>\n",
       "      <td>2017-11-01</td>\n",
       "    </tr>\n",
       "    <tr>\n",
       "      <th>3</th>\n",
       "      <td>24</td>\n",
       "      <td>98</td>\n",
       "      <td>20161005</td>\n",
       "      <td>routine</td>\n",
       "      <td>2016-10-05</td>\n",
       "    </tr>\n",
       "    <tr>\n",
       "      <th>4</th>\n",
       "      <td>24</td>\n",
       "      <td>96</td>\n",
       "      <td>20160311</td>\n",
       "      <td>routine</td>\n",
       "      <td>2016-03-11</td>\n",
       "    </tr>\n",
       "  </tbody>\n",
       "</table>\n",
       "</div>"
      ],
      "text/plain": [
       "   business_id  score      date     type   new_date\n",
       "0           19     94  20160513  routine 2016-05-13\n",
       "1           19     94  20171211  routine 2017-12-11\n",
       "2           24     98  20171101  routine 2017-11-01\n",
       "3           24     98  20161005  routine 2016-10-05\n",
       "4           24     96  20160311  routine 2016-03-11"
      ]
     },
     "execution_count": 266,
     "metadata": {},
     "output_type": "execute_result"
    }
   ],
   "source": [
    "ins['new_date'] = pd.to_datetime(ins['date'], format='%Y%m%d')\n",
    "ins.head(5)"
   ]
  },
  {
   "cell_type": "markdown",
   "metadata": {
    "nbgrader": {
     "grade": false,
     "grade_id": "cell-1e743520b4c12c5e",
     "locked": true,
     "schema_version": 2,
     "solution": false
    }
   },
   "source": [
    "This is still not ideal for our analysis, so we'll add one more column that is just equal to the year by using the `dt.year` property of the new series we just created."
   ]
  },
  {
   "cell_type": "code",
   "execution_count": 267,
   "metadata": {
    "nbgrader": {
     "grade": false,
     "grade_id": "cell-e64451846eeb632e",
     "locked": true,
     "schema_version": 2,
     "solution": false
    },
    "scrolled": true
   },
   "outputs": [
    {
     "data": {
      "text/html": [
       "<div>\n",
       "<style scoped>\n",
       "    .dataframe tbody tr th:only-of-type {\n",
       "        vertical-align: middle;\n",
       "    }\n",
       "\n",
       "    .dataframe tbody tr th {\n",
       "        vertical-align: top;\n",
       "    }\n",
       "\n",
       "    .dataframe thead th {\n",
       "        text-align: right;\n",
       "    }\n",
       "</style>\n",
       "<table border=\"1\" class=\"dataframe\">\n",
       "  <thead>\n",
       "    <tr style=\"text-align: right;\">\n",
       "      <th></th>\n",
       "      <th>business_id</th>\n",
       "      <th>score</th>\n",
       "      <th>date</th>\n",
       "      <th>type</th>\n",
       "      <th>new_date</th>\n",
       "      <th>year</th>\n",
       "    </tr>\n",
       "  </thead>\n",
       "  <tbody>\n",
       "    <tr>\n",
       "      <th>0</th>\n",
       "      <td>19</td>\n",
       "      <td>94</td>\n",
       "      <td>20160513</td>\n",
       "      <td>routine</td>\n",
       "      <td>2016-05-13</td>\n",
       "      <td>2016</td>\n",
       "    </tr>\n",
       "    <tr>\n",
       "      <th>1</th>\n",
       "      <td>19</td>\n",
       "      <td>94</td>\n",
       "      <td>20171211</td>\n",
       "      <td>routine</td>\n",
       "      <td>2017-12-11</td>\n",
       "      <td>2017</td>\n",
       "    </tr>\n",
       "    <tr>\n",
       "      <th>2</th>\n",
       "      <td>24</td>\n",
       "      <td>98</td>\n",
       "      <td>20171101</td>\n",
       "      <td>routine</td>\n",
       "      <td>2017-11-01</td>\n",
       "      <td>2017</td>\n",
       "    </tr>\n",
       "    <tr>\n",
       "      <th>3</th>\n",
       "      <td>24</td>\n",
       "      <td>98</td>\n",
       "      <td>20161005</td>\n",
       "      <td>routine</td>\n",
       "      <td>2016-10-05</td>\n",
       "      <td>2016</td>\n",
       "    </tr>\n",
       "    <tr>\n",
       "      <th>4</th>\n",
       "      <td>24</td>\n",
       "      <td>96</td>\n",
       "      <td>20160311</td>\n",
       "      <td>routine</td>\n",
       "      <td>2016-03-11</td>\n",
       "      <td>2016</td>\n",
       "    </tr>\n",
       "  </tbody>\n",
       "</table>\n",
       "</div>"
      ],
      "text/plain": [
       "   business_id  score      date     type   new_date  year\n",
       "0           19     94  20160513  routine 2016-05-13  2016\n",
       "1           19     94  20171211  routine 2017-12-11  2017\n",
       "2           24     98  20171101  routine 2017-11-01  2017\n",
       "3           24     98  20161005  routine 2016-10-05  2016\n",
       "4           24     96  20160311  routine 2016-03-11  2016"
      ]
     },
     "execution_count": 267,
     "metadata": {},
     "output_type": "execute_result"
    }
   ],
   "source": [
    "ins['year'] = ins['new_date'].dt.year\n",
    "ins.head(5)"
   ]
  },
  {
   "cell_type": "markdown",
   "metadata": {
    "deletable": false,
    "editable": false,
    "nbgrader": {
     "grade": false,
     "grade_id": "q5d",
     "locked": true,
     "schema_version": 2,
     "solution": false
    },
    "tags": [
     "written"
    ]
   },
   "source": [
    "Now that we have this handy `year` column, we can try to understand our data better.\n",
    "\n",
    "What range of years is covered in this data set? Are there roughly the same number of inspections each year? Provide your answer in text only.\n",
    "\n",
    "<!--\n",
    "BEGIN QUESTION\n",
    "name: q6c\n",
    "points: 1\n",
    "manual: True\n",
    "-->\n",
    "<!-- EXPORT TO PDF -->"
   ]
  },
  {
   "cell_type": "code",
   "execution_count": 268,
   "metadata": {},
   "outputs": [
    {
     "data": {
      "text/html": [
       "<div>\n",
       "<style scoped>\n",
       "    .dataframe tbody tr th:only-of-type {\n",
       "        vertical-align: middle;\n",
       "    }\n",
       "\n",
       "    .dataframe tbody tr th {\n",
       "        vertical-align: top;\n",
       "    }\n",
       "\n",
       "    .dataframe thead th {\n",
       "        text-align: right;\n",
       "    }\n",
       "</style>\n",
       "<table border=\"1\" class=\"dataframe\">\n",
       "  <thead>\n",
       "    <tr style=\"text-align: right;\">\n",
       "      <th></th>\n",
       "      <th>business_id</th>\n",
       "      <th>score</th>\n",
       "      <th>date</th>\n",
       "      <th>type</th>\n",
       "      <th>new_date</th>\n",
       "    </tr>\n",
       "    <tr>\n",
       "      <th>year</th>\n",
       "      <th></th>\n",
       "      <th></th>\n",
       "      <th></th>\n",
       "      <th></th>\n",
       "      <th></th>\n",
       "    </tr>\n",
       "  </thead>\n",
       "  <tbody>\n",
       "    <tr>\n",
       "      <th>2015</th>\n",
       "      <td>3305</td>\n",
       "      <td>3305</td>\n",
       "      <td>3305</td>\n",
       "      <td>3305</td>\n",
       "      <td>3305</td>\n",
       "    </tr>\n",
       "    <tr>\n",
       "      <th>2016</th>\n",
       "      <td>5443</td>\n",
       "      <td>5443</td>\n",
       "      <td>5443</td>\n",
       "      <td>5443</td>\n",
       "      <td>5443</td>\n",
       "    </tr>\n",
       "    <tr>\n",
       "      <th>2017</th>\n",
       "      <td>5166</td>\n",
       "      <td>5166</td>\n",
       "      <td>5166</td>\n",
       "      <td>5166</td>\n",
       "      <td>5166</td>\n",
       "    </tr>\n",
       "    <tr>\n",
       "      <th>2018</th>\n",
       "      <td>308</td>\n",
       "      <td>308</td>\n",
       "      <td>308</td>\n",
       "      <td>308</td>\n",
       "      <td>308</td>\n",
       "    </tr>\n",
       "  </tbody>\n",
       "</table>\n",
       "</div>"
      ],
      "text/plain": [
       "      business_id  score  date  type  new_date\n",
       "year                                          \n",
       "2015         3305   3305  3305  3305      3305\n",
       "2016         5443   5443  5443  5443      5443\n",
       "2017         5166   5166  5166  5166      5166\n",
       "2018          308    308   308   308       308"
      ]
     },
     "execution_count": 268,
     "metadata": {},
     "output_type": "execute_result"
    }
   ],
   "source": [
    "group = ins.groupby('year').count()\n",
    "group"
   ]
  },
  {
   "cell_type": "code",
   "execution_count": 269,
   "metadata": {},
   "outputs": [
    {
     "data": {
      "text/plain": [
       "<BarContainer object of 4 artists>"
      ]
     },
     "execution_count": 269,
     "metadata": {},
     "output_type": "execute_result"
    },
    {
     "data": {
      "image/png": "[encoded data removed]",
      "text/plain": [
       "<Figure size 432x288 with 1 Axes>"
      ]
     },
     "metadata": {},
     "output_type": "display_data"
    }
   ],
   "source": [
    "plt.bar(group.index, height=group['business_id'])"
   ]
  },
  {
   "cell_type": "markdown",
   "metadata": {
    "ExecuteTime": {
     "end_time": "2018-08-18T01:21:54.296957Z",
     "start_time": "2018-08-18T01:21:54.289662Z"
    },
    "nbgrader": {
     "grade": true,
     "grade_id": "q5c-answer",
     "locked": false,
     "points": 1,
     "schema_version": 2,
     "solution": true
    },
    "tags": [
     "student",
     "written"
    ]
   },
   "source": [
    "A 4 years range is covered, from 2015 to 2018. But they are clearly not the same number of inspections each year, indeed they have been more than 16 times more inspections in 2017 than in 2018 and about 1.6 times more in 2016 than in 2015. "
   ]
  },
  {
   "cell_type": "markdown",
   "metadata": {
    "nbgrader": {
     "grade": false,
     "grade_id": "q6a",
     "locked": true,
     "schema_version": 2,
     "solution": false
    }
   },
   "source": [
    "---\n",
    "## 7: Explore Inspection Scores"
   ]
  },
  {
   "cell_type": "markdown",
   "metadata": {
    "deletable": false,
    "editable": false,
    "nbgrader": {
     "grade": false,
     "grade_id": "inspections-focus",
     "locked": true,
     "schema_version": 2,
     "solution": false
    }
   },
   "source": [
    "### Question 7a\n",
    "Let's look at the distribution of inspection scores. As we saw before when we called `head` on this data frame, inspection scores appear to be integer values. The discreteness of this variable means that we can use a barplot to visualize the distribution of the inspection score. Make a bar plot of the counts of the number of inspections receiving each score. \n",
    "\n",
    "It should look like the image below. It does not need to look exactly the same, but make sure that all labels and axes are correct.\n",
    "\n",
    "<img src=\"q7a.png\" width=500>\n",
    "\n",
    "<!--\n",
    "BEGIN QUESTION\n",
    "name: q7a\n",
    "points: 2\n",
    "manual: True\n",
    "-->\n",
    "<!-- EXPORT TO PDF -->"
   ]
  },
  {
   "cell_type": "code",
   "execution_count": 270,
   "metadata": {
    "ExecuteTime": {
     "end_time": "2018-08-18T01:21:54.309085Z",
     "start_time": "2018-08-18T01:21:54.299128Z"
    },
    "nbgrader": {
     "grade": true,
     "grade_id": "inspections-focus-code",
     "locked": false,
     "points": 2,
     "schema_version": 2,
     "solution": true
    },
    "scrolled": true
   },
   "outputs": [
    {
     "data": {
      "image/png": "[encoded data removed]",
      "text/plain": [
       "<Figure size 648x360 with 1 Axes>"
      ]
     },
     "metadata": {},
     "output_type": "display_data"
    }
   ],
   "source": [
    "with plt.style.context('bmh'):   \n",
    "    plt.figure(figsize=(9, 5))\n",
    "    plt.bar(ins.groupby('score').count().index, ins.groupby('score').count()['business_id'])\n",
    "    plt.title('Distribution of Inspection Scores')\n",
    "    plt.xlabel('Score', fontsize=16)\n",
    "    plt.ylabel('Count', fontsize=16);"
   ]
  },
  {
   "cell_type": "markdown",
   "metadata": {
    "deletable": false,
    "editable": false,
    "nbgrader": {
     "grade": false,
     "grade_id": "q6b",
     "locked": true,
     "schema_version": 2,
     "solution": false
    },
    "tags": [
     "written"
    ]
   },
   "source": [
    "### Question 7b\n",
    "\n",
    "Describe the qualities of the distribution of the inspections scores based on your bar plot. Consider the mode(s), symmetry, tails, gaps, and anamolous values. Are there any unusual features of this distribution? What do your observations imply about the scores?\n",
    "\n",
    "<!--\n",
    "BEGIN QUESTION\n",
    "name: q7b\n",
    "points: 3\n",
    "manual: True\n",
    "-->\n",
    "<!-- EXPORT TO PDF -->"
   ]
  },
  {
   "cell_type": "code",
   "execution_count": 271,
   "metadata": {},
   "outputs": [
    {
     "data": {
      "text/plain": [
       "count    14222.000000\n",
       "mean        90.697370\n",
       "std          8.088705\n",
       "min         48.000000\n",
       "25%         86.000000\n",
       "50%         92.000000\n",
       "75%         96.000000\n",
       "max        100.000000\n",
       "Name: score, dtype: float64"
      ]
     },
     "execution_count": 271,
     "metadata": {},
     "output_type": "execute_result"
    }
   ],
   "source": [
    "ins['score'].describe()"
   ]
  },
  {
   "cell_type": "code",
   "execution_count": 272,
   "metadata": {},
   "outputs": [
    {
     "data": {
      "text/plain": [
       "0.020883138799043736"
      ]
     },
     "execution_count": 272,
     "metadata": {},
     "output_type": "execute_result"
    }
   ],
   "source": [
    "ins[ins['score']<70].shape[0]/ins.shape[0]"
   ]
  },
  {
   "cell_type": "code",
   "execution_count": 273,
   "metadata": {},
   "outputs": [
    {
     "data": {
      "image/png": "[encoded data removed]",
      "text/plain": [
       "<Figure size 648x360 with 1 Axes>"
      ]
     },
     "metadata": {},
     "output_type": "display_data"
    }
   ],
   "source": [
    "import math\n",
    "x = [i for i in range(50,100)]\n",
    "y = [math.exp((i-50)/6.3) for i in range(50,100)]\n",
    "with plt.style.context('bmh'):   \n",
    "    plt.figure(figsize=(9, 5))\n",
    "    plt.bar(ins.groupby('score').count().index, ins.groupby('score').count()['business_id'])\n",
    "    plt.title('Distribution of Inspection Scores')\n",
    "    plt.xlabel('Score', fontsize=16)\n",
    "    plt.ylabel('Count', fontsize=16)\n",
    "    plt.plot(x,y, color='r')\n",
    "    plt.legend(['exp(x-a)/b','Actual number of inspections']);"
   ]
  },
  {
   "cell_type": "markdown",
   "metadata": {
    "ExecuteTime": {
     "end_time": "2018-08-18T01:21:54.514679Z",
     "start_time": "2018-08-18T01:21:54.511225Z"
    },
    "nbgrader": {
     "grade": true,
     "grade_id": "q6b-answer",
     "locked": false,
     "points": 3,
     "schema_version": 2,
     "solution": true
    },
    "tags": [
     "student",
     "written"
    ]
   },
   "source": [
    "## Answer\n",
    "\n",
    "The distribution of the inspections scores is clearly not symmetric, most inpections get very good score (more than 90). Indeed the mean is 90.7 with a standard deviation of 8. In the opposite, very get a poor score. Indeed, only 2% get under 70. The number of inspections scores seems to increase exponetially as can be seen in the graph. The distribution is left_tailed. The mode, highest peak of the histogram, is actually the last peak. In addition, there are some gaps on the right, showing that they are probably some standard scores that are given, and the scores in between are not given (it is not a continuous variable). "
   ]
  },
  {
   "cell_type": "markdown",
   "metadata": {
    "nbgrader": {
     "grade": false,
     "grade_id": "cell-5015c9badefcef07",
     "locked": true,
     "schema_version": 2,
     "solution": false
    }
   },
   "source": [
    "### Question 7c"
   ]
  },
  {
   "cell_type": "markdown",
   "metadata": {
    "deletable": false,
    "editable": false,
    "nbgrader": {
     "grade": false,
     "grade_id": "cell-c84c79731d73d13c",
     "locked": true,
     "schema_version": 2,
     "solution": false
    }
   },
   "source": [
    "Let's figure out which restaurants had the worst scores ever. Let's start by creating a new dataframe called `ins_named`. It should be exactly the same as `ins`, except that it should have the name and address of every business, as determined by the `bus` dataframe. If a `business_id` in `ins` does not exist in `bus`, the name and address should be given as NaN.\n",
    "\n",
    "*Hint: Use the merge method to join the `ins` dataframe with the appropriate portion of the `bus` dataframe.*\n",
    "\n",
    "<!--\n",
    "BEGIN QUESTION\n",
    "name: q7c1\n",
    "points: 1\n",
    "-->"
   ]
  },
  {
   "cell_type": "code",
   "execution_count": 276,
   "metadata": {},
   "outputs": [
    {
     "data": {
      "text/html": [
       "<div>\n",
       "<style scoped>\n",
       "    .dataframe tbody tr th:only-of-type {\n",
       "        vertical-align: middle;\n",
       "    }\n",
       "\n",
       "    .dataframe tbody tr th {\n",
       "        vertical-align: top;\n",
       "    }\n",
       "\n",
       "    .dataframe thead th {\n",
       "        text-align: right;\n",
       "    }\n",
       "</style>\n",
       "<table border=\"1\" class=\"dataframe\">\n",
       "  <thead>\n",
       "    <tr style=\"text-align: right;\">\n",
       "      <th></th>\n",
       "      <th>business_id</th>\n",
       "      <th>score</th>\n",
       "      <th>date</th>\n",
       "      <th>type</th>\n",
       "      <th>new_date</th>\n",
       "      <th>year</th>\n",
       "    </tr>\n",
       "  </thead>\n",
       "  <tbody>\n",
       "    <tr>\n",
       "      <th>0</th>\n",
       "      <td>19</td>\n",
       "      <td>94</td>\n",
       "      <td>20160513</td>\n",
       "      <td>routine</td>\n",
       "      <td>2016-05-13</td>\n",
       "      <td>2016</td>\n",
       "    </tr>\n",
       "    <tr>\n",
       "      <th>1</th>\n",
       "      <td>19</td>\n",
       "      <td>94</td>\n",
       "      <td>20171211</td>\n",
       "      <td>routine</td>\n",
       "      <td>2017-12-11</td>\n",
       "      <td>2017</td>\n",
       "    </tr>\n",
       "    <tr>\n",
       "      <th>2</th>\n",
       "      <td>24</td>\n",
       "      <td>98</td>\n",
       "      <td>20171101</td>\n",
       "      <td>routine</td>\n",
       "      <td>2017-11-01</td>\n",
       "      <td>2017</td>\n",
       "    </tr>\n",
       "    <tr>\n",
       "      <th>3</th>\n",
       "      <td>24</td>\n",
       "      <td>98</td>\n",
       "      <td>20161005</td>\n",
       "      <td>routine</td>\n",
       "      <td>2016-10-05</td>\n",
       "      <td>2016</td>\n",
       "    </tr>\n",
       "    <tr>\n",
       "      <th>4</th>\n",
       "      <td>24</td>\n",
       "      <td>96</td>\n",
       "      <td>20160311</td>\n",
       "      <td>routine</td>\n",
       "      <td>2016-03-11</td>\n",
       "      <td>2016</td>\n",
       "    </tr>\n",
       "  </tbody>\n",
       "</table>\n",
       "</div>"
      ],
      "text/plain": [
       "   business_id  score      date     type   new_date  year\n",
       "0           19     94  20160513  routine 2016-05-13  2016\n",
       "1           19     94  20171211  routine 2017-12-11  2017\n",
       "2           24     98  20171101  routine 2017-11-01  2017\n",
       "3           24     98  20161005  routine 2016-10-05  2016\n",
       "4           24     96  20160311  routine 2016-03-11  2016"
      ]
     },
     "execution_count": 276,
     "metadata": {},
     "output_type": "execute_result"
    }
   ],
   "source": [
    "ins.head()"
   ]
  },
  {
   "cell_type": "code",
   "execution_count": 277,
   "metadata": {
    "nbgrader": {
     "grade": false,
     "grade_id": "cell-74ff1f795567e724",
     "locked": false,
     "schema_version": 2,
     "solution": true
    }
   },
   "outputs": [
    {
     "data": {
      "text/html": [
       "<div>\n",
       "<style scoped>\n",
       "    .dataframe tbody tr th:only-of-type {\n",
       "        vertical-align: middle;\n",
       "    }\n",
       "\n",
       "    .dataframe tbody tr th {\n",
       "        vertical-align: top;\n",
       "    }\n",
       "\n",
       "    .dataframe thead th {\n",
       "        text-align: right;\n",
       "    }\n",
       "</style>\n",
       "<table border=\"1\" class=\"dataframe\">\n",
       "  <thead>\n",
       "    <tr style=\"text-align: right;\">\n",
       "      <th></th>\n",
       "      <th>business_id</th>\n",
       "      <th>score</th>\n",
       "      <th>date</th>\n",
       "      <th>type</th>\n",
       "      <th>new_date</th>\n",
       "      <th>year</th>\n",
       "      <th>name</th>\n",
       "      <th>address</th>\n",
       "    </tr>\n",
       "  </thead>\n",
       "  <tbody>\n",
       "    <tr>\n",
       "      <th>0</th>\n",
       "      <td>19</td>\n",
       "      <td>94</td>\n",
       "      <td>20160513</td>\n",
       "      <td>routine</td>\n",
       "      <td>2016-05-13</td>\n",
       "      <td>2016</td>\n",
       "      <td>NRGIZE LIFESTYLE CAFE</td>\n",
       "      <td>1200 VAN NESS AVE, 3RD FLOOR</td>\n",
       "    </tr>\n",
       "    <tr>\n",
       "      <th>1</th>\n",
       "      <td>19</td>\n",
       "      <td>94</td>\n",
       "      <td>20171211</td>\n",
       "      <td>routine</td>\n",
       "      <td>2017-12-11</td>\n",
       "      <td>2017</td>\n",
       "      <td>NRGIZE LIFESTYLE CAFE</td>\n",
       "      <td>1200 VAN NESS AVE, 3RD FLOOR</td>\n",
       "    </tr>\n",
       "    <tr>\n",
       "      <th>2</th>\n",
       "      <td>24</td>\n",
       "      <td>98</td>\n",
       "      <td>20171101</td>\n",
       "      <td>routine</td>\n",
       "      <td>2017-11-01</td>\n",
       "      <td>2017</td>\n",
       "      <td>OMNI S.F. HOTEL - 2ND FLOOR PANTRY</td>\n",
       "      <td>500 CALIFORNIA ST, 2ND  FLOOR</td>\n",
       "    </tr>\n",
       "    <tr>\n",
       "      <th>3</th>\n",
       "      <td>24</td>\n",
       "      <td>98</td>\n",
       "      <td>20161005</td>\n",
       "      <td>routine</td>\n",
       "      <td>2016-10-05</td>\n",
       "      <td>2016</td>\n",
       "      <td>OMNI S.F. HOTEL - 2ND FLOOR PANTRY</td>\n",
       "      <td>500 CALIFORNIA ST, 2ND  FLOOR</td>\n",
       "    </tr>\n",
       "    <tr>\n",
       "      <th>4</th>\n",
       "      <td>24</td>\n",
       "      <td>96</td>\n",
       "      <td>20160311</td>\n",
       "      <td>routine</td>\n",
       "      <td>2016-03-11</td>\n",
       "      <td>2016</td>\n",
       "      <td>OMNI S.F. HOTEL - 2ND FLOOR PANTRY</td>\n",
       "      <td>500 CALIFORNIA ST, 2ND  FLOOR</td>\n",
       "    </tr>\n",
       "  </tbody>\n",
       "</table>\n",
       "</div>"
      ],
      "text/plain": [
       "   business_id  score      date     type   new_date  year  \\\n",
       "0           19     94  20160513  routine 2016-05-13  2016   \n",
       "1           19     94  20171211  routine 2017-12-11  2017   \n",
       "2           24     98  20171101  routine 2017-11-01  2017   \n",
       "3           24     98  20161005  routine 2016-10-05  2016   \n",
       "4           24     96  20160311  routine 2016-03-11  2016   \n",
       "\n",
       "                                 name                        address  \n",
       "0               NRGIZE LIFESTYLE CAFE   1200 VAN NESS AVE, 3RD FLOOR  \n",
       "1               NRGIZE LIFESTYLE CAFE   1200 VAN NESS AVE, 3RD FLOOR  \n",
       "2  OMNI S.F. HOTEL - 2ND FLOOR PANTRY  500 CALIFORNIA ST, 2ND  FLOOR  \n",
       "3  OMNI S.F. HOTEL - 2ND FLOOR PANTRY  500 CALIFORNIA ST, 2ND  FLOOR  \n",
       "4  OMNI S.F. HOTEL - 2ND FLOOR PANTRY  500 CALIFORNIA ST, 2ND  FLOOR  "
      ]
     },
     "execution_count": 277,
     "metadata": {},
     "output_type": "execute_result"
    }
   ],
   "source": [
    "ins_named = pd.merge(ins, bus, how='left', on='business_id')[['business_id','score','date','type','new_date','year','name','address']]\n",
    "ins_named.head()"
   ]
  },
  {
   "cell_type": "code",
   "execution_count": 278,
   "metadata": {
    "deletable": false,
    "editable": false
   },
   "outputs": [
    {
     "name": "stdout",
     "output_type": "stream",
     "text": [
      "~~~~~~~~~~~~~~~~~~~~~~~~~~~~~~~~~~~~~~~~~~~~~~~~~~~~~~~~~~~~~~~~~~~~~\n",
      "Running tests\n",
      "\n",
      "---------------------------------------------------------------------\n",
      "Test summary\n",
      "    Passed: 3\n",
      "    Failed: 0\n",
      "[ooooooooook] 100.0% passed\n",
      "\n"
     ]
    }
   ],
   "source": [
    "ok.grade(\"q7c1\");"
   ]
  },
  {
   "cell_type": "markdown",
   "metadata": {
    "deletable": false,
    "editable": false,
    "nbgrader": {
     "grade": false,
     "grade_id": "cell-21208e1c9459aaa7",
     "locked": true,
     "schema_version": 2,
     "solution": false
    }
   },
   "source": [
    "Using this data frame, identify the restaurant with the lowest inspection scores ever. Head to yelp.com and look up the reviews page for this restaurant. Copy and paste anything interesting you want to share.\n",
    "\n",
    "<!--\n",
    "BEGIN QUESTION\n",
    "name: q7c2\n",
    "points: 2\n",
    "manual: True\n",
    "-->\n",
    "<!-- EXPORT TO PDF -->"
   ]
  },
  {
   "cell_type": "code",
   "execution_count": 280,
   "metadata": {},
   "outputs": [
    {
     "data": {
      "text/html": [
       "<div>\n",
       "<style scoped>\n",
       "    .dataframe tbody tr th:only-of-type {\n",
       "        vertical-align: middle;\n",
       "    }\n",
       "\n",
       "    .dataframe tbody tr th {\n",
       "        vertical-align: top;\n",
       "    }\n",
       "\n",
       "    .dataframe thead th {\n",
       "        text-align: right;\n",
       "    }\n",
       "</style>\n",
       "<table border=\"1\" class=\"dataframe\">\n",
       "  <thead>\n",
       "    <tr style=\"text-align: right;\">\n",
       "      <th></th>\n",
       "      <th>business_id</th>\n",
       "      <th>score</th>\n",
       "      <th>date</th>\n",
       "      <th>type</th>\n",
       "      <th>new_date</th>\n",
       "      <th>year</th>\n",
       "      <th>name</th>\n",
       "      <th>address</th>\n",
       "    </tr>\n",
       "  </thead>\n",
       "  <tbody>\n",
       "    <tr>\n",
       "      <th>13179</th>\n",
       "      <td>86647</td>\n",
       "      <td>48</td>\n",
       "      <td>20160907</td>\n",
       "      <td>routine</td>\n",
       "      <td>2016-09-07</td>\n",
       "      <td>2016</td>\n",
       "      <td>DA CAFE</td>\n",
       "      <td>407 CLEMENT ST</td>\n",
       "    </tr>\n",
       "  </tbody>\n",
       "</table>\n",
       "</div>"
      ],
      "text/plain": [
       "       business_id  score      date     type   new_date  year     name  \\\n",
       "13179        86647     48  20160907  routine 2016-09-07  2016  DA CAFE   \n",
       "\n",
       "               address  \n",
       "13179  407 CLEMENT ST   "
      ]
     },
     "execution_count": 280,
     "metadata": {},
     "output_type": "execute_result"
    }
   ],
   "source": [
    "ins_named.sort_values(by='score').head(1)"
   ]
  },
  {
   "cell_type": "markdown",
   "metadata": {
    "nbgrader": {
     "grade": true,
     "grade_id": "cell-ffca1dd2365b327b",
     "locked": false,
     "points": 3,
     "schema_version": 2,
     "solution": true
    }
   },
   "source": [
    "The restaurant with the lowest inspection scores ever is DA CAFE with a note of only 48."
   ]
  },
  {
   "cell_type": "markdown",
   "metadata": {
    "nbgrader": {
     "grade": false,
     "grade_id": "cell-ac6ea7361824a936",
     "locked": true,
     "schema_version": 2,
     "solution": false
    }
   },
   "source": [
    "Just for fun you can also look up the restaurants with the best scores. You'll see that lots of them aren't restaurants at all!"
   ]
  },
  {
   "cell_type": "code",
   "execution_count": 281,
   "metadata": {},
   "outputs": [
    {
     "data": {
      "text/html": [
       "<div>\n",
       "<style scoped>\n",
       "    .dataframe tbody tr th:only-of-type {\n",
       "        vertical-align: middle;\n",
       "    }\n",
       "\n",
       "    .dataframe tbody tr th {\n",
       "        vertical-align: top;\n",
       "    }\n",
       "\n",
       "    .dataframe thead th {\n",
       "        text-align: right;\n",
       "    }\n",
       "</style>\n",
       "<table border=\"1\" class=\"dataframe\">\n",
       "  <thead>\n",
       "    <tr style=\"text-align: right;\">\n",
       "      <th></th>\n",
       "      <th>business_id</th>\n",
       "      <th>score</th>\n",
       "      <th>date</th>\n",
       "      <th>type</th>\n",
       "      <th>new_date</th>\n",
       "      <th>year</th>\n",
       "      <th>name</th>\n",
       "      <th>address</th>\n",
       "    </tr>\n",
       "  </thead>\n",
       "  <tbody>\n",
       "    <tr>\n",
       "      <th>7111</th>\n",
       "      <td>61464</td>\n",
       "      <td>100</td>\n",
       "      <td>20150205</td>\n",
       "      <td>routine</td>\n",
       "      <td>2015-02-05</td>\n",
       "      <td>2015</td>\n",
       "      <td>STONE KOREAN KITCHEN</td>\n",
       "      <td>4 EMBARCADERO CENTER  STREET LEVEL</td>\n",
       "    </tr>\n",
       "    <tr>\n",
       "      <th>3906</th>\n",
       "      <td>5837</td>\n",
       "      <td>100</td>\n",
       "      <td>20171031</td>\n",
       "      <td>routine</td>\n",
       "      <td>2017-10-31</td>\n",
       "      <td>2017</td>\n",
       "      <td>MCKINLEY ELEMENTARY SCHOOL</td>\n",
       "      <td>1025 14TH ST</td>\n",
       "    </tr>\n",
       "    <tr>\n",
       "      <th>11180</th>\n",
       "      <td>79595</td>\n",
       "      <td>100</td>\n",
       "      <td>20171113</td>\n",
       "      <td>routine</td>\n",
       "      <td>2017-11-13</td>\n",
       "      <td>2017</td>\n",
       "      <td>W HOTEL SAN FRANCISCO</td>\n",
       "      <td>181 03RD ST</td>\n",
       "    </tr>\n",
       "    <tr>\n",
       "      <th>3881</th>\n",
       "      <td>5831</td>\n",
       "      <td>100</td>\n",
       "      <td>20150218</td>\n",
       "      <td>routine</td>\n",
       "      <td>2015-02-18</td>\n",
       "      <td>2015</td>\n",
       "      <td>FRANK MCCOPPIN ELEMENTARY SCHOOL</td>\n",
       "      <td>651 06TH AVE</td>\n",
       "    </tr>\n",
       "    <tr>\n",
       "      <th>3880</th>\n",
       "      <td>5830</td>\n",
       "      <td>100</td>\n",
       "      <td>20170125</td>\n",
       "      <td>routine</td>\n",
       "      <td>2017-01-25</td>\n",
       "      <td>2017</td>\n",
       "      <td>THEODORE ROOSEVELT MIDDLE SCHOOL</td>\n",
       "      <td>460 ARGUELLO BLVD</td>\n",
       "    </tr>\n",
       "    <tr>\n",
       "      <th>11177</th>\n",
       "      <td>79589</td>\n",
       "      <td>100</td>\n",
       "      <td>20160814</td>\n",
       "      <td>routine</td>\n",
       "      <td>2016-08-14</td>\n",
       "      <td>2016</td>\n",
       "      <td>AT&amp;T PARK - BEVERAGE CART</td>\n",
       "      <td>24 WILLIE MAYS PLAZA</td>\n",
       "    </tr>\n",
       "    <tr>\n",
       "      <th>11176</th>\n",
       "      <td>79589</td>\n",
       "      <td>100</td>\n",
       "      <td>20150419</td>\n",
       "      <td>routine</td>\n",
       "      <td>2015-04-19</td>\n",
       "      <td>2015</td>\n",
       "      <td>AT&amp;T PARK - BEVERAGE CART</td>\n",
       "      <td>24 WILLIE MAYS PLAZA</td>\n",
       "    </tr>\n",
       "    <tr>\n",
       "      <th>11175</th>\n",
       "      <td>79589</td>\n",
       "      <td>100</td>\n",
       "      <td>20170919</td>\n",
       "      <td>routine</td>\n",
       "      <td>2017-09-19</td>\n",
       "      <td>2017</td>\n",
       "      <td>AT&amp;T PARK - BEVERAGE CART</td>\n",
       "      <td>24 WILLIE MAYS PLAZA</td>\n",
       "    </tr>\n",
       "    <tr>\n",
       "      <th>3879</th>\n",
       "      <td>5830</td>\n",
       "      <td>100</td>\n",
       "      <td>20161025</td>\n",
       "      <td>routine</td>\n",
       "      <td>2016-10-25</td>\n",
       "      <td>2016</td>\n",
       "      <td>THEODORE ROOSEVELT MIDDLE SCHOOL</td>\n",
       "      <td>460 ARGUELLO BLVD</td>\n",
       "    </tr>\n",
       "    <tr>\n",
       "      <th>11169</th>\n",
       "      <td>79587</td>\n",
       "      <td>100</td>\n",
       "      <td>20160410</td>\n",
       "      <td>routine</td>\n",
       "      <td>2016-04-10</td>\n",
       "      <td>2016</td>\n",
       "      <td>AT&amp;T PARK - HEARTH TABLE STAND</td>\n",
       "      <td>24 WILLIE MAYS PLAZA</td>\n",
       "    </tr>\n",
       "  </tbody>\n",
       "</table>\n",
       "</div>"
      ],
      "text/plain": [
       "       business_id  score      date     type   new_date  year  \\\n",
       "7111         61464    100  20150205  routine 2015-02-05  2015   \n",
       "3906          5837    100  20171031  routine 2017-10-31  2017   \n",
       "11180        79595    100  20171113  routine 2017-11-13  2017   \n",
       "3881          5831    100  20150218  routine 2015-02-18  2015   \n",
       "3880          5830    100  20170125  routine 2017-01-25  2017   \n",
       "11177        79589    100  20160814  routine 2016-08-14  2016   \n",
       "11176        79589    100  20150419  routine 2015-04-19  2015   \n",
       "11175        79589    100  20170919  routine 2017-09-19  2017   \n",
       "3879          5830    100  20161025  routine 2016-10-25  2016   \n",
       "11169        79587    100  20160410  routine 2016-04-10  2016   \n",
       "\n",
       "                                   name                             address  \n",
       "7111               STONE KOREAN KITCHEN  4 EMBARCADERO CENTER  STREET LEVEL  \n",
       "3906         MCKINLEY ELEMENTARY SCHOOL                       1025 14TH ST   \n",
       "11180             W HOTEL SAN FRANCISCO                        181 03RD ST   \n",
       "3881   FRANK MCCOPPIN ELEMENTARY SCHOOL                       651 06TH AVE   \n",
       "3880   THEODORE ROOSEVELT MIDDLE SCHOOL                   460 ARGUELLO BLVD  \n",
       "11177         AT&T PARK - BEVERAGE CART              24 WILLIE MAYS PLAZA    \n",
       "11176         AT&T PARK - BEVERAGE CART              24 WILLIE MAYS PLAZA    \n",
       "11175         AT&T PARK - BEVERAGE CART              24 WILLIE MAYS PLAZA    \n",
       "3879   THEODORE ROOSEVELT MIDDLE SCHOOL                   460 ARGUELLO BLVD  \n",
       "11169    AT&T PARK - HEARTH TABLE STAND              24 WILLIE MAYS PLAZA    "
      ]
     },
     "execution_count": 281,
     "metadata": {},
     "output_type": "execute_result"
    }
   ],
   "source": [
    "ins_named.sort_values(by='score', ascending=False).head(10)"
   ]
  },
  {
   "cell_type": "markdown",
   "metadata": {
    "nbgrader": {
     "grade": false,
     "grade_id": "cell-22a0a8f7f74f431a",
     "locked": true,
     "schema_version": 2,
     "solution": false
    }
   },
   "source": [
    "---\n",
    "## 8: Restaurant Ratings Over Time"
   ]
  },
  {
   "cell_type": "markdown",
   "metadata": {
    "nbgrader": {
     "grade": false,
     "grade_id": "cell-aa4959b7d3bcd9d7",
     "locked": true,
     "schema_version": 2,
     "solution": false
    }
   },
   "source": [
    "Let's consider various scenarios involving restaurants with multiple ratings over time."
   ]
  },
  {
   "cell_type": "markdown",
   "metadata": {
    "nbgrader": {
     "grade": false,
     "grade_id": "cell-2ccb9a66fca2becd",
     "locked": true,
     "schema_version": 2,
     "solution": false
    }
   },
   "source": [
    "### Question 8a"
   ]
  },
  {
   "cell_type": "markdown",
   "metadata": {
    "deletable": false,
    "editable": false,
    "nbgrader": {
     "grade": false,
     "grade_id": "cell-2331831e448277ce",
     "locked": true,
     "schema_version": 2,
     "solution": false
    }
   },
   "source": [
    "Let's see which restaurant has had the most extreme improvement in its rating. Let the \"swing\" of a restaurant be defined as the difference between its highest and lowest rating ever. **Only consider restaurants with at least 3 ratings!** Using whatever technique you want to use, assign `max_swing` to the name of restaurant that has the maximum swing.\n",
    "\n",
    "<!--\n",
    "BEGIN QUESTION\n",
    "name: q8a1\n",
    "points: 2\n",
    "-->"
   ]
  },
  {
   "cell_type": "code",
   "execution_count": 293,
   "metadata": {},
   "outputs": [
    {
     "data": {
      "text/html": [
       "<div>\n",
       "<style scoped>\n",
       "    .dataframe tbody tr th:only-of-type {\n",
       "        vertical-align: middle;\n",
       "    }\n",
       "\n",
       "    .dataframe tbody tr th {\n",
       "        vertical-align: top;\n",
       "    }\n",
       "\n",
       "    .dataframe thead th {\n",
       "        text-align: right;\n",
       "    }\n",
       "</style>\n",
       "<table border=\"1\" class=\"dataframe\">\n",
       "  <thead>\n",
       "    <tr style=\"text-align: right;\">\n",
       "      <th></th>\n",
       "      <th>business_id</th>\n",
       "    </tr>\n",
       "    <tr>\n",
       "      <th>name</th>\n",
       "      <th></th>\n",
       "    </tr>\n",
       "  </thead>\n",
       "  <tbody>\n",
       "    <tr>\n",
       "      <th>NORDSTROM CAFE BISTRO</th>\n",
       "      <td>5</td>\n",
       "    </tr>\n",
       "    <tr>\n",
       "      <th>17TH &amp; NOE MARKET</th>\n",
       "      <td>3</td>\n",
       "    </tr>\n",
       "    <tr>\n",
       "      <th>18TH STREET COMMISSARY</th>\n",
       "      <td>3</td>\n",
       "    </tr>\n",
       "    <tr>\n",
       "      <th>21 TASTE HOUSE</th>\n",
       "      <td>3</td>\n",
       "    </tr>\n",
       "    <tr>\n",
       "      <th>2227 IRVING SEAFOOD MARKET INC</th>\n",
       "      <td>4</td>\n",
       "    </tr>\n",
       "  </tbody>\n",
       "</table>\n",
       "</div>"
      ],
      "text/plain": [
       "                                business_id\n",
       "name                                       \n",
       " NORDSTROM CAFE BISTRO                    5\n",
       "17TH & NOE MARKET                         3\n",
       "18TH STREET COMMISSARY                    3\n",
       "21 TASTE HOUSE                            3\n",
       "2227 IRVING SEAFOOD MARKET INC            4"
      ]
     },
     "execution_count": 293,
     "metadata": {},
     "output_type": "execute_result"
    }
   ],
   "source": [
    "ins_group = ins_named.groupby('name').count()[['business_id']]\n",
    "ins_group = ins_group[ins_group['business_id']>=3]\n",
    "ins_group.head()"
   ]
  },
  {
   "cell_type": "code",
   "execution_count": 295,
   "metadata": {},
   "outputs": [],
   "source": [
    "ins_anx = ins_named[ins_named['name'].isin(ins_group.index)]"
   ]
  },
  {
   "cell_type": "code",
   "execution_count": 303,
   "metadata": {},
   "outputs": [],
   "source": [
    "max_sc = ins_anx.groupby('name').max()\n",
    "min_sc = ins_anx.groupby('name').min()"
   ]
  },
  {
   "cell_type": "code",
   "execution_count": 309,
   "metadata": {},
   "outputs": [
    {
     "name": "stderr",
     "output_type": "stream",
     "text": [
      "/srv/conda/envs/data100/lib/python3.6/site-packages/ipykernel_launcher.py:1: SettingWithCopyWarning: \n",
      "A value is trying to be set on a copy of a slice from a DataFrame.\n",
      "Try using .loc[row_indexer,col_indexer] = value instead\n",
      "\n",
      "See the caveats in the documentation: http://pandas.pydata.org/pandas-docs/stable/indexing.html#indexing-view-versus-copy\n",
      "  \"\"\"Entry point for launching an IPython kernel.\n",
      "/srv/conda/envs/data100/lib/python3.6/site-packages/ipykernel_launcher.py:2: SettingWithCopyWarning: \n",
      "A value is trying to be set on a copy of a slice from a DataFrame.\n",
      "Try using .loc[row_indexer,col_indexer] = value instead\n",
      "\n",
      "See the caveats in the documentation: http://pandas.pydata.org/pandas-docs/stable/indexing.html#indexing-view-versus-copy\n",
      "  \n"
     ]
    }
   ],
   "source": [
    "ins_anx['count_max'] = pd.Series(ins_anx.groupby(['name'])['score'].transform(max))\n",
    "ins_anx['count_min'] = pd.Series(ins_anx.groupby(['name'])['score'].transform(min))"
   ]
  },
  {
   "cell_type": "code",
   "execution_count": 302,
   "metadata": {},
   "outputs": [
    {
     "data": {
      "text/html": [
       "<div>\n",
       "<style scoped>\n",
       "    .dataframe tbody tr th:only-of-type {\n",
       "        vertical-align: middle;\n",
       "    }\n",
       "\n",
       "    .dataframe tbody tr th {\n",
       "        vertical-align: top;\n",
       "    }\n",
       "\n",
       "    .dataframe thead th {\n",
       "        text-align: right;\n",
       "    }\n",
       "</style>\n",
       "<table border=\"1\" class=\"dataframe\">\n",
       "  <thead>\n",
       "    <tr style=\"text-align: right;\">\n",
       "      <th></th>\n",
       "      <th>business_id</th>\n",
       "      <th>score</th>\n",
       "      <th>date</th>\n",
       "      <th>type</th>\n",
       "      <th>new_date</th>\n",
       "      <th>year</th>\n",
       "      <th>name</th>\n",
       "      <th>address</th>\n",
       "      <th>count_max</th>\n",
       "      <th>count_min</th>\n",
       "    </tr>\n",
       "  </thead>\n",
       "  <tbody>\n",
       "    <tr>\n",
       "      <th>2</th>\n",
       "      <td>24</td>\n",
       "      <td>98</td>\n",
       "      <td>20171101</td>\n",
       "      <td>routine</td>\n",
       "      <td>2017-11-01</td>\n",
       "      <td>2017</td>\n",
       "      <td>OMNI S.F. HOTEL - 2ND FLOOR PANTRY</td>\n",
       "      <td>500 CALIFORNIA ST, 2ND  FLOOR</td>\n",
       "      <td>98</td>\n",
       "      <td>96</td>\n",
       "    </tr>\n",
       "    <tr>\n",
       "      <th>3</th>\n",
       "      <td>24</td>\n",
       "      <td>98</td>\n",
       "      <td>20161005</td>\n",
       "      <td>routine</td>\n",
       "      <td>2016-10-05</td>\n",
       "      <td>2016</td>\n",
       "      <td>OMNI S.F. HOTEL - 2ND FLOOR PANTRY</td>\n",
       "      <td>500 CALIFORNIA ST, 2ND  FLOOR</td>\n",
       "      <td>98</td>\n",
       "      <td>96</td>\n",
       "    </tr>\n",
       "    <tr>\n",
       "      <th>4</th>\n",
       "      <td>24</td>\n",
       "      <td>96</td>\n",
       "      <td>20160311</td>\n",
       "      <td>routine</td>\n",
       "      <td>2016-03-11</td>\n",
       "      <td>2016</td>\n",
       "      <td>OMNI S.F. HOTEL - 2ND FLOOR PANTRY</td>\n",
       "      <td>500 CALIFORNIA ST, 2ND  FLOOR</td>\n",
       "      <td>98</td>\n",
       "      <td>96</td>\n",
       "    </tr>\n",
       "  </tbody>\n",
       "</table>\n",
       "</div>"
      ],
      "text/plain": [
       "   business_id  score      date     type   new_date  year  \\\n",
       "2           24     98  20171101  routine 2017-11-01  2017   \n",
       "3           24     98  20161005  routine 2016-10-05  2016   \n",
       "4           24     96  20160311  routine 2016-03-11  2016   \n",
       "\n",
       "                                 name                        address  \\\n",
       "2  OMNI S.F. HOTEL - 2ND FLOOR PANTRY  500 CALIFORNIA ST, 2ND  FLOOR   \n",
       "3  OMNI S.F. HOTEL - 2ND FLOOR PANTRY  500 CALIFORNIA ST, 2ND  FLOOR   \n",
       "4  OMNI S.F. HOTEL - 2ND FLOOR PANTRY  500 CALIFORNIA ST, 2ND  FLOOR   \n",
       "\n",
       "   count_max  count_min  \n",
       "2         98         96  \n",
       "3         98         96  \n",
       "4         98         96  "
      ]
     },
     "execution_count": 302,
     "metadata": {},
     "output_type": "execute_result"
    }
   ],
   "source": [
    "ins_anx.head(3)"
   ]
  },
  {
   "cell_type": "code",
   "execution_count": 310,
   "metadata": {},
   "outputs": [
    {
     "name": "stderr",
     "output_type": "stream",
     "text": [
      "/srv/conda/envs/data100/lib/python3.6/site-packages/ipykernel_launcher.py:1: SettingWithCopyWarning: \n",
      "A value is trying to be set on a copy of a slice from a DataFrame.\n",
      "Try using .loc[row_indexer,col_indexer] = value instead\n",
      "\n",
      "See the caveats in the documentation: http://pandas.pydata.org/pandas-docs/stable/indexing.html#indexing-view-versus-copy\n",
      "  \"\"\"Entry point for launching an IPython kernel.\n"
     ]
    },
    {
     "data": {
      "text/html": [
       "<div>\n",
       "<style scoped>\n",
       "    .dataframe tbody tr th:only-of-type {\n",
       "        vertical-align: middle;\n",
       "    }\n",
       "\n",
       "    .dataframe tbody tr th {\n",
       "        vertical-align: top;\n",
       "    }\n",
       "\n",
       "    .dataframe thead th {\n",
       "        text-align: right;\n",
       "    }\n",
       "</style>\n",
       "<table border=\"1\" class=\"dataframe\">\n",
       "  <thead>\n",
       "    <tr style=\"text-align: right;\">\n",
       "      <th></th>\n",
       "      <th>business_id</th>\n",
       "      <th>score</th>\n",
       "      <th>date</th>\n",
       "      <th>type</th>\n",
       "      <th>new_date</th>\n",
       "      <th>year</th>\n",
       "      <th>name</th>\n",
       "      <th>address</th>\n",
       "      <th>count_max</th>\n",
       "      <th>count_min</th>\n",
       "      <th>swing</th>\n",
       "    </tr>\n",
       "  </thead>\n",
       "  <tbody>\n",
       "    <tr>\n",
       "      <th>2</th>\n",
       "      <td>24</td>\n",
       "      <td>98</td>\n",
       "      <td>20171101</td>\n",
       "      <td>routine</td>\n",
       "      <td>2017-11-01</td>\n",
       "      <td>2017</td>\n",
       "      <td>OMNI S.F. HOTEL - 2ND FLOOR PANTRY</td>\n",
       "      <td>500 CALIFORNIA ST, 2ND  FLOOR</td>\n",
       "      <td>98</td>\n",
       "      <td>96</td>\n",
       "      <td>2</td>\n",
       "    </tr>\n",
       "    <tr>\n",
       "      <th>3</th>\n",
       "      <td>24</td>\n",
       "      <td>98</td>\n",
       "      <td>20161005</td>\n",
       "      <td>routine</td>\n",
       "      <td>2016-10-05</td>\n",
       "      <td>2016</td>\n",
       "      <td>OMNI S.F. HOTEL - 2ND FLOOR PANTRY</td>\n",
       "      <td>500 CALIFORNIA ST, 2ND  FLOOR</td>\n",
       "      <td>98</td>\n",
       "      <td>96</td>\n",
       "      <td>2</td>\n",
       "    </tr>\n",
       "    <tr>\n",
       "      <th>4</th>\n",
       "      <td>24</td>\n",
       "      <td>96</td>\n",
       "      <td>20160311</td>\n",
       "      <td>routine</td>\n",
       "      <td>2016-03-11</td>\n",
       "      <td>2016</td>\n",
       "      <td>OMNI S.F. HOTEL - 2ND FLOOR PANTRY</td>\n",
       "      <td>500 CALIFORNIA ST, 2ND  FLOOR</td>\n",
       "      <td>98</td>\n",
       "      <td>96</td>\n",
       "      <td>2</td>\n",
       "    </tr>\n",
       "  </tbody>\n",
       "</table>\n",
       "</div>"
      ],
      "text/plain": [
       "   business_id  score      date     type   new_date  year  \\\n",
       "2           24     98  20171101  routine 2017-11-01  2017   \n",
       "3           24     98  20161005  routine 2016-10-05  2016   \n",
       "4           24     96  20160311  routine 2016-03-11  2016   \n",
       "\n",
       "                                 name                        address  \\\n",
       "2  OMNI S.F. HOTEL - 2ND FLOOR PANTRY  500 CALIFORNIA ST, 2ND  FLOOR   \n",
       "3  OMNI S.F. HOTEL - 2ND FLOOR PANTRY  500 CALIFORNIA ST, 2ND  FLOOR   \n",
       "4  OMNI S.F. HOTEL - 2ND FLOOR PANTRY  500 CALIFORNIA ST, 2ND  FLOOR   \n",
       "\n",
       "   count_max  count_min  swing  \n",
       "2         98         96      2  \n",
       "3         98         96      2  \n",
       "4         98         96      2  "
      ]
     },
     "execution_count": 310,
     "metadata": {},
     "output_type": "execute_result"
    }
   ],
   "source": [
    "ins_anx['swing'] = ins_anx['count_max'] - ins_anx['count_min']\n",
    "ins_anx.head(3)"
   ]
  },
  {
   "cell_type": "code",
   "execution_count": 313,
   "metadata": {},
   "outputs": [
    {
     "data": {
      "text/html": [
       "<div>\n",
       "<style scoped>\n",
       "    .dataframe tbody tr th:only-of-type {\n",
       "        vertical-align: middle;\n",
       "    }\n",
       "\n",
       "    .dataframe tbody tr th {\n",
       "        vertical-align: top;\n",
       "    }\n",
       "\n",
       "    .dataframe thead th {\n",
       "        text-align: right;\n",
       "    }\n",
       "</style>\n",
       "<table border=\"1\" class=\"dataframe\">\n",
       "  <thead>\n",
       "    <tr style=\"text-align: right;\">\n",
       "      <th></th>\n",
       "      <th>business_id</th>\n",
       "      <th>score</th>\n",
       "      <th>date</th>\n",
       "      <th>type</th>\n",
       "      <th>new_date</th>\n",
       "      <th>year</th>\n",
       "      <th>name</th>\n",
       "      <th>address</th>\n",
       "      <th>count_max</th>\n",
       "      <th>count_min</th>\n",
       "      <th>swing</th>\n",
       "    </tr>\n",
       "  </thead>\n",
       "  <tbody>\n",
       "    <tr>\n",
       "      <th>1208</th>\n",
       "      <td>2044</td>\n",
       "      <td>93</td>\n",
       "      <td>20160328</td>\n",
       "      <td>routine</td>\n",
       "      <td>2016-03-28</td>\n",
       "      <td>2016</td>\n",
       "      <td>JOANIE'S DINER INC.</td>\n",
       "      <td>1329 COLUMBUS AVE</td>\n",
       "      <td>98</td>\n",
       "      <td>59</td>\n",
       "      <td>39</td>\n",
       "    </tr>\n",
       "    <tr>\n",
       "      <th>1207</th>\n",
       "      <td>2044</td>\n",
       "      <td>98</td>\n",
       "      <td>20170130</td>\n",
       "      <td>routine</td>\n",
       "      <td>2017-01-30</td>\n",
       "      <td>2017</td>\n",
       "      <td>JOANIE'S DINER INC.</td>\n",
       "      <td>1329 COLUMBUS AVE</td>\n",
       "      <td>98</td>\n",
       "      <td>59</td>\n",
       "      <td>39</td>\n",
       "    </tr>\n",
       "    <tr>\n",
       "      <th>1209</th>\n",
       "      <td>2044</td>\n",
       "      <td>59</td>\n",
       "      <td>20160204</td>\n",
       "      <td>routine</td>\n",
       "      <td>2016-02-04</td>\n",
       "      <td>2016</td>\n",
       "      <td>JOANIE'S DINER INC.</td>\n",
       "      <td>1329 COLUMBUS AVE</td>\n",
       "      <td>98</td>\n",
       "      <td>59</td>\n",
       "      <td>39</td>\n",
       "    </tr>\n",
       "    <tr>\n",
       "      <th>10506</th>\n",
       "      <td>77532</td>\n",
       "      <td>77</td>\n",
       "      <td>20170306</td>\n",
       "      <td>routine</td>\n",
       "      <td>2017-03-06</td>\n",
       "      <td>2017</td>\n",
       "      <td>ANDI'S MARKET</td>\n",
       "      <td>820 CORTLAND AVE</td>\n",
       "      <td>100</td>\n",
       "      <td>62</td>\n",
       "      <td>38</td>\n",
       "    </tr>\n",
       "    <tr>\n",
       "      <th>10510</th>\n",
       "      <td>77532</td>\n",
       "      <td>100</td>\n",
       "      <td>20150403</td>\n",
       "      <td>routine</td>\n",
       "      <td>2015-04-03</td>\n",
       "      <td>2015</td>\n",
       "      <td>ANDI'S MARKET</td>\n",
       "      <td>820 CORTLAND AVE</td>\n",
       "      <td>100</td>\n",
       "      <td>62</td>\n",
       "      <td>38</td>\n",
       "    </tr>\n",
       "  </tbody>\n",
       "</table>\n",
       "</div>"
      ],
      "text/plain": [
       "       business_id  score      date     type   new_date  year  \\\n",
       "1208          2044     93  20160328  routine 2016-03-28  2016   \n",
       "1207          2044     98  20170130  routine 2017-01-30  2017   \n",
       "1209          2044     59  20160204  routine 2016-02-04  2016   \n",
       "10506        77532     77  20170306  routine 2017-03-06  2017   \n",
       "10510        77532    100  20150403  routine 2015-04-03  2015   \n",
       "\n",
       "                      name             address  count_max  count_min  swing  \n",
       "1208   JOANIE'S DINER INC.  1329 COLUMBUS AVE          98         59     39  \n",
       "1207   JOANIE'S DINER INC.  1329 COLUMBUS AVE          98         59     39  \n",
       "1209   JOANIE'S DINER INC.  1329 COLUMBUS AVE          98         59     39  \n",
       "10506        ANDI'S MARKET   820 CORTLAND AVE         100         62     38  \n",
       "10510        ANDI'S MARKET   820 CORTLAND AVE         100         62     38  "
      ]
     },
     "execution_count": 313,
     "metadata": {},
     "output_type": "execute_result"
    }
   ],
   "source": [
    "ins_anx.sort_values('swing', ascending=False).head(5)"
   ]
  },
  {
   "cell_type": "markdown",
   "metadata": {},
   "source": [
    "Actually, we can see that only one restaurant have the maximum swing: JOANIE'S DINER INC."
   ]
  },
  {
   "cell_type": "code",
   "execution_count": 316,
   "metadata": {},
   "outputs": [
    {
     "data": {
      "text/plain": [
       "\"JOANIE'S DINER INC.\""
      ]
     },
     "execution_count": 316,
     "metadata": {},
     "output_type": "execute_result"
    }
   ],
   "source": [
    "max_swing = ins_anx.sort_values('swing', ascending=False).reset_index()['name'][0]\n",
    "max_swing"
   ]
  },
  {
   "cell_type": "code",
   "execution_count": 317,
   "metadata": {
    "deletable": false,
    "editable": false
   },
   "outputs": [
    {
     "name": "stdout",
     "output_type": "stream",
     "text": [
      "~~~~~~~~~~~~~~~~~~~~~~~~~~~~~~~~~~~~~~~~~~~~~~~~~~~~~~~~~~~~~~~~~~~~~\n",
      "Running tests\n",
      "\n",
      "---------------------------------------------------------------------\n",
      "Test summary\n",
      "    Passed: 1\n",
      "    Failed: 0\n",
      "[ooooooooook] 100.0% passed\n",
      "\n"
     ]
    }
   ],
   "source": [
    "ok.grade(\"q8a1\");"
   ]
  },
  {
   "cell_type": "markdown",
   "metadata": {
    "deletable": false,
    "editable": false,
    "nbgrader": {
     "grade": false,
     "grade_id": "cell-9a9b4b1f7bb3370b",
     "locked": true,
     "schema_version": 2,
     "solution": false
    }
   },
   "source": [
    "### Question 8b\n",
    "\n",
    "To get a sense of the number of times each restaurant has been inspected, create a multi-indexed dataframe called `inspections_by_id_and_year` where each row corresponds to data about a given business in a single year, and there is a single data column named `count` that represents the number of inspections for that business in that year. The first index in the MultiIndex should be on `business_id`, and the second should be on `year`.\n",
    "\n",
    "An example row in this dataframe might look tell you that business_id is 573, year is 2017, and count is 4.\n",
    "\n",
    "*Hint: Use groupby to group based on both the `business_id` and the `year`.*\n",
    "\n",
    "*Hint: Use rename to change the name of the column to `count`.*\n",
    "\n",
    "<!--\n",
    "BEGIN QUESTION\n",
    "name: q8b\n",
    "points: 2\n",
    "-->"
   ]
  },
  {
   "cell_type": "code",
   "execution_count": 322,
   "metadata": {
    "nbgrader": {
     "grade": false,
     "grade_id": "cell-4fc0d1651b6e1c59",
     "locked": false,
     "schema_version": 2,
     "solution": true
    }
   },
   "outputs": [
    {
     "data": {
      "text/html": [
       "<div>\n",
       "<style scoped>\n",
       "    .dataframe tbody tr th:only-of-type {\n",
       "        vertical-align: middle;\n",
       "    }\n",
       "\n",
       "    .dataframe tbody tr th {\n",
       "        vertical-align: top;\n",
       "    }\n",
       "\n",
       "    .dataframe thead th {\n",
       "        text-align: right;\n",
       "    }\n",
       "</style>\n",
       "<table border=\"1\" class=\"dataframe\">\n",
       "  <thead>\n",
       "    <tr style=\"text-align: right;\">\n",
       "      <th></th>\n",
       "      <th></th>\n",
       "      <th>count</th>\n",
       "    </tr>\n",
       "    <tr>\n",
       "      <th>business_id</th>\n",
       "      <th>year</th>\n",
       "      <th></th>\n",
       "    </tr>\n",
       "  </thead>\n",
       "  <tbody>\n",
       "    <tr>\n",
       "      <th rowspan=\"2\" valign=\"top\">19</th>\n",
       "      <th>2016</th>\n",
       "      <td>1</td>\n",
       "    </tr>\n",
       "    <tr>\n",
       "      <th>2017</th>\n",
       "      <td>1</td>\n",
       "    </tr>\n",
       "    <tr>\n",
       "      <th rowspan=\"2\" valign=\"top\">24</th>\n",
       "      <th>2016</th>\n",
       "      <td>2</td>\n",
       "    </tr>\n",
       "    <tr>\n",
       "      <th>2017</th>\n",
       "      <td>1</td>\n",
       "    </tr>\n",
       "    <tr>\n",
       "      <th>31</th>\n",
       "      <th>2015</th>\n",
       "      <td>1</td>\n",
       "    </tr>\n",
       "  </tbody>\n",
       "</table>\n",
       "</div>"
      ],
      "text/plain": [
       "                  count\n",
       "business_id year       \n",
       "19          2016      1\n",
       "            2017      1\n",
       "24          2016      2\n",
       "            2017      1\n",
       "31          2015      1"
      ]
     },
     "execution_count": 322,
     "metadata": {},
     "output_type": "execute_result"
    }
   ],
   "source": [
    "inspections_by_id_and_year = ins_named.groupby(['business_id','year']).count()[['score']].rename(columns={'score':'count'})\n",
    "inspections_by_id_and_year.head()"
   ]
  },
  {
   "cell_type": "code",
   "execution_count": 323,
   "metadata": {
    "deletable": false,
    "editable": false
   },
   "outputs": [
    {
     "name": "stdout",
     "output_type": "stream",
     "text": [
      "~~~~~~~~~~~~~~~~~~~~~~~~~~~~~~~~~~~~~~~~~~~~~~~~~~~~~~~~~~~~~~~~~~~~~\n",
      "Running tests\n",
      "\n",
      "---------------------------------------------------------------------\n",
      "Test summary\n",
      "    Passed: 2\n",
      "    Failed: 0\n",
      "[ooooooooook] 100.0% passed\n",
      "\n"
     ]
    }
   ],
   "source": [
    "ok.grade(\"q8b\");"
   ]
  },
  {
   "cell_type": "markdown",
   "metadata": {
    "nbgrader": {
     "grade": false,
     "grade_id": "cell-bea99093d7cad880",
     "locked": true,
     "schema_version": 2,
     "solution": false
    }
   },
   "source": [
    "You should see that some businesses are inspected many times in a single year. Let's get a sense of the distribution of the counts of the number of inspections by calling `value_counts`. There are quite a lot of businesses with 2 inspections in the same year, so it seems like it might be interesting to see what we can learn from such businesses."
   ]
  },
  {
   "cell_type": "code",
   "execution_count": 324,
   "metadata": {
    "nbgrader": {
     "grade": false,
     "grade_id": "cell-7389be51062a967b",
     "locked": true,
     "schema_version": 2,
     "solution": false
    },
    "scrolled": true
   },
   "outputs": [
    {
     "data": {
      "text/plain": [
       "1    9531\n",
       "2    2175\n",
       "3     111\n",
       "4       2\n",
       "Name: count, dtype: int64"
      ]
     },
     "execution_count": 324,
     "metadata": {},
     "output_type": "execute_result"
    }
   ],
   "source": [
    "inspections_by_id_and_year['count'].value_counts()"
   ]
  },
  {
   "cell_type": "markdown",
   "metadata": {
    "deletable": false,
    "editable": false,
    "nbgrader": {
     "grade": false,
     "grade_id": "q7c",
     "locked": true,
     "schema_version": 2,
     "solution": false
    }
   },
   "source": [
    "### Question 8c\n",
    "\n",
    "What's the relationship between the first and second scores for the businesses with 2 inspections in a year? Do they typically improve? For simplicity, let's focus on only 2016 for this problem.\n",
    "\n",
    "First, make a dataframe called `scores_pairs_by_business` indexed by `business_id` (containing only businesses with exactly 2 inspections in 2016).  This dataframe contains the field `score_pair` consisting of the score pairs ordered chronologically  `[first_score, second_score]`. \n",
    "\n",
    "Plot these scores. That is, make a scatter plot to display these pairs of scores. Include on the plot a reference line with slope 1. \n",
    "\n",
    "You may find the functions `sort_values`, `groupby`, `filter` and `agg` helpful, though not all necessary. \n",
    "\n",
    "The first few rows of the resulting table should look something like:\n",
    "\n",
    "<table border=\"1\" class=\"dataframe\">\n",
    "  <thead>\n",
    "    <tr style=\"text-align: right;\">\n",
    "      <th></th>\n",
    "      <th>score_pair</th>\n",
    "    </tr>\n",
    "    <tr>\n",
    "      <th>business_id</th>\n",
    "      <th></th>\n",
    "    </tr>\n",
    "  </thead>\n",
    "  <tbody>\n",
    "    <tr>\n",
    "      <th>24</th>\n",
    "      <td>[96, 98]</td>\n",
    "    </tr>\n",
    "    <tr>\n",
    "      <th>45</th>\n",
    "      <td>[78, 84]</td>\n",
    "    </tr>\n",
    "    <tr>\n",
    "      <th>66</th>\n",
    "      <td>[98, 100]</td>\n",
    "    </tr>\n",
    "    <tr>\n",
    "      <th>67</th>\n",
    "      <td>[87, 94]</td>\n",
    "    </tr>\n",
    "    <tr>\n",
    "      <th>76</th>\n",
    "      <td>[100, 98]</td>\n",
    "    </tr>\n",
    "  </tbody>\n",
    "</table>\n",
    "\n",
    "The scatter plot should look like this:\n",
    "\n",
    "<img src=\"q8c2.png\" width=500>\n",
    "\n",
    "*Note: Each score pair must be a list type; numpy arrays will not pass the autograder.*\n",
    "\n",
    "*Hint: Use the `filter` method from lecture 3 to create a new dataframe that only contains restaurants that received exactly 2 inspections.*\n",
    "\n",
    "*Hint: Our answer is a single line of code that uses `sort_values`, `groupby`, `filter`, `groupby`, `agg`, and `rename` in that order. Your answer does not need to use these exact methods.*\n",
    "\n",
    "<!--\n",
    "BEGIN QUESTION\n",
    "name: q8c1\n",
    "points: 3\n",
    "-->"
   ]
  },
  {
   "cell_type": "code",
   "execution_count": 369,
   "metadata": {},
   "outputs": [
    {
     "data": {
      "text/html": [
       "<div>\n",
       "<style scoped>\n",
       "    .dataframe tbody tr th:only-of-type {\n",
       "        vertical-align: middle;\n",
       "    }\n",
       "\n",
       "    .dataframe tbody tr th {\n",
       "        vertical-align: top;\n",
       "    }\n",
       "\n",
       "    .dataframe thead th {\n",
       "        text-align: right;\n",
       "    }\n",
       "</style>\n",
       "<table border=\"1\" class=\"dataframe\">\n",
       "  <thead>\n",
       "    <tr style=\"text-align: right;\">\n",
       "      <th></th>\n",
       "      <th>business_id</th>\n",
       "      <th>score</th>\n",
       "      <th>date</th>\n",
       "      <th>type</th>\n",
       "      <th>new_date</th>\n",
       "      <th>year</th>\n",
       "      <th>name</th>\n",
       "      <th>address</th>\n",
       "    </tr>\n",
       "  </thead>\n",
       "  <tbody>\n",
       "    <tr>\n",
       "      <th>2</th>\n",
       "      <td>24</td>\n",
       "      <td>98</td>\n",
       "      <td>20171101</td>\n",
       "      <td>routine</td>\n",
       "      <td>2017-11-01</td>\n",
       "      <td>2017</td>\n",
       "      <td>OMNI S.F. HOTEL - 2ND FLOOR PANTRY</td>\n",
       "      <td>500 CALIFORNIA ST, 2ND  FLOOR</td>\n",
       "    </tr>\n",
       "    <tr>\n",
       "      <th>3</th>\n",
       "      <td>24</td>\n",
       "      <td>98</td>\n",
       "      <td>20161005</td>\n",
       "      <td>routine</td>\n",
       "      <td>2016-10-05</td>\n",
       "      <td>2016</td>\n",
       "      <td>OMNI S.F. HOTEL - 2ND FLOOR PANTRY</td>\n",
       "      <td>500 CALIFORNIA ST, 2ND  FLOOR</td>\n",
       "    </tr>\n",
       "    <tr>\n",
       "      <th>4</th>\n",
       "      <td>24</td>\n",
       "      <td>96</td>\n",
       "      <td>20160311</td>\n",
       "      <td>routine</td>\n",
       "      <td>2016-03-11</td>\n",
       "      <td>2016</td>\n",
       "      <td>OMNI S.F. HOTEL - 2ND FLOOR PANTRY</td>\n",
       "      <td>500 CALIFORNIA ST, 2ND  FLOOR</td>\n",
       "    </tr>\n",
       "  </tbody>\n",
       "</table>\n",
       "</div>"
      ],
      "text/plain": [
       "   business_id  score      date     type   new_date  year  \\\n",
       "2           24     98  20171101  routine 2017-11-01  2017   \n",
       "3           24     98  20161005  routine 2016-10-05  2016   \n",
       "4           24     96  20160311  routine 2016-03-11  2016   \n",
       "\n",
       "                                 name                        address  \n",
       "2  OMNI S.F. HOTEL - 2ND FLOOR PANTRY  500 CALIFORNIA ST, 2ND  FLOOR  \n",
       "3  OMNI S.F. HOTEL - 2ND FLOOR PANTRY  500 CALIFORNIA ST, 2ND  FLOOR  \n",
       "4  OMNI S.F. HOTEL - 2ND FLOOR PANTRY  500 CALIFORNIA ST, 2ND  FLOOR  "
      ]
     },
     "execution_count": 369,
     "metadata": {},
     "output_type": "execute_result"
    }
   ],
   "source": [
    "ins_cnt = ins_named[ins_named['business_id'].isin(inspections_by_id_and_year[(inspections_by_id_and_year['count']==2)&(inspections_by_id_and_year.index.get_level_values(1)==2016)].index.get_level_values(0))]\n",
    "ins_cnt.head(3)"
   ]
  },
  {
   "cell_type": "code",
   "execution_count": 441,
   "metadata": {
    "ExecuteTime": {
     "end_time": "2018-08-18T01:21:57.055537Z",
     "start_time": "2018-08-18T01:21:54.541279Z"
    },
    "nbgrader": {
     "grade": false,
     "grade_id": "q7c-answer",
     "locked": false,
     "schema_version": 2,
     "solution": true
    },
    "tags": [
     "student"
    ]
   },
   "outputs": [],
   "source": [
    "# Create the dataframe here\n",
    "scores_pairs_by_business = ins_cnt[ins_cnt['year']==2016].sort_values('new_date').groupby(['business_id'])[['score']].agg(lambda x: x.values.tolist()).rename(columns={'score':'score_pair'})\n",
    "ins2016 = ins[ins['year'] == 2016]"
   ]
  },
  {
   "cell_type": "code",
   "execution_count": 386,
   "metadata": {},
   "outputs": [
    {
     "data": {
      "text/html": [
       "<div>\n",
       "<style scoped>\n",
       "    .dataframe tbody tr th:only-of-type {\n",
       "        vertical-align: middle;\n",
       "    }\n",
       "\n",
       "    .dataframe tbody tr th {\n",
       "        vertical-align: top;\n",
       "    }\n",
       "\n",
       "    .dataframe thead th {\n",
       "        text-align: right;\n",
       "    }\n",
       "</style>\n",
       "<table border=\"1\" class=\"dataframe\">\n",
       "  <thead>\n",
       "    <tr style=\"text-align: right;\">\n",
       "      <th></th>\n",
       "      <th>score_pair</th>\n",
       "    </tr>\n",
       "    <tr>\n",
       "      <th>business_id</th>\n",
       "      <th></th>\n",
       "    </tr>\n",
       "  </thead>\n",
       "  <tbody>\n",
       "    <tr>\n",
       "      <th>24</th>\n",
       "      <td>[96, 98]</td>\n",
       "    </tr>\n",
       "    <tr>\n",
       "      <th>45</th>\n",
       "      <td>[78, 84]</td>\n",
       "    </tr>\n",
       "    <tr>\n",
       "      <th>66</th>\n",
       "      <td>[98, 100]</td>\n",
       "    </tr>\n",
       "  </tbody>\n",
       "</table>\n",
       "</div>"
      ],
      "text/plain": [
       "            score_pair\n",
       "business_id           \n",
       "24            [96, 98]\n",
       "45            [78, 84]\n",
       "66           [98, 100]"
      ]
     },
     "execution_count": 386,
     "metadata": {},
     "output_type": "execute_result"
    }
   ],
   "source": [
    "scores_pairs_by_business.head(3)"
   ]
  },
  {
   "cell_type": "code",
   "execution_count": 385,
   "metadata": {
    "deletable": false,
    "editable": false
   },
   "outputs": [
    {
     "name": "stdout",
     "output_type": "stream",
     "text": [
      "~~~~~~~~~~~~~~~~~~~~~~~~~~~~~~~~~~~~~~~~~~~~~~~~~~~~~~~~~~~~~~~~~~~~~\n",
      "Running tests\n",
      "\n",
      "---------------------------------------------------------------------\n",
      "Test summary\n",
      "    Passed: 2\n",
      "    Failed: 0\n",
      "[ooooooooook] 100.0% passed\n",
      "\n"
     ]
    }
   ],
   "source": [
    "ok.grade(\"q8c1\");"
   ]
  },
  {
   "cell_type": "markdown",
   "metadata": {
    "deletable": false,
    "editable": false
   },
   "source": [
    "Now, create your scatter plot in the cell below.\n",
    "<!--\n",
    "BEGIN QUESTION\n",
    "name: q8c2\n",
    "points: 3\n",
    "manual: True\n",
    "-->\n",
    "<!-- EXPORT TO PDF -->"
   ]
  },
  {
   "cell_type": "code",
   "execution_count": 392,
   "metadata": {
    "ExecuteTime": {
     "end_time": "2018-08-18T01:21:59.555721Z",
     "start_time": "2018-08-18T01:21:59.331772Z"
    },
    "nbgrader": {
     "grade": true,
     "grade_id": "q7c-plot-answer",
     "locked": false,
     "points": 2,
     "schema_version": 2,
     "solution": true
    },
    "tags": [
     "student",
     "written"
    ]
   },
   "outputs": [
    {
     "data": {
      "image/png": "[encoded data removed]",
      "text/plain": [
       "<Figure size 648x360 with 1 Axes>"
      ]
     },
     "metadata": {},
     "output_type": "display_data"
    }
   ],
   "source": [
    "x = [i for i in range(50,102)]\n",
    "with plt.style.context('bmh'):     \n",
    "    plt.figure(figsize=(9, 5))\n",
    "    plt.scatter(*zip(*scores_pairs_by_business['score_pair']))\n",
    "    plt.plot(x,x,color='r')\n",
    "    plt.xlabel('First score')\n",
    "    plt.ylabel('Second score')\n",
    "    plt.title('First inspection score vs Second inspection score')\n",
    "    plt.show()"
   ]
  },
  {
   "cell_type": "markdown",
   "metadata": {
    "deletable": false,
    "editable": false,
    "nbgrader": {
     "grade": false,
     "grade_id": "q7d",
     "locked": true,
     "schema_version": 2,
     "solution": false
    }
   },
   "source": [
    "### Question 8d\n",
    "\n",
    "Another way to compare the scores from the two inspections is to examine the difference in scores. Subtract the first score from the second in `scores_pairs_by_business`. Make a histogram of these differences in the scores. We might expect these differences to be positive, indicating an improvement from the first to the second inspection.\n",
    "\n",
    "The histogram should look like this:\n",
    "\n",
    "<img src=\"q8d.png\" width=500>\n",
    "\n",
    "*Hint: Use `second_score` and `first_score` created in the scatter plot code above.*\n",
    "\n",
    "*Hint: Convert the scores into numpy arrays to make them easier to deal with.*\n",
    "\n",
    "*Hint: Try changing the number of bins when you call plt.hist.*\n",
    "\n",
    "<!--\n",
    "BEGIN QUESTION\n",
    "name: q8d\n",
    "points: 2\n",
    "manual: True\n",
    "-->\n",
    "<!-- EXPORT TO PDF -->"
   ]
  },
  {
   "cell_type": "code",
   "execution_count": 402,
   "metadata": {},
   "outputs": [
    {
     "data": {
      "text/html": [
       "<div>\n",
       "<style scoped>\n",
       "    .dataframe tbody tr th:only-of-type {\n",
       "        vertical-align: middle;\n",
       "    }\n",
       "\n",
       "    .dataframe tbody tr th {\n",
       "        vertical-align: top;\n",
       "    }\n",
       "\n",
       "    .dataframe thead th {\n",
       "        text-align: right;\n",
       "    }\n",
       "</style>\n",
       "<table border=\"1\" class=\"dataframe\">\n",
       "  <thead>\n",
       "    <tr style=\"text-align: right;\">\n",
       "      <th></th>\n",
       "      <th>score_pair</th>\n",
       "    </tr>\n",
       "    <tr>\n",
       "      <th>business_id</th>\n",
       "      <th></th>\n",
       "    </tr>\n",
       "  </thead>\n",
       "  <tbody>\n",
       "    <tr>\n",
       "      <th>24</th>\n",
       "      <td>[96, 98]</td>\n",
       "    </tr>\n",
       "    <tr>\n",
       "      <th>45</th>\n",
       "      <td>[78, 84]</td>\n",
       "    </tr>\n",
       "    <tr>\n",
       "      <th>66</th>\n",
       "      <td>[98, 100]</td>\n",
       "    </tr>\n",
       "  </tbody>\n",
       "</table>\n",
       "</div>"
      ],
      "text/plain": [
       "            score_pair\n",
       "business_id           \n",
       "24            [96, 98]\n",
       "45            [78, 84]\n",
       "66           [98, 100]"
      ]
     },
     "execution_count": 402,
     "metadata": {},
     "output_type": "execute_result"
    }
   ],
   "source": [
    "scores_pairs_by_business.head(3)"
   ]
  },
  {
   "cell_type": "code",
   "execution_count": 443,
   "metadata": {},
   "outputs": [],
   "source": [
    "scores_pairs_by_business = scores_pairs_by_business.reset_index()"
   ]
  },
  {
   "cell_type": "code",
   "execution_count": 444,
   "metadata": {},
   "outputs": [],
   "source": [
    "scores_pairs_by_business['score_diff'] = pd.Series([x[1]-x[0]  for x in scores_pairs_by_business['score_pair']])"
   ]
  },
  {
   "cell_type": "code",
   "execution_count": 452,
   "metadata": {},
   "outputs": [
    {
     "data": {
      "text/html": [
       "<div>\n",
       "<style scoped>\n",
       "    .dataframe tbody tr th:only-of-type {\n",
       "        vertical-align: middle;\n",
       "    }\n",
       "\n",
       "    .dataframe tbody tr th {\n",
       "        vertical-align: top;\n",
       "    }\n",
       "\n",
       "    .dataframe thead th {\n",
       "        text-align: right;\n",
       "    }\n",
       "</style>\n",
       "<table border=\"1\" class=\"dataframe\">\n",
       "  <thead>\n",
       "    <tr style=\"text-align: right;\">\n",
       "      <th></th>\n",
       "      <th>business_id</th>\n",
       "      <th>score_pair</th>\n",
       "      <th>score_diff</th>\n",
       "    </tr>\n",
       "  </thead>\n",
       "  <tbody>\n",
       "    <tr>\n",
       "      <th>0</th>\n",
       "      <td>24</td>\n",
       "      <td>[96, 98]</td>\n",
       "      <td>2</td>\n",
       "    </tr>\n",
       "    <tr>\n",
       "      <th>1</th>\n",
       "      <td>45</td>\n",
       "      <td>[78, 84]</td>\n",
       "      <td>6</td>\n",
       "    </tr>\n",
       "    <tr>\n",
       "      <th>2</th>\n",
       "      <td>66</td>\n",
       "      <td>[98, 100]</td>\n",
       "      <td>2</td>\n",
       "    </tr>\n",
       "  </tbody>\n",
       "</table>\n",
       "</div>"
      ],
      "text/plain": [
       "   business_id score_pair  score_diff\n",
       "0           24   [96, 98]           2\n",
       "1           45   [78, 84]           6\n",
       "2           66  [98, 100]           2"
      ]
     },
     "execution_count": 452,
     "metadata": {},
     "output_type": "execute_result"
    }
   ],
   "source": [
    "scores_pairs_by_business.head(3)"
   ]
  },
  {
   "cell_type": "code",
   "execution_count": 453,
   "metadata": {},
   "outputs": [
    {
     "data": {
      "text/html": [
       "<div>\n",
       "<style scoped>\n",
       "    .dataframe tbody tr th:only-of-type {\n",
       "        vertical-align: middle;\n",
       "    }\n",
       "\n",
       "    .dataframe tbody tr th {\n",
       "        vertical-align: top;\n",
       "    }\n",
       "\n",
       "    .dataframe thead th {\n",
       "        text-align: right;\n",
       "    }\n",
       "</style>\n",
       "<table border=\"1\" class=\"dataframe\">\n",
       "  <thead>\n",
       "    <tr style=\"text-align: right;\">\n",
       "      <th></th>\n",
       "      <th>business_id</th>\n",
       "      <th>score_pair</th>\n",
       "    </tr>\n",
       "    <tr>\n",
       "      <th>score_diff</th>\n",
       "      <th></th>\n",
       "      <th></th>\n",
       "    </tr>\n",
       "  </thead>\n",
       "  <tbody>\n",
       "    <tr>\n",
       "      <th>-27</th>\n",
       "      <td>1</td>\n",
       "      <td>1</td>\n",
       "    </tr>\n",
       "    <tr>\n",
       "      <th>-24</th>\n",
       "      <td>1</td>\n",
       "      <td>1</td>\n",
       "    </tr>\n",
       "    <tr>\n",
       "      <th>-23</th>\n",
       "      <td>2</td>\n",
       "      <td>2</td>\n",
       "    </tr>\n",
       "  </tbody>\n",
       "</table>\n",
       "</div>"
      ],
      "text/plain": [
       "            business_id  score_pair\n",
       "score_diff                         \n",
       "-27                   1           1\n",
       "-24                   1           1\n",
       "-23                   2           2"
      ]
     },
     "execution_count": 453,
     "metadata": {},
     "output_type": "execute_result"
    }
   ],
   "source": [
    "group_count = scores_pairs_by_business.groupby('score_diff').count()\n",
    "group_count.head(3)"
   ]
  },
  {
   "cell_type": "code",
   "execution_count": 457,
   "metadata": {},
   "outputs": [],
   "source": [
    "group_count = group_count.sort_index()"
   ]
  },
  {
   "cell_type": "code",
   "execution_count": 461,
   "metadata": {
    "ExecuteTime": {
     "end_time": "2018-08-18T01:21:59.739987Z",
     "start_time": "2018-08-18T01:21:59.558636Z"
    },
    "nbgrader": {
     "grade": true,
     "grade_id": "q7d-answer",
     "locked": false,
     "points": 2,
     "schema_version": 2,
     "solution": true
    },
    "tags": [
     "student",
     "written"
    ]
   },
   "outputs": [
    {
     "data": {
      "image/png": "[encoded data removed]",
      "text/plain": [
       "<Figure size 720x432 with 1 Axes>"
      ]
     },
     "metadata": {},
     "output_type": "display_data"
    }
   ],
   "source": [
    "with plt.style.context('bmh'):\n",
    "    plt.figure(figsize=(10,6))\n",
    "    plt.bar(group_count.index, group_count['score_pair'])\n",
    "    plt.xlabel('Score Difference (Second Score - First Score)')\n",
    "    plt.ylabel('Count')\n",
    "    plt.title('Distribution of Score Differences')"
   ]
  },
  {
   "cell_type": "markdown",
   "metadata": {
    "deletable": false,
    "editable": false,
    "nbgrader": {
     "grade": false,
     "grade_id": "q7e",
     "locked": true,
     "schema_version": 2,
     "solution": false
    }
   },
   "source": [
    "### Question 8e\n",
    "\n",
    "If a restaurant's score improves from the first to the second inspection, what do you expect to see in the scatter plot that you made in question 8c? What do you see?\n",
    "\n",
    "If a restaurant's score improves from the first to the second inspection, how would this be reflected in the histogram of the difference in the scores that you made in question 8d? What do you see?\n",
    "\n",
    "<!--\n",
    "BEGIN QUESTION\n",
    "name: q8e\n",
    "points: 3\n",
    "manual: True\n",
    "-->\n",
    "<!-- EXPORT TO PDF -->"
   ]
  },
  {
   "cell_type": "code",
   "execution_count": 463,
   "metadata": {},
   "outputs": [
    {
     "data": {
      "text/html": [
       "<div>\n",
       "<style scoped>\n",
       "    .dataframe tbody tr th:only-of-type {\n",
       "        vertical-align: middle;\n",
       "    }\n",
       "\n",
       "    .dataframe tbody tr th {\n",
       "        vertical-align: top;\n",
       "    }\n",
       "\n",
       "    .dataframe thead th {\n",
       "        text-align: right;\n",
       "    }\n",
       "</style>\n",
       "<table border=\"1\" class=\"dataframe\">\n",
       "  <thead>\n",
       "    <tr style=\"text-align: right;\">\n",
       "      <th></th>\n",
       "      <th>score_diff</th>\n",
       "    </tr>\n",
       "  </thead>\n",
       "  <tbody>\n",
       "    <tr>\n",
       "      <th>count</th>\n",
       "      <td>1076.000000</td>\n",
       "    </tr>\n",
       "    <tr>\n",
       "      <th>mean</th>\n",
       "      <td>0.987918</td>\n",
       "    </tr>\n",
       "    <tr>\n",
       "      <th>std</th>\n",
       "      <td>6.888402</td>\n",
       "    </tr>\n",
       "    <tr>\n",
       "      <th>min</th>\n",
       "      <td>-27.000000</td>\n",
       "    </tr>\n",
       "    <tr>\n",
       "      <th>25%</th>\n",
       "      <td>-2.000000</td>\n",
       "    </tr>\n",
       "    <tr>\n",
       "      <th>50%</th>\n",
       "      <td>0.000000</td>\n",
       "    </tr>\n",
       "    <tr>\n",
       "      <th>75%</th>\n",
       "      <td>4.000000</td>\n",
       "    </tr>\n",
       "    <tr>\n",
       "      <th>max</th>\n",
       "      <td>34.000000</td>\n",
       "    </tr>\n",
       "  </tbody>\n",
       "</table>\n",
       "</div>"
      ],
      "text/plain": [
       "        score_diff\n",
       "count  1076.000000\n",
       "mean      0.987918\n",
       "std       6.888402\n",
       "min     -27.000000\n",
       "25%      -2.000000\n",
       "50%       0.000000\n",
       "75%       4.000000\n",
       "max      34.000000"
      ]
     },
     "execution_count": 463,
     "metadata": {},
     "output_type": "execute_result"
    }
   ],
   "source": [
    "scores_pairs_by_business[['score_diff']].describe()"
   ]
  },
  {
   "cell_type": "markdown",
   "metadata": {
    "ExecuteTime": {
     "end_time": "2018-08-18T01:21:59.749757Z",
     "start_time": "2018-08-18T01:21:59.743534Z"
    },
    "nbgrader": {
     "grade": true,
     "grade_id": "q7e-answer",
     "locked": false,
     "points": 3,
     "schema_version": 2,
     "solution": true
    },
    "tags": [
     "student",
     "written"
    ]
   },
   "source": [
    "### Answers\n",
    "\n",
    "If a restaurant's score improves from the first to the second inspection, we expect point in the scatter plot of question c to be on the left up side of the graph (regarding the red line). Similarly, in the histogram we would have bigger bars on the right than on the left. Yet, we observe a rather simetric plot. Consequently, on average, restaurant's scores stagnate between the two inspections.    "
   ]
  },
  {
   "cell_type": "markdown",
   "metadata": {
    "nbgrader": {
     "grade": false,
     "grade_id": "summary-inspections",
     "locked": true,
     "schema_version": 2,
     "solution": false
    }
   },
   "source": [
    "## Summary of the Inspections Data\n",
    "\n",
    "What we have learned about the inspections data? What might be some next steps in our investigation? \n",
    "\n",
    "* We found that the records are at the inspection level and that we have inspections for multiple years.   \n",
    "* We also found that many restaurants have more than one inspection a year. \n",
    "* By joining the business and inspection data, we identified the name of the restaurant with the worst rating and optionally the names of the restaurants with the best rating.\n",
    "* We identified the restaurant that had the largest swing in rating over time.\n",
    "* We also examined the relationship between the scores when a restaurant has multiple inspections in a year. Our findings were a bit counterintuitive and may warrant further investigation. \n"
   ]
  },
  {
   "cell_type": "markdown",
   "metadata": {
    "nbgrader": {
     "grade": false,
     "grade_id": "read-only",
     "locked": true,
     "schema_version": 2,
     "solution": false
    }
   },
   "source": [
    "## Congratulations!\n",
    "\n",
    "You are finished with Project 1. You'll need to make sure that your PDF exports correctly to receive credit. Run the following cell and follow the instructions."
   ]
  },
  {
   "cell_type": "code",
   "execution_count": 464,
   "metadata": {
    "deletable": false,
    "editable": false
   },
   "outputs": [
    {
     "name": "stdout",
     "output_type": "stream",
     "text": [
      "Generating PDF...\n",
      "Saved proj1.pdf\n"
     ]
    },
    {
     "data": {
      "application/javascript": [
       "IPython.notebook.save_checkpoint();"
      ],
      "text/plain": [
       "<IPython.core.display.Javascript object>"
      ]
     },
     "metadata": {},
     "output_type": "display_data"
    },
    {
     "data": {
      "application/javascript": [
       "IPython.notebook.save_notebook();"
      ],
      "text/plain": [
       "<IPython.core.display.Javascript object>"
      ]
     },
     "metadata": {},
     "output_type": "display_data"
    },
    {
     "name": "stdout",
     "output_type": "stream",
     "text": [
      "Saving notebook... Saved 'proj1.ipynb'.\n",
      "Performing authentication\n",
      "Please enter your bCourses email.\n",
      "bCourses email: andy_spezzatti@berkeley.edu\n",
      "\n",
      "Copy the following URL and open it in a web browser. To copy,\n",
      "highlight the URL, right-click, and select \"Copy\".\n",
      "\n",
      "https://okpy.org/client/login/\n",
      "\n",
      "After logging in, copy the code from the web page, paste it below,\n",
      "and press Enter. To paste, right-click and select \"Paste\".\n",
      "\n",
      "Paste your code here: WKzLC8rhGbPwdDFccZyrdqiZdaRUdV\n",
      "Successfully logged in as andy_spezzatti@berkeley.edu\n",
      "Submit... 100% complete\n",
      "Submission successful for user: andy_spezzatti@berkeley.edu\n",
      "URL: https://okpy.org/cal/data100/sp19/proj1/submissions/Qn1XMZ\n",
      "\n"
     ]
    }
   ],
   "source": [
    "# Save your notebook first, then run this cell to submit.\n",
    "import jassign.to_pdf\n",
    "jassign.to_pdf.generate_pdf('proj1.ipynb', 'proj1.pdf')\n",
    "ok.submit()"
   ]
  },
  {
   "cell_type": "code",
   "execution_count": null,
   "metadata": {},
   "outputs": [],
   "source": []
  }
 ],
 "metadata": {
  "celltoolbar": "Create Assignment",
  "kernelspec": {
   "display_name": "Python 3",
   "language": "python",
   "name": "python3"
  },
  "language_info": {
   "codemirror_mode": {
    "name": "ipython",
    "version": 3
   },
   "file_extension": ".py",
   "mimetype": "text/x-python",
   "name": "python",
   "nbconvert_exporter": "python",
   "pygments_lexer": "ipython3",
   "version": "3.6.4"
  }
 },
 "nbformat": 4,
 "nbformat_minor": 2
}
